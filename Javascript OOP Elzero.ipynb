{
 "cells": [
  {
   "cell_type": "markdown",
   "metadata": {},
   "source": [
    "##### **Defining Object With Object Literals**\n",
    "\n",
    ":: __`Part 1`__ ::\n"
   ]
  },
  {
   "cell_type": "code",
   "execution_count": null,
   "metadata": {
    "vscode": {
     "languageId": "javascript"
    }
   },
   "outputs": [],
   "source": [
    "let user = {\n",
    "    // Properties\n",
    "    firstName: \"Osama\",\n",
    "    lastName: \"Elzero\",\n",
    "  \n",
    "    // Methods\n",
    "    getFullName: function () {\n",
    "      return `Full Name: ${user.firstName} ${user.lastName}`;\n",
    "    },\n",
    "  };\n",
    "  \n",
    "  // Accessing Object Properties\n",
    "  console.log(user.firstName); // Dot Notation\n",
    "  console.log(user[\"firstName\"]); // Bracket Notation\n",
    "  // Output: Osama\n",
    "  "
   ]
  },
  {
   "cell_type": "code",
   "execution_count": null,
   "metadata": {
    "vscode": {
     "languageId": "javascript"
    }
   },
   "outputs": [],
   "source": [
    "let user = {\n",
    "  // Properties\n",
    "  firstName: \"Osama\",\n",
    "  lastName: \"Elzero\",\n",
    "\n",
    "  // Methods\n",
    "  getFullName: function () {\n",
    "    return `Full Name: ${user.firstName} ${user.lastName}`;\n",
    "  },\n",
    "};\n",
    "\n",
    "// Accessing Object Methods\n",
    "console.log(typeof user.getFullName); // Function\n",
    "console.log(user.getFullName()); // Output: Full Name: Osama Elzero"
   ]
  },
  {
   "cell_type": "markdown",
   "metadata": {},
   "source": [
    ":: __`Part 2`__ ::\n"
   ]
  },
  {
   "cell_type": "code",
   "execution_count": null,
   "metadata": {
    "vscode": {
     "languageId": "javascript"
    }
   },
   "outputs": [],
   "source": [
    "let user = {\n",
    "    // Properties\n",
    "    firstName: \"Osama\",\n",
    "    lastName: \"Elzero\",\n",
    "    age: 37,\n",
    "    addresses: {\n",
    "      eg: \"Giza\",\n",
    "      usa: \"California\",\n",
    "      ksa: \"Riyadh\",\n",
    "    },\n",
    "  \n",
    "    // Methods\n",
    "    getFullName: function () {    // Normal Function\n",
    "      return `Full Name: ${user.firstName} ${user.lastName}`;\n",
    "    },\n",
    "};\n",
    "\n",
    "console.log(user.getFullName());\n",
    "// Output: Full Name: Osama Elzero\n",
    "  "
   ]
  },
  {
   "cell_type": "code",
   "execution_count": null,
   "metadata": {
    "vscode": {
     "languageId": "javascript"
    }
   },
   "outputs": [],
   "source": [
    "let user = {\n",
    "    // Properties\n",
    "    firstName: \"Osama\",\n",
    "    lastName: \"Elzero\",\n",
    "    age: 37,\n",
    "    addresses: {\n",
    "      eg: \"Giza\",\n",
    "      usa: \"California\",\n",
    "      ksa: \"Riyadh\",\n",
    "    },\n",
    "  \n",
    "    // Methods\n",
    "    getFullName: () => `Full Name: ${user.firstName} ${user.lastName}`,\n",
    "    // Arrow Function\n",
    "};\n",
    "\n",
    "console.log(user.getFullName());\n",
    "// Output: Full Name: Osama Elzero\n",
    "  "
   ]
  },
  {
   "cell_type": "code",
   "execution_count": null,
   "metadata": {
    "vscode": {
     "languageId": "javascript"
    }
   },
   "outputs": [],
   "source": [
    "let user = {\n",
    "    // Properties\n",
    "    firstName: \"Osama\",\n",
    "    lastName: \"Elzero\",\n",
    "    age: 37,\n",
    "    addresses: {\n",
    "      eg: \"Giza\",\n",
    "      usa: \"California\",\n",
    "      ksa: \"Riyadh\",\n",
    "    },\n",
    "  \n",
    "    // Methods\n",
    "    getFullName: () => `Full Name: ${user.firstName} ${user.lastName}`,\n",
    "    getAgeInDays: () => `Your Age In Days Is ${user.age}`,\n",
    "};\n",
    "\n",
    "console.log(user.getAgeInDays());\n",
    "// Output: Your Age In Days Is 37\n",
    "  "
   ]
  },
  {
   "cell_type": "code",
   "execution_count": null,
   "metadata": {
    "vscode": {
     "languageId": "javascript"
    }
   },
   "outputs": [],
   "source": [
    "let user = {\n",
    "    // Properties\n",
    "    firstName: \"Osama\",\n",
    "    lastName: \"Elzero\",\n",
    "    age: 37,\n",
    "    addresses: {\n",
    "      eg: \"Giza\",\n",
    "      usa: \"California\",\n",
    "      ksa: \"Riyadh\",\n",
    "      getMainAddress: function () {\n",
    "        return `Main Address Is In Egypt In City ${user.addresses.eg}`;\n",
    "      },\n",
    "    },\n",
    "  \n",
    "};\n",
    "  \n",
    "console.log(user.addresses.getMainAddress());\n",
    "// Output: Main Address Is In Egypt In City Giza\n",
    "  "
   ]
  },
  {
   "cell_type": "code",
   "execution_count": null,
   "metadata": {
    "vscode": {
     "languageId": "javascript"
    }
   },
   "outputs": [],
   "source": [
    "let user = {\n",
    "    // Properties\n",
    "    firstName: \"Osama\",\n",
    "    lastName: \"Elzero\",\n",
    "    age: 37,\n",
    "    addresses: {\n",
    "      eg: \"Giza\",\n",
    "      usa: \"California\",\n",
    "      ksa: \"Riyadh\",\n",
    "      getMainAddress: function () {\n",
    "        return `Main Address Is In Egypt In City ${user.addresses.eg}`;\n",
    "      },\n",
    "    },\n",
    "  \n",
    "};\n",
    "  \n",
    "// Accessing Object Properties\n",
    "console.log(user.firstName); // Dot Notation\n",
    "console.log(user[\"firstName\"]); // Bracket Notation\n",
    "// Output: Osama\n",
    "  "
   ]
  },
  {
   "cell_type": "code",
   "execution_count": null,
   "metadata": {
    "vscode": {
     "languageId": "javascript"
    }
   },
   "outputs": [],
   "source": [
    "let user = {\n",
    "    // Properties\n",
    "    firstName: \"Osama\",\n",
    "    lastName: \"Elzero\",\n",
    "    age: 37,\n",
    "    addresses: {\n",
    "      eg: \"Giza\",\n",
    "      usa: \"California\",\n",
    "      ksa: \"Riyadh\",\n",
    "      getMainAddress: function () {\n",
    "        return `Main Address Is In Egypt In City ${user.addresses.eg}`;\n",
    "      },\n",
    "    },\n",
    "  \n",
    "};\n",
    "  \n",
    "  // Accessing Object Properties\n",
    "console.log(user.addresses.eg);   // Giza\n",
    "console.log(user[\"addresses\"][\"ksa\"]);  // Riyadh\n"
   ]
  },
  {
   "cell_type": "markdown",
   "metadata": {},
   "source": [
    ":: __`Dot Notation vs Bracket Notation`__ ::"
   ]
  },
  {
   "cell_type": "code",
   "execution_count": null,
   "metadata": {
    "vscode": {
     "languageId": "javascript"
    }
   },
   "outputs": [],
   "source": [
    "let myObj = {\n",
    "    \"One\": 1,\n",
    "    \"Two!\": 2\n",
    "};\n",
    "  \n",
    "console.log(myObj.One); // 1\n",
    "// console.log(myObj.\"One\"); // Syntax Error\n",
    "// console.log(myObj.Two!); // Syntax Error\n",
    "\n",
    "\n",
    "console.log(myObj[\"One\"]); // 1\n",
    "console.log(myObj[\"Two!\"]); // 2"
   ]
  },
  {
   "cell_type": "code",
   "execution_count": null,
   "metadata": {
    "vscode": {
     "languageId": "javascript"
    }
   },
   "outputs": [],
   "source": [
    "let myObj2 = {\n",
    "    1: \"One\",\n",
    "    2: \"Two\"\n",
    "};\n",
    "  \n",
    "// console.log(myObj2.1); // Syntax Error\n",
    "\n",
    "console.log(myObj2[\"1\"]);   // Output: One\n",
    "console.log(myObj2[\"2\"]);   // Output: Two"
   ]
  },
  {
   "cell_type": "code",
   "execution_count": null,
   "metadata": {
    "vscode": {
     "languageId": "javascript"
    }
   },
   "outputs": [],
   "source": [
    "let myVariable = \"name\";\n",
    "\n",
    "let myLastObj = {\n",
    "  name: \"Osama\"\n",
    "};\n",
    "\n",
    "console.log(myLastObj.myVariable); // Undefined\n",
    "console.log(myLastObj[myVariable]); // Osama\n",
    "console.log(myLastObj[\"name\"]); // Osama"
   ]
  },
  {
   "cell_type": "markdown",
   "metadata": {},
   "source": [
    ":: __`Define Object With New Keyword`__ ::"
   ]
  },
  {
   "cell_type": "code",
   "execution_count": null,
   "metadata": {
    "vscode": {
     "languageId": "javascript"
    }
   },
   "outputs": [],
   "source": [
    "let user = new Object();\n",
    "\n",
    "user.firstName = \"Osama\";\n",
    "user.lastName = \"Elzero\";\n",
    "user[\"age\"] = 37;\n",
    "\n",
    "user.getFullName = function () {\n",
    "  return `Full Name Is ${user.firstName} ${user.lastName}`;\n",
    "};\n",
    "\n",
    "console.log(user);\n",
    "/*\n",
    "Output: \n",
    "{\n",
    "  firstName: 'Osama',\n",
    "  lastName: 'Elzero',\n",
    "  age: 37,\n",
    "  getFullName: [Function (anonymous)]\n",
    "}\n",
    "*/"
   ]
  },
  {
   "cell_type": "code",
   "execution_count": null,
   "metadata": {
    "vscode": {
     "languageId": "javascript"
    }
   },
   "outputs": [],
   "source": [
    "let user = new Object();\n",
    "\n",
    "user.firstName = \"Osama\";\n",
    "user.lastName = \"Elzero\";\n",
    "user[\"age\"] = 37;\n",
    "\n",
    "user.getFullName = function () {\n",
    "  return `Full Name Is ${user.firstName} ${user.lastName}`;\n",
    "};\n",
    "\n",
    "console.log(user.firstName);  // Output: Osama\n",
    "console.log(user[\"lastName\"]);  // Output: Elzero\n",
    "console.log(user.age);  // Output: 37\n",
    "console.log(user.getFullName());  // Output: Full Name Is Osama Elzero"
   ]
  },
  {
   "cell_type": "markdown",
   "metadata": {},
   "source": [
    ":: __`Define Object With Object.create`__ ::"
   ]
  },
  {
   "cell_type": "code",
   "execution_count": null,
   "metadata": {
    "vscode": {
     "languageId": "javascript"
    }
   },
   "outputs": [],
   "source": [
    "let mainObj = {\n",
    "    hasDiscount: true,\n",
    "    showMsg: function () {\n",
    "      return `You${this.hasDiscount ? \"\" : \" Don't\"} Have Discount`;\n",
    "    },\n",
    "  };\n",
    "  \n",
    "  console.log(mainObj.hasDiscount); // Output: true\n",
    "  console.log(mainObj.showMsg()); // Output: You Have Discount"
   ]
  },
  {
   "cell_type": "markdown",
   "metadata": {},
   "source": [
    "The Use of `this` Here Is to Make the Function Reusable in Other Objects, Think of It Like This: \n",
    "\n",
    "↪ `this` = mainObj\n",
    "\n",
    "↪ `this` = Look for the Object Above and Use It Whatever It's Name Is\n",
    "\n",
    "This design allows methods defined in one object to be borrowed by another object or to be used in prototypes and classes, making code more modular and reusable."
   ]
  },
  {
   "cell_type": "code",
   "execution_count": null,
   "metadata": {
    "vscode": {
     "languageId": "javascript"
    }
   },
   "outputs": [],
   "source": [
    "let mainObj = {\n",
    "    hasDiscount: true,\n",
    "    showMsg: function () {\n",
    "      return `You${this.hasDiscount ? \"\" : \" Don't\"} Have Discount`;\n",
    "    },\n",
    "  };\n",
    "  \n",
    "  let otherObj = Object.create(mainObj);\n",
    "  otherObj.hasDiscount = false;\n",
    "  \n",
    "  console.log(otherObj.hasDiscount);  // Output: false\n",
    "  console.log(otherObj.showMsg());  // Output: You Don't Have Discount"
   ]
  },
  {
   "cell_type": "code",
   "execution_count": null,
   "metadata": {
    "vscode": {
     "languageId": "javascript"
    }
   },
   "outputs": [],
   "source": [
    "let mainObj = {\n",
    "    hasDiscount: true,\n",
    "    showMsg: function () {\n",
    "      return `You${this.hasDiscount ? \"\" : \" Don't\"} Have Discount`;\n",
    "    },\n",
    "  };\n",
    "  \n",
    "  let lastObj = Object.create(mainObj);\n",
    "  \n",
    "  console.log(lastObj.hasDiscount);   //Output: true\n",
    "  console.log(lastObj.showMsg());   //Output: You Have Discount\n",
    "  "
   ]
  },
  {
   "cell_type": "markdown",
   "metadata": {},
   "source": [
    ":: __`Define Object With Object.assign`__ ::"
   ]
  },
  {
   "cell_type": "code",
   "execution_count": null,
   "metadata": {
    "vscode": {
     "languageId": "javascript"
    }
   },
   "outputs": [],
   "source": [
    "const src1 = {\n",
    "  prop1: \"Value1\",\n",
    "  prop2: \"Value2\",\n",
    "  method1: function () {\n",
    "    return `Method 1`;\n",
    "  },\n",
    "};\n",
    "\n",
    "const src2 = {\n",
    "  prop3: \"Value3\",\n",
    "  prop4: \"Value4\",\n",
    "  method2: function () {\n",
    "    return `Method 2`;\n",
    "  },\n",
    "};\n",
    "\n",
    "const target = {\n",
    "  prop5: \"Value5\",\n",
    "};\n",
    "\n",
    "Object.assign(target, src1, src2, { prop6: \"Value6\" });\n",
    "\n",
    "console.log(target);\n",
    "\n",
    "/*\n",
    "Output: \n",
    "{\n",
    "  prop5: 'Value5',\n",
    "  prop1: 'Value1',\n",
    "  prop2: 'Value2',\n",
    "  method1: [Function: method1],\n",
    "  prop3: 'Value3',\n",
    "  prop4: 'Value4',\n",
    "  method2: [Function: method2],\n",
    "  prop6: 'Value6'\n",
    "}\n",
    "*/"
   ]
  },
  {
   "cell_type": "code",
   "execution_count": null,
   "metadata": {
    "vscode": {
     "languageId": "javascript"
    }
   },
   "outputs": [],
   "source": [
    "const src1 = {\n",
    "  prop1: \"Value1\",\n",
    "  prop2: \"Value2\",\n",
    "  method1: function () {\n",
    "    return `Method 1`;\n",
    "  },\n",
    "};\n",
    "\n",
    "const src2 = {\n",
    "  prop3: \"Value3\",\n",
    "  prop4: \"Value4\",\n",
    "  method2: function () {\n",
    "    return `Method 2`;\n",
    "  },\n",
    "};\n",
    "\n",
    "const target = {\n",
    "  prop5: \"Value5\",\n",
    "};\n",
    "\n",
    "Object.assign(target, src1, src2, { prop6: \"Value6\" });\n",
    "\n",
    "const myObject = Object.assign({}, target, { prop7: \"Value7\" });\n",
    "\n",
    "console.log(myObject);\n",
    "/*\n",
    "Output: \n",
    "{\n",
    "  prop5: 'Value5',\n",
    "  prop1: 'Value1',\n",
    "  prop2: 'Value2',\n",
    "  method1: [Function: method1],\n",
    "  prop3: 'Value3',\n",
    "  prop4: 'Value4',\n",
    "  method2: [Function: method2],\n",
    "  prop6: 'Value6',\n",
    "  prop7: 'Value7'\n",
    "}\n",
    "*/\n",
    "\n"
   ]
  },
  {
   "cell_type": "code",
   "execution_count": null,
   "metadata": {
    "vscode": {
     "languageId": "javascript"
    }
   },
   "outputs": [],
   "source": [
    "const src1 = {\n",
    "  prop1: \"Value1\",\n",
    "  prop2: \"Value2\",\n",
    "  method1: function () {\n",
    "    return `Method 1`;\n",
    "  },\n",
    "};\n",
    "\n",
    "const src2 = {\n",
    "  prop3: \"Value3\",\n",
    "  prop4: \"Value4\",\n",
    "  method2: function () {\n",
    "    return `Method 2`;\n",
    "  },\n",
    "};\n",
    "\n",
    "const target = {\n",
    "  prop5: \"Value5\",\n",
    "};\n",
    "\n",
    "Object.assign(target, src1, src2, { prop6: \"Value6\" });\n",
    "\n",
    "const myObject = Object.assign({}, target, { prop7: \"Value7\" });\n",
    "\n",
    "console.log(myObject.prop1); // Output: Value1\n",
    "console.log(myObject.prop2); // Output: Value2\n",
    "console.log(myObject.prop6); // Output: Value6\n",
    "console.log(myObject.method1());  // Output: Method 1\n",
    "console.log(myObject.method2());  // Output: Method 2"
   ]
  },
  {
   "cell_type": "markdown",
   "metadata": {},
   "source": [
    ":: __`Delete Operator`__ ::\n",
    "\n",
    "`delete` operator in JavaScript ⟶ Removes a property from an object. If the property exists on the object, `delete` will remove the property and its value, returning `true`; if the property does not exist or cannot be deleted, it returns `false`. It does not affect variables or function names."
   ]
  },
  {
   "cell_type": "code",
   "execution_count": null,
   "metadata": {
    "vscode": {
     "languageId": "javascript"
    }
   },
   "outputs": [],
   "source": [
    "const user = { name: \"Osama\" };\n",
    "\n",
    "console.log(user); // Output: { name: 'Osama' }\n",
    "console.log(user.name); // Output: Osama\n",
    "\n",
    "delete user; // Delete Property Not Object\n",
    "\n",
    "console.log(user); // Output: { name: 'Osama' }"
   ]
  },
  {
   "cell_type": "code",
   "execution_count": null,
   "metadata": {
    "vscode": {
     "languageId": "javascript"
    }
   },
   "outputs": [],
   "source": [
    "const user = { name: \"Osama\" };\n",
    "\n",
    "delete user.name;\n",
    "\n",
    "console.log(user); // Output: {}"
   ]
  },
  {
   "cell_type": "code",
   "execution_count": null,
   "metadata": {
    "vscode": {
     "languageId": "javascript"
    }
   },
   "outputs": [],
   "source": [
    "const user = { name: \"Osama\" };\n",
    "\n",
    "delete user[\"name\"];\n",
    "\n",
    "console.log(user); // Output: {}"
   ]
  },
  {
   "cell_type": "code",
   "execution_count": null,
   "metadata": {
    "vscode": {
     "languageId": "javascript"
    }
   },
   "outputs": [],
   "source": [
    "const user = { name: \"Osama\" };\n",
    "\n",
    "console.log(delete user[\"name\"]);\n",
    "// Output: true"
   ]
  },
  {
   "cell_type": "markdown",
   "metadata": {},
   "source": [
    ":: __`Object Freeze`__ ::\n",
    "\n",
    "`Object.freeze()` method in JavaScript ⟶ Makes an object immutable, preventing new properties from being added to it, existing properties from being removed or modified, and their enumerability, configurability, or writability from being changed. It effectively makes the entire object read-only. However, it does not affect the mutability of objects nested within the frozen object."
   ]
  },
  {
   "cell_type": "code",
   "execution_count": null,
   "metadata": {
    "vscode": {
     "languageId": "javascript"
    }
   },
   "outputs": [],
   "source": [
    "const freezedObj = Object.freeze({ age: 37 });\n",
    "console.log(freezedObj); // Output: { age: 37 }\n",
    "console.log(freezedObj.age); // Output: 37"
   ]
  },
  {
   "cell_type": "code",
   "execution_count": null,
   "metadata": {
    "vscode": {
     "languageId": "javascript"
    }
   },
   "outputs": [],
   "source": [
    "const freezedObj = Object.freeze({ age: 37 });\n",
    "console.log(delete freezedObj.age); // Output: false\n",
    "console.log(freezedObj); // Output: { age: 37 }\n",
    "console.log(freezedObj.age); // Output: 37"
   ]
  },
  {
   "cell_type": "markdown",
   "metadata": {},
   "source": [
    ":: __`Object Define Property Method`__ ::\n",
    "\n",
    "❖ `Object.defineProperty()` method in JavaScript ⟶ Adds a new property to an object or modifies an existing property on an object, and explicitly defines or modifies its characteristics. \n",
    "\n",
    "❖ You can control property attributes such as value, writability, enumerability, and configurability, as well as defining getter and setter functions for a property. \n",
    "\n",
    "❖ This method allows for precise control over property behavior on an object.\n"
   ]
  },
  {
   "cell_type": "markdown",
   "metadata": {},
   "source": [
    "__The basic syntax for `Object.defineProperty()` in JavaScript is as follows:__\n",
    "\n",
    "> Object.defineProperty(object, propertyName, descriptor);\n",
    "\n",
    "❖ **`object`**: The object on which to define the property.\n",
    "\n",
    "❖ **`propertyName`**: The name of the property to be defined or modified as a string.\n",
    "\n",
    "❖ **`descriptor`**: An object that describes the property being defined or modified. This descriptor object can have the following properties:\n",
    "\n",
    "  ↪ **`value`**: The value associated with the property. Can be any valid JavaScript value (number, object, function, etc.).\n",
    "  \n",
    "  ↪ **`writable`**: Boolean indicating if the value of the property can be changed. Defaults to `false`.\n",
    "  \n",
    "  ↪ **`enumerable`**: Boolean indicating if the property will be included in the enumeration (e.g., in a `for...in` loop or `Object.keys` method). Defaults to `false`.\n",
    "  \n",
    "  ↪ **`configurable`**: Boolean indicating if the property can be deleted from the object and if the descriptor can be changed. Defaults to `false`.\n",
    "  \n",
    "  ↪ **`get`**: A getter function, which will be called when the property is read. Cannot be defined alongside `value` or `writable`.\n",
    "  \n",
    "  ↪ **`set`**: A setter function, which will be called when the property is set to a new value. Cannot be defined alongside `value` or `writable`.\n",
    "  "
   ]
  },
  {
   "cell_type": "code",
   "execution_count": null,
   "metadata": {
    "vscode": {
     "languageId": "javascript"
    }
   },
   "outputs": [],
   "source": [
    "const eObj = {};\n",
    "Object.defineProperty(eObj, \"a\", { value: 1, configurable: false });\n",
    "console.log(eObj);  // Output: {}\n",
    "console.log(eObj.a);  // Output: 1"
   ]
  },
  {
   "cell_type": "markdown",
   "metadata": {},
   "source": [
    "**::Note::** \n",
    "\n",
    "Why in This Example the eObj Is `{}` when We Defined a Property `\"A\"` To Be `1` and After that It Recognized the Property in the Second Console Log and We Gained Access to It's Value (`1`) ? "
   ]
  },
  {
   "cell_type": "markdown",
   "metadata": {},
   "source": [
    "In this example, the reason `eObj` appears as `{}` when logged directly to the console is due to the property attributes set by `Object.defineProperty()`. Specifically, the property \"a\" is defined with `configurable: false` and, by default, if not explicitly set, the `enumerable` attribute of a property defined this way is `false`. \n",
    "\n",
    "The `enumerable` attribute controls whether the property is included in the object's enumerable properties. Since it defaults to `false` when not specified (and you haven't specified it in your property descriptor), the property \"a\" will not appear in the list of keys when you try to log or enumerate the object's properties (for example, using `console.log`, `for...in` loop, `Object.keys()`, etc.).\n",
    "\n",
    "However, the property \"a\" is indeed added to `eObj` with a value of `1`, as demonstrated by the direct access `console.log(eObj.a)`, which outputs `1`. This shows that the property exists and its value is accessible, but its non-enumerability makes it invisible in direct console log outputs of the object itself.\n",
    "\n",
    "To make the property appear in such outputs, you would need to set `enumerable: true` in your property descriptor:"
   ]
  },
  {
   "cell_type": "code",
   "execution_count": null,
   "metadata": {
    "vscode": {
     "languageId": "javascript"
    }
   },
   "outputs": [],
   "source": [
    "const eObj = {};\n",
    "Object.defineProperty(eObj, \"a\", { value: 1, configurable: false, enumerable: true });\n",
    "console.log(eObj);  // Output: { a: 1 }\n",
    "console.log(eObj.a);  // Output: 1"
   ]
  },
  {
   "cell_type": "markdown",
   "metadata": {},
   "source": [
    "With `enumerable` set to `true`, logging `eObj` to the console would show the property \"a\" and its value."
   ]
  },
  {
   "cell_type": "code",
   "execution_count": null,
   "metadata": {
    "vscode": {
     "languageId": "javascript"
    }
   },
   "outputs": [],
   "source": [
    "const eObj = {};\n",
    "Object.defineProperty(eObj, \"a\", { value: 1, configurable: false, enumerable: true });\n",
    "\n",
    "console.log(delete eObj.a);   // Output: false\n",
    "console.log(eObj);  // Output: { a: 1 }\n",
    "console.log(eObj.a);  // Output: 1"
   ]
  },
  {
   "cell_type": "code",
   "execution_count": null,
   "metadata": {
    "vscode": {
     "languageId": "javascript"
    }
   },
   "outputs": [],
   "source": [
    "const eObj = {};\n",
    "Object.defineProperty(eObj, \"a\", { value: 1, configurable: true, enumerable: true });\n",
    "\n",
    "console.log(delete eObj.a);   // Output: true\n",
    "console.log(eObj);  // Output: {}\n",
    "console.log(eObj.a);  // Output: undefined"
   ]
  },
  {
   "cell_type": "markdown",
   "metadata": {},
   "source": [
    ":: __`For In Loop With Object Properties`__ ::"
   ]
  },
  {
   "cell_type": "code",
   "execution_count": null,
   "metadata": {
    "vscode": {
     "languageId": "javascript"
    }
   },
   "outputs": [],
   "source": [
    "const user = {\n",
    "    name: \"Osama\",\n",
    "    country: \"Egypt\",\n",
    "    age: 37,\n",
    "  };\n",
    "  \n",
    "  let finalData = \"\";\n",
    "  \n",
    "  for (let info in user) {\n",
    "    console.log(`The ${info} Is => ${user[info]}`);\n",
    "  };\n",
    "  \n",
    "  /*\n",
    "  Output: \n",
    "  The name Is => Osama\n",
    "  The country Is => Egypt\n",
    "  The age Is => 37\n",
    "  */"
   ]
  },
  {
   "cell_type": "markdown",
   "metadata": {},
   "source": [
    "Now Let's Create `index.html` File and `main.js` File, the Javascript Will Create Multiple Divs with the for Loop "
   ]
  },
  {
   "cell_type": "code",
   "execution_count": null,
   "metadata": {
    "vscode": {
     "languageId": "html"
    }
   },
   "outputs": [],
   "source": [
    "<!-- index.html file -->\n",
    "\n",
    "<!DOCTYPE html>\n",
    "<html lang=\"en\">\n",
    "<head>\n",
    "    <meta charset=\"UTF-8\">\n",
    "    <meta name=\"viewport\" content=\"width=device-width, initial-scale=1.0\">\n",
    "    <title>User Information Display</title>\n",
    "</head>\n",
    "<body>\n",
    "    <script src=\"main.js\"></script>\n",
    "</body>\n",
    "</html>\n"
   ]
  },
  {
   "cell_type": "code",
   "execution_count": null,
   "metadata": {
    "vscode": {
     "languageId": "javascript"
    }
   },
   "outputs": [],
   "source": [
    "// main.js File\n",
    "\n",
    "const user = {\n",
    "    name: \"Osama\",\n",
    "    country: \"Egypt\",\n",
    "    age: 37,\n",
    "  };\n",
    "  \n",
    "  let finalData = \"\";\n",
    "  \n",
    "  for (let info in user) {\n",
    "    finalData += `<div>The ${info} Is => ${user[info]}</div>`;\n",
    "  };\n",
    "  \n",
    "  document.body.innerHTML = finalData;"
   ]
  },
  {
   "cell_type": "markdown",
   "metadata": {},
   "source": [
    "❖ Now the Html File Will Have `Divs` = the Same Output We Got From the `Node.Js` But Displayed in the Body Section of the HTML"
   ]
  },
  {
   "cell_type": "code",
   "execution_count": null,
   "metadata": {
    "vscode": {
     "languageId": "javascript"
    }
   },
   "outputs": [],
   "source": []
  }
 ],
 "metadata": {
  "language_info": {
   "name": "python"
  }
 },
 "nbformat": 4,
 "nbformat_minor": 2
}
