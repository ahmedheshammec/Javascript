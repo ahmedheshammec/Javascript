{
 "cells": [
  {
   "cell_type": "markdown",
   "metadata": {},
   "source": [
    "**`BOM`** => Stands for Browser Object Model\n",
    "\n",
    "❖ JS BOM Talks to the Browser. \n",
    "\n",
    "❖ Doing Actions Not Related to Page.\n",
    "\n",
    "↪ Change Url\n",
    "\n",
    "↪ Background Requests\n",
    "\n",
    "↪ Alert, Confirm, Prompt\n",
    "\n",
    "↪ Window Move, Window Open, Window Close\n",
    "\n",
    "↪ Change Text in the Status Bar\n",
    "\n",
    "\n",
    "**`BOM Information`**\n",
    "\n",
    "❖ BOM Has No Standard\n",
    "\n",
    "❖ All Modern Browsers Implement Similar Boms\n",
    "\n",
    "↪ Window\n",
    "\n",
    "↪ Screen\n",
    "\n",
    "↪ Location\n",
    "\n",
    "↪ History\n",
    "\n",
    "↪ Navigation\n",
    "\n",
    "↪ Timing\n",
    "\n",
    "↪ Cookies\n",
    "\n",
    "❖ We Can Say that BOM Is a Collection of Objects that Controls the Browser\n",
    "\n",
    "❖ Default Object of Browser Is Window\n",
    "\n",
    "❖ All Global Js Objects Are Member of Window Object\n",
    "\n"
   ]
  },
  {
   "cell_type": "markdown",
   "metadata": {},
   "source": [
    ":: __`Window`__ ::\n",
    "\n",
    "❖ Window Object Is The Browser Window\n",
    "\n",
    "❖ Window Object Supported By All Browsers\n",
    "\n",
    "❖ Window Object Has Propertise & Methods Not Supported In All Browsers\n",
    "\n",
    "❖ Window Object Has Propertise & Methods Not Supported In All Browsers\n",
    "\n",
    "❖ All Global Js Objects Are Members Of Window Object\n",
    "\n",
    "↪ in the Console Log Window if You Type **`alert('Hello World')`** This Is the Same as You Type **`window.alert('Hello World')`** Cuz the Default Object Is the Window\n",
    "\n"
   ]
  },
  {
   "cell_type": "markdown",
   "metadata": {},
   "source": [
    ":: __`Window Methods - Alert, Prompt, Confirm`__ ::\n",
    "\n",
    "The Confirm Is Like This **`=>`** Go to the Console Log in the Browser and Type:"
   ]
  },
  {
   "cell_type": "code",
   "execution_count": null,
   "metadata": {
    "vscode": {
     "languageId": "javascript"
    }
   },
   "outputs": [],
   "source": [
    "confirm('Are You Sure You Want to Delete This Member?');\n",
    "// true or false"
   ]
  },
  {
   "cell_type": "markdown",
   "metadata": {},
   "source": [
    "Now Let's Make the Same in Javascript File so that if the Confirm Return True or Ok It Will Open Google for Example and if It Returns False of Cancel It Will Say a Message in the Console Log"
   ]
  },
  {
   "cell_type": "code",
   "execution_count": null,
   "metadata": {
    "vscode": {
     "languageId": "html"
    }
   },
   "outputs": [],
   "source": [
    "<!DOCTYPE html>\n",
    "<html lang=\"en\">\n",
    "<head>\n",
    "    <meta charset=\"UTF-8\">\n",
    "    <meta name=\"viewport\" content=\"width=device-width, initial-scale=1.0\">\n",
    "    <title>Javascript</title>\n",
    "</head>\n",
    "<body>\n",
    "    <button onclick=\"confirmNavigation()\">Open Google</button>\n",
    "\n",
    "<script src=\"main.js\"></script>\n",
    "</body>\n",
    "</html>"
   ]
  },
  {
   "cell_type": "code",
   "execution_count": null,
   "metadata": {
    "vscode": {
     "languageId": "javascript"
    }
   },
   "outputs": [],
   "source": [
    "function confirmNavigation() {\n",
    "    'use strict';\n",
    "    var ask = window.confirm('Are You Sure You Want to Open Google?');\n",
    "    if (ask) {\n",
    "        window.location.href = 'https://www.google.com';\n",
    "    } else {\n",
    "        console.log('You choosed not to open Google');\n",
    "    };\n",
    "};"
   ]
  },
  {
   "cell_type": "markdown",
   "metadata": {},
   "source": [
    "Now Let's Check the Prompt; In the Cconsole Log Type: "
   ]
  },
  {
   "cell_type": "code",
   "execution_count": null,
   "metadata": {
    "vscode": {
     "languageId": "javascript"
    }
   },
   "outputs": [],
   "source": [
    "prompt('What Is Your Name?', 'Example: Osama');"
   ]
  },
  {
   "cell_type": "markdown",
   "metadata": {},
   "source": [
    "Now Let's Make It in Our Html Page as a Button"
   ]
  },
  {
   "cell_type": "code",
   "execution_count": null,
   "metadata": {
    "vscode": {
     "languageId": "html"
    }
   },
   "outputs": [],
   "source": [
    "<!DOCTYPE html>\n",
    "<html lang=\"en\">\n",
    "<head>\n",
    "    <meta charset=\"UTF-8\">\n",
    "    <meta name=\"viewport\" content=\"width=device-width, initial-scale=1.0\">\n",
    "    <title>Javascript</title>\n",
    "</head>\n",
    "<body>\n",
    "    <button onclick=\"confirmNavigation()\">Open Google</button>\n",
    "    <button onclick=\"fprompt()\">Prompt</button>\n",
    "\n",
    "<script src=\"main.js\"></script>\n",
    "</body>\n",
    "</html>"
   ]
  },
  {
   "cell_type": "code",
   "execution_count": null,
   "metadata": {
    "vscode": {
     "languageId": "javascript"
    }
   },
   "outputs": [],
   "source": [
    "function confirmNavigation() {\n",
    "    'use strict';\n",
    "    var ask = window.confirm('Are You Sure You Want to Open Google?');\n",
    "    if (ask) {\n",
    "        window.location.href = 'https://www.google.com';\n",
    "    } else {\n",
    "        console.log('You choosed not to open Google');\n",
    "    };\n",
    "};\n",
    "\n",
    "function fprompt() {\n",
    "    'use strict';\n",
    "    var windowPrompt = window.prompt('What\\'s Your Name?','Example: Osama');\n",
    "};"
   ]
  },
  {
   "cell_type": "markdown",
   "metadata": {},
   "source": [
    ":: __`Window Methods - setTimeout`__ ::\n",
    "\n",
    "Syntax: \n",
    "\n",
    "> setTimeout(Function, Milliseconds, Params(Opt) ..)\n",
    "\n",
    "❖ The **`setTimeout`** Purpose Is to Wait **`(Milliseconds)`** Before Executing **`(Funtion)`**\n",
    "\n",
    "❖ **Example**"
   ]
  },
  {
   "cell_type": "code",
   "execution_count": null,
   "metadata": {
    "vscode": {
     "languageId": "javascript"
    }
   },
   "outputs": [],
   "source": [
    "setTimeout(() => {\n",
    "    'use strict';\n",
    "    console.log('Hello After 3 Seconds');\n",
    "}, 3000);\n",
    "// This Is Arrow Function Form You Can Use Normal Function as Well"
   ]
  },
  {
   "cell_type": "markdown",
   "metadata": {},
   "source": [
    "❖ when You Reload the Page After 3 Seconds the Console Log Will Print the Message\n",
    "\n",
    "❖ You Can Also Type the **`setTimeOut`** Function Like This: "
   ]
  },
  {
   "cell_type": "code",
   "execution_count": null,
   "metadata": {
    "vscode": {
     "languageId": "javascript"
    }
   },
   "outputs": [],
   "source": [
    "function writeMessage() {\n",
    "    'use strict';\n",
    "    console.log('Hello After 3 Seconds');\n",
    "};\n",
    "setTimeout(writeMessage,3000); // 3 Seconds"
   ]
  },
  {
   "cell_type": "markdown",
   "metadata": {},
   "source": [
    "❖ if We Put the **`setTimeout`** in a Variable Like This: "
   ]
  },
  {
   "cell_type": "code",
   "execution_count": null,
   "metadata": {
    "vscode": {
     "languageId": "javascript"
    }
   },
   "outputs": [],
   "source": [
    "var myTime = setTimeout(writeMessage,3000);"
   ]
  },
  {
   "cell_type": "markdown",
   "metadata": {},
   "source": [
    "❖ and in the Console Log Type the Var Name **`(myTime)`** and Hit Enter You Will Get a Number This Number Is Returned by the **`setTimeout`** Function\n",
    "\n",
    "❖ Syntax: \n",
    "\n",
    "> clearTimeout(Id or Number of SetTimeout)\n",
    "\n",
    "❖ This Number We Will Use It in the **`clearTimeout`** to stop the Timeout before it happens."
   ]
  },
  {
   "cell_type": "code",
   "execution_count": null,
   "metadata": {
    "vscode": {
     "languageId": "html"
    }
   },
   "outputs": [],
   "source": [
    "<!DOCTYPE html>\n",
    "<html lang=\"en\">\n",
    "<head>\n",
    "    <meta charset=\"UTF-8\">\n",
    "    <meta name=\"viewport\" content=\"width=device-width, initial-scale=1.0\">\n",
    "    <title>Javascript</title>\n",
    "</head>\n",
    "<body>\n",
    "    <button id=\"click\">Click</button>\n",
    "\n",
    "<script src=\"main.js\"></script>\n",
    "</body>\n",
    "</html>"
   ]
  },
  {
   "cell_type": "code",
   "execution_count": null,
   "metadata": {
    "vscode": {
     "languageId": "javascript"
    }
   },
   "outputs": [],
   "source": [
    "var myButton = document.getElementById('click');\n",
    "\n",
    "function writeMessage() {\n",
    "    'use strict';\n",
    "    console.log('Hello After 3 Seconds');\n",
    "};\n",
    "\n",
    "var myTime = setTimeout(writeMessage,3000);\n",
    "\n",
    "myButton.onclick=function () {\n",
    "    'use strict';\n",
    "    clearTimeout(myTime); // myTime = the Number in the Console Log\n",
    "};"
   ]
  },
  {
   "cell_type": "markdown",
   "metadata": {},
   "source": [
    "❖ Now if You Reload the Page and Wait 3 Seconds the Message Will Appear in the Console Log\n",
    "\n",
    "❖ If You Clic the Button Before the 3 Seconds the Message Will Not Show Up"
   ]
  },
  {
   "cell_type": "markdown",
   "metadata": {},
   "source": [
    ":: __`Window Methods - setInterval`__ ::\n",
    "\n",
    "❖ The **`setInterval`** Method Run the Code More than One Time\n",
    "\n",
    "❖ So Instead of Running the Code After 3 Seconds Just One Time, It Will Run the Code Every 3 Seconds\n",
    "\n",
    "❖ Syntax: \n",
    "\n",
    "> setInterval(Function, Milliseconds, Params,..)\n",
    "\n",
    "> clearInterval(Id Or Number Of SetInterval)"
   ]
  },
  {
   "cell_type": "code",
   "execution_count": null,
   "metadata": {
    "vscode": {
     "languageId": "html"
    }
   },
   "outputs": [],
   "source": [
    "<!DOCTYPE html>\n",
    "<html lang=\"en\">\n",
    "<head>\n",
    "    <meta charset=\"UTF-8\">\n",
    "    <meta name=\"viewport\" content=\"width=device-width, initial-scale=1.0\">\n",
    "    <title>Javascript</title>\n",
    "</head>\n",
    "<body>\n",
    "    <button id=\"click\">Click</button>\n",
    "    <div id=\"show\">10</div>\n",
    "\n",
    "<script src=\"main.js\"></script>\n",
    "</body>\n",
    "</html>"
   ]
  },
  {
   "cell_type": "code",
   "execution_count": null,
   "metadata": {
    "vscode": {
     "languageId": "javascript"
    }
   },
   "outputs": [],
   "source": [
    "var myButton = document.getElementById('click');\n",
    "\n",
    "function writeMessage() {\n",
    "    'use strict';\n",
    "    console.log('Hello Every 2 Seconds');\n",
    "};\n",
    "\n",
    "var myTime = setInterval(writeMessage,2000);\n",
    "\n",
    "myButton.onclick=function () {\n",
    "    'use strict';\n",
    "    clearInterval(myTime); // myTime = the Number in the Console Log\n",
    "};"
   ]
  },
  {
   "cell_type": "markdown",
   "metadata": {},
   "source": [
    ":: __`Countdown Example`__ ::"
   ]
  },
  {
   "cell_type": "code",
   "execution_count": null,
   "metadata": {
    "vscode": {
     "languageId": "html"
    }
   },
   "outputs": [],
   "source": [
    "<!DOCTYPE html>\n",
    "<html lang=\"en\">\n",
    "<head>\n",
    "    <meta charset=\"UTF-8\">\n",
    "    <meta name=\"viewport\" content=\"width=device-width, initial-scale=1.0\">\n",
    "    <title>Javascript</title>\n",
    "</head>\n",
    "<body>\n",
    "    <div id=\"show\">10</div>\n",
    "\n",
    "<script src=\"main.js\"></script>\n",
    "</body>\n",
    "</html>"
   ]
  },
  {
   "cell_type": "code",
   "execution_count": null,
   "metadata": {
    "vscode": {
     "languageId": "javascript"
    }
   },
   "outputs": [],
   "source": [
    "var myButton = document.getElementById('click'),\n",
    "    myDiv = document.getElementById('show'),\n",
    "    myTime = setInterval(countDown,1000);\n",
    "\n",
    "    function countDown() {\n",
    "    'use strict';\n",
    "    if (myDiv.textContent <= 0) {\n",
    "        myDiv.textContent = 'Done!'\n",
    "        clearInterval(myTime)\n",
    "    } else {\n",
    "        myDiv.textContent = myDiv.textContent - 1;\n",
    "    };\n",
    "};"
   ]
  },
  {
   "cell_type": "markdown",
   "metadata": {},
   "source": [
    ":: __`Window Methods - Open`__ ::\n",
    "\n",
    "❖ Syntax: \n",
    "\n",
    "> window.open(Url, Name or Attribute, Specification, History Replace)"
   ]
  },
  {
   "cell_type": "code",
   "execution_count": null,
   "metadata": {
    "vscode": {
     "languageId": "html"
    }
   },
   "outputs": [],
   "source": [
    "<!DOCTYPE html>\n",
    "<html lang=\"en\">\n",
    "<head>\n",
    "    <meta charset=\"UTF-8\">\n",
    "    <meta name=\"viewport\" content=\"width=device-width, initial-scale=1.0\">\n",
    "    <title>Javascript</title>\n",
    "</head>\n",
    "<body>\n",
    "    <button id=\"open\">Open Link</button>\n",
    "\n",
    "<script src=\"main.js\"></script>\n",
    "</body>\n",
    "</html>"
   ]
  },
  {
   "cell_type": "code",
   "execution_count": null,
   "metadata": {
    "vscode": {
     "languageId": "javascript"
    }
   },
   "outputs": [],
   "source": [
    "document.getElementById('open').onclick = function () {\n",
    "    'use strict';\n",
    "    window.open(\"https://www.google.com\", \"_blank\")\n",
    "};"
   ]
  },
  {
   "cell_type": "markdown",
   "metadata": {},
   "source": [
    "**`_blank`** => open the link in a new tab in the browser\n",
    "\n",
    "**`_self`** => open the link in the same tab in the browser"
   ]
  },
  {
   "cell_type": "markdown",
   "metadata": {},
   "source": [
    ":: __`Window Methods - scrollBy, scrollTo`__ ::\n",
    "\n",
    "❖ Syntax: \n",
    "\n",
    "> scrollBy(x,y) => Numbers in Pixels"
   ]
  },
  {
   "cell_type": "code",
   "execution_count": null,
   "metadata": {
    "vscode": {
     "languageId": "html"
    }
   },
   "outputs": [],
   "source": [
    "<!DOCTYPE html>\n",
    "<html lang=\"en\">\n",
    "<head>\n",
    "    <meta charset=\"UTF-8\">\n",
    "    <meta name=\"viewport\" content=\"width=device-width, initial-scale=1.0\">\n",
    "    <title>Javascript</title>\n",
    "    <style>\n",
    "        body {\n",
    "            height: 4000px;\n",
    "            width: 4000px;\n",
    "        }\n",
    "\n",
    "        button {\n",
    "            position: fixed;\n",
    "            top: 10px;\n",
    "            left: 10px;\n",
    "\n",
    "        }\n",
    "    </style>\n",
    "</head>\n",
    "<body>\n",
    "    <button id=\"scroll\">Scroll</button>\n",
    "\n",
    "<script src=\"main.js\"></script>\n",
    "</body>\n",
    "</html>"
   ]
  },
  {
   "cell_type": "code",
   "execution_count": null,
   "metadata": {
    "vscode": {
     "languageId": "javascript"
    }
   },
   "outputs": [],
   "source": [
    "document.getElementById('scroll').onclick = function () {\n",
    "    'use strict'; \n",
    "    window.scrollBy(200,150);\n",
    "    console.log('Window Scrolled  ' + window.scrollX);\n",
    "    console.log('Window Scrolled  ' + window.scrollY);\n",
    "};"
   ]
  },
  {
   "cell_type": "markdown",
   "metadata": {},
   "source": [
    "❖ Syntax: \n",
    "\n",
    "> scrollTo(x,y) => Numbers in Pixels"
   ]
  },
  {
   "cell_type": "code",
   "execution_count": null,
   "metadata": {
    "vscode": {
     "languageId": "javascript"
    }
   },
   "outputs": [],
   "source": [
    "document.getElementById('scroll').onclick = function () {\n",
    "    'use strict'; \n",
    "    window.scrollTo(500,250);\n",
    "    console.log('Window Scrolled  ' + window.scrollX);\n",
    "    console.log('Window Scrolled  ' + window.scrollY);\n",
    "};"
   ]
  },
  {
   "cell_type": "markdown",
   "metadata": {},
   "source": [
    ":: __`Window Properties - innerHeight, innerWidth`__ ::\n",
    "\n",
    "![innerHeight_and_innerWidth](https://i.imgur.com/jMYX5MU.jpeg)"
   ]
  },
  {
   "cell_type": "markdown",
   "metadata": {},
   "source": [
    ":: __`Window Properties - pageXOffset, pageYOffset`__ ::\n",
    "\n",
    "❖ The **`pageXOffset`** => Is How Much You Scrolled on the X Axis\n",
    "\n",
    "❖ The **`pageYOffset`** => Is How Much You Scrolled on the Y Axis"
   ]
  },
  {
   "cell_type": "code",
   "execution_count": null,
   "metadata": {
    "vscode": {
     "languageId": "html"
    }
   },
   "outputs": [],
   "source": [
    "<!DOCTYPE html>\n",
    "<html lang=\"en\">\n",
    "<head>\n",
    "    <meta charset=\"UTF-8\">\n",
    "    <meta name=\"viewport\" content=\"width=device-width, initial-scale=1.0\">\n",
    "    <title>Javascript</title>\n",
    "    <style>\n",
    "        body {\n",
    "            width: 4000px;\n",
    "            height: 4000px;\n",
    "        }\n",
    "    </style>\n",
    "</head>\n",
    "<body>\n",
    "    \n",
    "\n",
    "<script src=\"main.js\"></script>\n",
    "</body>\n",
    "</html>"
   ]
  },
  {
   "cell_type": "markdown",
   "metadata": {},
   "source": [
    "If You Moved the Scroll Vertically and Horizontally at Random and Typed in the Console Log: "
   ]
  },
  {
   "cell_type": "code",
   "execution_count": null,
   "metadata": {
    "vscode": {
     "languageId": "javascript"
    }
   },
   "outputs": [],
   "source": [
    "window.pageXOffset;"
   ]
  },
  {
   "cell_type": "markdown",
   "metadata": {},
   "source": [
    "❖ You Will Get the X Value and Same Goes for the Y\n",
    "\n",
    "❖ It's Deprecated, the New Feature Is Called **`scrollX`**"
   ]
  },
  {
   "cell_type": "code",
   "execution_count": null,
   "metadata": {
    "vscode": {
     "languageId": "javascript"
    }
   },
   "outputs": [],
   "source": [
    "window.scrollX;"
   ]
  },
  {
   "cell_type": "markdown",
   "metadata": {},
   "source": [
    ":: __`Window Location Properties - Href`__ ::\n",
    "\n",
    "❖ Go to the Console Log on Any Page and Type in the Console:"
   ]
  },
  {
   "cell_type": "code",
   "execution_count": null,
   "metadata": {
    "vscode": {
     "languageId": "javascript"
    }
   },
   "outputs": [],
   "source": [
    "window.location.href"
   ]
  },
  {
   "cell_type": "markdown",
   "metadata": {},
   "source": [
    "❖ You'll Get the Url You're Currently At\n",
    "\n",
    "❖ You Can Also Type: **`location.href`** without the Window Since Window Is the Default Object Anyway\n",
    "\n",
    "❖ You Can Set the Location Href to Something Like Like Google "
   ]
  },
  {
   "cell_type": "code",
   "execution_count": null,
   "metadata": {
    "vscode": {
     "languageId": "javascript"
    }
   },
   "outputs": [],
   "source": [
    "location.href = 'https://www.google.com'"
   ]
  },
  {
   "cell_type": "markdown",
   "metadata": {},
   "source": [
    "❖ This Can Be Used Let's Say in E-Commerce Where the Customer Sets some Items Those Items Get Stored in Variables Which Adds to the Order Buying Link; Something Like This: "
   ]
  },
  {
   "cell_type": "raw",
   "metadata": {},
   "source": [
    "location.href = order.php?ramid=1&cpu=4&gpu=2000"
   ]
  },
  {
   "cell_type": "markdown",
   "metadata": {},
   "source": [
    "❖ You Can Use the **`Href`** to Go to a Specific Part of the Page"
   ]
  },
  {
   "cell_type": "code",
   "execution_count": null,
   "metadata": {
    "vscode": {
     "languageId": "html"
    }
   },
   "outputs": [],
   "source": [
    "<!DOCTYPE html>\n",
    "<html lang=\"en\">\n",
    "<head>\n",
    "    <meta charset=\"UTF-8\">\n",
    "    <meta name=\"viewport\" content=\"width=device-width, initial-scale=1.0\">\n",
    "    <title>Javascript</title>\n",
    "    <style>\n",
    "        div {\n",
    "            height: 500px;\n",
    "        }\n",
    "    </style>\n",
    "</head>\n",
    "<body>\n",
    "    <a href=\"#osama\">Click</a>\n",
    "    <div>This Is Div</div>\n",
    "    <div>This Is Div</div>\n",
    "    <div id=\"osama\">This Is Div 3</div>\n",
    "\n",
    "<script src=\"main.js\"></script>\n",
    "</body>\n",
    "</html>"
   ]
  },
  {
   "cell_type": "markdown",
   "metadata": {},
   "source": [
    "❖ Now when You Click the Href `Click` It Will Take You to the Div Id `Osama`\n",
    "\n",
    "❖ It Can Also Be Used to Open Protocol Such As [FTP, Mail, File Transfer]"
   ]
  },
  {
   "cell_type": "markdown",
   "metadata": {},
   "source": [
    ":: __`Location Properties - Host, Hash`__ ::\n",
    "\n",
    "❖ If You Type in the Console Log:"
   ]
  },
  {
   "cell_type": "code",
   "execution_count": null,
   "metadata": {
    "vscode": {
     "languageId": "javascript"
    }
   },
   "outputs": [],
   "source": [
    "location.host"
   ]
  },
  {
   "cell_type": "markdown",
   "metadata": {},
   "source": [
    "❖ It Will Give You the Host of the Page of the Page You're Opening, It's Like the Localhost, and This Is Useful if We Have a New Domain and We Want to Keep the Links All the Same but the Hostname.\n",
    "\n",
    "❖ The **`Hash`** Is the **`#osama`** We Put Earlier and It's Useful in some Cases Where We Want to Check if the Link Contains a Certain Hash that Means There Will Be a Special Offer Who Came From This Hash Link and We Can Check that in Javascript Using if Statement"
   ]
  },
  {
   "cell_type": "code",
   "execution_count": null,
   "metadata": {
    "vscode": {
     "languageId": "javascript"
    }
   },
   "outputs": [],
   "source": [
    "if (window.location.hash.indexOf('osama') > -1) {\n",
    "    // Some Code Will Execute\n",
    "};"
   ]
  },
  {
   "cell_type": "markdown",
   "metadata": {},
   "source": [
    "**`indexOf`** => Means to Check if the Word in the Parenthesis Exist or Not\n",
    "\n",
    "**`-1`** => Means False or the Word Doesn't Exist\n",
    "\n",
    "**`> -1`** => Means True or the Word Does Exist\n",
    "\n",
    "❖ So in Other Words We're Saying Check if the Word Osama Exists if It Does, That Means This Visitor Came by Osama so We Should Pop Him the Offer or Deal Specially Fo Osama Customers. "
   ]
  },
  {
   "cell_type": "markdown",
   "metadata": {},
   "source": [
    ":: __`Location Properties - Protocol, Search, Pathname`__ ::\n",
    "\n",
    "❖ If You Go to Any Website and Type in the Console Log:"
   ]
  },
  {
   "cell_type": "code",
   "execution_count": null,
   "metadata": {
    "vscode": {
     "languageId": "javascript"
    }
   },
   "outputs": [],
   "source": [
    "location.protocol\n",
    "// \"https:\""
   ]
  },
  {
   "cell_type": "markdown",
   "metadata": {},
   "source": [
    "❖ You Can Set the Protocol to Send an Email Using the Default Mail Client"
   ]
  },
  {
   "cell_type": "code",
   "execution_count": null,
   "metadata": {
    "vscode": {
     "languageId": "javascript"
    }
   },
   "outputs": [],
   "source": [
    "location.protocol = \"mailto\""
   ]
  },
  {
   "cell_type": "markdown",
   "metadata": {},
   "source": [
    "❖ The Location Search or **`location.search`** Is the **`Query String`** Used when You Search Something on Amazon for Example"
   ]
  },
  {
   "cell_type": "code",
   "execution_count": null,
   "metadata": {
    "vscode": {
     "languageId": "javascript"
    }
   },
   "outputs": [],
   "source": [
    "// Searching for Perfume on Amazon\n",
    "// The Original Link => https://www.amazon.com/s?k=perfume&crid=35L55M7PUFUDI&sprefix=perfum%2Caps%2C263&ref=nb_sb_noss_2\n",
    "location.search  // In the Console Log\n",
    "// \"?k=perfume&crid=35L55M7PUFUDI&sprefix=perfum%2Caps%2C263&ref=nb_sb_noss_2\"\n",
    "\n",
    "\n",
    "location.pathname // In the Console Log\n",
    "// \"/s\""
   ]
  },
  {
   "cell_type": "markdown",
   "metadata": {},
   "source": [
    ":: __`Location Methods - Reload, Replace, Assign`__ ::"
   ]
  },
  {
   "cell_type": "code",
   "execution_count": null,
   "metadata": {
    "vscode": {
     "languageId": "javascript"
    }
   },
   "outputs": [],
   "source": [
    "location.assign('https://www.google.com')"
   ]
  },
  {
   "cell_type": "markdown",
   "metadata": {},
   "source": [
    "❖ Transfer You to google.com and Put that in the History. "
   ]
  },
  {
   "cell_type": "code",
   "execution_count": null,
   "metadata": {
    "vscode": {
     "languageId": "javascript"
    }
   },
   "outputs": [],
   "source": [
    "location.replace('https://www.google.com')"
   ]
  },
  {
   "cell_type": "markdown",
   "metadata": {},
   "source": [
    "❖ Transfer You to google.com and Replace Google with the Current Open Link in the History. "
   ]
  },
  {
   "cell_type": "code",
   "execution_count": null,
   "metadata": {
    "vscode": {
     "languageId": "javascript"
    }
   },
   "outputs": [],
   "source": [
    "location.reload();"
   ]
  },
  {
   "cell_type": "markdown",
   "metadata": {},
   "source": [
    "❖ Reloads the Current Open Link.\n",
    "\n",
    "❖ It's Default Value Is False \n",
    "\n",
    "❖ When You Reload a Webpage There's a **`Normal Reload`** Which Uses Caching on the Client Side for some Files so the Page Will Be Faster to Reload\n",
    "\n",
    "↪ There's **`Hard Reload`** Which Happens on the Server Side and Uses the Server Caching for the Reload Process. \n",
    "\n",
    "↪ Normal Reload => **`location.reload(false)`** While Hard Reload => **`location.reload(true)`**"
   ]
  },
  {
   "cell_type": "markdown",
   "metadata": {},
   "source": [
    ":: __`History Methods - Back, Forward, Go`__ ::"
   ]
  },
  {
   "cell_type": "code",
   "execution_count": null,
   "metadata": {
    "vscode": {
     "languageId": "javascript"
    }
   },
   "outputs": [],
   "source": [
    "history.back();"
   ]
  },
  {
   "cell_type": "markdown",
   "metadata": {},
   "source": [
    "❖ Like You Hit Back in the Browser; Gets You Back in History One Step"
   ]
  },
  {
   "cell_type": "code",
   "execution_count": null,
   "metadata": {
    "vscode": {
     "languageId": "javascript"
    }
   },
   "outputs": [],
   "source": [
    "history.forward();"
   ]
  },
  {
   "cell_type": "markdown",
   "metadata": {},
   "source": [
    "❖ The Opposite of Back"
   ]
  },
  {
   "cell_type": "code",
   "execution_count": null,
   "metadata": {
    "vscode": {
     "languageId": "javascript"
    }
   },
   "outputs": [],
   "source": [
    "history.go(-2);\n",
    "// go back 2 steps in the history\n",
    "\n",
    "history.go(+2);\n",
    "// go forward 2 steps in the history\n"
   ]
  },
  {
   "cell_type": "markdown",
   "metadata": {},
   "source": [
    "You Can Include This in the Html Like This: "
   ]
  },
  {
   "cell_type": "code",
   "execution_count": null,
   "metadata": {
    "vscode": {
     "languageId": "html"
    }
   },
   "outputs": [],
   "source": [
    "<!DOCTYPE html>\n",
    "<html lang=\"en\">\n",
    "<head>\n",
    "    <meta charset=\"UTF-8\">\n",
    "    <meta name=\"viewport\" content=\"width=device-width, initial-scale=1.0\">\n",
    "    <title>Javascript</title>\n",
    "</head>\n",
    "<body>\n",
    "   <a href=\"javascript:history.go(-1);\">Back</a>\n",
    "\n",
    "<script src=\"main.js\"></script>\n",
    "</body>\n",
    "</html>"
   ]
  },
  {
   "cell_type": "markdown",
   "metadata": {},
   "source": [
    ":: __`Window Navigator Properties`__ ::"
   ]
  },
  {
   "cell_type": "code",
   "execution_count": null,
   "metadata": {
    "vscode": {
     "languageId": "javascript"
    }
   },
   "outputs": [],
   "source": [
    "console.log(navigator.appCodeName);\n",
    "// [Log] Mozilla\n",
    "console.log(navigator.appName);\n",
    "// [Log] Netscape \n",
    "console.log(navigator.appVersion);\n",
    "// [Log] 5.0 (Macintosh; Intel Mac OS X 10_15_7) AppleWebKit/605.1.15 (KHTML, like Gecko) Version/17.2.1 Safari/605.1.15 \n",
    "console.log(navigator.platform);\n",
    "// [Log] MacIntel \n",
    "console.log(navigator.cookieEnabled);\n",
    "// [Log] true \n",
    "console.log(navigator.language);\n",
    "// [Log] en-GB \n",
    "console.log(navigator.onLine);\n",
    "// [Log] true \n",
    "console.log(navigator.product);\n",
    "// [Log] Gecko "
   ]
  },
  {
   "cell_type": "markdown",
   "metadata": {},
   "source": [
    "❖ The Most Used One Is to Check if Cookies Is Enabled or Not"
   ]
  },
  {
   "cell_type": "markdown",
   "metadata": {},
   "source": [
    ":: __`Window Screen Properties`__ ::"
   ]
  },
  {
   "cell_type": "code",
   "execution_count": null,
   "metadata": {
    "vscode": {
     "languageId": "javascript"
    }
   },
   "outputs": [],
   "source": [
    "console.log('Screen Width is: ' + screen.width);\n",
    "// [Log] Screen Width is: 1680 \n",
    "console.log('Screen Height is: ' + screen.height);\n",
    "// [Log] Screen Height is: 1050 \n",
    "console.log('Screen Available Width is: ' + screen.availWidth);\n",
    "// Avaliable Width Means the Screen without the Dock if It's on the Right or Left Side of the Screen\n",
    "// [Log] Screen Available Width is: 1680 \n",
    "console.log('Screen Available Height is: ' + screen.availHeight);\n",
    "// Avaliable Height Means the Screen without the Top Menubar on the Mac And the Dock on the Buttom\n",
    "// [Log] Screen Available Height is: 953 \n",
    "console.log('Screen Color Depth is: ' + screen.pixelDepth);\n",
    "// [Log] Screen Color Depth is: 24 "
   ]
  },
  {
   "cell_type": "markdown",
   "metadata": {},
   "source": [
    ":: __`Cookies Part 1`__ ::"
   ]
  },
  {
   "cell_type": "markdown",
   "metadata": {},
   "source": [
    "❖ Cookies Are Your Personal Preference for the Website Settings Like the Color, the language,..etc"
   ]
  },
  {
   "cell_type": "code",
   "execution_count": null,
   "metadata": {
    "vscode": {
     "languageId": "javascript"
    }
   },
   "outputs": [],
   "source": [
    "document.cookie;\n",
    "// \"SIDCC=AKEyXzX3erJg2s0vzOgeM61oq9tOkQXtCSNDf-IH4wgjdN2iMSAqxp5TEYz0kwDoTsEZ1zLUk5EY; 1P_JAR=2024-04-30-02; SEARCH_SAMESITE=CgQIg5sB; APISID=1BdDT5Cpg_YTIEgZ/AmnLCh4dG3AfAe3uZ; SAPISID=ddju61_CKTZGfvSc/AMBmALXycKFbWX68k; SID=g.a000iAiDRvXEoFZW5ZAAoZf1QgznBjY3johxazJKYbQkAgmAj1gsiezMjoJEToiKOS10VVNP9AACgYKAU0SAQASFQHGX2MiaAYax_UbZrh-ST46qQP0LRoVAUF8yKozdhBLbA6xX-okGYdNB62L0076; __Secure-1PAPISID=ddju61_CKTZGfvSc/AMBmALXycKFbWX68k; __Secure-3PAPISID=ddju61_CKTZGfvSc/AMBmALXycKFbWX68k\""
   ]
  },
  {
   "cell_type": "markdown",
   "metadata": {},
   "source": [
    "❖ To Make a New Cookie Here's the Syntax: \n",
    "\n",
    "> document.cookie(\"name=value; expires=Date; path=the_path\")"
   ]
  },
  {
   "cell_type": "code",
   "execution_count": null,
   "metadata": {
    "vscode": {
     "languageId": "javascript"
    }
   },
   "outputs": [],
   "source": [
    "document.cookie = \"favColor=#F00\";\n",
    "document.cookie;\n",
    "// \"favColor=#F00\""
   ]
  },
  {
   "cell_type": "markdown",
   "metadata": {},
   "source": [
    ":: __`Cookies Part 2`__ ::\n",
    "\n",
    "❖ If We Didn't Specify the Expiration Date for the Cookie, the Default Behaviour Is that It Will Close when the Browsing Session Ends\n",
    "\n",
    "❖ **`path=/`** Means that the Cookie Is Active on the Website and Sub Links Like /Home, /Contact Us, ..etc\n",
    "\n",
    "❖ There's a Script that Simplifies Dealing with Cookies Called **`cookie.js`** You Can Find It in the Following Link: \n",
    "\n",
    "[Github Florian](https://github.com/florian/cookie.js?files=1)"
   ]
  }
 ],
 "metadata": {
  "language_info": {
   "name": "python"
  }
 },
 "nbformat": 4,
 "nbformat_minor": 2
}
