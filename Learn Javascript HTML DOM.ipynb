{
 "cells": [
  {
   "cell_type": "markdown",
   "metadata": {},
   "source": [
    "__`DOM`__ Stands for Document Object Model\n",
    "\n",
    "__Whats is DOM?__ \n",
    "\n",
    "DOM is a Programming Interface For HTML, XML\n",
    "\n",
    ":: __`DOM Tree`__ ::\n",
    "\n",
    "![Dom Tree](https://i.imgur.com/DFByLZE.jpeg)"
   ]
  },
  {
   "cell_type": "markdown",
   "metadata": {},
   "source": [
    ":: __`Example`__ :: \n",
    "\n",
    "Creating a Paragraph Element Using Js DOM"
   ]
  },
  {
   "cell_type": "code",
   "execution_count": null,
   "metadata": {
    "vscode": {
     "languageId": "javascript"
    }
   },
   "outputs": [],
   "source": [
    "// main.js\n",
    "var myP = document.createElement('p'), \n",
    "    myPText = document.createTextNode('This Paragraph Created with Javascript');\n",
    "    \n",
    "myP.appendChild(myPText); \n",
    "\n",
    "document.body.appendChild(myP);"
   ]
  },
  {
   "cell_type": "code",
   "execution_count": null,
   "metadata": {
    "vscode": {
     "languageId": "html"
    }
   },
   "outputs": [],
   "source": [
    "<!-- index.html -->\n",
    "<!DOCTYPE html>\n",
    "<html lang=\"en\">\n",
    "<head>\n",
    "    <meta charset=\"UTF-8\">\n",
    "    <meta name=\"viewport\" content=\"width=device-width, initial-scale=1.0\">\n",
    "    <title>Index</title>\n",
    "</head>\n",
    "<body>\n",
    "    <script src=\"main.js\"></script>\n",
    "</body>\n",
    "</html>"
   ]
  },
  {
   "cell_type": "markdown",
   "metadata": {},
   "source": [
    "This Will Create the Text `This Paragraph Created with Javascript` in the Html File\n",
    "\n",
    ":: __`Find DOM Elements [ID, Class, Tag]`__ ::\n",
    "\n",
    "`[1]` - `document.getElementByID()` => Imagine you have a bunch of boxes in a room, each with a unique nametag. `document.getElementById()` is like saying \"Hey, find me the box with the nametag that says [name]!\" in JavaScript. It lets you grab a specific element on a webpage by its unique ID, super quick and easy!\n",
    "\n",
    "❖ Remember, just like nametags have to be unique, element IDs in a webpage should be unique too.\n",
    "\n",
    "⟶ Let's Change a Text in the Html File to Something Else Using Js.\n"
   ]
  },
  {
   "cell_type": "code",
   "execution_count": null,
   "metadata": {
    "vscode": {
     "languageId": "html"
    }
   },
   "outputs": [],
   "source": [
    "<!-- index.html -->\n",
    "<!DOCTYPE html>\n",
    "<html lang=\"en\">\n",
    "<head>\n",
    "    <meta charset=\"UTF-8\">\n",
    "    <meta name=\"viewport\" content=\"width=device-width, initial-scale=1.0\">\n",
    "    <title>Index</title>\n",
    "</head>\n",
    "<body>\n",
    "    <div id=\"test\">Hello</div>\n",
    "    <script src=\"main.js\"></script>\n",
    "</body>\n",
    "</html>"
   ]
  },
  {
   "cell_type": "code",
   "execution_count": null,
   "metadata": {
    "vscode": {
     "languageId": "javascript"
    }
   },
   "outputs": [],
   "source": [
    "// main.js\n",
    "var myDiv = document.getElementById('test'); \n",
    "myDiv.innerHTML = 'Changed by Javascript';"
   ]
  },
  {
   "cell_type": "markdown",
   "metadata": {},
   "source": [
    "This Will Change the Test `Hello` to `Changed by Javascript`"
   ]
  },
  {
   "cell_type": "markdown",
   "metadata": {},
   "source": [
    "`[2]` - `document.getElementsByTagName()` => Imagine you have a bunch of boxes in a room, all the same type (like shoeboxes). `document.getElementsByTagName()` is like saying \"Hey, find me all the shoeboxes in the room!\" in JavaScript. It lets you grab a collection of elements on a webpage with the same tag name, like all the `<h1>` tags or all the `<p>` tags.\n",
    "\n",
    "❖ It's not as specific as `getElementById()`, but it's handy when you want to work with a group of similar elements. Just remember, you might need to loop through the collection to access each element individually.\n",
    "\n",
    "❖ Let's Get the Number of Divs in Our Page Using Js"
   ]
  },
  {
   "cell_type": "code",
   "execution_count": null,
   "metadata": {
    "vscode": {
     "languageId": "html"
    }
   },
   "outputs": [],
   "source": [
    "<!-- index.html -->\n",
    "<!DOCTYPE html>\n",
    "<html lang=\"en\">\n",
    "<head>\n",
    "    <meta charset=\"UTF-8\">\n",
    "    <meta name=\"viewport\" content=\"width=device-width, initial-scale=1.0\">\n",
    "    <title>Index</title>\n",
    "</head>\n",
    "<body>\n",
    "    <div id=\"test\">Hello</div>\n",
    "    <div id=\"test2\">Hello</div>\n",
    "    <p>This is P</p>\n",
    "    <p>This is P</p>\n",
    "    <script src=\"main.js\"></script>\n",
    "</body>\n",
    "</html>"
   ]
  },
  {
   "cell_type": "code",
   "execution_count": null,
   "metadata": {
    "vscode": {
     "languageId": "javascript"
    }
   },
   "outputs": [],
   "source": [
    "// main.js\n",
    "var myElement = document.getElementsByTagName('div'); \n",
    "console.log(myElement.length);\n",
    "// show the number of elements who's name is `div`\n",
    "// output: 2"
   ]
  },
  {
   "cell_type": "markdown",
   "metadata": {},
   "source": [
    "We Can Use Indexing with the Element to Change the Text for Example"
   ]
  },
  {
   "cell_type": "code",
   "execution_count": null,
   "metadata": {
    "vscode": {
     "languageId": "html"
    }
   },
   "outputs": [],
   "source": [
    "<!DOCTYPE html>\n",
    "<html lang=\"en\">\n",
    "<head>\n",
    "    <meta charset=\"UTF-8\">\n",
    "    <meta name=\"viewport\" content=\"width=device-width, initial-scale=1.0\">\n",
    "    <title>Index</title>\n",
    "</head>\n",
    "<body>\n",
    "    <div id=\"test\">Hello</div>\n",
    "    <div id=\"test2\">Hello</div>\n",
    "    <p>This is P</p>\n",
    "    <p>This is P</p>\n",
    "    <script src=\"main.js\"></script>\n",
    "</body>\n",
    "</html>"
   ]
  },
  {
   "cell_type": "code",
   "execution_count": null,
   "metadata": {
    "vscode": {
     "languageId": "javascript"
    }
   },
   "outputs": [],
   "source": [
    "var myElement = document.getElementsByTagName('div'); \n",
    "myElement[1].innerHTML = 'Changed by Javascript'\n",
    "// change the secend `div` text to `Changed by Javascript`"
   ]
  },
  {
   "cell_type": "markdown",
   "metadata": {},
   "source": [
    "`[3]` - `document.getElementsByClassName()` => Finds all HTML elements within a document (or a specified element) that have a specific class name.\n",
    "\n",
    "❖ Returns An array-like collection (called an HTMLCollection) containing the matching elements.\n",
    "\n",
    "❖ Not Compatible with IE 8"
   ]
  },
  {
   "cell_type": "code",
   "execution_count": null,
   "metadata": {
    "vscode": {
     "languageId": "html"
    }
   },
   "outputs": [],
   "source": [
    "<!DOCTYPE html>\n",
    "<html lang=\"en\">\n",
    "<head>\n",
    "    <meta charset=\"UTF-8\">\n",
    "    <meta name=\"viewport\" content=\"width=device-width, initial-scale=1.0\">\n",
    "    <title>Index</title>\n",
    "</head>\n",
    "<body>\n",
    "    <div class=\"test\">Hello</div>\n",
    "    <div class=\"test\">Hello</div>\n",
    "    <p class=\"test\">This is P</p>\n",
    "    <p>This is P</p>\n",
    "    <script src=\"main.js\"></script>\n",
    "</body>\n",
    "</html>"
   ]
  },
  {
   "cell_type": "code",
   "execution_count": null,
   "metadata": {
    "vscode": {
     "languageId": "javascript"
    }
   },
   "outputs": [],
   "source": [
    "var myElement = document.getElementsByClassName('test'); \n",
    "myElement[0].innerHTML = 'Changed by Javascript'\n",
    "// change the first class with the name `test` text to `Changed by Javascript`\n",
    "console.log(myElement.length);\n",
    "// 3"
   ]
  },
  {
   "cell_type": "markdown",
   "metadata": {},
   "source": [
    "`[4]` - `document.querySelectorAll()` => Finds all elements in the HTML document (or a specific element) that match a given CSS selector (similar to how you style elements with CSS).\n",
    "\n",
    "❖ Returns a list of matching elements, but unlike `getElementsByClassName()`, it's not a live list, meaning changes to the DOM won't automatically update it.\n",
    "\n",
    "❖ More powerful than `getElementsByClassName()` as it allows you to select elements based on various criteria, like ID, attributes, tag names, etc.\n",
    "\n",
    "❖ Easier to navigate and manipulate the selected elements directly.\n",
    "\n",
    "❖ Use `querySelectorAll()` when you need more flexibility and precision in selecting elements based on various criteria.\n",
    "\n",
    "❖ Not Compatible with IE 8"
   ]
  },
  {
   "cell_type": "code",
   "execution_count": null,
   "metadata": {
    "vscode": {
     "languageId": "html"
    }
   },
   "outputs": [],
   "source": [
    "<!DOCTYPE html>\n",
    "<html lang=\"en\">\n",
    "<head>\n",
    "    <meta charset=\"UTF-8\">\n",
    "    <meta name=\"viewport\" content=\"width=device-width, initial-scale=1.0\">\n",
    "    <title>Index</title>\n",
    "</head>\n",
    "<body>\n",
    "    <div class=\"test\">Hello</div>\n",
    "    <div class=\"test\">Hello</div>\n",
    "    <p class=\"test\">This is P</p>\n",
    "    <p>This is P</p>\n",
    "    <script src=\"main.js\"></script>\n",
    "</body>\n",
    "</html>"
   ]
  },
  {
   "cell_type": "code",
   "execution_count": null,
   "metadata": {
    "vscode": {
     "languageId": "javascript"
    }
   },
   "outputs": [],
   "source": [
    "var myElement = document.querySelectorAll('p.test'); \n",
    "myElement[0].innerHTML = 'Changed by Javascript'\n",
    "// change the first paragraph query with the name `test` text to `Changed by Javascript`"
   ]
  },
  {
   "cell_type": "markdown",
   "metadata": {},
   "source": [
    ":: __`Find Elements by Objects Part 1`__ ::\n",
    "\n",
    ":: __`document.title`__ ::"
   ]
  },
  {
   "cell_type": "code",
   "execution_count": null,
   "metadata": {
    "vscode": {
     "languageId": "html"
    }
   },
   "outputs": [],
   "source": [
    "<!DOCTYPE html>\n",
    "<html lang=\"en\">\n",
    "<head>\n",
    "    <meta charset=\"UTF-8\">\n",
    "    <meta name=\"viewport\" content=\"width=device-width, initial-scale=1.0\">\n",
    "    <title>Javascript => Find Elements By Object Collection</title>\n",
    "</head>\n",
    "<body>\n",
    "    <div id=\"show\"></div>\n",
    "    <script src=\"main.js\"></script>\n",
    "</body>\n",
    "</html>"
   ]
  },
  {
   "cell_type": "code",
   "execution_count": null,
   "metadata": {
    "vscode": {
     "languageId": "javascript"
    }
   },
   "outputs": [],
   "source": [
    "var myDiv = document.getElementById('show')\n",
    "\n",
    "myDiv.innerHTML = document.title;"
   ]
  },
  {
   "cell_type": "markdown",
   "metadata": {},
   "source": [
    ":: __`document.images`__ ::"
   ]
  },
  {
   "cell_type": "code",
   "execution_count": null,
   "metadata": {
    "vscode": {
     "languageId": "html"
    }
   },
   "outputs": [],
   "source": [
    "<!DOCTYPE html>\n",
    "<html lang=\"en\">\n",
    "<head>\n",
    "    <meta charset=\"UTF-8\">\n",
    "    <meta name=\"viewport\" content=\"width=device-width, initial-scale=1.0\">\n",
    "    <title>Javascript => Find Elements By Object Collection</title>\n",
    "</head>\n",
    "<body>\n",
    "    <div id=\"show\"></div>\n",
    "    <img src=\"http://placehold.it/100/100\">\n",
    "    <img src=\"http://placehold.it/200/DDD\">\n",
    "    <img src=\"http://placehold.it/100/EEE\">\n",
    "    <img src=\"http://placehold.it/200/CCC\">\n",
    "    <script src=\"main.js\"></script>\n",
    "</body>\n",
    "</html>"
   ]
  },
  {
   "cell_type": "code",
   "execution_count": null,
   "metadata": {
    "vscode": {
     "languageId": "javascript"
    }
   },
   "outputs": [],
   "source": [
    "var myDiv = document.getElementById('show')\n",
    "\n",
    "myDiv.innerHTML = document.images.length;\n",
    "// Show the Number of Images "
   ]
  },
  {
   "cell_type": "markdown",
   "metadata": {},
   "source": [
    "We Can Also Get the Src of One of the Images"
   ]
  },
  {
   "cell_type": "code",
   "execution_count": null,
   "metadata": {
    "vscode": {
     "languageId": "javascript"
    }
   },
   "outputs": [],
   "source": [
    "var myDiv = document.getElementById('show')\n",
    "\n",
    "myDiv.innerHTML = document.images[0].src;\n",
    "// Show the Src of the First Images "
   ]
  },
  {
   "cell_type": "markdown",
   "metadata": {},
   "source": [
    "Now We Want to Combine the Two Commands to Show the Number of Images and the Src of the First Img, How Can We Do that ? "
   ]
  },
  {
   "cell_type": "code",
   "execution_count": null,
   "metadata": {
    "vscode": {
     "languageId": "javascript"
    }
   },
   "outputs": [],
   "source": [
    "var myDiv = document.getElementById('show')\n",
    "\n",
    "myDiv.innerHTML = \"Number of images: \" + document.images.length + \"<br>First image source: \" + (document.images.length > 0 ? document.images[0].src : \"No images\");\n",
    "// Combine the Two Commands"
   ]
  },
  {
   "cell_type": "markdown",
   "metadata": {},
   "source": [
    "you will get something like this: \n",
    "\n",
    "![Combine Two Commands](https://i.imgur.com/yzaaPpg.png) "
   ]
  },
  {
   "cell_type": "markdown",
   "metadata": {},
   "source": [
    "1. `\"Number of images: \" + document.images.length` - This part concatenates the text \"Number of images: \" with the total number of images in the document.\n",
    "\n",
    "2. `\"<br>\"` - Adds a line break to separate the two pieces of information.\n",
    "\n",
    "3. `\"First image source: \" + (document.images.length > 0 ? document.images[0].src : \"No images\")` - This part checks if there are any images in the document. If there are (`document.images.length > 0`), it concatenates the source URL of the first image (`document.images[0].src`). If there are no images, it displays \"No images\".\n",
    "\n",
    "The line `(document.images.length > 0 ? document.images[0].src : \"No images\")` is using what's known as the ternary operator, which is a shorthand way of writing an `if-else` statement in many programming languages, including JavaScript. The ternary operator is often used for simple conditional assignments.\n",
    "\n",
    "The ternary operator consists of three parts:\n",
    "\n",
    "1. **Condition**: `(document.images.length > 0)`\n",
    "\n",
    "2. **First Expression (if the condition is true)**: `document.images[0].src`\n",
    "\n",
    "3. **Second Expression (if the condition is false)**: `\"No images\"`\n",
    "\n",
    "\n",
    "The syntax is: `condition ? expression_if_true : expression_if_false`\n",
    "\n",
    "Here's how it works in our case:\n",
    "\n",
    "- **Condition**: `document.images.length > 0` checks if there is at least one image in the document. If there is, this condition evaluates to `true`.\n",
    "\n",
    "- **First Expression**: If the condition is `true` (meaning there are one or more images), the expression `document.images[0].src` is evaluated and its result is used. This expression gets the source URL (`src`) of the first image (`document.images[0]`).\n",
    "\n",
    "- **Second Expression**: If the condition is `false` (meaning there are no images), the string `\"No images\"` is used.\n",
    "\n",
    "\n",
    "So, in a more traditional `if-else` statement, this would look like:"
   ]
  },
  {
   "cell_type": "code",
   "execution_count": null,
   "metadata": {
    "vscode": {
     "languageId": "javascript"
    }
   },
   "outputs": [],
   "source": [
    "let imageSrc;\n",
    "if (document.images.length > 0) {\n",
    "    imageSrc = document.images[0].src;\n",
    "} else {\n",
    "    imageSrc = \"No images\";\n",
    "}"
   ]
  },
  {
   "cell_type": "markdown",
   "metadata": {},
   "source": [
    "The ternary operator provides a more concise way to write this, especially when you're just assigning a value based on a condition."
   ]
  },
  {
   "cell_type": "markdown",
   "metadata": {},
   "source": [
    ":: __`Note`__ :: We Can Also Use the for Loop to Show Every Image Src"
   ]
  },
  {
   "cell_type": "code",
   "execution_count": null,
   "metadata": {
    "vscode": {
     "languageId": "javascript"
    }
   },
   "outputs": [],
   "source": [
    "var myDiv = document.getElementById('show'), \n",
    "    i; \n",
    "\n",
    "    document.write('<br>'); \n",
    "    for (i = 0; i < document.images.length; i = i +1) {\n",
    "\n",
    "    document.write(document.images[1].src + '<br>');\n",
    "}"
   ]
  },
  {
   "cell_type": "markdown",
   "metadata": {},
   "source": [
    ":: __`document.forms`__ ::"
   ]
  },
  {
   "cell_type": "code",
   "execution_count": null,
   "metadata": {
    "vscode": {
     "languageId": "html"
    }
   },
   "outputs": [],
   "source": [
    "<!DOCTYPE html>\n",
    "<html lang=\"en\">\n",
    "<head>\n",
    "    <meta charset=\"UTF-8\">\n",
    "    <meta name=\"viewport\" content=\"width=device-width, initial-scale=1.0\">\n",
    "    <title>Javascript => Find Elements By Object Collection</title>\n",
    "</head>\n",
    "<body>\n",
    "    <div id=\"show\"></div>\n",
    "    <form>\n",
    "        <input type=\"text\" name=\"x1\" value=\"Hello\"> \n",
    "        <input type=\"text\" name=\"x2\" value=\"World\"> \n",
    "    </form>\n",
    "    <form>\n",
    "        <input type=\"text\" name=\"z1\" value=\"Lorem\"> \n",
    "        <input type=\"text\" name=\"z2\" value=\"Ipsum\"> \n",
    "    </form>\n",
    "    <script src=\"main.js\"></script>\n",
    "    \n",
    "</body>\n",
    "</html>"
   ]
  },
  {
   "cell_type": "code",
   "execution_count": null,
   "metadata": {
    "vscode": {
     "languageId": "javascript"
    }
   },
   "outputs": [],
   "source": [
    "var myDiv = document.getElementById('show');\n",
    "\n",
    "myDiv.innerText = document.forms.length + \" \" + document.forms[0].x2.value;  "
   ]
  },
  {
   "cell_type": "markdown",
   "metadata": {},
   "source": [
    "The Output Will Be Like This: \n",
    "\n",
    "![forms](https://i.imgur.com/NWNX6w3.png)"
   ]
  },
  {
   "cell_type": "markdown",
   "metadata": {},
   "source": [
    ":: __`Find Elements by Objects Part 2`__ ::\n",
    "\n",
    ":: __`document.body`__ ::\n"
   ]
  },
  {
   "cell_type": "code",
   "execution_count": null,
   "metadata": {
    "vscode": {
     "languageId": "html"
    }
   },
   "outputs": [],
   "source": [
    "<!DOCTYPE html>\n",
    "<html lang=\"en\">\n",
    "<head>\n",
    "    <meta charset=\"UTF-8\">\n",
    "    <meta name=\"viewport\" content=\"width=device-width, initial-scale=1.0\">\n",
    "    <title>Javascript => Find Elements By Object Collection</title>\n",
    "</head>\n",
    "<body>\n",
    "    <div id=\"show\">xZerox</div>\n",
    "    <script src=\"main.js\"></script>\n",
    "    \n",
    "</body>\n",
    "</html>"
   ]
  },
  {
   "cell_type": "code",
   "execution_count": null,
   "metadata": {
    "vscode": {
     "languageId": "javascript"
    }
   },
   "outputs": [],
   "source": [
    "var myDiv = document.getElementById('show');\n",
    "\n",
    "myDiv.innerText = document.body.innerText; \n",
    "if (document.body.innerText.indexOf('Zerox') > -1) {\n",
    "\n",
    "    console.log('Yes This String Does Exist')\n",
    "}; "
   ]
  },
  {
   "cell_type": "markdown",
   "metadata": {},
   "source": [
    ":: __`document.links`__ ::"
   ]
  },
  {
   "cell_type": "code",
   "execution_count": null,
   "metadata": {
    "vscode": {
     "languageId": "html"
    }
   },
   "outputs": [],
   "source": [
    "<!DOCTYPE html>\n",
    "<html lang=\"en\">\n",
    "<head>\n",
    "    <meta charset=\"UTF-8\">\n",
    "    <meta name=\"viewport\" content=\"width=device-width, initial-scale=1.0\">\n",
    "    <title>Javascript => Find Elements By Object Collection</title>\n",
    "</head>\n",
    "<body>\n",
    "    <div id=\"show\"></div>\n",
    "    <a href=\"#\">Google</a>\n",
    "    <a href=\"#\">Facebook</a>\n",
    "    <a href=\"#\">Elzeero</a>\n",
    "    <script src=\"main.js\"></script>\n",
    "    \n",
    "</body>\n",
    "</html>"
   ]
  },
  {
   "cell_type": "code",
   "execution_count": null,
   "metadata": {
    "vscode": {
     "languageId": "javascript"
    }
   },
   "outputs": [],
   "source": [
    "var myDiv = document.getElementById('show');\n",
    "\n",
    "myDiv.innerText = document.links.length; "
   ]
  },
  {
   "cell_type": "markdown",
   "metadata": {},
   "source": [
    ":: __`Javascript => Get/Set Node Element Content`__ ::\n",
    "\n",
    "❖ The Difference Between innerHTML and textContent: "
   ]
  },
  {
   "cell_type": "code",
   "execution_count": null,
   "metadata": {
    "vscode": {
     "languageId": "html"
    }
   },
   "outputs": [],
   "source": [
    "<!DOCTYPE html>\n",
    "<html lang=\"en\">\n",
    "<head>\n",
    "    <meta charset=\"UTF-8\">\n",
    "    <meta name=\"viewport\" content=\"width=device-width, initial-scale=1.0\">\n",
    "    <title>Javascript => Find Elements By Object Collection</title>\n",
    "</head>\n",
    "<body>\n",
    "    <div id=\"main\">\n",
    "        This is Main <span>Text</span>\n",
    "    </div>\n",
    "    <script src=\"main.js\"></script>\n",
    "    \n",
    "</body>\n",
    "</html>"
   ]
  },
  {
   "cell_type": "code",
   "execution_count": null,
   "metadata": {
    "vscode": {
     "languageId": "javascript"
    }
   },
   "outputs": [],
   "source": [
    "var myDiv = document.getElementById('main');\n",
    "\n",
    "console.log(myDiv.innerHTML);\n",
    "// This is Main <span>Text</span>\n",
    "\n",
    "console.log(myDiv.textContent);\n",
    "// This is Main Text\n",
    "\n",
    "myDiv.innerHTML = 'This is the new <span>Text</span>'; \n",
    "// Setting New Content\n",
    "\n",
    "console.log(myDiv.innerHTML);\n",
    "// This is the new <span>Text</span>"
   ]
  },
  {
   "cell_type": "markdown",
   "metadata": {},
   "source": [
    ":: __`Javascript -> Change Element Attribute Value`__ ::"
   ]
  },
  {
   "cell_type": "code",
   "execution_count": null,
   "metadata": {
    "vscode": {
     "languageId": "html"
    }
   },
   "outputs": [],
   "source": [
    "<!DOCTYPE html>\n",
    "<html lang=\"en\">\n",
    "<head>\n",
    "    <meta charset=\"UTF-8\">\n",
    "    <meta name=\"viewport\" content=\"width=device-width, initial-scale=1.0\">\n",
    "    <title>Javascript</title>\n",
    "</head>\n",
    "<body>\n",
    "    <div id=\"\" class=\"\">This is Div 1</div>\n",
    "    <!-- Empty Id and Class -->\n",
    "    <div id=\"\" class=\"\">This is Div 2</div>\n",
    "    <script src=\"main.js\"></script>\n",
    "    \n",
    "</body>\n",
    "</html>"
   ]
  },
  {
   "cell_type": "code",
   "execution_count": null,
   "metadata": {
    "vscode": {
     "languageId": "javascript"
    }
   },
   "outputs": [],
   "source": [
    "console.log(myDiv = document.querySelector('div'));\n",
    "// <div id=\"\" class=\"\">This is Div 1</div>\n",
    "\n",
    "myDiv.id = 'id-from-js'; \n",
    "// settign and id\n",
    "\n",
    "console.log(myDiv = document.querySelector('div'));\n",
    "// <div id=\"id-from-js\" class=\"\">This is Div 1</div>"
   ]
  },
  {
   "cell_type": "markdown",
   "metadata": {},
   "source": [
    "Now Let's Change the Class Name"
   ]
  },
  {
   "cell_type": "code",
   "execution_count": null,
   "metadata": {
    "vscode": {
     "languageId": "javascript"
    }
   },
   "outputs": [],
   "source": [
    "console.log(myDiv = document.querySelector('div'));\n",
    "// <div id=\"\" class=\"\">This is Div 1</div>\n",
    "\n",
    "myDiv.id = 'id-from-js'; \n",
    "// settign and id\n",
    "\n",
    "console.log(myDiv = document.querySelector('div'));\n",
    "// <div id=\"id-from-js\" class=\"\">This is Div 1</div>\n",
    "\n",
    "myDiv.className = 'className-from-Js'; \n",
    "// Settign the Class Name\n",
    "\n",
    "console.log(myDiv = document.querySelector('div'));\n",
    "// <div id=\"id-from-js\" class=\"className-from-Js\">This is Div 1</div>"
   ]
  },
  {
   "cell_type": "markdown",
   "metadata": {},
   "source": [
    "We Can Change All Kind of Attributes, Img Src, Alt, Title, .. Etc. These Are All Attributes that Can Be Changed Using the Following Syntax: \n",
    "\n",
    "> Element.Attribute \n",
    "\n",
    ":: __`Get Attribute and Set Attribute Functions`__ ::\n",
    "\n",
    "> getAttribute('Attribute Name')\n",
    "\n",
    "> setAttribute('Attribute Name', 'Attribute Value')"
   ]
  },
  {
   "cell_type": "code",
   "execution_count": null,
   "metadata": {
    "vscode": {
     "languageId": "html"
    }
   },
   "outputs": [],
   "source": [
    "<!DOCTYPE html>\n",
    "<html lang=\"en\">\n",
    "<head>\n",
    "    <meta charset=\"UTF-8\">\n",
    "    <meta name=\"viewport\" content=\"width=device-width, initial-scale=1.0\">\n",
    "    <title>Javascript</title>\n",
    "</head>\n",
    "<body>\n",
    "    <img src=\"\" alt=\"\">\n",
    "    <!-- Empty Img -->\n",
    "    <script src=\"main.js\"></script>\n",
    "    \n",
    "</body>\n",
    "</html>"
   ]
  },
  {
   "cell_type": "code",
   "execution_count": null,
   "metadata": {
    "vscode": {
     "languageId": "javascript"
    }
   },
   "outputs": [],
   "source": [
    "myImg = document.querySelector('img'); \n",
    "\n",
    "\n",
    "myImg.setAttribute('src', 'http://placehold.it/200/000'); \n",
    "// Setting the Src Attrib\n",
    "\n",
    "myImg.setAttribute('alt', 'random img'); \n",
    "// Setting the Alt Attrib\n",
    "\n",
    "myImg.setAttribute('title', 'img title'); \n",
    "// Setting a New Attrib that Doesn't Exist\n",
    "\n",
    "console.log(myImg.getAttribute('alt'));\n",
    "// random img\n",
    "console.log(myImg.getAttribute('src'));\n",
    "// http://placehold.it/200/000\n",
    "console.log(myImg.getAttribute('title'));\n",
    "// img title"
   ]
  },
  {
   "cell_type": "markdown",
   "metadata": {},
   "source": [
    "**Now What if We Want to Show All Attributes in the Console Log?**\n",
    "\n",
    "To print all attributes of an HTML element to the console in JavaScript, you can iterate over the attributes of the element using the `attributes` property. This property returns a live collection of all attributes registered to the element. Here's how you can do it:"
   ]
  },
  {
   "cell_type": "code",
   "execution_count": null,
   "metadata": {
    "vscode": {
     "languageId": "javascript"
    }
   },
   "outputs": [],
   "source": [
    "myImg = document.querySelector('img'); \n",
    "\n",
    "\n",
    "myImg.setAttribute('src', 'http://placehold.it/200/000'); \n",
    "// Setting the Src Attrib\n",
    "\n",
    "myImg.setAttribute('alt', 'random img'); \n",
    "// Setting the Alt Attrib\n",
    "\n",
    "myImg.setAttribute('title', 'img title'); \n",
    "// Setting a New Attrib that Doesn't Exist\n",
    "\n",
    "// Iterating over all attributes and printing them\n",
    "Array.from(myImg.attributes).forEach(attr => {\n",
    "    console.log(attr.name + \": \" + attr.value);\n",
    "});\n",
    "\n",
    "/*\n",
    "Output:\n",
    "src: http://placehold.it/200/000\n",
    "alt: random img\n",
    "title: img title\n",
    "*/"
   ]
  },
  {
   "cell_type": "markdown",
   "metadata": {},
   "source": [
    "In this code:\n",
    "\n",
    "❖ `myImg.attributes` gives you a collection of all the attributes of the `myImg` element.\n",
    "\n",
    "❖ `Array.from(myImg.attributes)` converts this collection into an array so that you can use array methods like `forEach`.\n",
    "\n",
    "❖ `.forEach(attr => { ... })` iterates over each attribute in the array.\n",
    "\n",
    "❖ Inside the `forEach`, `attr.name` and `attr.value` give you the name and value of each attribute, respectively, which are then logged to the console.\n",
    "\n",
    "\n",
    "This will print the name and value of every attribute that the `img` element has at the time this code runs."
   ]
  },
  {
   "cell_type": "markdown",
   "metadata": {},
   "source": [
    ":: __`hasAttribute() and removeAttribute()`__ ::\n",
    "\n",
    "**hasAttribute(attributeName)** ⟶ Checks if an element has a specific attribute, Returns: true if the attribute exists, false otherwise.\n",
    "\n",
    "**removeAttribute(attributeName)** ⟶ Removes a specific attribute from an element. "
   ]
  },
  {
   "cell_type": "code",
   "execution_count": null,
   "metadata": {
    "vscode": {
     "languageId": "html"
    }
   },
   "outputs": [],
   "source": [
    "<!DOCTYPE html>\n",
    "<html lang=\"en\">\n",
    "<head>\n",
    "    <meta charset=\"UTF-8\">\n",
    "    <meta name=\"viewport\" content=\"width=device-width, initial-scale=1.0\">\n",
    "    <title>Javascript</title>\n",
    "</head>\n",
    "<body>\n",
    "    <img src=\"\">\n",
    "    <!-- Empty Img -->\n",
    "    <script src=\"main.js\"></script>\n",
    "    \n",
    "</body>\n",
    "</html>"
   ]
  },
  {
   "cell_type": "code",
   "execution_count": null,
   "metadata": {
    "vscode": {
     "languageId": "javascript"
    }
   },
   "outputs": [],
   "source": [
    "myImg = document.querySelector('img'); \n",
    "\n",
    "if (myImg.hasAttribute('alt')) {\n",
    "    console.log('Yes This Element Has Attribute Alt');\n",
    "\n",
    "} else {\n",
    "    console.log('No This Element Doesn\\'t Have Attribute Alt\\nSetting New Alt Text');\n",
    "    // No This Element Doesn't Have Attribute Alt\n",
    "    // Setting New Alt Text\n",
    "    \n",
    "    myImg.setAttribute('alt', 'Default Alternate Text'); \n",
    "    console.log(myImg.getAttribute('alt'));\n",
    "    // Default Alternate Text\n",
    "}; "
   ]
  },
  {
   "cell_type": "markdown",
   "metadata": {},
   "source": [
    "Now Let's Remove the Attribute `alt`"
   ]
  },
  {
   "cell_type": "code",
   "execution_count": null,
   "metadata": {
    "vscode": {
     "languageId": "javascript"
    }
   },
   "outputs": [],
   "source": [
    "myImg = document.querySelector('img'); \n",
    "\n",
    "if (myImg.hasAttribute('alt')) {\n",
    "    console.log('Yes This Element Has Attribute Alt');\n",
    "\n",
    "} else {\n",
    "    console.log('No This Element Doesn\\'t Have Attribute Alt\\nSetting New Alt Text');\n",
    "    // No This Element Doesn't Have Attribute Alt\n",
    "    // Setting New Alt Text\n",
    "    \n",
    "    myImg.setAttribute('alt', 'Default Alternate Text'); \n",
    "    console.log(myImg.getAttribute('alt'));\n",
    "    // Default Alternate Text\n",
    "}; \n",
    "\n",
    "myImg.removeAttribute('alt'); \n",
    "console.log(myImg.getAttribute('alt'));\n",
    "// null"
   ]
  },
  {
   "cell_type": "markdown",
   "metadata": {},
   "source": [
    ":: __`Javascript -> Element Classlist | Lenght, Item, Contains`__ ::"
   ]
  },
  {
   "cell_type": "code",
   "execution_count": null,
   "metadata": {
    "vscode": {
     "languageId": "html"
    }
   },
   "outputs": [],
   "source": [
    "<!DOCTYPE html>\n",
    "<html lang=\"en\">\n",
    "<head>\n",
    "    <meta charset=\"UTF-8\">\n",
    "    <meta name=\"viewport\" content=\"width=device-width, initial-scale=1.0\">\n",
    "    <title>Javascript</title>\n",
    "</head>\n",
    "<body>\n",
    "    <div id=\"main\" class=\"show cool main-div\">Our Main Div</div>\n",
    "    <script src=\"main.js\"></script>\n",
    "    \n",
    "</body>\n",
    "</html>"
   ]
  },
  {
   "cell_type": "code",
   "execution_count": null,
   "metadata": {
    "vscode": {
     "languageId": "javascript"
    }
   },
   "outputs": [],
   "source": [
    "myDiv = document.getElementById('main'); \n",
    "\n",
    "console.log(myDiv.classList);\n",
    "/*\n",
    "DOMTokenList(3) i\n",
    "0: \"show\"\n",
    "1: \"cool\"\n",
    "2: \"main-div\"\n",
    "Length: 3\n",
    "value: \"show cool main-div\"\n",
    "[[Prototype]]: DOMTokenList\n",
    "*/\n",
    "console.log(myDiv.classList.length);\n",
    "// 3\n",
    "\n",
    "if (myDiv.classList.contains('cool')) {\n",
    "    console.log('Yes This Div Contain Class Called Cool');\n",
    "} else {\n",
    "    console.log('No This Div does not Contain Class Called Cool');\n",
    "}; \n",
    "// Yes This Div Contain Class Called Cool\n",
    "\n",
    "console.log(myDiv.classList.item(2));\n",
    "// main-div\n",
    "// We Can Use Indexing\n"
   ]
  },
  {
   "cell_type": "markdown",
   "metadata": {},
   "source": [
    ":: __`Javascript -> Element Classlist | Add, Remove, Toggle`__ ::"
   ]
  },
  {
   "cell_type": "code",
   "execution_count": null,
   "metadata": {
    "vscode": {
     "languageId": "html"
    }
   },
   "outputs": [],
   "source": [
    "<!DOCTYPE html>\n",
    "<html lang=\"en\">\n",
    "<head>\n",
    "    <meta charset=\"UTF-8\">\n",
    "    <meta name=\"viewport\" content=\"width=device-width, initial-scale=1.0\">\n",
    "    <title>Javascript</title>\n",
    "</head>\n",
    "<body>\n",
    "    <div id=\"main\" class=\"show cool main-div\">Our Main Div</div>\n",
    "    <button id=\"addButton\">Add Class</button>\n",
    "    <button id=\"removeButton\">Remove Class</button>\n",
    "    <button id=\"toggleButton\">Toggle Class</button>\n",
    "    <div id=\"result\"></div>\n",
    "    <script src=\"main.js\"></script>\n",
    "    \n",
    "</body>\n",
    "</html>"
   ]
  },
  {
   "cell_type": "code",
   "execution_count": null,
   "metadata": {
    "vscode": {
     "languageId": "javascript"
    }
   },
   "outputs": [],
   "source": [
    "var myDiv = document.getElementById('main'), \n",
    "    add_Button = document.getElementById('addButton'),\n",
    "    remove_Button = document.getElementById('removeButton'),\n",
    "    toggle_Button = document.getElementById('toggleButton'),\n",
    "    result = document.getElementById('result');\n",
    "\n",
    "// Initial update of the result div\n",
    "result.textContent = myDiv.classList;\n",
    "\n",
    "// Function to handle class updates and display changes\n",
    "function updateResult() {\n",
    "    result.textContent = myDiv.classList;\n",
    "}\n",
    "\n",
    "add_Button.onclick = function() {\n",
    "    \"use strict\"; \n",
    "    myDiv.classList.add('Alpha', 'Romeo')\n",
    "    updateResult(); // Call the update function after adding classes\n",
    "}; \n",
    "\n",
    "remove_Button.onclick = function() {\n",
    "    \"use strict\"; \n",
    "    myDiv.classList.remove('Alpha', 'Romeo')\n",
    "    updateResult(); // Call the update function after adding classes\n",
    "}; \n",
    "\n",
    "toggle_Button.onclick = function() {\n",
    "    \"use strict\"; \n",
    "    myDiv.classList.toggle('Delta')\n",
    "    updateResult(); // Call the update function after adding classes\n",
    "}; "
   ]
  },
  {
   "cell_type": "markdown",
   "metadata": {},
   "source": [
    ":: __`Why Did We Use textContent over innerText?`__ ::\n",
    "\n",
    "there's a subtle difference between `innerText` and `textContent` in JavaScript when it comes to accessing element text content. While both seem similar, there are key distinctions:\n",
    "\n",
    "**`innerText`:**\n",
    "\n",
    "⟶ Focuses on the **visible** text content of the element, taking into account factors like:\n",
    "\n",
    "❖ Element's __computed styles__ (e.g., hidden elements, font size, visibility)\n",
    "\n",
    "❖ **Whitespace handling:** Collapses consecutive whitespace characters (spaces, tabs, newlines) into a single space.\n",
    "\n",
    "\n",
    "**`textContent`:**\n",
    "\n",
    "⟶ Provides the **complete** text content of the element, regardless of:\n",
    "\n",
    "❖ **Visibility:** Includes text in hidden elements.\n",
    "\n",
    "❖ **Styles:** Ignores styling information.\n",
    "\n",
    "❖ **Whitespace handling:** Preserves all whitespace characters as they are in the HTML.\n",
    "\n",
    "\n",
    "In the context of your code, the main reason to prefer `textContent` over `innerText` is to ensure **consistency and reliability** in displaying the current classes of `myDiv`.\n",
    "\n",
    "Here's a breakdown of why `textContent` is more suitable:\n",
    "\n",
    "1. **Hidden Classes:** If you have any class names applied to `myDiv` that are currently hidden due to styling (e.g., `display: none;`), `innerText` would not include them, whereas `textContent` would capture all classes, accurately reflecting the complete class list.\n",
    "\n",
    "2. **Whitespace Handling:** While `innerText` collapses consecutive whitespace, `textContent` preserves it. This won't affect class names, but it can be important if you're working with text content that requires maintaining specific spacing.\n",
    "\n",
    "Therefore, using `textContent` guarantees you get the **full, unfiltered text content**, including any hidden classes, while maintaining whitespace as it appears in the HTML. This aligns with the desired behavior of displaying all the classes in the `result` div regardless of their current visibility or styling."
   ]
  },
  {
   "cell_type": "markdown",
   "metadata": {},
   "source": [
    ":: __`Elements - Children - ChildNodes`__ ::"
   ]
  },
  {
   "cell_type": "code",
   "execution_count": null,
   "metadata": {
    "vscode": {
     "languageId": "html"
    }
   },
   "outputs": [],
   "source": [
    "<!DOCTYPE html>\n",
    "<html lang=\"en\">\n",
    "<head>\n",
    "    <meta charset=\"UTF-8\">\n",
    "    <meta name=\"viewport\" content=\"width=device-width, initial-scale=1.0\">\n",
    "    <title>Javascript</title>\n",
    "</head>\n",
    "<body>\n",
    "    <div id=\"main\">\n",
    "        Hello\n",
    "        <h2>Heading</h2>\n",
    "        World\n",
    "        <p class=\"test\">Paragraph</p>\n",
    "    </div>\n",
    "\n",
    "    <script src=\"main.js\"></script>\n",
    "    \n",
    "</body>\n",
    "</html>"
   ]
  },
  {
   "cell_type": "code",
   "execution_count": null,
   "metadata": {
    "vscode": {
     "languageId": "javascript"
    }
   },
   "outputs": [],
   "source": [
    "var myDiv = document.getElementById('main'); \n",
    "\n",
    "console.log(myDiv.childElementCount);\n",
    "// 2 -> Count only the Elements\n",
    "\n",
    "console.log(myDiv.children);\n",
    "/*\n",
    "0 <h2>Heading</h2>\n",
    "1 <p>Paragraph</p>\n",
    "*/\n",
    "console.log(myDiv.children[0]);\n",
    "// <h2>Heading</h2>\n",
    "\n",
    "console.log(myDiv.children[0].textContent);\n",
    "// Heading\n",
    "\n",
    "console.log(myDiv.children[1].className);\n",
    "// test\n",
    "\n",
    "console.log(myDiv.childNodes.length);\n",
    "// 5"
   ]
  },
  {
   "cell_type": "markdown",
   "metadata": {},
   "source": [
    "❖ The Number 5 Node Is the Space After Paragraph Line `<p class=\"test\">Paragraph</p>`\n",
    "\n",
    "❖ The Comment Also Count as a Node"
   ]
  },
  {
   "cell_type": "markdown",
   "metadata": {},
   "source": [
    ":: __`Elements - Children - First & Last Child`__ ::"
   ]
  },
  {
   "cell_type": "code",
   "execution_count": null,
   "metadata": {
    "vscode": {
     "languageId": "html"
    }
   },
   "outputs": [],
   "source": [
    "<!DOCTYPE html>\n",
    "<html lang=\"en\">\n",
    "<head>\n",
    "    <meta charset=\"UTF-8\">\n",
    "    <meta name=\"viewport\" content=\"width=device-width, initial-scale=1.0\">\n",
    "    <title>Javascript</title>\n",
    "</head>\n",
    "<body>\n",
    "    <div id=\"main\">\n",
    "        Hello <!-- Text Node -->\n",
    "        <h2>Heading</h2> <!-- Element Node -->\n",
    "        World\n",
    "        <p class=\"test\">Paragraph</p>\n",
    "    </div>\n",
    "\n",
    "    <script src=\"main.js\"></script>\n",
    "    \n",
    "</body>\n",
    "</html>"
   ]
  },
  {
   "cell_type": "code",
   "execution_count": null,
   "metadata": {
    "vscode": {
     "languageId": "javascript"
    }
   },
   "outputs": [],
   "source": [
    "var myDiv = document.getElementById('main'); \n",
    "\n",
    "console.log(myDiv.firstChild);\n",
    "// Hello \n",
    "\n",
    "console.log(myDiv.firstElementChild);\n",
    "// <h2>Heading</h2>\n",
    "\n",
    "console.log(myDiv.childNodes);\n",
    "/*\n",
    "0 \" Hello \"\n",
    "1 <!-- Text Node -->\n",
    "2 #text \" \"\n",
    "3 <h2>Heading</h2>\n",
    "4 #text \" \"\n",
    "5 <!-- Element Node -->\n",
    "6 \" World \"\n",
    "7 <p class=\"test\">Paragraph</p>\n",
    "8 #text \" \"\n",
    "*/\n",
    "\n",
    "console.log(myDiv.childNodes[7]);\n",
    "// <p class=\"test\">Paragraph</p>\n",
    "\n",
    "console.log(myDiv.lastElementChild);\n",
    "// <p class=\"test\">Paragraph</p>"
   ]
  },
  {
   "cell_type": "markdown",
   "metadata": {},
   "source": [
    ":: __`Elements - Children - Append Child`__ ::\n"
   ]
  },
  {
   "cell_type": "code",
   "execution_count": null,
   "metadata": {
    "vscode": {
     "languageId": "html"
    }
   },
   "outputs": [],
   "source": [
    "<!DOCTYPE html>\n",
    "<html lang=\"en\">\n",
    "<head>\n",
    "    <meta charset=\"UTF-8\">\n",
    "    <meta name=\"viewport\" content=\"width=device-width, initial-scale=1.0\">\n",
    "    <title>Javascript</title>\n",
    "</head>\n",
    "<body>\n",
    "    <div id=\"main\"></div>\n",
    "\n",
    "    <script src=\"main.js\"></script>\n",
    "    \n",
    "</body>\n",
    "</html>"
   ]
  },
  {
   "cell_type": "code",
   "execution_count": null,
   "metadata": {
    "vscode": {
     "languageId": "javascript"
    }
   },
   "outputs": [],
   "source": [
    "var myMainDiv = document.getElementById('main'),\n",
    "    \n",
    "    // Create Div Element\n",
    "    myNewElement = document.createElement('div'), \n",
    "    \n",
    "    // Create Text Node\n",
    "    myText = document.createTextNode('Hello From Javascript');\n",
    "\n",
    "\n",
    "// Append Text to the New Element\n",
    "myNewElement.appendChild(myText); \n",
    "\n",
    "// Append the New Element to My Main Div\n",
    "myMainDiv.appendChild(myNewElement); "
   ]
  },
  {
   "cell_type": "markdown",
   "metadata": {},
   "source": [
    "What if We Want to Put Something at the Start ?"
   ]
  },
  {
   "cell_type": "code",
   "execution_count": null,
   "metadata": {
    "vscode": {
     "languageId": "html"
    }
   },
   "outputs": [],
   "source": [
    "<!DOCTYPE html>\n",
    "<html lang=\"en\">\n",
    "<head>\n",
    "    <meta charset=\"UTF-8\">\n",
    "    <meta name=\"viewport\" content=\"width=device-width, initial-scale=1.0\">\n",
    "    <title>Javascript</title>\n",
    "</head>\n",
    "<body>\n",
    "    <div id=\"main\">\n",
    "        <p>This is our HTML</p>\n",
    "    </div>\n",
    "\n",
    "    <script src=\"main.js\"></script>\n",
    "    \n",
    "</body>\n",
    "</html>"
   ]
  },
  {
   "cell_type": "code",
   "execution_count": null,
   "metadata": {
    "vscode": {
     "languageId": "javascript"
    }
   },
   "outputs": [],
   "source": [
    "var myMainDiv = document.getElementById('main'),\n",
    "    \n",
    "    // Create Div Element\n",
    "    myNewElement = document.createElement('div'), \n",
    "    \n",
    "    // Create Text Node\n",
    "    myText = document.createTextNode('Hello From Javascript');\n",
    "\n",
    "\n",
    "// Append Text to the New Element\n",
    "myNewElement.appendChild(myText); \n",
    "\n",
    "// Inserting the New Element to My Main Div\n",
    "myMainDiv.insertBefore(myNewElement, myMainDiv.firstElementChild); "
   ]
  },
  {
   "cell_type": "markdown",
   "metadata": {},
   "source": [
    "This Will Put the Text `\"Hello From Javascript\"` Before the Text `\"This Is Our HTML\"`\n",
    "\n",
    "We Can Also Put the Div Before a Specific Child"
   ]
  },
  {
   "cell_type": "code",
   "execution_count": null,
   "metadata": {
    "vscode": {
     "languageId": "html"
    }
   },
   "outputs": [],
   "source": [
    "<!DOCTYPE html>\n",
    "<html lang=\"en\">\n",
    "<head>\n",
    "    <meta charset=\"UTF-8\">\n",
    "    <meta name=\"viewport\" content=\"width=device-width, initial-scale=1.0\">\n",
    "    <title>Javascript</title>\n",
    "</head>\n",
    "<body>\n",
    "    <div id=\"main\">\n",
    "        <p>This is our HTML</p>\n",
    "        <!-- We Want to Insert a New One Here in the Middle -->\n",
    "        <p>This is our HTML Div</p>\n",
    "    </div>\n",
    "\n",
    "    <script src=\"main.js\"></script>\n",
    "    \n",
    "</body>\n",
    "</html>"
   ]
  },
  {
   "cell_type": "code",
   "execution_count": null,
   "metadata": {
    "vscode": {
     "languageId": "javascript"
    }
   },
   "outputs": [],
   "source": [
    "var myMainDiv = document.getElementById('main'),\n",
    "    \n",
    "    // Create Div Element\n",
    "    myNewElement = document.createElement('div'), \n",
    "    \n",
    "    // Create Text Node\n",
    "    myText = document.createTextNode('Hello From Javascript');\n",
    "\n",
    "\n",
    "// Append Text to the New Element\n",
    "myNewElement.appendChild(myText); \n",
    "\n",
    "// Inserting the New Element to My Main Div\n",
    "myMainDiv.insertBefore(myNewElement, myMainDiv.childNodes[2]); "
   ]
  },
  {
   "cell_type": "markdown",
   "metadata": {},
   "source": [
    "We Can Also Go to the Console Log in the Browser and Log the the Specific Child Node We Want, We Can Also Get the Length."
   ]
  },
  {
   "cell_type": "code",
   "execution_count": null,
   "metadata": {
    "vscode": {
     "languageId": "javascript"
    }
   },
   "outputs": [],
   "source": [
    "console.log(myMainDiv.childNodes[1]);\n",
    "console.log(myMainDiv.childNodes[2]);\n",
    "console.log(myMainDiv.childNodes.length);"
   ]
  },
  {
   "cell_type": "markdown",
   "metadata": {},
   "source": [
    "You Can Always Check What Those Nodes Are Using This Command in the console: "
   ]
  },
  {
   "cell_type": "code",
   "execution_count": null,
   "metadata": {
    "vscode": {
     "languageId": "javascript"
    }
   },
   "outputs": [],
   "source": [
    "console.log(myMainDiv.childNodes);"
   ]
  },
  {
   "cell_type": "markdown",
   "metadata": {},
   "source": [
    ":: __`Elements - Children - Remove Child`__ ::"
   ]
  },
  {
   "cell_type": "code",
   "execution_count": null,
   "metadata": {
    "vscode": {
     "languageId": "html"
    }
   },
   "outputs": [],
   "source": [
    "<!DOCTYPE html>\n",
    "<html lang=\"en\">\n",
    "<head>\n",
    "    <meta charset=\"UTF-8\">\n",
    "    <meta name=\"viewport\" content=\"width=device-width, initial-scale=1.0\">\n",
    "    <title>Javascript</title>\n",
    "</head>\n",
    "<body>\n",
    "    <div id=\"main\">\n",
    "        <p>This is our HTML P</p>\n",
    "        <p>This is our HTML Div</p>\n",
    "        <p>This is our HTML P</p>\n",
    "    </div>\n",
    "\n",
    "    <script src=\"main.js\"></script>\n",
    "    \n",
    "</body>\n",
    "</html>"
   ]
  },
  {
   "cell_type": "code",
   "execution_count": null,
   "metadata": {
    "vscode": {
     "languageId": "javascript"
    }
   },
   "outputs": [],
   "source": [
    "var myMainDiv = document.getElementById('main');\n",
    "    \n",
    "myMainDiv.removeChild(myMainDiv.firstChild); \n",
    "// This Will Remove the First Text Node Not the Paragraph\n",
    "\n",
    "myMainDiv.removeChild(myMainDiv.firstElementChild); \n",
    "// This Will Remove the Paragraph"
   ]
  },
  {
   "cell_type": "markdown",
   "metadata": {},
   "source": [
    "If We Go to the Console Log and Type: "
   ]
  },
  {
   "cell_type": "code",
   "execution_count": null,
   "metadata": {
    "vscode": {
     "languageId": "javascript"
    }
   },
   "outputs": [],
   "source": [
    "console.log(myMainDiv.childNodes.length);\n",
    "// 5"
   ]
  },
  {
   "cell_type": "markdown",
   "metadata": {},
   "source": [
    "Now Let's Count Those 5 Nodes Using This Command:"
   ]
  },
  {
   "cell_type": "code",
   "execution_count": null,
   "metadata": {
    "vscode": {
     "languageId": "javascript"
    }
   },
   "outputs": [],
   "source": [
    "console.log(myMainDiv.childNodes);\n",
    "/*\n",
    "[Log] NodeList (5)\n",
    "0 #text \" \"\n",
    "1 \n",
    "<p>This is our HTML Div</p>\n",
    "2 #text \" \"\n",
    "3 \n",
    "<p>This is our HTML P</p>\n",
    "4 #text \" \"\n",
    "*/"
   ]
  },
  {
   "cell_type": "markdown",
   "metadata": {},
   "source": [
    "You Can Also Use Indexing to Remove Child Nodes"
   ]
  },
  {
   "cell_type": "markdown",
   "metadata": {},
   "source": [
    ":: __`Elements - Node [ Name, Value, Type ]`__ ::"
   ]
  },
  {
   "cell_type": "code",
   "execution_count": null,
   "metadata": {
    "vscode": {
     "languageId": "html"
    }
   },
   "outputs": [],
   "source": [
    "<!DOCTYPE html>\n",
    "<html lang=\"en\">\n",
    "<head>\n",
    "    <meta charset=\"UTF-8\">\n",
    "    <meta name=\"viewport\" content=\"width=device-width, initial-scale=1.0\">\n",
    "    <title>Javascript</title>\n",
    "</head>\n",
    "<body>\n",
    "    <div id=\"main\">\n",
    "        First Text\n",
    "        <p>This is our HTML P</p>\n",
    "        Second Text\n",
    "        <div>This is our HTML Div</div>\n",
    "        Third Text\n",
    "        <p>This is our HTML P</p>\n",
    "        Last Text\n",
    "    </div>\n",
    "\n",
    "    <script src=\"main.js\"></script>\n",
    "    \n",
    "</body>\n",
    "</html>"
   ]
  },
  {
   "cell_type": "code",
   "execution_count": null,
   "metadata": {
    "vscode": {
     "languageId": "javascript"
    }
   },
   "outputs": [],
   "source": [
    "var myMainDiv = document.getElementById('main');\n",
    "\n",
    "console.log(myMainDiv.childNodes[0].nodeName);\n",
    "// [Log] #text\n",
    "\n",
    "console.log(myMainDiv.childNodes[1].nodeName);\n",
    "// [Log] P \n",
    "\n",
    "console.log(myMainDiv.childNodes[3].tagName);\n",
    "// [Log] DIV \n",
    "\n",
    "console.log(myMainDiv.childNodes[2].tagName);\n",
    "// [Log] undefined"
   ]
  },
  {
   "cell_type": "markdown",
   "metadata": {},
   "source": [
    "As You Can See the `tagName` only Get the Tags `<p></p>` Like This Unklike The `nodeName`\n",
    "\n",
    "⟶ There's Also the `Node Value`"
   ]
  },
  {
   "cell_type": "code",
   "execution_count": null,
   "metadata": {
    "vscode": {
     "languageId": "javascript"
    }
   },
   "outputs": [],
   "source": [
    "var myMainDiv = document.getElementById('main');\n",
    "\n",
    "\n",
    "console.log(myMainDiv.childNodes[2].nodeValue);\n",
    "// [Log] Second Text\n",
    "\n",
    "console.log(myMainDiv.childNodes[3].nodeValue);\n",
    "// [Log] null\n",
    "\n",
    "console.log(myMainDiv.childNodes[3].firstChild.nodeValue);\n",
    "// [Log] This is our HTML Div\n",
    "\n",
    "console.log(myMainDiv.childNodes[3].childNodes[0]);\n",
    "// [Log] \"This is our HTML Div\""
   ]
  },
  {
   "cell_type": "markdown",
   "metadata": {},
   "source": [
    "⟶ There's Also the `Node Type` which return numbers\n",
    "\n",
    "❖ The `nodeType` property in the Document Object Model (DOM) is used to determine the type of a node. \n",
    "\n",
    "❖ Each type of node in the DOM is represented by a numeric value. Here are the common `nodeType` values and their corresponding node types:\n",
    "\n",
    "1. **`ELEMENT_NODE` (1)**: An element node like `<p>`, `<div>`, etc.\n",
    "\n",
    "2. **`ATTRIBUTE_NODE` (2)**: An attribute of an element (deprecated as attributes are no longer considered nodes in DOM4).\n",
    "\n",
    "3. **`TEXT_NODE` (3)**: The actual text inside an element or attribute.\n",
    "\n",
    "4. **`CDATA_SECTION_NODE` (4)**: A CDATA section in XML documents (not used in HTML).\n",
    "\n",
    "5. **`ENTITY_REFERENCE_NODE` (5)**: A reference to an entity in XML (deprecated).\n",
    "\n",
    "6. **`ENTITY_NODE` (6)**: An entity declaration in XML (deprecated).\n",
    "\n",
    "7. **`PROCESSING_INSTRUCTION_NODE` (7)**: A processing instruction in XML, such as `<?xml-stylesheet ... ?>` (not used in HTML).\n",
    "\n",
    "8. **`COMMENT_NODE` (8)**: A comment node, such as `<!-- this is a comment -->`.\n",
    "\n",
    "9. **`DOCUMENT_NODE` (9)**: A document node, which is the root of the document itself.\n",
    "\n",
    "10. **`DOCUMENT_TYPE_NODE` (10)**: A doctype declaration, for example, `<!DOCTYPE html>`.\n",
    "\n",
    "11. **`DOCUMENT_FRAGMENT_NODE` (11)**: A lightweight, or minimal, document object that can hold DOM nodes.\n",
    "\n",
    "12. **`NOTATION_NODE` (12)**: A notation in the DTD (deprecated in XML and not used in HTML)."
   ]
  },
  {
   "cell_type": "code",
   "execution_count": null,
   "metadata": {
    "vscode": {
     "languageId": "javascript"
    }
   },
   "outputs": [],
   "source": [
    "var myMainDiv = document.getElementById('main');\n",
    "\n",
    "console.log(myMainDiv.childNodes[3].childNodes[0].nodeType);\n",
    "// [Log] 3 "
   ]
  },
  {
   "cell_type": "markdown",
   "metadata": {},
   "source": [
    ":: __`Elements - Clone Node`__ ::"
   ]
  },
  {
   "cell_type": "code",
   "execution_count": null,
   "metadata": {
    "vscode": {
     "languageId": "html"
    }
   },
   "outputs": [],
   "source": [
    "<!DOCTYPE html>\n",
    "<html lang=\"en\">\n",
    "<head>\n",
    "    <meta charset=\"UTF-8\">\n",
    "    <meta name=\"viewport\" content=\"width=device-width, initial-scale=1.0\">\n",
    "    <title>Javascript</title>\n",
    "</head>\n",
    "<body>\n",
    "    <div id=\"main\">\n",
    "        <p>This Is Our Main P</p>\n",
    "    </div>\n",
    "\n",
    "    <div id=\"new\">\n",
    "        \n",
    "    </div>\n",
    "\n",
    "    <script src=\"main.js\"></script>\n",
    "    \n",
    "</body>\n",
    "</html>"
   ]
  },
  {
   "cell_type": "code",
   "execution_count": null,
   "metadata": {
    "vscode": {
     "languageId": "javascript"
    }
   },
   "outputs": [],
   "source": [
    "var myMainDiv = document.getElementById('main'),\n",
    "    myNewDiv = document.getElementById('new');\n",
    "    myCopy = myMainDiv.firstElementChild.cloneNode();\n",
    "\n",
    "myNewDiv.appendChild(myCopy);"
   ]
  },
  {
   "cell_type": "markdown",
   "metadata": {},
   "source": [
    "This Will Just Copy the Paragraph but Not the Text Within that Paragraph Cuz by Default the `cloneNode()` Is False `cloneNode(false)` Which Means It Can Take the Paragraph, Id, Class for Example but Not the Text Within\n",
    "\n",
    "⟶ to Make It Take the Node and the Elements Within the Node We Need to Set the Value to True"
   ]
  },
  {
   "cell_type": "code",
   "execution_count": null,
   "metadata": {
    "vscode": {
     "languageId": "javascript"
    }
   },
   "outputs": [],
   "source": [
    "var myMainDiv = document.getElementById('main'),\n",
    "    myNewDiv = document.getElementById('new');\n",
    "    myCopy = myMainDiv.firstElementChild.cloneNode(true);\n",
    "\n",
    "myNewDiv.appendChild(myCopy);"
   ]
  },
  {
   "cell_type": "markdown",
   "metadata": {},
   "source": [
    ":: __`Elements - Parent Element`__ ::\n"
   ]
  },
  {
   "cell_type": "code",
   "execution_count": null,
   "metadata": {
    "vscode": {
     "languageId": "html"
    }
   },
   "outputs": [],
   "source": [
    "<!DOCTYPE html>\n",
    "<html lang=\"en\">\n",
    "<head>\n",
    "    <meta charset=\"UTF-8\">\n",
    "    <meta name=\"viewport\" content=\"width=device-width, initial-scale=1.0\">\n",
    "    <title>Javascript</title>\n",
    "</head>\n",
    "<body>\n",
    "    <div id=\"main\">\n",
    "        <button>Close</button>\n",
    "    </div>\n",
    "\n",
    "\n",
    "    <script src=\"main.js\"></script>\n",
    "    \n",
    "</body>\n",
    "</html>"
   ]
  },
  {
   "cell_type": "code",
   "execution_count": null,
   "metadata": {
    "vscode": {
     "languageId": "javascript"
    }
   },
   "outputs": [],
   "source": [
    "var myMainDiv = document.getElementById('main'),\n",
    "    myButton = myMainDiv.firstElementChild; \n",
    "\n",
    "myButton.onclick = function () {\n",
    "    'use strict'; \n",
    "    this.parentNode.style.display = 'None';\n",
    "};"
   ]
  },
  {
   "cell_type": "markdown",
   "metadata": {},
   "source": [
    "❖ Now when You Click the `Close Button` the Button Will Disappear\n",
    "\n",
    "❖ In the JS Code We Can Replace The `parentNode` With `parentElement`\n",
    "\n",
    "❖ We Can Check the Parent Using the Console Log Like This: \n"
   ]
  },
  {
   "cell_type": "code",
   "execution_count": null,
   "metadata": {
    "vscode": {
     "languageId": "javascript"
    }
   },
   "outputs": [],
   "source": [
    "console.log(myMainDiv.parentElement);\n",
    "// [Log] <body>…</body> \n",
    "\n",
    "console.log(myMainDiv.parentElement.tagName);\n",
    "// [Log] BODY "
   ]
  },
  {
   "cell_type": "markdown",
   "metadata": {},
   "source": [
    "We Can Use the `tagName` to Create if Condition Like This: "
   ]
  },
  {
   "cell_type": "code",
   "execution_count": null,
   "metadata": {
    "vscode": {
     "languageId": "javascript"
    }
   },
   "outputs": [],
   "source": [
    "var myMainDiv = document.getElementById('main'),\n",
    "    myButton = myMainDiv.firstElementChild; \n",
    "\n",
    "myButton.onclick = function () {\n",
    "    'use strict'; \n",
    "    this.parentNode.style.display = 'None';\n",
    "};\n",
    "\n",
    "\n",
    "console.log(myMainDiv.parentElement);\n",
    "// [Log] <body>…</body> \n",
    "\n",
    "console.log(myMainDiv.parentElement.tagName);\n",
    "// [Log] BODY \n",
    "\n",
    "if (myMainDiv.parentElement.tagName === 'BODY') {\n",
    "    console.log('This Element Has No Parent only Body');\n",
    "};\n",
    "\n",
    "// [Log] This Element Has No Parent only Body "
   ]
  },
  {
   "cell_type": "markdown",
   "metadata": {},
   "source": [
    ":: __`Next, Previous Sibling`__ ::\n",
    "\n"
   ]
  },
  {
   "cell_type": "code",
   "execution_count": null,
   "metadata": {
    "vscode": {
     "languageId": "html"
    }
   },
   "outputs": [],
   "source": [
    "<!DOCTYPE html>\n",
    "<html lang=\"en\">\n",
    "<head>\n",
    "    <meta charset=\"UTF-8\">\n",
    "    <meta name=\"viewport\" content=\"width=device-width, initial-scale=1.0\">\n",
    "    <title>Javascript</title>\n",
    "</head>\n",
    "<body>\n",
    "    <div id=\"main\">\n",
    "        First Text\n",
    "        <p>This Is P</p>\n",
    "        Second Text\n",
    "        <div>This is Div</div>\n",
    "        Final Text\n",
    "    </div>\n",
    "\n",
    "\n",
    "    <script src=\"main.js\"></script>\n",
    "    \n",
    "</body>\n",
    "</html>"
   ]
  },
  {
   "cell_type": "code",
   "execution_count": null,
   "metadata": {
    "vscode": {
     "languageId": "javascript"
    }
   },
   "outputs": [],
   "source": [
    "var myMainDiv = document.getElementById('main');\n",
    "\n",
    "console.log(myMainDiv.childNodes[1].nextSibling);\n",
    "// [Log] \"Second Text\"\n",
    "\n",
    "console.log(myMainDiv.childNodes[1].nextElementSibling);\n",
    "// [Log] <div>This is Div</div>\n",
    "\n",
    "console.log(myMainDiv.childNodes[3].previousElementSibling);\n",
    "// [Log] <p>This Is P</p> "
   ]
  },
  {
   "cell_type": "markdown",
   "metadata": {},
   "source": [
    ":: __`Elements - Focus, Blur`__ ::\n"
   ]
  },
  {
   "cell_type": "code",
   "execution_count": null,
   "metadata": {
    "vscode": {
     "languageId": "html"
    }
   },
   "outputs": [],
   "source": [
    "<!DOCTYPE html>\n",
    "<html lang=\"en\">\n",
    "<head>\n",
    "    <meta charset=\"UTF-8\">\n",
    "    <meta name=\"viewport\" content=\"width=device-width, initial-scale=1.0\">\n",
    "    <title>Javascript</title>\n",
    "</head>\n",
    "<body>\n",
    "    <form id=\"main\">\n",
    "        <input id=\"myInput\" type=\"text\">\n",
    "    </form>\n",
    "\n",
    "    <button>Remove Focus</button>\n",
    "\n",
    "\n",
    "    <script src=\"main.js\"></script>\n",
    "    \n",
    "</body>\n",
    "</html>"
   ]
  },
  {
   "cell_type": "code",
   "execution_count": null,
   "metadata": {
    "vscode": {
     "languageId": "javascript"
    }
   },
   "outputs": [],
   "source": [
    "var myMainDiv = document.getElementById('myInput');\n",
    "\n",
    "window.onload = function () {\n",
    "    'use strict';\n",
    "    document.getElementById('myInput').focus();\n",
    "};\n",
    "\n",
    "document.querySelector('button').onclick = function () {\n",
    "    'use strict'; \n",
    "    document.getElementById('myInput').blur();\n",
    "};\n"
   ]
  },
  {
   "cell_type": "markdown",
   "metadata": {},
   "source": [
    "❖ Now when You Reload the Page the Focus Will Be Automatically on the Forum and when You Click the Button It Will Remove the Focus"
   ]
  },
  {
   "cell_type": "markdown",
   "metadata": {},
   "source": [
    ":: __`Elements - Click`__ ::"
   ]
  },
  {
   "cell_type": "code",
   "execution_count": null,
   "metadata": {
    "vscode": {
     "languageId": "html"
    }
   },
   "outputs": [],
   "source": [
    "<!DOCTYPE html>\n",
    "<html lang=\"en\">\n",
    "<head>\n",
    "    <meta charset=\"UTF-8\">\n",
    "    <meta name=\"viewport\" content=\"width=device-width, initial-scale=1.0\">\n",
    "    <title>Javascript</title>\n",
    "</head>\n",
    "<body>\n",
    "    <div id=\"main\">\n",
    "        <button>Hide My Div</button>\n",
    "    </div>\n",
    "\n",
    "\n",
    "    <script src=\"main.js\"></script>\n",
    "    \n",
    "</body>\n",
    "</html>"
   ]
  },
  {
   "cell_type": "code",
   "execution_count": null,
   "metadata": {
    "vscode": {
     "languageId": "javascript"
    }
   },
   "outputs": [],
   "source": [
    "var myMainDiv = document.getElementById('main'),\n",
    "    myButton = myMainDiv.firstElementChild;\n",
    "\n",
    "myButton.onclick = function () {\n",
    "    'use strict'; \n",
    "    this.parentElement.style.display = 'none';\n",
    "};"
   ]
  },
  {
   "cell_type": "markdown",
   "metadata": {},
   "source": [
    "❖ Now when You Hit the Button It Will Hide the Div, but What if We Want the Button to Be Clicked on Window Load without Actually Clicking the Button? "
   ]
  },
  {
   "cell_type": "code",
   "execution_count": null,
   "metadata": {
    "vscode": {
     "languageId": "javascript"
    }
   },
   "outputs": [],
   "source": [
    "var myMainDiv = document.getElementById('main'),\n",
    "    myButton = myMainDiv.firstElementChild;\n",
    "\n",
    "myButton.onclick = function () {\n",
    "    'use strict'; \n",
    "    this.parentElement.style.display = 'none';\n",
    "};\n",
    "\n",
    "window.onload = function () {\n",
    "    'use strict'; \n",
    "    myButton.click();\n",
    "};"
   ]
  },
  {
   "cell_type": "markdown",
   "metadata": {},
   "source": [
    "❖ Now the Button Will Be Clicked Instantly After the Window Is Loaded, but What if We Want to Set a Delay Before the Button Is Clicked? Let's Say 2 Seconds After the Window Is Opened"
   ]
  },
  {
   "cell_type": "code",
   "execution_count": null,
   "metadata": {
    "vscode": {
     "languageId": "html"
    }
   },
   "outputs": [],
   "source": [
    "<!DOCTYPE html>\n",
    "<html lang=\"en\">\n",
    "<head>\n",
    "    <meta charset=\"UTF-8\">\n",
    "    <meta name=\"viewport\" content=\"width=device-width, initial-scale=1.0\">\n",
    "    <title>Javascript</title>\n",
    "</head>\n",
    "<body>\n",
    "    <div id=\"main\">\n",
    "        <button>Hide My Div</button>\n",
    "    </div>\n",
    "\n",
    "\n",
    "    <script src=\"main.js\"></script>\n",
    "    \n",
    "</body>\n",
    "</html>"
   ]
  },
  {
   "cell_type": "code",
   "execution_count": null,
   "metadata": {
    "vscode": {
     "languageId": "javascript"
    }
   },
   "outputs": [],
   "source": [
    "var myMainDiv = document.getElementById('main'),\n",
    "    myButton = myMainDiv.firstElementChild;\n",
    "\n",
    "myButton.onclick = function () {\n",
    "    'use strict'; \n",
    "    this.parentElement.style.display = 'none';\n",
    "};\n",
    "\n",
    "window.onload = function () {\n",
    "    'use strict'; \n",
    "    setTimeout(function() {\n",
    "        myButton.click();\n",
    "    }, 2000);\n",
    "};"
   ]
  },
  {
   "cell_type": "markdown",
   "metadata": {},
   "source": [
    "❖ Now the Div Will Disappear After Two Seconds From Loading the Window"
   ]
  },
  {
   "cell_type": "markdown",
   "metadata": {},
   "source": [
    ":: __`Elements - Add Event Listener`__ ::\n"
   ]
  },
  {
   "cell_type": "code",
   "execution_count": null,
   "metadata": {
    "vscode": {
     "languageId": "html"
    }
   },
   "outputs": [],
   "source": [
    "<!DOCTYPE html>\n",
    "<html lang=\"en\">\n",
    "<head>\n",
    "    <meta charset=\"UTF-8\">\n",
    "    <meta name=\"viewport\" content=\"width=device-width, initial-scale=1.0\">\n",
    "    <title>Javascript</title>\n",
    "</head>\n",
    "<body>\n",
    "    <button id=\"power\">PowerUp</button>\n",
    "    <button id=\"main\">Eat Monsters</button>\n",
    "    <div id=\"monster1\">Monster1</div>\n",
    "    <div id=\"monster2\">Monster2</div>\n",
    "\n",
    "\n",
    "    <script src=\"main.js\"></script>\n",
    "    \n",
    "</body>\n",
    "</html>"
   ]
  },
  {
   "cell_type": "code",
   "execution_count": null,
   "metadata": {
    "vscode": {
     "languageId": "javascript"
    }
   },
   "outputs": [],
   "source": [
    "var myMainButton = document.getElementById('main'),\n",
    "    myPower = document.getElementById('power');\n",
    "\n",
    "myMainButton.onclick = function () {\n",
    "    'use strict';\n",
    "    document.getElementById('monster1').style.display = 'none'; \n",
    "};\n",
    "\n",
    "myPower.onclick = function () {\n",
    "    'use strict';\n",
    "    myMainButton.addEventListener('click', function () {\n",
    "        document.getElementById('monster2').style.display = 'none'; \n",
    "    })\n",
    "};\n"
   ]
  },
  {
   "cell_type": "markdown",
   "metadata": {},
   "source": [
    "❖ This Is Like a Game with Buttons when You Click Eat Monsters It Will Eat the Monster One (**`Display = None`**), \n",
    "\n",
    "❖ And when You Reload the Page and Click Power up; the Eat Monsters Button Can Now Eat up the Monster 2 as Well. \n",
    "\n",
    "It's Like We Boosted the Button (**`Eat Monsters`**) to to Eat the Second Monster as Well."
   ]
  },
  {
   "cell_type": "markdown",
   "metadata": {},
   "source": [
    "⟶ We Can Also Make the Function Separate and Call It in the Event Listener Like This: "
   ]
  },
  {
   "cell_type": "code",
   "execution_count": null,
   "metadata": {
    "vscode": {
     "languageId": "javascript"
    }
   },
   "outputs": [],
   "source": [
    "function MakePower() {\n",
    "    'use strict';\n",
    "    document.getElementById('monster2').style.display = 'none'; \n",
    "};\n",
    "\n",
    "var myMainButton = document.getElementById('main'),\n",
    "    myPower = document.getElementById('power');\n",
    "\n",
    "myMainButton.onclick = function () {\n",
    "    'use strict';\n",
    "    document.getElementById('monster1').style.display = 'none'; \n",
    "};\n",
    "\n",
    "myPower.onclick = function () {\n",
    "    'use strict';\n",
    "    myMainButton.addEventListener('click',MakePower);\n",
    "};"
   ]
  },
  {
   "cell_type": "markdown",
   "metadata": {},
   "source": [
    "It Will Do the Same Thing"
   ]
  },
  {
   "cell_type": "markdown",
   "metadata": {},
   "source": [
    ":: __`Elements - Contains`__ ::\n"
   ]
  },
  {
   "cell_type": "code",
   "execution_count": null,
   "metadata": {
    "vscode": {
     "languageId": "html"
    }
   },
   "outputs": [],
   "source": [
    "<!DOCTYPE html>\n",
    "<html lang=\"en\">\n",
    "<head>\n",
    "    <meta charset=\"UTF-8\">\n",
    "    <meta name=\"viewport\" content=\"width=device-width, initial-scale=1.0\">\n",
    "    <title>Javascript</title>\n",
    "</head>\n",
    "<body>\n",
    "    <div id=\"main\">\n",
    "        <div>\n",
    "            <p>This is <span id=\"myChild\">Paragraph</span></p>\n",
    "        </div>\n",
    "    </div>\n",
    "\n",
    "\n",
    "    <script src=\"main.js\"></script>\n",
    "    \n",
    "</body>\n",
    "</html>"
   ]
  },
  {
   "cell_type": "code",
   "execution_count": null,
   "metadata": {
    "vscode": {
     "languageId": "javascript"
    }
   },
   "outputs": [],
   "source": [
    "var myMainDiv = document.getElementById('main'),\n",
    "    myChild = document.getElementById('myChild');\n",
    "\n",
    "console.log(myMainDiv.contains(myChild));\n",
    "// [Log] true "
   ]
  },
  {
   "cell_type": "markdown",
   "metadata": {},
   "source": [
    "here we checked if **`myMainDiv`** contains a span or not"
   ]
  },
  {
   "cell_type": "markdown",
   "metadata": {},
   "source": [
    ":: __`Client [ Height, Width ]`__ ::\n",
    "\n",
    "❖ **`clientWidth`** and **`clientHeight`**: These properties provide the interior width and height of an element in pixels, which includes padding but excludes borders, margins, and vertical scrollbars (if present). They are used when you need the visible area of an element for layout purposes.\n",
    "\n",
    "❖ Here's a basic example of how clientWidth might be used in a responsive navigation menu:\n",
    "\n"
   ]
  },
  {
   "cell_type": "code",
   "execution_count": null,
   "metadata": {
    "vscode": {
     "languageId": "javascript"
    }
   },
   "outputs": [],
   "source": [
    "function adjustMenu() {\n",
    "    const nav = document.getElementById('nav');\n",
    "    if (nav.clientWidth < 600) {\n",
    "        // Switch to a more compact or mobile-friendly menu\n",
    "    } else {\n",
    "        // Use the standard full-size menu\n",
    "    };\n",
    "};\n",
    "window.onresize = adjustMenu;  // Call adjustMenu on window resize\n",
    "adjustMenu();  // Also initialize when the script loads\n"
   ]
  },
  {
   "cell_type": "markdown",
   "metadata": {},
   "source": [
    "❖ Now Let's Get More Examples"
   ]
  },
  {
   "cell_type": "code",
   "execution_count": null,
   "metadata": {
    "vscode": {
     "languageId": "html"
    }
   },
   "outputs": [],
   "source": [
    "<!DOCTYPE html>\n",
    "<html lang=\"en\">\n",
    "<head>\n",
    "    <meta charset=\"UTF-8\">\n",
    "    <meta name=\"viewport\" content=\"width=device-width, initial-scale=1.0\">\n",
    "    <title>Javascript</title>\n",
    "    <style>\n",
    "        .custom {\n",
    "            padding: 20px;\n",
    "            background-color: #EEE;\n",
    "            border: 10px solid #ccc;\n",
    "            margin: 30px;\n",
    "            overflow: scroll;\n",
    "        }\n",
    "    </style>\n",
    "</head>\n",
    "<body>\n",
    "    <div id=\"main\">\n",
    "        <div id=\"main\" class=\"custom\">\n",
    "            My Main Div\n",
    "        </div>\n",
    "    </div>\n",
    "\n",
    "\n",
    "    <script src=\"main.js\"></script>\n",
    "    \n",
    "</body>\n",
    "</html>"
   ]
  },
  {
   "cell_type": "code",
   "execution_count": null,
   "metadata": {
    "vscode": {
     "languageId": "javascript"
    }
   },
   "outputs": [],
   "source": [
    "var myMainDiv = document.getElementById('main');\n",
    "\n",
    "console.log(myMainDiv.clientHeight + 'px');\n",
    "// [Log] 78px\n",
    "\n",
    "console.log(myMainDiv.clientWidth + 'px');\n",
    "// [Log] 1487px \n"
   ]
  },
  {
   "cell_type": "markdown",
   "metadata": {},
   "source": [
    ":: __`Scroll [ Height, Width ]`__ ::\n",
    "\n",
    "❖ **`scrollWidth`** and **`scrollHeight`**: Include the width and height of the complete scrollable area, not just what is visible. Ideal for understanding the full content size inside elements that may have overflowing content."
   ]
  },
  {
   "cell_type": "code",
   "execution_count": null,
   "metadata": {
    "vscode": {
     "languageId": "html"
    }
   },
   "outputs": [],
   "source": [
    "<!DOCTYPE html>\n",
    "<html lang=\"en\">\n",
    "<head>\n",
    "    <meta charset=\"UTF-8\">\n",
    "    <meta name=\"viewport\" content=\"width=device-width, initial-scale=1.0\">\n",
    "    <title>Javascript</title>\n",
    "    <style>\n",
    "        .custom {\n",
    "            width: 300px;\n",
    "            height: 300px;\n",
    "            padding: 20px;\n",
    "            background-color: #EEE;\n",
    "            border: 10px solid #ccc;\n",
    "            margin: 30px;\n",
    "            overflow: scroll;\n",
    "        }\n",
    "        .child {\n",
    "            height: 800px; \n",
    "            width: 800px;\n",
    "            background-color: #00F;\n",
    "            color: #FFF;\n",
    "        }\n",
    "    </style>\n",
    "</head>\n",
    "<body>\n",
    "    <div id=\"main\">\n",
    "        <div id=\"main\" class=\"custom\">\n",
    "            <div class=\"child\">\n",
    "                Child Div\n",
    "            </div>\n",
    "        </div>\n",
    "    </div>\n",
    "\n",
    "\n",
    "    <script src=\"main.js\"></script>\n",
    "    \n",
    "</body>\n",
    "</html>"
   ]
  },
  {
   "cell_type": "code",
   "execution_count": null,
   "metadata": {
    "vscode": {
     "languageId": "javascript"
    }
   },
   "outputs": [],
   "source": [
    "var myMainDiv = document.getElementById('main');\n",
    "\n",
    "console.log(myMainDiv.clientHeight + 'px');\n",
    "// [Log] 360px \n",
    "\n",
    "console.log(myMainDiv.clientWidth + 'px');\n",
    "// [Log] [Log] 1433px\n",
    "\n",
    "console.log(myMainDiv.scrollHeight + 'px');\n",
    "// [Log] 360px \n",
    "\n",
    "console.log(myMainDiv.scrollWidth + 'px');\n",
    "// [Log] [Log] 1433px"
   ]
  },
  {
   "cell_type": "markdown",
   "metadata": {},
   "source": [
    ":: __`Elements - Offset [ Height, Width ]`__ ::\n"
   ]
  },
  {
   "cell_type": "markdown",
   "metadata": {},
   "source": [
    "**`Client Height`:** \n",
    "\n",
    "   ❖ Viewable Area \n",
    "   \n",
    "   ❖ Include Padding \n",
    "   \n",
    "   ❖ No Border \n",
    "   \n",
    "   ❖ No Scroll \n",
    "   \n",
    "   ❖ No Margin \n",
    "   \n",
    "**`Offset Height`:** \n",
    "\n",
    "   ❖ Viewable Area \n",
    "   \n",
    "   ❖ Include Padding \n",
    "   \n",
    "   ❖ Include Border \n",
    "   \n",
    "   ❖ Include Scroll \n",
    "   \n",
    "   ❖ No Margin \n",
    "   \n",
    "**`Scroll Height`:** \n",
    "\n",
    "   ❖ All Area Include Invisible Area \n",
    "   \n",
    "   ❖ Include Padding \n",
    "   \n",
    "   ❖ No Border \n",
    "   \n",
    "   ❖ No Margin \n",
    "   \n",
    "\n",
    "❖ **`offsetWidth`** and **`offsetHeight`**: Include padding, scrollbars, and borders. Useful for total size calculations including decorative styles."
   ]
  },
  {
   "cell_type": "code",
   "execution_count": null,
   "metadata": {
    "vscode": {
     "languageId": "html"
    }
   },
   "outputs": [],
   "source": [
    "<!DOCTYPE html>\n",
    "<html lang=\"en\">\n",
    "<head>\n",
    "    <meta charset=\"UTF-8\">\n",
    "    <meta name=\"viewport\" content=\"width=device-width, initial-scale=1.0\">\n",
    "    <title>Javascript</title>\n",
    "    <style>\n",
    "        .custom {\n",
    "            width: 300px;\n",
    "            height: 300px;\n",
    "            padding: 20px;\n",
    "            background-color: #EEE;\n",
    "            border: 10px solid #F00;\n",
    "            margin: 10px;\n",
    "            overflow: scroll;\n",
    "        }\n",
    "        .child {\n",
    "            height: 800px; \n",
    "            width: 800px;\n",
    "            background-color: #00F;\n",
    "            color: #FFF;\n",
    "        }\n",
    "    </style>\n",
    "</head>\n",
    "<body>\n",
    "    <div id=\"main\">\n",
    "        <div id=\"main\" class=\"custom\">\n",
    "            <div class=\"child\">\n",
    "                Child Div\n",
    "            </div>\n",
    "        </div>\n",
    "    </div>\n",
    "\n",
    "\n",
    "    <script src=\"main.js\"></script>\n",
    "    \n",
    "</body>\n",
    "</html>"
   ]
  },
  {
   "cell_type": "code",
   "execution_count": null,
   "metadata": {
    "vscode": {
     "languageId": "javascript"
    }
   },
   "outputs": [],
   "source": [
    "var myMainDiv = document.getElementById('main');\n",
    "console.log(myMainDiv.offsetHeight);\n",
    "// [Log] 360 \n",
    "console.log(myMainDiv.offsetWidth);\n",
    "// [Log] 1433 "
   ]
  },
  {
   "cell_type": "markdown",
   "metadata": {},
   "source": [
    ":: __`Elements - Scroll [ Top, Left ]`__ ::"
   ]
  },
  {
   "cell_type": "code",
   "execution_count": null,
   "metadata": {
    "vscode": {
     "languageId": "html"
    }
   },
   "outputs": [],
   "source": [
    "<!DOCTYPE html>\n",
    "<html lang=\"en\">\n",
    "<head>\n",
    "    <meta charset=\"UTF-8\">\n",
    "    <meta name=\"viewport\" content=\"width=device-width, initial-scale=1.0\">\n",
    "    <title>Javascript</title>\n",
    "    <style>\n",
    "        body {\n",
    "            height: 4000px; \n",
    "            width: 4000px;\n",
    "        }\n",
    "        .custom {\n",
    "            width: 300px;\n",
    "            height: 300px;\n",
    "            position: fixed;\n",
    "            top: 20px;\n",
    "            left: 40px;\n",
    "            background-color: #EEE;\n",
    "            color: #F00;\n",
    "        }\n",
    "        .active {\n",
    "            background-color: #00F;\n",
    "        }\n",
    "    </style>\n",
    "</head>\n",
    "<body>\n",
    "    <div id=\"main\" class=\"custom\">\n",
    "        My Div\n",
    "    </div>\n",
    "\n",
    "\n",
    "    <script src=\"main.js\"></script>\n",
    "    \n",
    "</body>\n",
    "</html>"
   ]
  },
  {
   "cell_type": "code",
   "execution_count": null,
   "metadata": {
    "vscode": {
     "languageId": "javascript"
    }
   },
   "outputs": [],
   "source": [
    "var myMainDiv = document.getElementById('main');\n",
    "\n",
    "myMainDiv.onclick = function () {\n",
    "    'use strict';\n",
    "    document.documentElement.scrollTop += 100;\n",
    "};"
   ]
  },
  {
   "cell_type": "markdown",
   "metadata": {},
   "source": [
    "❖ Now Everytime You Click in the Div Area You'll Increase the Vertical Scroll by 100 \n",
    "\n",
    "P.S: we used **`document.documetElement`** instead of **`document.body`** because The use of **`document.body.scrollTop`** works in some older browsers and specific contexts.\n",
    "\n",
    "❖ For cross-browser compatibility, especially in modern browsers, you should use **`document.documentElement.scrollTop`**.\n",
    "\n",
    "❖ Now We Want that if the **`scrollTop`** >= 1000 We Want to Add the Class **`Active`** to It. \n"
   ]
  },
  {
   "cell_type": "code",
   "execution_count": null,
   "metadata": {
    "vscode": {
     "languageId": "javascript"
    }
   },
   "outputs": [],
   "source": [
    "var myMainDiv = document.getElementById('main');\n",
    "\n",
    "myMainDiv.onclick = function () {\n",
    "    'use strict';\n",
    "    document.documentElement.scrollTop += 100;\n",
    "\n",
    "    console.log(document.documentElement.scrollTop);\n",
    "    \n",
    "    if (document.documentElement.scrollTop >= 1000) {\n",
    "        this.classList.add('active');\n",
    "    };\n",
    "};"
   ]
  },
  {
   "cell_type": "markdown",
   "metadata": {},
   "source": [
    "❖ Now open the console log in the browser and when you click in the div area you will see a **`100`**  increasing until it reaches **`1000`**\n",
    "\n",
    "❖ When it reaches 1000 the div color becomes blue indicating the active class\n",
    "\n",
    "❖ We can also use **`this.classList.remove`** to remove classes from a div instead of adding them\n",
    "\n",
    "❖ Same thing goes for **`scrollLeft`**\n",
    "\n",
    "❖ there's a script called **`wow.js`** you can learn more about fun animations using javascript; you can check it from this link: \n",
    "\n",
    "[WowJs](https://wowjs.uk)"
   ]
  },
  {
   "cell_type": "markdown",
   "metadata": {},
   "source": [
    ":: __`Elements - Client [ Top, Left ]`__ ::"
   ]
  },
  {
   "cell_type": "code",
   "execution_count": null,
   "metadata": {
    "vscode": {
     "languageId": "html"
    }
   },
   "outputs": [],
   "source": [
    "<!DOCTYPE html>\n",
    "<html lang=\"en\">\n",
    "<head>\n",
    "    <meta charset=\"UTF-8\">\n",
    "    <meta name=\"viewport\" content=\"width=device-width, initial-scale=1.0\">\n",
    "    <title>Javascript</title>\n",
    "    <style>\n",
    "        .custom {\n",
    "            width: 300px;\n",
    "            height: 300px;\n",
    "            border: 20px solid #333;\n",
    "            background-color: #EEE;\n",
    "            color: #F00;\n",
    "        }\n",
    "    </style>\n",
    "</head>\n",
    "<body>\n",
    "    <div id=\"main\" class=\"custom\">\n",
    "        My Div\n",
    "    </div>\n",
    "\n",
    "\n",
    "    <script src=\"main.js\"></script>\n",
    "    \n",
    "</body>\n",
    "</html>"
   ]
  },
  {
   "cell_type": "code",
   "execution_count": null,
   "metadata": {
    "vscode": {
     "languageId": "javascript"
    }
   },
   "outputs": [],
   "source": [
    "var myMainDiv = document.getElementById('main');\n",
    "\n",
    "console.log(myMainDiv.clientLeft);\n",
    "// [Log] 20 \n",
    "\n",
    "console.log(myMainDiv.clientTop);\n",
    "// [Log] 20 "
   ]
  },
  {
   "cell_type": "markdown",
   "metadata": {},
   "source": [
    ":: __`Elements - Style`__ ::\n",
    "\n",
    "**Syntax:**\n",
    "\n",
    "> Element.Style.Property = Value\n",
    "\n",
    "❖ The Styling Is Written in **camelCase** in Js "
   ]
  },
  {
   "cell_type": "code",
   "execution_count": null,
   "metadata": {
    "vscode": {
     "languageId": "html"
    }
   },
   "outputs": [],
   "source": [
    "<!DOCTYPE html>\n",
    "<html lang=\"en\">\n",
    "<head>\n",
    "    <meta charset=\"UTF-8\">\n",
    "    <meta name=\"viewport\" content=\"width=device-width, initial-scale=1.0\">\n",
    "    <title>Javascript</title>\n",
    "</head>\n",
    "<body>\n",
    "    <div id=\"main\">\n",
    "        My Div\n",
    "    </div>\n",
    "\n",
    "\n",
    "    <script src=\"main.js\"></script>\n",
    "    \n",
    "</body>\n",
    "</html>"
   ]
  },
  {
   "cell_type": "code",
   "execution_count": null,
   "metadata": {
    "vscode": {
     "languageId": "javascript"
    }
   },
   "outputs": [],
   "source": [
    "var myMainDiv = document.getElementById('main');\n",
    "\n",
    "myMainDiv.style.backgroundColor = '#FF0000';\n",
    "myMainDiv.style.padding = '10px';\n",
    "myMainDiv.style.color = '#FFF';\n",
    "myMainDiv.style.fontWeight = '900';\n",
    "myMainDiv.style.fontSize = '30px';"
   ]
  },
  {
   "cell_type": "markdown",
   "metadata": {},
   "source": [
    ":: __`Document - InputEncoding, LastModified, Url`__ ::"
   ]
  },
  {
   "cell_type": "code",
   "execution_count": null,
   "metadata": {
    "vscode": {
     "languageId": "html"
    }
   },
   "outputs": [],
   "source": [
    "<!DOCTYPE html>\n",
    "<html lang=\"en\">\n",
    "<head>\n",
    "    <meta charset=\"UTF-8\">\n",
    "    <meta name=\"viewport\" content=\"width=device-width, initial-scale=1.0\">\n",
    "    <title>Javascript</title>\n",
    "</head>\n",
    "<body>\n",
    "    <div id=\"main\">\n",
    "        My Div\n",
    "    </div>\n",
    "\n",
    "\n",
    "    <script src=\"main.js\"></script>\n",
    "    \n",
    "</body>\n",
    "</html>"
   ]
  },
  {
   "cell_type": "code",
   "execution_count": null,
   "metadata": {
    "vscode": {
     "languageId": "javascript"
    }
   },
   "outputs": [],
   "source": [
    "var myMainDiv = document.getElementById('main');\n",
    "\n",
    "console.log(document.inputEncoding);\n",
    "// [Log] UTF-8 \n",
    "\n",
    "console.log(document.lastModified);\n",
    "// [Log] 04/27/2024 23:19:10 \n",
    "\n",
    "console.log(document.URL);\n",
    "// [Log] http://127.0.0.1:5500/Web/index.html "
   ]
  },
  {
   "cell_type": "markdown",
   "metadata": {},
   "source": [
    "❖ **inputEncoding** is deprecated, the new feature for it is **characterSet**"
   ]
  },
  {
   "cell_type": "markdown",
   "metadata": {},
   "source": [
    ":: __`Document - Create [ Element, Text, Comment ]`__ ::"
   ]
  },
  {
   "cell_type": "code",
   "execution_count": null,
   "metadata": {
    "vscode": {
     "languageId": "html"
    }
   },
   "outputs": [],
   "source": [
    "<!DOCTYPE html>\n",
    "<html lang=\"en\">\n",
    "<head>\n",
    "    <meta charset=\"UTF-8\">\n",
    "    <meta name=\"viewport\" content=\"width=device-width, initial-scale=1.0\">\n",
    "    <title>Javascript</title>\n",
    "</head>\n",
    "<body>\n",
    "\n",
    "\n",
    "\n",
    "    <script src=\"main.js\"></script>\n",
    "    \n",
    "</body>\n",
    "</html>"
   ]
  },
  {
   "cell_type": "code",
   "execution_count": null,
   "metadata": {
    "vscode": {
     "languageId": "javascript"
    }
   },
   "outputs": [],
   "source": [
    "// Create the Main Element\n",
    "var myElement = document.createElement('div');\n",
    "\n",
    "// Append to Body\n",
    "document.body.appendChild(myElement);\n",
    "\n",
    "// Create Text Node\n",
    "var myText = document.createTextNode('This Div Created with Javascript');\n",
    "\n",
    "// Create Comment\n",
    "var myComment = document.createComment('This Comment Is Created with Javascript');\n",
    "\n",
    "// Add the Comment to My Created Element\n",
    "myElement.appendChild(myComment);\n",
    "\n",
    "\n",
    "// Add the Text to My Created Element\n",
    "myElement.appendChild(myText);"
   ]
  },
  {
   "cell_type": "markdown",
   "metadata": {},
   "source": [
    ":: __`Document - Create Attribute`__ ::"
   ]
  },
  {
   "cell_type": "code",
   "execution_count": null,
   "metadata": {
    "vscode": {
     "languageId": "html"
    }
   },
   "outputs": [],
   "source": [
    "<!DOCTYPE html>\n",
    "<html lang=\"en\">\n",
    "<head>\n",
    "    <meta charset=\"UTF-8\">\n",
    "    <meta name=\"viewport\" content=\"width=device-width, initial-scale=1.0\">\n",
    "    <title>Javascript</title>\n",
    "</head>\n",
    "<body>\n",
    "\n",
    "    <div id=\"main\">My Main Div</div>\n",
    "\n",
    "    <script src=\"main.js\"></script>\n",
    "    \n",
    "</body>\n",
    "</html>"
   ]
  },
  {
   "cell_type": "code",
   "execution_count": null,
   "metadata": {
    "vscode": {
     "languageId": "javascript"
    }
   },
   "outputs": [],
   "source": [
    "var myElement = document.getElementById('main'), \n",
    "    myAttr = document.createAttribute('class'),\n",
    "    mySecondAttr = document.createAttribute('title');\n",
    "\n",
    "myAttr.value = 'custom';\n",
    "mySecondAttr.value = 'zero';\n",
    "\n",
    "\n",
    "myElement.setAttributeNode(myAttr);\n",
    "myElement.setAttributeNode(mySecondAttr);"
   ]
  },
  {
   "cell_type": "markdown",
   "metadata": {},
   "source": [
    ":: __`Events - How To Write All Methods`__ ::"
   ]
  },
  {
   "cell_type": "code",
   "execution_count": null,
   "metadata": {
    "vscode": {
     "languageId": "html"
    }
   },
   "outputs": [],
   "source": [
    "<!DOCTYPE html>\n",
    "<html lang=\"en\">\n",
    "<head>\n",
    "    <meta charset=\"UTF-8\">\n",
    "    <meta name=\"viewport\" content=\"width=device-width, initial-scale=1.0\">\n",
    "    <title>Javascript</title>\n",
    "</head>\n",
    "<body>\n",
    "\n",
    "    <div id=\"main\">My Main Div</div>\n",
    "    <button onclick=\"changeMe()\">Red</button>\n",
    "    <button id=\"green\">Green</button>\n",
    "    <button id=\"blue\">Green</button>\n",
    "\n",
    "    <script src=\"main.js\"></script>\n",
    "    \n",
    "</body>\n",
    "</html>"
   ]
  },
  {
   "cell_type": "code",
   "execution_count": null,
   "metadata": {
    "vscode": {
     "languageId": "javascript"
    }
   },
   "outputs": [],
   "source": [
    "var myElement = document.getElementById('main'),\n",
    "    myGreenButton = document.getElementById('green'),\n",
    "    myBlueButton = document.getElementById('blue');\n",
    "\n",
    "\n",
    "myGreenButton.onclick = function () {\n",
    "    'use strict'; \n",
    "    myElement.style.color = 'green';\n",
    "};\n",
    "\n",
    "function changeMe() {\n",
    "    'use strict'; \n",
    "    myElement.style.color = 'red';\n",
    "};\n",
    "\n",
    "function changeBlue() {\n",
    "    'use strict'; \n",
    "    myElement.style.color = 'blue';\n",
    "};\n",
    "\n",
    "myBlueButton.onclick = changeBlue;"
   ]
  },
  {
   "cell_type": "markdown",
   "metadata": {},
   "source": [
    ":: __`Events - Onfocus, OnBlur, OnSubmit`__ ::"
   ]
  },
  {
   "cell_type": "code",
   "execution_count": null,
   "metadata": {
    "vscode": {
     "languageId": "html"
    }
   },
   "outputs": [],
   "source": [
    "<!DOCTYPE html>\n",
    "<html lang=\"en\">\n",
    "<head>\n",
    "    <meta charset=\"UTF-8\">\n",
    "    <meta name=\"viewport\" content=\"width=device-width, initial-scale=1.0\">\n",
    "    <title>Javascript</title>\n",
    "</head>\n",
    "<body>\n",
    "\n",
    "    <form id=\"main\">\n",
    "        <input type=\"text\" id=\"input\">\n",
    "        <input type=\"submit\" value=\"Go\">\n",
    "    </form>\n",
    "    <div id=\"notic\"></div>\n",
    "\n",
    "    <script src=\"main.js\"></script>\n",
    "    \n",
    "</body>\n",
    "</html>"
   ]
  },
  {
   "cell_type": "code",
   "execution_count": null,
   "metadata": {
    "vscode": {
     "languageId": "javascript"
    }
   },
   "outputs": [],
   "source": [
    "var myElement = document.getElementById('main'),\n",
    "    myNote = document.getElementById('notic'),\n",
    "    myInput = document.getElementById('input');\n",
    "\n",
    "myInput.onfocus = function () {\n",
    "    'use strict';\n",
    "    myNote.textContent = 'Please don\\'t forget to write a strong password'\n",
    "};\n",
    "\n",
    "\n",
    "myInput.onblur = function () {\n",
    "    'use strict';\n",
    "    myNote.textContent = ''\n",
    "};"
   ]
  },
  {
   "cell_type": "markdown",
   "metadata": {},
   "source": [
    "❖ Now when You Put the Mouse in the Forum You Will Have the Password Reminder Message, when You Click Away the Message Disappears\n",
    "\n",
    "❖ Now Let's Add that if the Password Is Less than 10 Characters the Div Message Will Change"
   ]
  },
  {
   "cell_type": "code",
   "execution_count": null,
   "metadata": {
    "vscode": {
     "languageId": "javascript"
    }
   },
   "outputs": [],
   "source": [
    "var myElement = document.getElementById('main'),\n",
    "    myNote = document.getElementById('notic'),\n",
    "    myInput = document.getElementById('input');\n",
    "\n",
    "myInput.onfocus = function () {\n",
    "    'use strict';\n",
    "    myNote.textContent = 'Please don\\'t forget to write a strong password'\n",
    "};\n",
    "\n",
    "\n",
    "myInput.onblur = function () {\n",
    "    'use strict';\n",
    "    myNote.textContent = ''\n",
    "    if (myInput.value.length < 10) {\n",
    "        myNote.textContent = 'Sorry Your Password Must Be at Least 10 Characters Long'\n",
    "    }\n",
    "};"
   ]
  },
  {
   "cell_type": "markdown",
   "metadata": {},
   "source": [
    "❖ Now if You Typed Less than 10 Characters and Clicked Away From the Forum the **`Sorry Div Message`** Will Appear\n",
    "\n",
    "❖ and if You Come Back to the Forum and Exceeded the 10 Characters Then You Clicked Away; **No Message Will Appear**\n",
    "\n",
    "❖ Now We Want to Make that if if the Characters Are Less than 10 the **`Go Submit Button`** Won't Work, Else It Will Submit Normally"
   ]
  },
  {
   "cell_type": "code",
   "execution_count": null,
   "metadata": {
    "vscode": {
     "languageId": "javascript"
    }
   },
   "outputs": [],
   "source": [
    "var myElement = document.getElementById('main'),\n",
    "    myNote = document.getElementById('notic'),\n",
    "    myInput = document.getElementById('input');\n",
    "\n",
    "myInput.onfocus = function () {\n",
    "    'use strict';\n",
    "    myNote.textContent = 'Please don\\'t forget to write a strong password'\n",
    "};\n",
    "\n",
    "myInput.onblur = function () {\n",
    "    'use strict';\n",
    "    myNote.textContent = ''\n",
    "    if (myInput.value.length < 10) {\n",
    "        myElement.onsubmit = function (e) {\n",
    "            'use strict';\n",
    "            e.preventDefault();\n",
    "        };\n",
    "        myNote.textContent = 'Sorry Your Password Must Be at Least 10 Characters Long'\n",
    "    } else {\n",
    "        myElement.onsubmit = function () {\n",
    "            return true\n",
    "        }\n",
    "    };\n",
    "    \n",
    "};"
   ]
  },
  {
   "cell_type": "markdown",
   "metadata": {},
   "source": [
    "❖ The **`e.preventDefault()`** Prevent the Normal Submit Behaviour Incase the Characters Are < 10\n"
   ]
  },
  {
   "cell_type": "markdown",
   "metadata": {},
   "source": [
    ":: __`Events - OnClick, OnDblClick, OnMousEnter`__ ::"
   ]
  },
  {
   "cell_type": "code",
   "execution_count": null,
   "metadata": {
    "vscode": {
     "languageId": "html"
    }
   },
   "outputs": [],
   "source": [
    "<!DOCTYPE html>\n",
    "<html lang=\"en\">\n",
    "<head>\n",
    "    <meta charset=\"UTF-8\">\n",
    "    <meta name=\"viewport\" content=\"width=device-width, initial-scale=1.0\">\n",
    "    <title>Javascript</title>\n",
    "</head>\n",
    "<body>\n",
    "\n",
    "    <button id=\"main\">One Click</button>\n",
    "    <button id=\"dbl\">Double Click</button>\n",
    "    <button id=\"disable\">Disable Right Click</button>\n",
    "    <div id=\"notic\"></div>\n",
    "\n",
    "    <script src=\"main.js\"></script>\n",
    "    \n",
    "</body>\n",
    "</html>"
   ]
  },
  {
   "cell_type": "code",
   "execution_count": null,
   "metadata": {
    "vscode": {
     "languageId": "javascript"
    }
   },
   "outputs": [],
   "source": [
    "var myElement = document.getElementById('main'),\n",
    "    dblButton = document.getElementById('dbl'),\n",
    "    disableButton = document.getElementById('disable'),\n",
    "    myNote = document.getElementById('notic');\n",
    "\n",
    "myElement.onclick = function () {\n",
    "    'use strict';\n",
    "    myNote.textContent = 'You Clicked on Element';\n",
    "};\n",
    "\n",
    "dblButton.ondblclick = function () {\n",
    "    myNote.textContent = 'You Double Clicked the the Element';\n",
    "};\n",
    "\n",
    "disableButton.oncontextmenu = function (e) {\n",
    "    e.preventDefault(); \n",
    "    myNote.textContent = 'You Can\\'t Right Click on This Button';\n",
    "};"
   ]
  },
  {
   "cell_type": "markdown",
   "metadata": {},
   "source": [
    "❖ **`The One Click Button`** => when you click on the button you will get a message\n",
    "\n",
    "❖ **`The Double Click Button`** => when you Double click on the button you will get a message\n",
    "\n",
    "❖ **`The Disable Click Button`** => when you try to right click on the button you can't, and you'll get a message\n"
   ]
  },
  {
   "cell_type": "markdown",
   "metadata": {},
   "source": [
    "**P.S** You Can Disable the Right Click on the Entire Web Page Using This Javascript Code:"
   ]
  },
  {
   "cell_type": "code",
   "execution_count": null,
   "metadata": {
    "vscode": {
     "languageId": "javascript"
    }
   },
   "outputs": [],
   "source": [
    "window.oncontextmenu = function (e) {\n",
    "    e.preventDefault(); \n",
    "    myNote.textContent = 'You Can\\'t Right Click on This Window';\n",
    "};"
   ]
  },
  {
   "cell_type": "markdown",
   "metadata": {},
   "source": [
    "There's Also **Mouse Enter** and **Mouse Leave** Events"
   ]
  },
  {
   "cell_type": "code",
   "execution_count": null,
   "metadata": {
    "vscode": {
     "languageId": "html"
    }
   },
   "outputs": [],
   "source": [
    "<!DOCTYPE html>\n",
    "<html lang=\"en\">\n",
    "<head>\n",
    "    <meta charset=\"UTF-8\">\n",
    "    <meta name=\"viewport\" content=\"width=device-width, initial-scale=1.0\">\n",
    "    <title>Javascript</title>\n",
    "</head>\n",
    "<body>\n",
    "\n",
    "    <button id=\"hover\">Hove Over Me</button>\n",
    "    <div id=\"notic\"></div>\n",
    "\n",
    "    <script src=\"main.js\"></script>\n",
    "    \n",
    "</body>\n",
    "</html>"
   ]
  },
  {
   "cell_type": "code",
   "execution_count": null,
   "metadata": {
    "vscode": {
     "languageId": "javascript"
    }
   },
   "outputs": [],
   "source": [
    "var btnHover = document.getElementById('hover'),\n",
    "    myNote = document.getElementById('notic');\n",
    "\n",
    "btnHover.onmouseenter = function () {\n",
    "    'use strict';\n",
    "    myNote.textContent = 'You Hoverd over Me!';\n",
    "};\n",
    "\n",
    "btnHover.onmouseleave = function () {\n",
    "    'use strict';\n",
    "    myNote.textContent = 'Hey! Come Back Here!';\n",
    "};"
   ]
  },
  {
   "cell_type": "markdown",
   "metadata": {},
   "source": [
    ":: __`Events - OnKey [ Up, Down, Press ]`__ ::"
   ]
  },
  {
   "cell_type": "code",
   "execution_count": null,
   "metadata": {
    "vscode": {
     "languageId": "html"
    }
   },
   "outputs": [],
   "source": [
    "<!DOCTYPE html>\n",
    "<html lang=\"en\">\n",
    "<head>\n",
    "    <meta charset=\"UTF-8\">\n",
    "    <meta name=\"viewport\" content=\"width=device-width, initial-scale=1.0\">\n",
    "    <title>Javascript</title>\n",
    "</head>\n",
    "<body>\n",
    "\n",
    "    <form id=\"main\">\n",
    "        <input type=\"text\" id=\"input\" autocomplete=\"off\">\n",
    "    </form>\n",
    "\n",
    "    <div id=\"notice\"></div>\n",
    "    <script src=\"main.js\"></script>\n",
    "    \n",
    "</body>\n",
    "</html>"
   ]
  },
  {
   "cell_type": "code",
   "execution_count": null,
   "metadata": {
    "vscode": {
     "languageId": "javascript"
    }
   },
   "outputs": [],
   "source": [
    "var myElemt = document.getElementById('main'),\n",
    "    myInput = document.getElementById('input'),\n",
    "    myNote = document.getElementById('notice');\n",
    "\n",
    "myInput.onkeyup = function () {\n",
    "    'use strict';\n",
    "    myNote.textContent = this.value;\n",
    "};"
   ]
  },
  {
   "cell_type": "markdown",
   "metadata": {},
   "source": [
    "❖ The Text You Type in the Form Will Also Be Displayed in the **Div** Below It "
   ]
  },
  {
   "cell_type": "markdown",
   "metadata": {},
   "source": [
    ":: __`Outro & References`__ ::"
   ]
  },
  {
   "cell_type": "markdown",
   "metadata": {},
   "source": [
    "❖ **`JS Events`** => [Dottoro Web Reference](http://help.dottoro.com/larrqqck.php)\n",
    "\n",
    "❖ **`HTML DOM Events`** => [W3 Schools Reference](https://www.w3schools.com/js/js_htmldom_events.asp)\n",
    "\n",
    "❖ **`Document Object Model (DOM)`** => [MDN Mozilla Reference](https://developer.mozilla.org/en-US/docs/Web/API/Document_Object_Model)\n"
   ]
  }
 ],
 "metadata": {
  "kernelspec": {
   "display_name": "Python 3 (ipykernel)",
   "language": "python",
   "name": "python3"
  },
  "language_info": {
   "codemirror_mode": {
    "name": "ipython",
    "version": 3
   },
   "file_extension": ".py",
   "mimetype": "text/x-python",
   "name": "python",
   "nbconvert_exporter": "python",
   "pygments_lexer": "ipython3",
   "version": "3.9.6"
  }
 },
 "nbformat": 4,
 "nbformat_minor": 4
}
