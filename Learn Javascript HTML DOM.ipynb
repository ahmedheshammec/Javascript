{
 "cells": [
  {
   "cell_type": "markdown",
   "metadata": {},
   "source": [
    "__`DOM`__ Stands for Document Object Model\n",
    "\n",
    "__Whats is DOM?__ \n",
    "\n",
    "DOM is a Programming Interface For HTML, XML\n",
    "\n",
    ":: __`DOM Tree`__ ::\n",
    "\n",
    "![Dom Tree](https://i.imgur.com/DFByLZE.jpeg)"
   ]
  },
  {
   "cell_type": "markdown",
   "metadata": {},
   "source": [
    ":: __`Example`__ :: \n",
    "\n",
    "Creating a Paragraph Element Using Js DOM"
   ]
  },
  {
   "cell_type": "code",
   "execution_count": null,
   "metadata": {
    "vscode": {
     "languageId": "javascript"
    }
   },
   "outputs": [],
   "source": [
    "// main.js\n",
    "var myP = document.createElement('p'), \n",
    "    myPText = document.createTextNode('This Paragraph Created with Javascript');\n",
    "    \n",
    "myP.appendChild(myPText); \n",
    "\n",
    "document.body.appendChild(myP);"
   ]
  },
  {
   "cell_type": "code",
   "execution_count": null,
   "metadata": {
    "vscode": {
     "languageId": "html"
    }
   },
   "outputs": [],
   "source": [
    "<!-- index.html -->\n",
    "<!DOCTYPE html>\n",
    "<html lang=\"en\">\n",
    "<head>\n",
    "    <meta charset=\"UTF-8\">\n",
    "    <meta name=\"viewport\" content=\"width=device-width, initial-scale=1.0\">\n",
    "    <title>Index</title>\n",
    "</head>\n",
    "<body>\n",
    "    <script src=\"main.js\"></script>\n",
    "</body>\n",
    "</html>"
   ]
  },
  {
   "cell_type": "markdown",
   "metadata": {},
   "source": [
    "This Will Create the Text `This Paragraph Created with Javascript` in the Html File\n",
    "\n",
    ":: __`Find DOM Elements [ID, Class, Tag]`__ ::\n",
    "\n",
    "`[1]` - `document.getElementByID()` => Imagine you have a bunch of boxes in a room, each with a unique nametag. `document.getElementById()` is like saying \"Hey, find me the box with the nametag that says [name]!\" in JavaScript. It lets you grab a specific element on a webpage by its unique ID, super quick and easy!\n",
    "\n",
    "❖ Remember, just like nametags have to be unique, element IDs in a webpage should be unique too.\n",
    "\n",
    "⟶ Let's Change a Text in the Html File to Something Else Using Js.\n"
   ]
  },
  {
   "cell_type": "code",
   "execution_count": null,
   "metadata": {
    "vscode": {
     "languageId": "html"
    }
   },
   "outputs": [],
   "source": [
    "<!-- index.html -->\n",
    "<!DOCTYPE html>\n",
    "<html lang=\"en\">\n",
    "<head>\n",
    "    <meta charset=\"UTF-8\">\n",
    "    <meta name=\"viewport\" content=\"width=device-width, initial-scale=1.0\">\n",
    "    <title>Index</title>\n",
    "</head>\n",
    "<body>\n",
    "    <div id=\"test\">Hello</div>\n",
    "    <script src=\"main.js\"></script>\n",
    "</body>\n",
    "</html>"
   ]
  },
  {
   "cell_type": "code",
   "execution_count": null,
   "metadata": {
    "vscode": {
     "languageId": "javascript"
    }
   },
   "outputs": [],
   "source": [
    "// main.js\n",
    "var myDiv = document.getElementById('test'); \n",
    "myDiv.innerHTML = 'Changed by Javascript';"
   ]
  },
  {
   "cell_type": "markdown",
   "metadata": {},
   "source": [
    "This Will Change the Test `Hello` to `Changed by Javascript`"
   ]
  },
  {
   "cell_type": "markdown",
   "metadata": {},
   "source": [
    "`[2]` - `document.getElementsByTagName()` => Imagine you have a bunch of boxes in a room, all the same type (like shoeboxes). `document.getElementsByTagName()` is like saying \"Hey, find me all the shoeboxes in the room!\" in JavaScript. It lets you grab a collection of elements on a webpage with the same tag name, like all the `<h1>` tags or all the `<p>` tags.\n",
    "\n",
    "❖ It's not as specific as `getElementById()`, but it's handy when you want to work with a group of similar elements. Just remember, you might need to loop through the collection to access each element individually.\n",
    "\n",
    "❖ Let's Get the Number of Divs in Our Page Using Js"
   ]
  },
  {
   "cell_type": "code",
   "execution_count": null,
   "metadata": {
    "vscode": {
     "languageId": "html"
    }
   },
   "outputs": [],
   "source": [
    "<!-- index.html -->\n",
    "<!DOCTYPE html>\n",
    "<html lang=\"en\">\n",
    "<head>\n",
    "    <meta charset=\"UTF-8\">\n",
    "    <meta name=\"viewport\" content=\"width=device-width, initial-scale=1.0\">\n",
    "    <title>Index</title>\n",
    "</head>\n",
    "<body>\n",
    "    <div id=\"test\">Hello</div>\n",
    "    <div id=\"test2\">Hello</div>\n",
    "    <p>This is P</p>\n",
    "    <p>This is P</p>\n",
    "    <script src=\"main.js\"></script>\n",
    "</body>\n",
    "</html>"
   ]
  },
  {
   "cell_type": "code",
   "execution_count": null,
   "metadata": {
    "vscode": {
     "languageId": "javascript"
    }
   },
   "outputs": [],
   "source": [
    "// main.js\n",
    "var myElement = document.getElementsByTagName('div'); \n",
    "console.log(myElement.length);\n",
    "// show the number of elements who's name is `div`\n",
    "// output: 2"
   ]
  },
  {
   "cell_type": "markdown",
   "metadata": {},
   "source": [
    "We Can Use Indexing with the Element to Change the Text for Example"
   ]
  },
  {
   "cell_type": "code",
   "execution_count": null,
   "metadata": {
    "vscode": {
     "languageId": "html"
    }
   },
   "outputs": [],
   "source": [
    "<!DOCTYPE html>\n",
    "<html lang=\"en\">\n",
    "<head>\n",
    "    <meta charset=\"UTF-8\">\n",
    "    <meta name=\"viewport\" content=\"width=device-width, initial-scale=1.0\">\n",
    "    <title>Index</title>\n",
    "</head>\n",
    "<body>\n",
    "    <div id=\"test\">Hello</div>\n",
    "    <div id=\"test2\">Hello</div>\n",
    "    <p>This is P</p>\n",
    "    <p>This is P</p>\n",
    "    <script src=\"main.js\"></script>\n",
    "</body>\n",
    "</html>"
   ]
  },
  {
   "cell_type": "code",
   "execution_count": null,
   "metadata": {
    "vscode": {
     "languageId": "javascript"
    }
   },
   "outputs": [],
   "source": [
    "var myElement = document.getElementsByTagName('div'); \n",
    "myElement[1].innerHTML = 'Changed by Javascript'\n",
    "// change the secend `div` text to `Changed by Javascript`"
   ]
  },
  {
   "cell_type": "markdown",
   "metadata": {},
   "source": [
    "`[3]` - `document.getElementsByClassName()` => Finds all HTML elements within a document (or a specified element) that have a specific class name.\n",
    "\n",
    "❖ Returns An array-like collection (called an HTMLCollection) containing the matching elements.\n",
    "\n",
    "❖ Not Compatible with IE 8"
   ]
  },
  {
   "cell_type": "code",
   "execution_count": null,
   "metadata": {
    "vscode": {
     "languageId": "html"
    }
   },
   "outputs": [],
   "source": [
    "<!DOCTYPE html>\n",
    "<html lang=\"en\">\n",
    "<head>\n",
    "    <meta charset=\"UTF-8\">\n",
    "    <meta name=\"viewport\" content=\"width=device-width, initial-scale=1.0\">\n",
    "    <title>Index</title>\n",
    "</head>\n",
    "<body>\n",
    "    <div class=\"test\">Hello</div>\n",
    "    <div class=\"test\">Hello</div>\n",
    "    <p class=\"test\">This is P</p>\n",
    "    <p>This is P</p>\n",
    "    <script src=\"main.js\"></script>\n",
    "</body>\n",
    "</html>"
   ]
  },
  {
   "cell_type": "code",
   "execution_count": null,
   "metadata": {
    "vscode": {
     "languageId": "javascript"
    }
   },
   "outputs": [],
   "source": [
    "var myElement = document.getElementsByClassName('test'); \n",
    "myElement[0].innerHTML = 'Changed by Javascript'\n",
    "// change the first class with the name `test` text to `Changed by Javascript`\n",
    "console.log(myElement.length);\n",
    "// 3"
   ]
  },
  {
   "cell_type": "markdown",
   "metadata": {},
   "source": [
    "`[4]` - `document.querySelectorAll()` => Finds all elements in the HTML document (or a specific element) that match a given CSS selector (similar to how you style elements with CSS).\n",
    "\n",
    "❖ Returns a list of matching elements, but unlike `getElementsByClassName()`, it's not a live list, meaning changes to the DOM won't automatically update it.\n",
    "\n",
    "❖ More powerful than `getElementsByClassName()` as it allows you to select elements based on various criteria, like ID, attributes, tag names, etc.\n",
    "\n",
    "❖ Easier to navigate and manipulate the selected elements directly.\n",
    "\n",
    "❖ Use `querySelectorAll()` when you need more flexibility and precision in selecting elements based on various criteria.\n",
    "\n",
    "❖ Not Compatible with IE 8"
   ]
  },
  {
   "cell_type": "code",
   "execution_count": null,
   "metadata": {
    "vscode": {
     "languageId": "html"
    }
   },
   "outputs": [],
   "source": [
    "<!DOCTYPE html>\n",
    "<html lang=\"en\">\n",
    "<head>\n",
    "    <meta charset=\"UTF-8\">\n",
    "    <meta name=\"viewport\" content=\"width=device-width, initial-scale=1.0\">\n",
    "    <title>Index</title>\n",
    "</head>\n",
    "<body>\n",
    "    <div class=\"test\">Hello</div>\n",
    "    <div class=\"test\">Hello</div>\n",
    "    <p class=\"test\">This is P</p>\n",
    "    <p>This is P</p>\n",
    "    <script src=\"main.js\"></script>\n",
    "</body>\n",
    "</html>"
   ]
  },
  {
   "cell_type": "code",
   "execution_count": null,
   "metadata": {
    "vscode": {
     "languageId": "javascript"
    }
   },
   "outputs": [],
   "source": [
    "var myElement = document.querySelectorAll('p.test'); \n",
    "myElement[0].innerHTML = 'Changed by Javascript'\n",
    "// change the first paragraph query with the name `test` text to `Changed by Javascript`"
   ]
  },
  {
   "cell_type": "markdown",
   "metadata": {},
   "source": [
    ":: __`Find Elements by Objects Part 1`__ ::\n",
    "\n",
    ":: __`document.title`__ ::"
   ]
  },
  {
   "cell_type": "code",
   "execution_count": null,
   "metadata": {
    "vscode": {
     "languageId": "html"
    }
   },
   "outputs": [],
   "source": [
    "<!DOCTYPE html>\n",
    "<html lang=\"en\">\n",
    "<head>\n",
    "    <meta charset=\"UTF-8\">\n",
    "    <meta name=\"viewport\" content=\"width=device-width, initial-scale=1.0\">\n",
    "    <title>Javascript => Find Elements By Object Collection</title>\n",
    "</head>\n",
    "<body>\n",
    "    <div id=\"show\"></div>\n",
    "    <script src=\"main.js\"></script>\n",
    "</body>\n",
    "</html>"
   ]
  },
  {
   "cell_type": "code",
   "execution_count": null,
   "metadata": {
    "vscode": {
     "languageId": "javascript"
    }
   },
   "outputs": [],
   "source": [
    "var myDiv = document.getElementById('show')\n",
    "\n",
    "myDiv.innerHTML = document.title;"
   ]
  },
  {
   "cell_type": "markdown",
   "metadata": {},
   "source": [
    ":: __`document.images`__ ::"
   ]
  },
  {
   "cell_type": "code",
   "execution_count": null,
   "metadata": {
    "vscode": {
     "languageId": "html"
    }
   },
   "outputs": [],
   "source": [
    "<!DOCTYPE html>\n",
    "<html lang=\"en\">\n",
    "<head>\n",
    "    <meta charset=\"UTF-8\">\n",
    "    <meta name=\"viewport\" content=\"width=device-width, initial-scale=1.0\">\n",
    "    <title>Javascript => Find Elements By Object Collection</title>\n",
    "</head>\n",
    "<body>\n",
    "    <div id=\"show\"></div>\n",
    "    <img src=\"http://placehold.it/100/100\">\n",
    "    <img src=\"http://placehold.it/200/DDD\">\n",
    "    <img src=\"http://placehold.it/100/EEE\">\n",
    "    <img src=\"http://placehold.it/200/CCC\">\n",
    "    <script src=\"main.js\"></script>\n",
    "</body>\n",
    "</html>"
   ]
  },
  {
   "cell_type": "code",
   "execution_count": null,
   "metadata": {
    "vscode": {
     "languageId": "javascript"
    }
   },
   "outputs": [],
   "source": [
    "var myDiv = document.getElementById('show')\n",
    "\n",
    "myDiv.innerHTML = document.images.length;\n",
    "// Show the Number of Images "
   ]
  },
  {
   "cell_type": "markdown",
   "metadata": {},
   "source": [
    "We Can Also Get the Src of One of the Images"
   ]
  },
  {
   "cell_type": "code",
   "execution_count": null,
   "metadata": {
    "vscode": {
     "languageId": "javascript"
    }
   },
   "outputs": [],
   "source": [
    "var myDiv = document.getElementById('show')\n",
    "\n",
    "myDiv.innerHTML = document.images[0].src;\n",
    "// Show the Src of the First Images "
   ]
  },
  {
   "cell_type": "markdown",
   "metadata": {},
   "source": [
    "Now We Want to Combine the Two Commands to Show the Number of Images and the Src of the First Img, How Can We Do that ? "
   ]
  },
  {
   "cell_type": "code",
   "execution_count": null,
   "metadata": {
    "vscode": {
     "languageId": "javascript"
    }
   },
   "outputs": [],
   "source": [
    "var myDiv = document.getElementById('show')\n",
    "\n",
    "myDiv.innerHTML = \"Number of images: \" + document.images.length + \"<br>First image source: \" + (document.images.length > 0 ? document.images[0].src : \"No images\");\n",
    "// Combine the Two Commands"
   ]
  },
  {
   "cell_type": "markdown",
   "metadata": {},
   "source": [
    "you will get something like this: \n",
    "\n",
    "![Combine Two Commands](https://i.imgur.com/yzaaPpg.png) "
   ]
  },
  {
   "cell_type": "markdown",
   "metadata": {},
   "source": [
    "1. `\"Number of images: \" + document.images.length` - This part concatenates the text \"Number of images: \" with the total number of images in the document.\n",
    "\n",
    "2. `\"<br>\"` - Adds a line break to separate the two pieces of information.\n",
    "\n",
    "3. `\"First image source: \" + (document.images.length > 0 ? document.images[0].src : \"No images\")` - This part checks if there are any images in the document. If there are (`document.images.length > 0`), it concatenates the source URL of the first image (`document.images[0].src`). If there are no images, it displays \"No images\".\n",
    "\n",
    "The line `(document.images.length > 0 ? document.images[0].src : \"No images\")` is using what's known as the ternary operator, which is a shorthand way of writing an `if-else` statement in many programming languages, including JavaScript. The ternary operator is often used for simple conditional assignments.\n",
    "\n",
    "The ternary operator consists of three parts:\n",
    "\n",
    "1. **Condition**: `(document.images.length > 0)`\n",
    "\n",
    "2. **First Expression (if the condition is true)**: `document.images[0].src`\n",
    "\n",
    "3. **Second Expression (if the condition is false)**: `\"No images\"`\n",
    "\n",
    "\n",
    "The syntax is: `condition ? expression_if_true : expression_if_false`\n",
    "\n",
    "Here's how it works in our case:\n",
    "\n",
    "- **Condition**: `document.images.length > 0` checks if there is at least one image in the document. If there is, this condition evaluates to `true`.\n",
    "\n",
    "- **First Expression**: If the condition is `true` (meaning there are one or more images), the expression `document.images[0].src` is evaluated and its result is used. This expression gets the source URL (`src`) of the first image (`document.images[0]`).\n",
    "\n",
    "- **Second Expression**: If the condition is `false` (meaning there are no images), the string `\"No images\"` is used.\n",
    "\n",
    "\n",
    "So, in a more traditional `if-else` statement, this would look like:"
   ]
  },
  {
   "cell_type": "code",
   "execution_count": null,
   "metadata": {
    "vscode": {
     "languageId": "javascript"
    }
   },
   "outputs": [],
   "source": [
    "let imageSrc;\n",
    "if (document.images.length > 0) {\n",
    "    imageSrc = document.images[0].src;\n",
    "} else {\n",
    "    imageSrc = \"No images\";\n",
    "}"
   ]
  },
  {
   "cell_type": "markdown",
   "metadata": {},
   "source": [
    "The ternary operator provides a more concise way to write this, especially when you're just assigning a value based on a condition."
   ]
  },
  {
   "cell_type": "markdown",
   "metadata": {},
   "source": [
    ":: __`Note`__ :: We Can Also Use the for Loop to Show Every Image Src"
   ]
  },
  {
   "cell_type": "code",
   "execution_count": null,
   "metadata": {
    "vscode": {
     "languageId": "javascript"
    }
   },
   "outputs": [],
   "source": [
    "var myDiv = document.getElementById('show'), \n",
    "    i; \n",
    "\n",
    "    document.write('<br>'); \n",
    "    for (i = 0; i < document.images.length; i = i +1) {\n",
    "\n",
    "    document.write(document.images[1].src + '<br>');\n",
    "}"
   ]
  },
  {
   "cell_type": "markdown",
   "metadata": {},
   "source": [
    ":: __`document.forms`__ ::"
   ]
  },
  {
   "cell_type": "code",
   "execution_count": null,
   "metadata": {
    "vscode": {
     "languageId": "html"
    }
   },
   "outputs": [],
   "source": [
    "<!DOCTYPE html>\n",
    "<html lang=\"en\">\n",
    "<head>\n",
    "    <meta charset=\"UTF-8\">\n",
    "    <meta name=\"viewport\" content=\"width=device-width, initial-scale=1.0\">\n",
    "    <title>Javascript => Find Elements By Object Collection</title>\n",
    "</head>\n",
    "<body>\n",
    "    <div id=\"show\"></div>\n",
    "    <form>\n",
    "        <input type=\"text\" name=\"x1\" value=\"Hello\"> \n",
    "        <input type=\"text\" name=\"x2\" value=\"World\"> \n",
    "    </form>\n",
    "    <form>\n",
    "        <input type=\"text\" name=\"z1\" value=\"Lorem\"> \n",
    "        <input type=\"text\" name=\"z2\" value=\"Ipsum\"> \n",
    "    </form>\n",
    "    <script src=\"main.js\"></script>\n",
    "    \n",
    "</body>\n",
    "</html>"
   ]
  },
  {
   "cell_type": "code",
   "execution_count": null,
   "metadata": {
    "vscode": {
     "languageId": "javascript"
    }
   },
   "outputs": [],
   "source": [
    "var myDiv = document.getElementById('show');\n",
    "\n",
    "myDiv.innerText = document.forms.length + \" \" + document.forms[0].x2.value;  "
   ]
  },
  {
   "cell_type": "markdown",
   "metadata": {},
   "source": [
    "The Output Will Be Like This: \n",
    "\n",
    "![forms](https://i.imgur.com/NWNX6w3.png)"
   ]
  },
  {
   "cell_type": "markdown",
   "metadata": {},
   "source": [
    ":: __`Find Elements by Objects Part 2`__ ::\n",
    "\n",
    ":: __`document.body`__ ::\n"
   ]
  },
  {
   "cell_type": "code",
   "execution_count": null,
   "metadata": {
    "vscode": {
     "languageId": "html"
    }
   },
   "outputs": [],
   "source": [
    "<!DOCTYPE html>\n",
    "<html lang=\"en\">\n",
    "<head>\n",
    "    <meta charset=\"UTF-8\">\n",
    "    <meta name=\"viewport\" content=\"width=device-width, initial-scale=1.0\">\n",
    "    <title>Javascript => Find Elements By Object Collection</title>\n",
    "</head>\n",
    "<body>\n",
    "    <div id=\"show\">xZerox</div>\n",
    "    <script src=\"main.js\"></script>\n",
    "    \n",
    "</body>\n",
    "</html>"
   ]
  },
  {
   "cell_type": "code",
   "execution_count": null,
   "metadata": {
    "vscode": {
     "languageId": "javascript"
    }
   },
   "outputs": [],
   "source": [
    "var myDiv = document.getElementById('show');\n",
    "\n",
    "myDiv.innerText = document.body.innerText; \n",
    "if (document.body.innerText.indexOf('Zerox') > -1) {\n",
    "\n",
    "    console.log('Yes This String Does Exist')\n",
    "}; "
   ]
  },
  {
   "cell_type": "markdown",
   "metadata": {},
   "source": [
    ":: __`document.links`__ ::"
   ]
  },
  {
   "cell_type": "code",
   "execution_count": null,
   "metadata": {
    "vscode": {
     "languageId": "html"
    }
   },
   "outputs": [],
   "source": [
    "<!DOCTYPE html>\n",
    "<html lang=\"en\">\n",
    "<head>\n",
    "    <meta charset=\"UTF-8\">\n",
    "    <meta name=\"viewport\" content=\"width=device-width, initial-scale=1.0\">\n",
    "    <title>Javascript => Find Elements By Object Collection</title>\n",
    "</head>\n",
    "<body>\n",
    "    <div id=\"show\"></div>\n",
    "    <a href=\"#\">Google</a>\n",
    "    <a href=\"#\">Facebook</a>\n",
    "    <a href=\"#\">Elzeero</a>\n",
    "    <script src=\"main.js\"></script>\n",
    "    \n",
    "</body>\n",
    "</html>"
   ]
  },
  {
   "cell_type": "code",
   "execution_count": null,
   "metadata": {
    "vscode": {
     "languageId": "javascript"
    }
   },
   "outputs": [],
   "source": [
    "var myDiv = document.getElementById('show');\n",
    "\n",
    "myDiv.innerText = document.links.length; "
   ]
  },
  {
   "cell_type": "markdown",
   "metadata": {},
   "source": [
    ":: __`Javascript => Get/Set Node Element Content`__ ::\n",
    "\n",
    "❖ The Difference Between innerHTML and textContent: "
   ]
  },
  {
   "cell_type": "code",
   "execution_count": null,
   "metadata": {
    "vscode": {
     "languageId": "html"
    }
   },
   "outputs": [],
   "source": [
    "<!DOCTYPE html>\n",
    "<html lang=\"en\">\n",
    "<head>\n",
    "    <meta charset=\"UTF-8\">\n",
    "    <meta name=\"viewport\" content=\"width=device-width, initial-scale=1.0\">\n",
    "    <title>Javascript => Find Elements By Object Collection</title>\n",
    "</head>\n",
    "<body>\n",
    "    <div id=\"main\">\n",
    "        This is Main <span>Text</span>\n",
    "    </div>\n",
    "    <script src=\"main.js\"></script>\n",
    "    \n",
    "</body>\n",
    "</html>"
   ]
  },
  {
   "cell_type": "code",
   "execution_count": null,
   "metadata": {
    "vscode": {
     "languageId": "javascript"
    }
   },
   "outputs": [],
   "source": [
    "var myDiv = document.getElementById('main');\n",
    "\n",
    "console.log(myDiv.innerHTML);\n",
    "// This is Main <span>Text</span>\n",
    "\n",
    "console.log(myDiv.textContent);\n",
    "// This is Main Text\n",
    "\n",
    "myDiv.innerHTML = 'This is the new <span>Text</span>'; \n",
    "// Setting New Content\n",
    "\n",
    "console.log(myDiv.innerHTML);\n",
    "// This is the new <span>Text</span>"
   ]
  },
  {
   "cell_type": "markdown",
   "metadata": {},
   "source": [
    ":: __`Javascript -> Change Element Attribute Value`__ ::"
   ]
  },
  {
   "cell_type": "code",
   "execution_count": null,
   "metadata": {
    "vscode": {
     "languageId": "html"
    }
   },
   "outputs": [],
   "source": [
    "<!DOCTYPE html>\n",
    "<html lang=\"en\">\n",
    "<head>\n",
    "    <meta charset=\"UTF-8\">\n",
    "    <meta name=\"viewport\" content=\"width=device-width, initial-scale=1.0\">\n",
    "    <title>Javascript</title>\n",
    "</head>\n",
    "<body>\n",
    "    <div id=\"\" class=\"\">This is Div 1</div>\n",
    "    <!-- Empty Id and Class -->\n",
    "    <div id=\"\" class=\"\">This is Div 2</div>\n",
    "    <script src=\"main.js\"></script>\n",
    "    \n",
    "</body>\n",
    "</html>"
   ]
  },
  {
   "cell_type": "code",
   "execution_count": null,
   "metadata": {
    "vscode": {
     "languageId": "javascript"
    }
   },
   "outputs": [],
   "source": [
    "console.log(myDiv = document.querySelector('div'));\n",
    "// <div id=\"\" class=\"\">This is Div 1</div>\n",
    "\n",
    "myDiv.id = 'id-from-js'; \n",
    "// settign and id\n",
    "\n",
    "console.log(myDiv = document.querySelector('div'));\n",
    "// <div id=\"id-from-js\" class=\"\">This is Div 1</div>"
   ]
  },
  {
   "cell_type": "markdown",
   "metadata": {},
   "source": [
    "Now Let's Change the Class Name"
   ]
  },
  {
   "cell_type": "code",
   "execution_count": null,
   "metadata": {
    "vscode": {
     "languageId": "javascript"
    }
   },
   "outputs": [],
   "source": [
    "console.log(myDiv = document.querySelector('div'));\n",
    "// <div id=\"\" class=\"\">This is Div 1</div>\n",
    "\n",
    "myDiv.id = 'id-from-js'; \n",
    "// settign and id\n",
    "\n",
    "console.log(myDiv = document.querySelector('div'));\n",
    "// <div id=\"id-from-js\" class=\"\">This is Div 1</div>\n",
    "\n",
    "myDiv.className = 'className-from-Js'; \n",
    "// Settign the Class Name\n",
    "\n",
    "console.log(myDiv = document.querySelector('div'));\n",
    "// <div id=\"id-from-js\" class=\"className-from-Js\">This is Div 1</div>"
   ]
  },
  {
   "cell_type": "markdown",
   "metadata": {},
   "source": [
    "We Can Change All Kind of Attributes, Img Src, Alt, Title, .. Etc. These Are All Attributes that Can Be Changed Using the Following Syntax: \n",
    "\n",
    "> Element.Attribute \n",
    "\n",
    ":: __`Get Attribute and Set Attribute Functions`__ ::\n",
    "\n",
    "> getAttribute('Attribute Name')\n",
    "\n",
    "> setAttribute('Attribute Name', 'Attribute Value')"
   ]
  },
  {
   "cell_type": "code",
   "execution_count": null,
   "metadata": {
    "vscode": {
     "languageId": "html"
    }
   },
   "outputs": [],
   "source": [
    "<!DOCTYPE html>\n",
    "<html lang=\"en\">\n",
    "<head>\n",
    "    <meta charset=\"UTF-8\">\n",
    "    <meta name=\"viewport\" content=\"width=device-width, initial-scale=1.0\">\n",
    "    <title>Javascript</title>\n",
    "</head>\n",
    "<body>\n",
    "    <img src=\"\" alt=\"\">\n",
    "    <!-- Empty Img -->\n",
    "    <script src=\"main.js\"></script>\n",
    "    \n",
    "</body>\n",
    "</html>"
   ]
  },
  {
   "cell_type": "code",
   "execution_count": null,
   "metadata": {
    "vscode": {
     "languageId": "javascript"
    }
   },
   "outputs": [],
   "source": [
    "myImg = document.querySelector('img'); \n",
    "\n",
    "\n",
    "myImg.setAttribute('src', 'http://placehold.it/200/000'); \n",
    "// Setting the Src Attrib\n",
    "\n",
    "myImg.setAttribute('alt', 'random img'); \n",
    "// Setting the Alt Attrib\n",
    "\n",
    "myImg.setAttribute('title', 'img title'); \n",
    "// Setting a New Attrib that Doesn't Exist\n",
    "\n",
    "console.log(myImg.getAttribute('alt'));\n",
    "// random img\n",
    "console.log(myImg.getAttribute('src'));\n",
    "// http://placehold.it/200/000\n",
    "console.log(myImg.getAttribute('title'));\n",
    "// img title"
   ]
  },
  {
   "cell_type": "markdown",
   "metadata": {},
   "source": [
    "**Now What if We Want to Show All Attributes in the Console Log?**\n",
    "\n",
    "To print all attributes of an HTML element to the console in JavaScript, you can iterate over the attributes of the element using the `attributes` property. This property returns a live collection of all attributes registered to the element. Here's how you can do it:"
   ]
  },
  {
   "cell_type": "code",
   "execution_count": null,
   "metadata": {
    "vscode": {
     "languageId": "javascript"
    }
   },
   "outputs": [],
   "source": [
    "myImg = document.querySelector('img'); \n",
    "\n",
    "\n",
    "myImg.setAttribute('src', 'http://placehold.it/200/000'); \n",
    "// Setting the Src Attrib\n",
    "\n",
    "myImg.setAttribute('alt', 'random img'); \n",
    "// Setting the Alt Attrib\n",
    "\n",
    "myImg.setAttribute('title', 'img title'); \n",
    "// Setting a New Attrib that Doesn't Exist\n",
    "\n",
    "// Iterating over all attributes and printing them\n",
    "Array.from(myImg.attributes).forEach(attr => {\n",
    "    console.log(attr.name + \": \" + attr.value);\n",
    "});\n",
    "\n",
    "/*\n",
    "Output:\n",
    "src: http://placehold.it/200/000\n",
    "alt: random img\n",
    "title: img title\n",
    "*/"
   ]
  },
  {
   "cell_type": "markdown",
   "metadata": {},
   "source": [
    "In this code:\n",
    "\n",
    "❖ `myImg.attributes` gives you a collection of all the attributes of the `myImg` element.\n",
    "\n",
    "❖ `Array.from(myImg.attributes)` converts this collection into an array so that you can use array methods like `forEach`.\n",
    "\n",
    "❖ `.forEach(attr => { ... })` iterates over each attribute in the array.\n",
    "\n",
    "❖ Inside the `forEach`, `attr.name` and `attr.value` give you the name and value of each attribute, respectively, which are then logged to the console.\n",
    "\n",
    "\n",
    "This will print the name and value of every attribute that the `img` element has at the time this code runs."
   ]
  },
  {
   "cell_type": "markdown",
   "metadata": {},
   "source": [
    ":: __`hasAttribute() and removeAttribute()`__ ::\n",
    "\n",
    "**hasAttribute(attributeName)** ⟶ Checks if an element has a specific attribute, Returns: true if the attribute exists, false otherwise.\n",
    "\n",
    "**removeAttribute(attributeName)** ⟶ Removes a specific attribute from an element. "
   ]
  },
  {
   "cell_type": "code",
   "execution_count": null,
   "metadata": {
    "vscode": {
     "languageId": "html"
    }
   },
   "outputs": [],
   "source": [
    "<!DOCTYPE html>\n",
    "<html lang=\"en\">\n",
    "<head>\n",
    "    <meta charset=\"UTF-8\">\n",
    "    <meta name=\"viewport\" content=\"width=device-width, initial-scale=1.0\">\n",
    "    <title>Javascript</title>\n",
    "</head>\n",
    "<body>\n",
    "    <img src=\"\">\n",
    "    <!-- Empty Img -->\n",
    "    <script src=\"main.js\"></script>\n",
    "    \n",
    "</body>\n",
    "</html>"
   ]
  },
  {
   "cell_type": "code",
   "execution_count": null,
   "metadata": {
    "vscode": {
     "languageId": "javascript"
    }
   },
   "outputs": [],
   "source": [
    "myImg = document.querySelector('img'); \n",
    "\n",
    "if (myImg.hasAttribute('alt')) {\n",
    "    console.log('Yes This Element Has Attribute Alt');\n",
    "\n",
    "} else {\n",
    "    console.log('No This Element Doesn\\'t Have Attribute Alt\\nSetting New Alt Text');\n",
    "    // No This Element Doesn't Have Attribute Alt\n",
    "    // Setting New Alt Text\n",
    "    \n",
    "    myImg.setAttribute('alt', 'Default Alternate Text'); \n",
    "    console.log(myImg.getAttribute('alt'));\n",
    "    // Default Alternate Text\n",
    "}; "
   ]
  },
  {
   "cell_type": "markdown",
   "metadata": {},
   "source": [
    "Now Let's Remove the Attribute `alt`"
   ]
  },
  {
   "cell_type": "code",
   "execution_count": null,
   "metadata": {
    "vscode": {
     "languageId": "javascript"
    }
   },
   "outputs": [],
   "source": [
    "myImg = document.querySelector('img'); \n",
    "\n",
    "if (myImg.hasAttribute('alt')) {\n",
    "    console.log('Yes This Element Has Attribute Alt');\n",
    "\n",
    "} else {\n",
    "    console.log('No This Element Doesn\\'t Have Attribute Alt\\nSetting New Alt Text');\n",
    "    // No This Element Doesn't Have Attribute Alt\n",
    "    // Setting New Alt Text\n",
    "    \n",
    "    myImg.setAttribute('alt', 'Default Alternate Text'); \n",
    "    console.log(myImg.getAttribute('alt'));\n",
    "    // Default Alternate Text\n",
    "}; \n",
    "\n",
    "myImg.removeAttribute('alt'); \n",
    "console.log(myImg.getAttribute('alt'));\n",
    "// null"
   ]
  },
  {
   "cell_type": "markdown",
   "metadata": {},
   "source": [
    ":: __`Javascript -> Element Classlist | Lenght, Item, Contains`__ ::"
   ]
  },
  {
   "cell_type": "code",
   "execution_count": null,
   "metadata": {
    "vscode": {
     "languageId": "html"
    }
   },
   "outputs": [],
   "source": [
    "<!DOCTYPE html>\n",
    "<html lang=\"en\">\n",
    "<head>\n",
    "    <meta charset=\"UTF-8\">\n",
    "    <meta name=\"viewport\" content=\"width=device-width, initial-scale=1.0\">\n",
    "    <title>Javascript</title>\n",
    "</head>\n",
    "<body>\n",
    "    <div id=\"main\" class=\"show cool main-div\">Our Main Div</div>\n",
    "    <script src=\"main.js\"></script>\n",
    "    \n",
    "</body>\n",
    "</html>"
   ]
  },
  {
   "cell_type": "code",
   "execution_count": null,
   "metadata": {
    "vscode": {
     "languageId": "javascript"
    }
   },
   "outputs": [],
   "source": [
    "myDiv = document.getElementById('main'); \n",
    "\n",
    "console.log(myDiv.classList);\n",
    "/*\n",
    "DOMTokenList(3) i\n",
    "0: \"show\"\n",
    "1: \"cool\"\n",
    "2: \"main-div\"\n",
    "Length: 3\n",
    "value: \"show cool main-div\"\n",
    "[[Prototype]]: DOMTokenList\n",
    "*/\n",
    "console.log(myDiv.classList.length);\n",
    "// 3\n",
    "\n",
    "if (myDiv.classList.contains('cool')) {\n",
    "    console.log('Yes This Div Contain Class Called Cool');\n",
    "} else {\n",
    "    console.log('No This Div does not Contain Class Called Cool');\n",
    "}; \n",
    "// Yes This Div Contain Class Called Cool\n",
    "\n",
    "console.log(myDiv.classList.item(2));\n",
    "// main-div\n",
    "// We Can Use Indexing\n"
   ]
  },
  {
   "cell_type": "markdown",
   "metadata": {},
   "source": [
    ":: __`Javascript -> Element Classlist | Add, Remove, Toggle`__ ::"
   ]
  },
  {
   "cell_type": "code",
   "execution_count": null,
   "metadata": {
    "vscode": {
     "languageId": "html"
    }
   },
   "outputs": [],
   "source": [
    "<!DOCTYPE html>\n",
    "<html lang=\"en\">\n",
    "<head>\n",
    "    <meta charset=\"UTF-8\">\n",
    "    <meta name=\"viewport\" content=\"width=device-width, initial-scale=1.0\">\n",
    "    <title>Javascript</title>\n",
    "</head>\n",
    "<body>\n",
    "    <div id=\"main\" class=\"show cool main-div\">Our Main Div</div>\n",
    "    <button id=\"addButton\">Add Class</button>\n",
    "    <button id=\"removeButton\">Remove Class</button>\n",
    "    <button id=\"toggleButton\">Toggle Class</button>\n",
    "    <div id=\"result\"></div>\n",
    "    <script src=\"main.js\"></script>\n",
    "    \n",
    "</body>\n",
    "</html>"
   ]
  },
  {
   "cell_type": "code",
   "execution_count": null,
   "metadata": {
    "vscode": {
     "languageId": "javascript"
    }
   },
   "outputs": [],
   "source": [
    "var myDiv = document.getElementById('main'), \n",
    "    add_Button = document.getElementById('addButton'),\n",
    "    remove_Button = document.getElementById('removeButton'),\n",
    "    toggle_Button = document.getElementById('toggleButton'),\n",
    "    result = document.getElementById('result');\n",
    "\n",
    "// Initial update of the result div\n",
    "result.textContent = myDiv.classList;\n",
    "\n",
    "// Function to handle class updates and display changes\n",
    "function updateResult() {\n",
    "    result.textContent = myDiv.classList;\n",
    "}\n",
    "\n",
    "add_Button.onclick = function() {\n",
    "    \"use strict\"; \n",
    "    myDiv.classList.add('Alpha', 'Romeo')\n",
    "    updateResult(); // Call the update function after adding classes\n",
    "}; \n",
    "\n",
    "remove_Button.onclick = function() {\n",
    "    \"use strict\"; \n",
    "    myDiv.classList.remove('Alpha', 'Romeo')\n",
    "    updateResult(); // Call the update function after adding classes\n",
    "}; \n",
    "\n",
    "toggle_Button.onclick = function() {\n",
    "    \"use strict\"; \n",
    "    myDiv.classList.toggle('Delta')\n",
    "    updateResult(); // Call the update function after adding classes\n",
    "}; "
   ]
  },
  {
   "cell_type": "markdown",
   "metadata": {},
   "source": [
    ":: __`Why Did We Use textContent over innerText?`__ ::\n",
    "\n",
    "there's a subtle difference between `innerText` and `textContent` in JavaScript when it comes to accessing element text content. While both seem similar, there are key distinctions:\n",
    "\n",
    "**`innerText`:**\n",
    "\n",
    "⟶ Focuses on the **visible** text content of the element, taking into account factors like:\n",
    "\n",
    "❖ Element's __computed styles__ (e.g., hidden elements, font size, visibility)\n",
    "\n",
    "❖ **Whitespace handling:** Collapses consecutive whitespace characters (spaces, tabs, newlines) into a single space.\n",
    "\n",
    "\n",
    "**`textContent`:**\n",
    "\n",
    "⟶ Provides the **complete** text content of the element, regardless of:\n",
    "\n",
    "❖ **Visibility:** Includes text in hidden elements.\n",
    "\n",
    "❖ **Styles:** Ignores styling information.\n",
    "\n",
    "❖ **Whitespace handling:** Preserves all whitespace characters as they are in the HTML.\n",
    "\n",
    "\n",
    "In the context of your code, the main reason to prefer `textContent` over `innerText` is to ensure **consistency and reliability** in displaying the current classes of `myDiv`.\n",
    "\n",
    "Here's a breakdown of why `textContent` is more suitable:\n",
    "\n",
    "1. **Hidden Classes:** If you have any class names applied to `myDiv` that are currently hidden due to styling (e.g., `display: none;`), `innerText` would not include them, whereas `textContent` would capture all classes, accurately reflecting the complete class list.\n",
    "\n",
    "2. **Whitespace Handling:** While `innerText` collapses consecutive whitespace, `textContent` preserves it. This won't affect class names, but it can be important if you're working with text content that requires maintaining specific spacing.\n",
    "\n",
    "Therefore, using `textContent` guarantees you get the **full, unfiltered text content**, including any hidden classes, while maintaining whitespace as it appears in the HTML. This aligns with the desired behavior of displaying all the classes in the `result` div regardless of their current visibility or styling."
   ]
  },
  {
   "cell_type": "markdown",
   "metadata": {},
   "source": [
    ":: __`Elements - Children - ChildNodes`__ ::"
   ]
  },
  {
   "cell_type": "code",
   "execution_count": null,
   "metadata": {
    "vscode": {
     "languageId": "html"
    }
   },
   "outputs": [],
   "source": [
    "<!DOCTYPE html>\n",
    "<html lang=\"en\">\n",
    "<head>\n",
    "    <meta charset=\"UTF-8\">\n",
    "    <meta name=\"viewport\" content=\"width=device-width, initial-scale=1.0\">\n",
    "    <title>Javascript</title>\n",
    "</head>\n",
    "<body>\n",
    "    <div id=\"main\">\n",
    "        Hello\n",
    "        <h2>Heading</h2>\n",
    "        World\n",
    "        <p class=\"test\">Paragraph</p>\n",
    "    </div>\n",
    "\n",
    "    <script src=\"main.js\"></script>\n",
    "    \n",
    "</body>\n",
    "</html>"
   ]
  },
  {
   "cell_type": "code",
   "execution_count": null,
   "metadata": {
    "vscode": {
     "languageId": "javascript"
    }
   },
   "outputs": [],
   "source": [
    "var myDiv = document.getElementById('main'); \n",
    "\n",
    "console.log(myDiv.childElementCount);\n",
    "// 2 -> Count only the Elements\n",
    "\n",
    "console.log(myDiv.children);\n",
    "/*\n",
    "0 <h2>Heading</h2>\n",
    "1 <p>Paragraph</p>\n",
    "*/\n",
    "console.log(myDiv.children[0]);\n",
    "// <h2>Heading</h2>\n",
    "\n",
    "console.log(myDiv.children[0].textContent);\n",
    "// Heading\n",
    "\n",
    "console.log(myDiv.children[1].className);\n",
    "// test\n",
    "\n",
    "console.log(myDiv.childNodes.length);\n",
    "// 5"
   ]
  },
  {
   "cell_type": "markdown",
   "metadata": {},
   "source": [
    "❖ The Number 5 Node Is the Space After Paragraph Line `<p class=\"test\">Paragraph</p>`\n",
    "\n",
    "❖ The Comment Also Count as a Node"
   ]
  },
  {
   "cell_type": "markdown",
   "metadata": {},
   "source": [
    ":: __`Elements - Children - First & Last Child`__ ::"
   ]
  },
  {
   "cell_type": "code",
   "execution_count": null,
   "metadata": {
    "vscode": {
     "languageId": "html"
    }
   },
   "outputs": [],
   "source": [
    "<!DOCTYPE html>\n",
    "<html lang=\"en\">\n",
    "<head>\n",
    "    <meta charset=\"UTF-8\">\n",
    "    <meta name=\"viewport\" content=\"width=device-width, initial-scale=1.0\">\n",
    "    <title>Javascript</title>\n",
    "</head>\n",
    "<body>\n",
    "    <div id=\"main\">\n",
    "        Hello <!-- Text Node -->\n",
    "        <h2>Heading</h2> <!-- Element Node -->\n",
    "        World\n",
    "        <p class=\"test\">Paragraph</p>\n",
    "    </div>\n",
    "\n",
    "    <script src=\"main.js\"></script>\n",
    "    \n",
    "</body>\n",
    "</html>"
   ]
  },
  {
   "cell_type": "code",
   "execution_count": null,
   "metadata": {
    "vscode": {
     "languageId": "javascript"
    }
   },
   "outputs": [],
   "source": [
    "var myDiv = document.getElementById('main'); \n",
    "\n",
    "console.log(myDiv.firstChild);\n",
    "// Hello \n",
    "\n",
    "console.log(myDiv.firstElementChild);\n",
    "// <h2>Heading</h2>\n",
    "\n",
    "console.log(myDiv.childNodes);\n",
    "/*\n",
    "0 \" Hello \"\n",
    "1 <!-- Text Node -->\n",
    "2 #text \" \"\n",
    "3 <h2>Heading</h2>\n",
    "4 #text \" \"\n",
    "5 <!-- Element Node -->\n",
    "6 \" World \"\n",
    "7 <p class=\"test\">Paragraph</p>\n",
    "8 #text \" \"\n",
    "*/\n",
    "\n",
    "console.log(myDiv.childNodes[7]);\n",
    "// <p class=\"test\">Paragraph</p>\n",
    "\n",
    "console.log(myDiv.lastElementChild);\n",
    "// <p class=\"test\">Paragraph</p>"
   ]
  },
  {
   "cell_type": "markdown",
   "metadata": {},
   "source": [
    ":: __`Elements - Children - Append Child`__ ::\n"
   ]
  },
  {
   "cell_type": "code",
   "execution_count": null,
   "metadata": {
    "vscode": {
     "languageId": "html"
    }
   },
   "outputs": [],
   "source": [
    "<!DOCTYPE html>\n",
    "<html lang=\"en\">\n",
    "<head>\n",
    "    <meta charset=\"UTF-8\">\n",
    "    <meta name=\"viewport\" content=\"width=device-width, initial-scale=1.0\">\n",
    "    <title>Javascript</title>\n",
    "</head>\n",
    "<body>\n",
    "    <div id=\"main\"></div>\n",
    "\n",
    "    <script src=\"main.js\"></script>\n",
    "    \n",
    "</body>\n",
    "</html>"
   ]
  },
  {
   "cell_type": "code",
   "execution_count": null,
   "metadata": {
    "vscode": {
     "languageId": "javascript"
    }
   },
   "outputs": [],
   "source": [
    "var myMainDiv = document.getElementById('main'),\n",
    "    \n",
    "    // Create Div Element\n",
    "    myNewElement = document.createElement('div'), \n",
    "    \n",
    "    // Create Text Node\n",
    "    myText = document.createTextNode('Hello From Javascript');\n",
    "\n",
    "\n",
    "// Append Text to the New Element\n",
    "myNewElement.appendChild(myText); \n",
    "\n",
    "// Append the New Element to My Main Div\n",
    "myMainDiv.appendChild(myNewElement); "
   ]
  },
  {
   "cell_type": "markdown",
   "metadata": {},
   "source": [
    "What if We Want to Put Something at the Start ?"
   ]
  },
  {
   "cell_type": "code",
   "execution_count": null,
   "metadata": {
    "vscode": {
     "languageId": "html"
    }
   },
   "outputs": [],
   "source": [
    "<!DOCTYPE html>\n",
    "<html lang=\"en\">\n",
    "<head>\n",
    "    <meta charset=\"UTF-8\">\n",
    "    <meta name=\"viewport\" content=\"width=device-width, initial-scale=1.0\">\n",
    "    <title>Javascript</title>\n",
    "</head>\n",
    "<body>\n",
    "    <div id=\"main\">\n",
    "        <p>This is our HTML</p>\n",
    "    </div>\n",
    "\n",
    "    <script src=\"main.js\"></script>\n",
    "    \n",
    "</body>\n",
    "</html>"
   ]
  },
  {
   "cell_type": "code",
   "execution_count": null,
   "metadata": {
    "vscode": {
     "languageId": "javascript"
    }
   },
   "outputs": [],
   "source": [
    "var myMainDiv = document.getElementById('main'),\n",
    "    \n",
    "    // Create Div Element\n",
    "    myNewElement = document.createElement('div'), \n",
    "    \n",
    "    // Create Text Node\n",
    "    myText = document.createTextNode('Hello From Javascript');\n",
    "\n",
    "\n",
    "// Append Text to the New Element\n",
    "myNewElement.appendChild(myText); \n",
    "\n",
    "// Inserting the New Element to My Main Div\n",
    "myMainDiv.insertBefore(myNewElement, myMainDiv.firstElementChild); "
   ]
  },
  {
   "cell_type": "markdown",
   "metadata": {},
   "source": [
    "This Will Put the Text `\"Hello From Javascript\"` Before the Text `\"This Is Our HTML\"`"
   ]
  }
 ],
 "metadata": {
  "language_info": {
   "name": "python"
  }
 },
 "nbformat": 4,
 "nbformat_minor": 2
}
