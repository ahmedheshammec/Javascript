{
 "cells": [
  {
   "cell_type": "markdown",
   "metadata": {},
   "source": [
    "##### **Defining Object With Object Literals**\n",
    "\n",
    ":: __`Part 1`__ ::\n"
   ]
  },
  {
   "cell_type": "code",
   "execution_count": null,
   "metadata": {
    "vscode": {
     "languageId": "javascript"
    }
   },
   "outputs": [],
   "source": [
    "let user = {\n",
    "    // Properties\n",
    "    firstName: \"Osama\",\n",
    "    lastName: \"Elzero\",\n",
    "  \n",
    "    // Methods\n",
    "    getFullName: function () {\n",
    "      return `Full Name: ${user.firstName} ${user.lastName}`;\n",
    "    },\n",
    "  };\n",
    "  \n",
    "  // Accessing Object Properties\n",
    "  console.log(user.firstName); // Dot Notation\n",
    "  console.log(user[\"firstName\"]); // Bracket Notation\n",
    "  // Output: Osama\n",
    "  "
   ]
  },
  {
   "cell_type": "code",
   "execution_count": null,
   "metadata": {
    "vscode": {
     "languageId": "javascript"
    }
   },
   "outputs": [],
   "source": [
    "let user = {\n",
    "  // Properties\n",
    "  firstName: \"Osama\",\n",
    "  lastName: \"Elzero\",\n",
    "\n",
    "  // Methods\n",
    "  getFullName: function () {\n",
    "    return `Full Name: ${user.firstName} ${user.lastName}`;\n",
    "  },\n",
    "};\n",
    "\n",
    "// Accessing Object Methods\n",
    "console.log(typeof user.getFullName); // Function\n",
    "console.log(user.getFullName()); // Output: Full Name: Osama Elzero"
   ]
  },
  {
   "cell_type": "markdown",
   "metadata": {},
   "source": [
    ":: __`Part 2`__ ::\n"
   ]
  },
  {
   "cell_type": "code",
   "execution_count": null,
   "metadata": {
    "vscode": {
     "languageId": "javascript"
    }
   },
   "outputs": [],
   "source": [
    "let user = {\n",
    "    // Properties\n",
    "    firstName: \"Osama\",\n",
    "    lastName: \"Elzero\",\n",
    "    age: 37,\n",
    "    addresses: {\n",
    "      eg: \"Giza\",\n",
    "      usa: \"California\",\n",
    "      ksa: \"Riyadh\",\n",
    "    },\n",
    "  \n",
    "    // Methods\n",
    "    getFullName: function () {    // Normal Function\n",
    "      return `Full Name: ${user.firstName} ${user.lastName}`;\n",
    "    },\n",
    "};\n",
    "\n",
    "console.log(user.getFullName());\n",
    "// Output: Full Name: Osama Elzero\n",
    "  "
   ]
  },
  {
   "cell_type": "code",
   "execution_count": null,
   "metadata": {
    "vscode": {
     "languageId": "javascript"
    }
   },
   "outputs": [],
   "source": [
    "let user = {\n",
    "    // Properties\n",
    "    firstName: \"Osama\",\n",
    "    lastName: \"Elzero\",\n",
    "    age: 37,\n",
    "    addresses: {\n",
    "      eg: \"Giza\",\n",
    "      usa: \"California\",\n",
    "      ksa: \"Riyadh\",\n",
    "    },\n",
    "  \n",
    "    // Methods\n",
    "    getFullName: () => `Full Name: ${user.firstName} ${user.lastName}`,\n",
    "    // Arrow Function\n",
    "};\n",
    "\n",
    "console.log(user.getFullName());\n",
    "// Output: Full Name: Osama Elzero\n",
    "  "
   ]
  },
  {
   "cell_type": "code",
   "execution_count": null,
   "metadata": {
    "vscode": {
     "languageId": "javascript"
    }
   },
   "outputs": [],
   "source": [
    "let user = {\n",
    "    // Properties\n",
    "    firstName: \"Osama\",\n",
    "    lastName: \"Elzero\",\n",
    "    age: 37,\n",
    "    addresses: {\n",
    "      eg: \"Giza\",\n",
    "      usa: \"California\",\n",
    "      ksa: \"Riyadh\",\n",
    "    },\n",
    "  \n",
    "    // Methods\n",
    "    getFullName: () => `Full Name: ${user.firstName} ${user.lastName}`,\n",
    "    getAgeInDays: () => `Your Age In Days Is ${user.age}`,\n",
    "};\n",
    "\n",
    "console.log(user.getAgeInDays());\n",
    "// Output: Your Age In Days Is 37\n",
    "  "
   ]
  },
  {
   "cell_type": "code",
   "execution_count": null,
   "metadata": {
    "vscode": {
     "languageId": "javascript"
    }
   },
   "outputs": [],
   "source": [
    "let user = {\n",
    "    // Properties\n",
    "    firstName: \"Osama\",\n",
    "    lastName: \"Elzero\",\n",
    "    age: 37,\n",
    "    addresses: {\n",
    "      eg: \"Giza\",\n",
    "      usa: \"California\",\n",
    "      ksa: \"Riyadh\",\n",
    "      getMainAddress: function () {\n",
    "        return `Main Address Is In Egypt In City ${user.addresses.eg}`;\n",
    "      },\n",
    "    },\n",
    "  \n",
    "};\n",
    "  \n",
    "console.log(user.addresses.getMainAddress());\n",
    "// Output: Main Address Is In Egypt In City Giza\n",
    "  "
   ]
  },
  {
   "cell_type": "code",
   "execution_count": null,
   "metadata": {
    "vscode": {
     "languageId": "javascript"
    }
   },
   "outputs": [],
   "source": [
    "let user = {\n",
    "    // Properties\n",
    "    firstName: \"Osama\",\n",
    "    lastName: \"Elzero\",\n",
    "    age: 37,\n",
    "    addresses: {\n",
    "      eg: \"Giza\",\n",
    "      usa: \"California\",\n",
    "      ksa: \"Riyadh\",\n",
    "      getMainAddress: function () {\n",
    "        return `Main Address Is In Egypt In City ${user.addresses.eg}`;\n",
    "      },\n",
    "    },\n",
    "  \n",
    "};\n",
    "  \n",
    "// Accessing Object Properties\n",
    "console.log(user.firstName); // Dot Notation\n",
    "console.log(user[\"firstName\"]); // Bracket Notation\n",
    "// Output: Osama\n",
    "  "
   ]
  },
  {
   "cell_type": "code",
   "execution_count": null,
   "metadata": {
    "vscode": {
     "languageId": "javascript"
    }
   },
   "outputs": [],
   "source": [
    "let user = {\n",
    "    // Properties\n",
    "    firstName: \"Osama\",\n",
    "    lastName: \"Elzero\",\n",
    "    age: 37,\n",
    "    addresses: {\n",
    "      eg: \"Giza\",\n",
    "      usa: \"California\",\n",
    "      ksa: \"Riyadh\",\n",
    "      getMainAddress: function () {\n",
    "        return `Main Address Is In Egypt In City ${user.addresses.eg}`;\n",
    "      },\n",
    "    },\n",
    "  \n",
    "};\n",
    "  \n",
    "  // Accessing Object Properties\n",
    "console.log(user.addresses.eg);   // Giza\n",
    "console.log(user[\"addresses\"][\"ksa\"]);  // Riyadh\n"
   ]
  },
  {
   "cell_type": "markdown",
   "metadata": {},
   "source": [
    ":: __`Dot Notation vs Bracket Notation`__ ::"
   ]
  },
  {
   "cell_type": "code",
   "execution_count": null,
   "metadata": {
    "vscode": {
     "languageId": "javascript"
    }
   },
   "outputs": [],
   "source": [
    "let myObj = {\n",
    "    \"One\": 1,\n",
    "    \"Two!\": 2\n",
    "};\n",
    "  \n",
    "console.log(myObj.One); // 1\n",
    "// console.log(myObj.\"One\"); // Syntax Error\n",
    "// console.log(myObj.Two!); // Syntax Error\n",
    "\n",
    "\n",
    "console.log(myObj[\"One\"]); // 1\n",
    "console.log(myObj[\"Two!\"]); // 2"
   ]
  },
  {
   "cell_type": "code",
   "execution_count": null,
   "metadata": {
    "vscode": {
     "languageId": "javascript"
    }
   },
   "outputs": [],
   "source": [
    "let myObj2 = {\n",
    "    1: \"One\",\n",
    "    2: \"Two\"\n",
    "};\n",
    "  \n",
    "// console.log(myObj2.1); // Syntax Error\n",
    "\n",
    "console.log(myObj2[\"1\"]);   // Output: One\n",
    "console.log(myObj2[\"2\"]);   // Output: Two"
   ]
  },
  {
   "cell_type": "code",
   "execution_count": null,
   "metadata": {
    "vscode": {
     "languageId": "javascript"
    }
   },
   "outputs": [],
   "source": [
    "let myVariable = \"name\";\n",
    "\n",
    "let myLastObj = {\n",
    "  name: \"Osama\"\n",
    "};\n",
    "\n",
    "console.log(myLastObj.myVariable); // Undefined\n",
    "console.log(myLastObj[myVariable]); // Osama\n",
    "console.log(myLastObj[\"name\"]); // Osama"
   ]
  },
  {
   "cell_type": "markdown",
   "metadata": {},
   "source": [
    ":: __`Define Object With New Keyword`__ ::"
   ]
  },
  {
   "cell_type": "code",
   "execution_count": null,
   "metadata": {
    "vscode": {
     "languageId": "javascript"
    }
   },
   "outputs": [],
   "source": [
    "let user = new Object();\n",
    "\n",
    "user.firstName = \"Osama\";\n",
    "user.lastName = \"Elzero\";\n",
    "user[\"age\"] = 37;\n",
    "\n",
    "user.getFullName = function () {\n",
    "  return `Full Name Is ${user.firstName} ${user.lastName}`;\n",
    "};\n",
    "\n",
    "console.log(user);\n",
    "/*\n",
    "Output: \n",
    "{\n",
    "  firstName: 'Osama',\n",
    "  lastName: 'Elzero',\n",
    "  age: 37,\n",
    "  getFullName: [Function (anonymous)]\n",
    "}\n",
    "*/"
   ]
  },
  {
   "cell_type": "code",
   "execution_count": null,
   "metadata": {
    "vscode": {
     "languageId": "javascript"
    }
   },
   "outputs": [],
   "source": [
    "let user = new Object();\n",
    "\n",
    "user.firstName = \"Osama\";\n",
    "user.lastName = \"Elzero\";\n",
    "user[\"age\"] = 37;\n",
    "\n",
    "user.getFullName = function () {\n",
    "  return `Full Name Is ${user.firstName} ${user.lastName}`;\n",
    "};\n",
    "\n",
    "console.log(user.firstName);  // Output: Osama\n",
    "console.log(user[\"lastName\"]);  // Output: Elzero\n",
    "console.log(user.age);  // Output: 37\n",
    "console.log(user.getFullName());  // Output: Full Name Is Osama Elzero"
   ]
  },
  {
   "cell_type": "markdown",
   "metadata": {},
   "source": [
    ":: __`Define Object With Object.create`__ ::"
   ]
  },
  {
   "cell_type": "code",
   "execution_count": null,
   "metadata": {
    "vscode": {
     "languageId": "javascript"
    }
   },
   "outputs": [],
   "source": [
    "let mainObj = {\n",
    "    hasDiscount: true,\n",
    "    showMsg: function () {\n",
    "      return `You${this.hasDiscount ? \"\" : \" Don't\"} Have Discount`;\n",
    "    },\n",
    "  };\n",
    "  \n",
    "  console.log(mainObj.hasDiscount); // Output: true\n",
    "  console.log(mainObj.showMsg()); // Output: You Have Discount"
   ]
  },
  {
   "cell_type": "markdown",
   "metadata": {},
   "source": [
    "The Use of `this` Here Is to Make the Function Reusable in Other Objects, Think of It Like This: \n",
    "\n",
    "↪ `this` = mainObj\n",
    "\n",
    "↪ `this` = Look for the Object Above and Use It Whatever It's Name Is\n",
    "\n",
    "This design allows methods defined in one object to be borrowed by another object or to be used in prototypes and classes, making code more modular and reusable."
   ]
  },
  {
   "cell_type": "code",
   "execution_count": null,
   "metadata": {
    "vscode": {
     "languageId": "javascript"
    }
   },
   "outputs": [],
   "source": [
    "let mainObj = {\n",
    "    hasDiscount: true,\n",
    "    showMsg: function () {\n",
    "      return `You${this.hasDiscount ? \"\" : \" Don't\"} Have Discount`;\n",
    "    },\n",
    "  };\n",
    "  \n",
    "  let otherObj = Object.create(mainObj);\n",
    "  otherObj.hasDiscount = false;\n",
    "  \n",
    "  console.log(otherObj.hasDiscount);  // Output: false\n",
    "  console.log(otherObj.showMsg());  // Output: You Don't Have Discount"
   ]
  },
  {
   "cell_type": "code",
   "execution_count": null,
   "metadata": {
    "vscode": {
     "languageId": "javascript"
    }
   },
   "outputs": [],
   "source": [
    "let mainObj = {\n",
    "    hasDiscount: true,\n",
    "    showMsg: function () {\n",
    "      return `You${this.hasDiscount ? \"\" : \" Don't\"} Have Discount`;\n",
    "    },\n",
    "  };\n",
    "  \n",
    "  let lastObj = Object.create(mainObj);\n",
    "  \n",
    "  console.log(lastObj.hasDiscount);   //Output: true\n",
    "  console.log(lastObj.showMsg());   //Output: You Have Discount\n",
    "  "
   ]
  },
  {
   "cell_type": "markdown",
   "metadata": {},
   "source": [
    ":: __`Define Object With Object.assign`__ ::"
   ]
  },
  {
   "cell_type": "code",
   "execution_count": null,
   "metadata": {
    "vscode": {
     "languageId": "javascript"
    }
   },
   "outputs": [],
   "source": [
    "const src1 = {\n",
    "  prop1: \"Value1\",\n",
    "  prop2: \"Value2\",\n",
    "  method1: function () {\n",
    "    return `Method 1`;\n",
    "  },\n",
    "};\n",
    "\n",
    "const src2 = {\n",
    "  prop3: \"Value3\",\n",
    "  prop4: \"Value4\",\n",
    "  method2: function () {\n",
    "    return `Method 2`;\n",
    "  },\n",
    "};\n",
    "\n",
    "const target = {\n",
    "  prop5: \"Value5\",\n",
    "};\n",
    "\n",
    "Object.assign(target, src1, src2, { prop6: \"Value6\" });\n",
    "\n",
    "console.log(target);\n",
    "\n",
    "/*\n",
    "Output: \n",
    "{\n",
    "  prop5: 'Value5',\n",
    "  prop1: 'Value1',\n",
    "  prop2: 'Value2',\n",
    "  method1: [Function: method1],\n",
    "  prop3: 'Value3',\n",
    "  prop4: 'Value4',\n",
    "  method2: [Function: method2],\n",
    "  prop6: 'Value6'\n",
    "}\n",
    "*/"
   ]
  },
  {
   "cell_type": "code",
   "execution_count": null,
   "metadata": {
    "vscode": {
     "languageId": "javascript"
    }
   },
   "outputs": [],
   "source": [
    "const src1 = {\n",
    "  prop1: \"Value1\",\n",
    "  prop2: \"Value2\",\n",
    "  method1: function () {\n",
    "    return `Method 1`;\n",
    "  },\n",
    "};\n",
    "\n",
    "const src2 = {\n",
    "  prop3: \"Value3\",\n",
    "  prop4: \"Value4\",\n",
    "  method2: function () {\n",
    "    return `Method 2`;\n",
    "  },\n",
    "};\n",
    "\n",
    "const target = {\n",
    "  prop5: \"Value5\",\n",
    "};\n",
    "\n",
    "Object.assign(target, src1, src2, { prop6: \"Value6\" });\n",
    "\n",
    "const myObject = Object.assign({}, target, { prop7: \"Value7\" });\n",
    "\n",
    "console.log(myObject);\n",
    "/*\n",
    "Output: \n",
    "{\n",
    "  prop5: 'Value5',\n",
    "  prop1: 'Value1',\n",
    "  prop2: 'Value2',\n",
    "  method1: [Function: method1],\n",
    "  prop3: 'Value3',\n",
    "  prop4: 'Value4',\n",
    "  method2: [Function: method2],\n",
    "  prop6: 'Value6',\n",
    "  prop7: 'Value7'\n",
    "}\n",
    "*/\n",
    "\n"
   ]
  },
  {
   "cell_type": "code",
   "execution_count": null,
   "metadata": {
    "vscode": {
     "languageId": "javascript"
    }
   },
   "outputs": [],
   "source": [
    "const src1 = {\n",
    "  prop1: \"Value1\",\n",
    "  prop2: \"Value2\",\n",
    "  method1: function () {\n",
    "    return `Method 1`;\n",
    "  },\n",
    "};\n",
    "\n",
    "const src2 = {\n",
    "  prop3: \"Value3\",\n",
    "  prop4: \"Value4\",\n",
    "  method2: function () {\n",
    "    return `Method 2`;\n",
    "  },\n",
    "};\n",
    "\n",
    "const target = {\n",
    "  prop5: \"Value5\",\n",
    "};\n",
    "\n",
    "Object.assign(target, src1, src2, { prop6: \"Value6\" });\n",
    "\n",
    "const myObject = Object.assign({}, target, { prop7: \"Value7\" });\n",
    "\n",
    "console.log(myObject.prop1); // Output: Value1\n",
    "console.log(myObject.prop2); // Output: Value2\n",
    "console.log(myObject.prop6); // Output: Value6\n",
    "console.log(myObject.method1());  // Output: Method 1\n",
    "console.log(myObject.method2());  // Output: Method 2"
   ]
  },
  {
   "cell_type": "markdown",
   "metadata": {},
   "source": [
    ":: __`Delete Operator`__ ::\n",
    "\n",
    "`delete` operator in JavaScript ⟶ Removes a property from an object. If the property exists on the object, `delete` will remove the property and its value, returning `true`; if the property does not exist or cannot be deleted, it returns `false`. It does not affect variables or function names."
   ]
  },
  {
   "cell_type": "code",
   "execution_count": null,
   "metadata": {
    "vscode": {
     "languageId": "javascript"
    }
   },
   "outputs": [],
   "source": [
    "const user = { name: \"Osama\" };\n",
    "\n",
    "console.log(user); // Output: { name: 'Osama' }\n",
    "console.log(user.name); // Output: Osama\n",
    "\n",
    "delete user; // Delete Property Not Object\n",
    "\n",
    "console.log(user); // Output: { name: 'Osama' }"
   ]
  },
  {
   "cell_type": "code",
   "execution_count": null,
   "metadata": {
    "vscode": {
     "languageId": "javascript"
    }
   },
   "outputs": [],
   "source": [
    "const user = { name: \"Osama\" };\n",
    "\n",
    "delete user.name;\n",
    "\n",
    "console.log(user); // Output: {}"
   ]
  },
  {
   "cell_type": "code",
   "execution_count": null,
   "metadata": {
    "vscode": {
     "languageId": "javascript"
    }
   },
   "outputs": [],
   "source": [
    "const user = { name: \"Osama\" };\n",
    "\n",
    "delete user[\"name\"];\n",
    "\n",
    "console.log(user); // Output: {}"
   ]
  },
  {
   "cell_type": "code",
   "execution_count": null,
   "metadata": {
    "vscode": {
     "languageId": "javascript"
    }
   },
   "outputs": [],
   "source": [
    "const user = { name: \"Osama\" };\n",
    "\n",
    "console.log(delete user[\"name\"]);\n",
    "// Output: true"
   ]
  },
  {
   "cell_type": "markdown",
   "metadata": {},
   "source": [
    ":: __`Object Freeze`__ ::\n",
    "\n",
    "`Object.freeze()` method in JavaScript ⟶ Makes an object immutable, preventing new properties from being added to it, existing properties from being removed or modified, and their enumerability, configurability, or writability from being changed. It effectively makes the entire object read-only. However, it does not affect the mutability of objects nested within the frozen object."
   ]
  },
  {
   "cell_type": "code",
   "execution_count": null,
   "metadata": {
    "vscode": {
     "languageId": "javascript"
    }
   },
   "outputs": [],
   "source": [
    "const freezedObj = Object.freeze({ age: 37 });\n",
    "console.log(freezedObj); // Output: { age: 37 }\n",
    "console.log(freezedObj.age); // Output: 37"
   ]
  },
  {
   "cell_type": "code",
   "execution_count": null,
   "metadata": {
    "vscode": {
     "languageId": "javascript"
    }
   },
   "outputs": [],
   "source": [
    "const freezedObj = Object.freeze({ age: 37 });\n",
    "console.log(delete freezedObj.age); // Output: false\n",
    "console.log(freezedObj); // Output: { age: 37 }\n",
    "console.log(freezedObj.age); // Output: 37"
   ]
  },
  {
   "cell_type": "markdown",
   "metadata": {},
   "source": [
    ":: __`Object Define Property Method`__ ::\n",
    "\n",
    "❖ `Object.defineProperty()` method in JavaScript ⟶ Adds a new property to an object or modifies an existing property on an object, and explicitly defines or modifies its characteristics. \n",
    "\n",
    "❖ You can control property attributes such as value, writability, enumerability, and configurability, as well as defining getter and setter functions for a property. \n",
    "\n",
    "❖ This method allows for precise control over property behavior on an object.\n"
   ]
  },
  {
   "cell_type": "markdown",
   "metadata": {},
   "source": [
    "__The basic syntax for `Object.defineProperty()` in JavaScript is as follows:__\n",
    "\n",
    "> Object.defineProperty(object, propertyName, descriptor);\n",
    "\n",
    "❖ **`object`**: The object on which to define the property.\n",
    "\n",
    "❖ **`propertyName`**: The name of the property to be defined or modified as a string.\n",
    "\n",
    "❖ **`descriptor`**: An object that describes the property being defined or modified. This descriptor object can have the following properties:\n",
    "\n",
    "  ↪ **`value`**: The value associated with the property. Can be any valid JavaScript value (number, object, function, etc.).\n",
    "  \n",
    "  ↪ **`writable`**: Boolean indicating if the value of the property can be changed. Defaults to `false`.\n",
    "  \n",
    "  ↪ **`enumerable`**: Boolean indicating if the property will be included in the enumeration (e.g., in a `for...in` loop or `Object.keys` method). Defaults to `false`.\n",
    "  \n",
    "  ↪ **`configurable`**: Boolean indicating if the property can be deleted from the object and if the descriptor can be changed. Defaults to `false`.\n",
    "  \n",
    "  ↪ **`get`**: A getter function, which will be called when the property is read. Cannot be defined alongside `value` or `writable`.\n",
    "  \n",
    "  ↪ **`set`**: A setter function, which will be called when the property is set to a new value. Cannot be defined alongside `value` or `writable`.\n",
    "  "
   ]
  },
  {
   "cell_type": "code",
   "execution_count": null,
   "metadata": {
    "vscode": {
     "languageId": "javascript"
    }
   },
   "outputs": [],
   "source": [
    "const eObj = {};\n",
    "Object.defineProperty(eObj, \"a\", { value: 1, configurable: false });\n",
    "console.log(eObj);  // Output: {}\n",
    "console.log(eObj.a);  // Output: 1"
   ]
  },
  {
   "cell_type": "markdown",
   "metadata": {},
   "source": [
    "**::Note::** \n",
    "\n",
    "Why in This Example the eObj Is `{}` when We Defined a Property `\"A\"` To Be `1` and After that It Recognized the Property in the Second Console Log and We Gained Access to It's Value (`1`) ? "
   ]
  },
  {
   "cell_type": "markdown",
   "metadata": {},
   "source": [
    "In this example, the reason `eObj` appears as `{}` when logged directly to the console is due to the property attributes set by `Object.defineProperty()`. Specifically, the property \"a\" is defined with `configurable: false` and, by default, if not explicitly set, the `enumerable` attribute of a property defined this way is `false`. \n",
    "\n",
    "The `enumerable` attribute controls whether the property is included in the object's enumerable properties. Since it defaults to `false` when not specified (and you haven't specified it in your property descriptor), the property \"a\" will not appear in the list of keys when you try to log or enumerate the object's properties (for example, using `console.log`, `for...in` loop, `Object.keys()`, etc.).\n",
    "\n",
    "However, the property \"a\" is indeed added to `eObj` with a value of `1`, as demonstrated by the direct access `console.log(eObj.a)`, which outputs `1`. This shows that the property exists and its value is accessible, but its non-enumerability makes it invisible in direct console log outputs of the object itself.\n",
    "\n",
    "To make the property appear in such outputs, you would need to set `enumerable: true` in your property descriptor:"
   ]
  },
  {
   "cell_type": "code",
   "execution_count": null,
   "metadata": {
    "vscode": {
     "languageId": "javascript"
    }
   },
   "outputs": [],
   "source": [
    "const eObj = {};\n",
    "Object.defineProperty(eObj, \"a\", { value: 1, configurable: false, enumerable: true });\n",
    "console.log(eObj);  // Output: { a: 1 }\n",
    "console.log(eObj.a);  // Output: 1"
   ]
  },
  {
   "cell_type": "markdown",
   "metadata": {},
   "source": [
    "With `enumerable` set to `true`, logging `eObj` to the console would show the property \"a\" and its value."
   ]
  },
  {
   "cell_type": "code",
   "execution_count": null,
   "metadata": {
    "vscode": {
     "languageId": "javascript"
    }
   },
   "outputs": [],
   "source": [
    "const eObj = {};\n",
    "Object.defineProperty(eObj, \"a\", { value: 1, configurable: false, enumerable: true });\n",
    "\n",
    "console.log(delete eObj.a);   // Output: false\n",
    "console.log(eObj);  // Output: { a: 1 }\n",
    "console.log(eObj.a);  // Output: 1"
   ]
  },
  {
   "cell_type": "code",
   "execution_count": null,
   "metadata": {
    "vscode": {
     "languageId": "javascript"
    }
   },
   "outputs": [],
   "source": [
    "const eObj = {};\n",
    "Object.defineProperty(eObj, \"a\", { value: 1, configurable: true, enumerable: true });\n",
    "\n",
    "console.log(delete eObj.a);   // Output: true\n",
    "console.log(eObj);  // Output: {}\n",
    "console.log(eObj.a);  // Output: undefined"
   ]
  },
  {
   "cell_type": "markdown",
   "metadata": {},
   "source": [
    ":: __`For In Loop With Object Properties`__ ::"
   ]
  },
  {
   "cell_type": "code",
   "execution_count": null,
   "metadata": {
    "vscode": {
     "languageId": "javascript"
    }
   },
   "outputs": [],
   "source": [
    "const user = {\n",
    "    name: \"Osama\",\n",
    "    country: \"Egypt\",\n",
    "    age: 37,\n",
    "  };\n",
    "  \n",
    "  let finalData = \"\";\n",
    "  \n",
    "  for (let info in user) {\n",
    "    console.log(`The ${info} Is => ${user[info]}`);\n",
    "  };\n",
    "  \n",
    "  /*\n",
    "  Output: \n",
    "  The name Is => Osama\n",
    "  The country Is => Egypt\n",
    "  The age Is => 37\n",
    "  */"
   ]
  },
  {
   "cell_type": "markdown",
   "metadata": {},
   "source": [
    "Now Let's Create `index.html` File and `main.js` File, the Javascript Will Create Multiple Divs with the for Loop "
   ]
  },
  {
   "cell_type": "code",
   "execution_count": null,
   "metadata": {
    "vscode": {
     "languageId": "html"
    }
   },
   "outputs": [],
   "source": [
    "<!-- index.html file -->\n",
    "\n",
    "<!DOCTYPE html>\n",
    "<html lang=\"en\">\n",
    "<head>\n",
    "    <meta charset=\"UTF-8\">\n",
    "    <meta name=\"viewport\" content=\"width=device-width, initial-scale=1.0\">\n",
    "    <title>User Information Display</title>\n",
    "</head>\n",
    "<body>\n",
    "    <script src=\"main.js\"></script>\n",
    "</body>\n",
    "</html>\n"
   ]
  },
  {
   "cell_type": "code",
   "execution_count": null,
   "metadata": {
    "vscode": {
     "languageId": "javascript"
    }
   },
   "outputs": [],
   "source": [
    "// main.js File\n",
    "\n",
    "const user = {\n",
    "    name: \"Osama\",\n",
    "    country: \"Egypt\",\n",
    "    age: 37,\n",
    "  };\n",
    "  \n",
    "  let finalData = \"\";\n",
    "  \n",
    "  for (let info in user) {\n",
    "    finalData += `<div>The ${info} Is => ${user[info]}</div>`;\n",
    "  };\n",
    "  \n",
    "  document.body.innerHTML = finalData;"
   ]
  },
  {
   "cell_type": "markdown",
   "metadata": {},
   "source": [
    "❖ Now the Html File Will Have `Divs` = the Same Output We Got From the `Node.Js` But Displayed in the Body Section of the HTML"
   ]
  },
  {
   "cell_type": "markdown",
   "metadata": {
    "vscode": {
     "languageId": "javascript"
    }
   },
   "source": [
    ":: __`Constructor Function`__ ::\n",
    "\n",
    "Constructor Is the Blueprint, Let's Say We Are Making Phones:   "
   ]
  },
  {
   "cell_type": "code",
   "execution_count": null,
   "metadata": {
    "vscode": {
     "languageId": "javascript"
    }
   },
   "outputs": [],
   "source": [
    "const phone1 = {\n",
    "  serial: 123,\n",
    "  color: \"Red\",\n",
    "  price: 500,\n",
    "};\n",
    "\n",
    "const phone2 = {\n",
    "  serial: 159,\n",
    "  color: \"Black\",\n",
    "  price: 500,\n",
    "};\n",
    "\n",
    "const phone3 = {\n",
    "  serial: 167,\n",
    "  color: \"Silver\",\n",
    "  price: 500,\n",
    "};"
   ]
  },
  {
   "cell_type": "markdown",
   "metadata": {},
   "source": [
    "If We Want to Make Discount to the Price We Can't Change the Price in Each Phone This Will Be Inconvenient, Instead We Make the Discount in the Blueprint and The Price Will Dynamically Change in All Phones\n",
    "\n",
    ":: __`Note`__ :: The Best Practice when We Make Constructor Is to Use Upper Camel Case"
   ]
  },
  {
   "cell_type": "code",
   "execution_count": null,
   "metadata": {
    "vscode": {
     "languageId": "javascript"
    }
   },
   "outputs": [],
   "source": [
    "function Phone(serial, color, price) {\n",
    "  this.serial = serial;\n",
    "  this.color = color;\n",
    "  this.price = price - 100;\n",
    "}; \n",
    "\n",
    "let phone1 = new Phone(123, \"Red\", 500);\n",
    "let phone2 = new Phone(159, \"Black\", 500);\n",
    "let phone3 = new Phone(167, \"Silver\", 500);\n",
    "\n",
    "console.log(phone1.serial); // Output: 123\n",
    "console.log(phone1.color); // Output: Red\n",
    "console.log(phone1.price); // Output: 400"
   ]
  },
  {
   "cell_type": "code",
   "execution_count": null,
   "metadata": {
    "vscode": {
     "languageId": "javascript"
    }
   },
   "outputs": [],
   "source": [
    "function Phone(serial) {\n",
    "  console.log(this);\n",
    "  this.serial = `#${serial}`;\n",
    "}\n",
    "\n",
    "let phone1 = new Phone(123456); // Output: Phone {}\n",
    "let phone2 = new Phone(528951); // Output: Phone {}"
   ]
  },
  {
   "cell_type": "code",
   "execution_count": null,
   "metadata": {
    "vscode": {
     "languageId": "javascript"
    }
   },
   "outputs": [],
   "source": [
    "function Phone(serial) {\n",
    "  this.serial = `#${serial}`;\n",
    "}\n",
    "\n",
    "let phone1 = new Phone(123456); \n",
    "let phone2 = new Phone(528951); \n",
    "\n",
    "console.log(phone1.serial); // Output: #123456\n",
    "console.log(phone2.serial); // Output: #528951  "
   ]
  },
  {
   "cell_type": "markdown",
   "metadata": {},
   "source": [
    "This Means Phone1 & Phone2 Are Instances of the Constructor (Blueprint) Phone"
   ]
  },
  {
   "cell_type": "code",
   "execution_count": null,
   "metadata": {
    "vscode": {
     "languageId": "javascript"
    }
   },
   "outputs": [],
   "source": [
    "function Phone(serial) {\n",
    "  this.serial = `#${serial}`;\n",
    "}\n",
    "\n",
    "let phone1 = new Phone(123456); \n",
    "let phone2 = new Phone(528951); \n",
    "\n",
    "console.log(phone1 instanceof Phone); // Output: true\n",
    "console.log(phone2 instanceof Phone); // Output: true\n"
   ]
  },
  {
   "cell_type": "code",
   "execution_count": null,
   "metadata": {
    "vscode": {
     "languageId": "javascript"
    }
   },
   "outputs": [],
   "source": [
    "function Phone(serial) {\n",
    "  this.serial = `#${serial}`;\n",
    "}\n",
    "\n",
    "let phone1 = new Phone(123456); \n",
    "let phone2 = new Phone(528951); \n",
    "\n",
    "console.log(phone1.constructor === Phone); // Output: true"
   ]
  },
  {
   "cell_type": "markdown",
   "metadata": {},
   "source": [
    ":: __`Constructor Function Dealing With Properties`__ ::"
   ]
  },
  {
   "cell_type": "code",
   "execution_count": null,
   "metadata": {
    "vscode": {
     "languageId": "javascript"
    }
   },
   "outputs": [],
   "source": [
    "function User(fName, lName, age, country) {\n",
    "  this.fName = fName;\n",
    "  this.lName = lName;\n",
    "  this.age = age;\n",
    "  this.country = country;\n",
    "  this.fullName = function () {\n",
    "    return `Full Name: ${this.fName} ${this.lName}`;\n",
    "  };\n",
    "  this.ageInDays = function () {\n",
    "    return `Age In Days: ${this.age * 365}`;\n",
    "  };\n",
    "}\n",
    "\n",
    "let user1 = new User(\"Osama\", \"Elzero\", 37, \"Egypt\");\n",
    "let user2 = new User(\"Ahmed\", \"Ali\", 30, \"KSA\");\n",
    "\n",
    "console.log(user1);\n",
    "\n",
    "/*\n",
    "User {\n",
    "  fName: 'Osama',\n",
    "  lName: 'Elzero',\n",
    "  age: 37,\n",
    "  country: 'Egypt',\n",
    "  fullName: [Function (anonymous)],\n",
    "  ageInDays: [Function (anonymous)]\n",
    "}\n",
    "*/"
   ]
  },
  {
   "cell_type": "code",
   "execution_count": null,
   "metadata": {
    "vscode": {
     "languageId": "javascript"
    }
   },
   "outputs": [],
   "source": [
    "function User(fName, lName, age, country) {\n",
    "  this.fName = fName;\n",
    "  this.lName = lName;\n",
    "  this.age = age;\n",
    "  this.country = country;\n",
    "  this.fullName = function () {\n",
    "    return `Full Name: ${this.fName} ${this.lName}`;\n",
    "  };\n",
    "  this.ageInDays = function () {\n",
    "    return `Age In Days: ${this.age * 365}`;\n",
    "  };\n",
    "}\n",
    "\n",
    "let user1 = new User(\"Osama\", \"Elzero\", 37, \"Egypt\");\n",
    "let user2 = new User(\"Ahmed\", \"Ali\", 30, \"KSA\");\n",
    "\n",
    "console.log(`Full Name: ${user1.fName} ${user1.lName}`); // Output: Full Name: Osama Elzero\n",
    "console.log(user1.fullName()); // Output: Full Name: Osama Elzero\n",
    "console.log(user1.ageInDays()); // Output: Age In Days: 13505\n"
   ]
  },
  {
   "cell_type": "markdown",
   "metadata": {},
   "source": [
    ":: __`Constructor Function Training`__ ::"
   ]
  },
  {
   "cell_type": "code",
   "execution_count": null,
   "metadata": {
    "vscode": {
     "languageId": "javascript"
    }
   },
   "outputs": [],
   "source": [
    "function User(name, email, age, showEmail) {\n",
    "  this.name = name;\n",
    "  this.email = email;\n",
    "  this.age = age;\n",
    "  this.updateName = function (newName) {\n",
    "    if (this.age > 18) {\n",
    "      this.name = newName;\n",
    "    } else {\n",
    "      console.log(`You Cant Update Name Because Of Age Restriction`);\n",
    "    }\n",
    "  };\n",
    "  this.showEmail = function () {\n",
    "    if (showEmail === true) {\n",
    "      return `Email Is: ${this.email}`;\n",
    "    } else {\n",
    "      return `Data Is Private`;\n",
    "    }\n",
    "  };\n",
    "}\n",
    "\n",
    "let user1 = new User(\"Osama\", \"o@nn.sa\", 19, false);\n",
    "console.log(user1.name); // Output: Osama\n",
    "user1.updateName(\"Ahmed\");\n",
    "console.log(user1.name); // Output: Ahmed\n",
    "console.log(user1.showEmail()); // Output: Data Is Private"
   ]
  },
  {
   "cell_type": "markdown",
   "metadata": {},
   "source": [
    ":: __`Constructor Function and Built In Constructors`__ ::"
   ]
  },
  {
   "cell_type": "code",
   "execution_count": null,
   "metadata": {
    "vscode": {
     "languageId": "javascript"
    }
   },
   "outputs": [],
   "source": [
    "// Constructor Function\n",
    "function User(name) {\n",
    "    this.name = name;\n",
    "    this.welcome = function () {\n",
    "      return `Welcome ${this.name}`;\n",
    "    };\n",
    "  }\n",
    "  \n",
    "  let user1 = new User(\"Osama\");\n",
    "  let user2 = new User(\"Ahmed\");"
   ]
  },
  {
   "cell_type": "code",
   "execution_count": null,
   "metadata": {
    "vscode": {
     "languageId": "javascript"
    }
   },
   "outputs": [],
   "source": [
    "// Built In Constructors \n",
    "let obj1 = new Object({ a: 1 });\n",
    "let obj2 = new Object({ b: 2 });\n",
    "\n",
    "console.log(obj1) // Output: { a: 1 }\n",
    "console.log(obj2) // Output: { b: 2 }"
   ]
  },
  {
   "cell_type": "code",
   "execution_count": null,
   "metadata": {
    "vscode": {
     "languageId": "javascript"
    }
   },
   "outputs": [],
   "source": [
    "// Built In Constructors\n",
    "let num1 = new Number(1);\n",
    "let num2 = new Number(2);\n",
    "\n",
    "console.log(num1) // Output: [Number: 1]\n",
    "console.log(num2) // Output: [Number: 2]"
   ]
  },
  {
   "cell_type": "code",
   "execution_count": null,
   "metadata": {
    "vscode": {
     "languageId": "javascript"
    }
   },
   "outputs": [],
   "source": [
    "let str1 = new String(\"Osama\");\n",
    "\n",
    "console.log(str1.constructor) // Output: [Function: String]"
   ]
  },
  {
   "cell_type": "code",
   "execution_count": null,
   "metadata": {
    "vscode": {
     "languageId": "javascript"
    }
   },
   "outputs": [],
   "source": [
    "let str3 = \"Mahmoud\";\n",
    "\n",
    "console.log(str3.constructor) // Output: [Function: String]"
   ]
  },
  {
   "cell_type": "markdown",
   "metadata": {},
   "source": [
    "So when We Assign a String to a Variable Like This:"
   ]
  },
  {
   "cell_type": "code",
   "execution_count": null,
   "metadata": {
    "vscode": {
     "languageId": "javascript"
    }
   },
   "outputs": [],
   "source": [
    "let str3 = \"Mahmoud\";"
   ]
  },
  {
   "cell_type": "markdown",
   "metadata": {},
   "source": [
    "javascript is using a constructor `string()` behind the scene to create \"Mahmoud\""
   ]
  },
  {
   "cell_type": "markdown",
   "metadata": {},
   "source": [
    ":: __`Note`__ :: the constructor `string()` which is built inside the language has methods like (length, concat, endsWith, .. etc) \n",
    "\n",
    "❖ when i create the `Mahmoud` string, automatically i get access to the methods of the `string()` constructor. "
   ]
  },
  {
   "cell_type": "code",
   "execution_count": null,
   "metadata": {
    "vscode": {
     "languageId": "javascript"
    }
   },
   "outputs": [],
   "source": [
    "let str3 = \"Mahmoud\";\n",
    "str3.toUpperCase()\n",
    "console.log(str3) // Output: Mahmoud"
   ]
  },
  {
   "cell_type": "markdown",
   "metadata": {},
   "source": [
    "This Won't Change the String `Mahmoud` to Be Upper Case because In JavaScript, Strings Are Immutable, You Need to Assign the Result of `toUpperCase()` to a Variable or Directly Use It Where You Need the Uppercase Version."
   ]
  },
  {
   "cell_type": "code",
   "execution_count": null,
   "metadata": {
    "vscode": {
     "languageId": "javascript"
    }
   },
   "outputs": [],
   "source": [
    "let str3 = \"Mahmoud\";\n",
    "str3 = str3.toUpperCase()\n",
    "console.log(str3) // Output: MAHMOUD"
   ]
  },
  {
   "cell_type": "markdown",
   "metadata": {},
   "source": [
    "Same Goes for Numbers: "
   ]
  },
  {
   "cell_type": "code",
   "execution_count": null,
   "metadata": {
    "vscode": {
     "languageId": "javascript"
    }
   },
   "outputs": [],
   "source": [
    "let num1 = new Number(1.5);\n",
    "\n",
    "num1 = num1.toFixed();\n",
    "console.log(num1) // Output: 2"
   ]
  },
  {
   "cell_type": "markdown",
   "metadata": {},
   "source": [
    "As Soon as I Use the Dot Notation I Get Access to the Number Methods Like (toFixed)\n",
    "\n",
    "Same Goes for Objects:"
   ]
  },
  {
   "cell_type": "code",
   "execution_count": null,
   "metadata": {
    "vscode": {
     "languageId": "javascript"
    }
   },
   "outputs": [],
   "source": [
    "// Define an object\n",
    "let car = {\n",
    "  brand: 'Toyota',\n",
    "  model: 'Camry',\n",
    "  year: 2020,\n",
    "  // Define an object method\n",
    "  start: function() {\n",
    "      console.log('The car is starting...');\n",
    "  }\n",
    "};\n",
    "\n",
    "// Call the object method\n",
    "car.start(); // Output: \"The car is starting...\""
   ]
  },
  {
   "cell_type": "markdown",
   "metadata": {},
   "source": [
    ":: __`Prototype Part 1 Intro`__ ::\n",
    "\n",
    "In JavaScript, a prototype is an object that acts as a blueprint for other objects. Each JavaScript object has a prototype, which is an object from which it inherits properties and methods. When you attempt to access a property or method on an object, JavaScript first looks for it directly on the object. If it doesn't find it, it checks the object's prototype, and if the property or method is found there, it is used.\n",
    "\n",
    "Here's a simple analogy to understand prototypes:\n",
    "\n",
    "Think of a prototype as a recipe for making objects. Just like a recipe provides instructions for creating a dish, a prototype provides instructions for creating objects in JavaScript. Objects created using the same prototype share common properties and methods, just like dishes created using the same recipe share common ingredients and cooking instructions."
   ]
  },
  {
   "cell_type": "code",
   "execution_count": null,
   "metadata": {
    "vscode": {
     "languageId": "javascript"
    }
   },
   "outputs": [],
   "source": [
    "const arr = [1, 2, 3, 4, 5];\n",
    "\n",
    "console.log(arr.constructor) // Output:[Function: Array]\n",
    "\n",
    "// Array.prototype."
   ]
  },
  {
   "cell_type": "markdown",
   "metadata": {},
   "source": [
    "❖ Since Our `Arr` Is Made From `Array()` Convstructor, Let's See What Methods This Constructor Has; when I Type `Array.prototype.` \n",
    "\n",
    "❖ As Soon as I Use the Dot Notation After `Prototype` Keyword I Get Access to All the `Array()` Methods, Let's Use the Method that Reverse the Array Items Just to Demonstrate"
   ]
  },
  {
   "cell_type": "code",
   "execution_count": null,
   "metadata": {
    "vscode": {
     "languageId": "javascript"
    }
   },
   "outputs": [],
   "source": [
    "const arr = [1, 2, 3, 4, 5];\n",
    "\n",
    "console.log(arr.constructor) // Output:[Function: Array]\n",
    "console.log(Array.prototype) // Output: Object(0) []\n",
    "\n",
    "// Array.prototype."
   ]
  },
  {
   "cell_type": "markdown",
   "metadata": {},
   "source": [
    "when we try to console log the prototype itself it return object cuz the prototype itself is an object, but we want to console log the methods inside the `Array()`, how can we do that ? we will use `getOwnPropertyNames`"
   ]
  },
  {
   "cell_type": "code",
   "execution_count": null,
   "metadata": {
    "vscode": {
     "languageId": "javascript"
    }
   },
   "outputs": [],
   "source": [
    "const arr = [1, 2, 3, 4, 5];\n",
    "\n",
    "console.log(Object.getOwnPropertyNames(Array.prototype));\n",
    "/*\n",
    "[\n",
    "  'length',        'constructor',    'at',\n",
    "  'concat',        'copyWithin',     'fill',\n",
    "  'find',          'findIndex',      'findLast',\n",
    "  'findLastIndex', 'lastIndexOf',    'pop',\n",
    "  'push',          'reverse',        'shift',\n",
    "  'unshift',       'slice',          'sort',\n",
    "  'splice',        'includes',       'indexOf',\n",
    "  'join',          'keys',           'entries',\n",
    "  'values',        'forEach',        'filter',\n",
    "  'flat',          'flatMap',        'map',\n",
    "  'every',         'some',           'reduce',\n",
    "  'reduceRight',   'toLocaleString', 'toString',\n",
    "  'toReversed',    'toSorted',       'toSpliced',\n",
    "  'with'\n",
    "]\n",
    "*/"
   ]
  },
  {
   "cell_type": "markdown",
   "metadata": {},
   "source": [
    "`Object.getOwnPropertyNames` is considered a static method of the `Object` constructor. It is not a function in the traditional sense, as it is not a property of any object, but rather a method directly accessible from the `Object` constructor itself.\n",
    "\n",
    "In JavaScript, methods are functions that are properties of objects. However, static methods are functions that are attached directly to the constructor itself and are not tied to any particular instance of the constructor.\n",
    "\n",
    "Here's how you typically use `Object.getOwnPropertyNames`:\n",
    "\n"
   ]
  },
  {
   "cell_type": "code",
   "execution_count": null,
   "metadata": {
    "vscode": {
     "languageId": "javascript"
    }
   },
   "outputs": [],
   "source": [
    "const obj = { a: 1, b: 2 };\n",
    "const propertyNames = Object.getOwnPropertyNames(obj);\n",
    "console.log(propertyNames); // Output: [\"a\", \"b\"]"
   ]
  },
  {
   "cell_type": "markdown",
   "metadata": {},
   "source": [
    "In this example, `Object.getOwnPropertyNames` is used as a function to retrieve an array of property names of the `obj` object."
   ]
  },
  {
   "cell_type": "markdown",
   "metadata": {},
   "source": [
    ":: __`Prototype Part 2 Add To Prototype Chain`__ ::\n",
    "\n",
    "Let's Add a New Method to the Constructor Function "
   ]
  },
  {
   "cell_type": "code",
   "execution_count": null,
   "metadata": {
    "vscode": {
     "languageId": "javascript"
    }
   },
   "outputs": [],
   "source": [
    "// constructor function\n",
    "function User(name) {\n",
    "  this.name = name;\n",
    "  this.welcome = function () {\n",
    "    return `Welcome ${this.name}`;\n",
    "  };\n",
    "};\n",
    "\n",
    "// creating instances of the constructor\n",
    "let user1 = new User(\"Osama\");\n",
    "let user2 = new User(\"Ahmed\");\n",
    "\n",
    "// adding new method to the prototype\n",
    "User.prototype.addTitle = function () {\n",
    "  return `Mr. ${this.name}`;\n",
    "};\n",
    "\n"
   ]
  },
  {
   "cell_type": "markdown",
   "metadata": {},
   "source": [
    "Now as Soon as You Type the Next Line in vs Code You Will See that You Have Access to the addTitle Method"
   ]
  },
  {
   "cell_type": "code",
   "execution_count": null,
   "metadata": {
    "vscode": {
     "languageId": "javascript"
    }
   },
   "outputs": [],
   "source": [
    "// User.prototype."
   ]
  },
  {
   "cell_type": "markdown",
   "metadata": {},
   "source": [
    "We Can Also Check the Constructor User for It's Properties Using `getOwnPropertyNames`"
   ]
  },
  {
   "cell_type": "code",
   "execution_count": null,
   "metadata": {
    "vscode": {
     "languageId": "javascript"
    }
   },
   "outputs": [],
   "source": [
    "// constructor function\n",
    "function User(name) {\n",
    "  this.name = name;\n",
    "  this.welcome = function () {\n",
    "    return `Welcome ${this.name}`;\n",
    "  };\n",
    "};\n",
    "\n",
    "// creating instances of the constructor\n",
    "let user1 = new User(\"Osama\");\n",
    "let user2 = new User(\"Ahmed\");\n",
    "\n",
    "// adding new method to the prototype\n",
    "User.prototype.addTitle = function () {\n",
    "  return `Mr. ${this.name}`;\n",
    "};\n",
    "\n",
    "console.log(Object.getOwnPropertyNames(User.prototype));\n",
    "// Output:  [ 'constructor', 'addTitle' ]"
   ]
  },
  {
   "cell_type": "markdown",
   "metadata": {},
   "source": [
    "Now if We Tried the Same Code but with `user1` Instead of `User`, We Will Get Error. "
   ]
  },
  {
   "cell_type": "code",
   "execution_count": null,
   "metadata": {
    "vscode": {
     "languageId": "javascript"
    }
   },
   "outputs": [],
   "source": [
    "// constructor function\n",
    "function User(name) {\n",
    "  this.name = name;\n",
    "  this.welcome = function () {\n",
    "    return `Welcome ${this.name}`;\n",
    "  };\n",
    "};\n",
    "\n",
    "// creating instances of the constructor\n",
    "let user1 = new User(\"Osama\");\n",
    "let user2 = new User(\"Ahmed\");\n",
    "\n",
    "// adding new method to the prototype\n",
    "User.prototype.addTitle = function () {\n",
    "  return `Mr. ${this.name}`;\n",
    "};\n",
    "\n",
    "console.log(Object.getOwnPropertyNames(user1.prototype));\n",
    "// Type Error"
   ]
  },
  {
   "cell_type": "markdown",
   "metadata": {},
   "source": [
    "❖ `user1` itself doesn't have a prototype and that's why `user1.prototype = undefined` resulting type error. \n",
    "\n",
    "❖ instead it inherits from the prototype of the constructor, so the prototype is special to constructors only not instances of the constructor."
   ]
  },
  {
   "cell_type": "code",
   "execution_count": null,
   "metadata": {
    "vscode": {
     "languageId": "javascript"
    }
   },
   "outputs": [],
   "source": [
    "// constructor function\n",
    "function User(name) {\n",
    "  this.name = name;\n",
    "  this.welcome = function () {\n",
    "    return `Welcome ${this.name}`;\n",
    "  };\n",
    "};\n",
    "\n",
    "// creating instances of the constructor\n",
    "let user1 = new User(\"Osama\");\n",
    "let user2 = new User(\"Ahmed\");\n",
    "\n",
    "// adding new method to the prototype\n",
    "User.prototype.addTitle = function () {\n",
    "  return `Mr. ${this.name}`;\n",
    "};\n",
    "\n",
    "// Accessing the new method\n",
    "console.log(user1.addTitle())\n",
    "// Output: Mr. Osama"
   ]
  },
  {
   "cell_type": "markdown",
   "metadata": {},
   "source": [
    ":: __`Note`__ :: \n",
    "\n",
    "❖ Remember What We Said Before: When You Attempt to Access a Property or Method on an Object, JavaScript First Looks for It Directly on the Object. If It Doesn't Find It, It Checks the Object's Prototype, and if the Property or Method Is Found There, It Is Used.\n",
    "\n",
    "❖ The `addTitle()` Method Is Not in the `Constructor` Function, Behind the Scenes Javascript Engine Is Looking For the Method in The Prototype Chain, Found the Method and Used It.\n",
    "\n",
    "❖ This Is Called `Adding a Method to Prototype Chain`\n",
    "\n",
    "❖ the prototype chain in the previous example is as follows:\n",
    "\n",
    "> user1 -> User.prototype -> Object.prototype -> null\n",
    "\n",
    "> user2 -> User.prototype -> Object.prototype -> null\n",
    "\n",
    "\n",
    "❖ When you call `user1.addTitle()`, JavaScript first checks if `user1` has a method named `addTitle`. \n",
    "\n",
    "❖ Since it doesn't find it directly on `user1`, it then looks up the prototype chain. \n",
    "\n",
    "❖ It finds the `addTitle` method on `User.prototype`, so it executes that method in the context of `user1`.\n",
    "\n",
    "⟶ Similarly, for `user2`, the lookup would go all the way up to `User.prototype`, then to `Object.prototype`, and finally to `null`, which is the end of the prototype chain.\n",
    "\n",
    "❖ The Analogy of the Chain Can Be Prescribed as Follows: Imagine a Detective (Javascript Engine) Investigating a Theft(Method). The Detective Starts with the Main Suspect (user1) and Follows Leads to Other Suspects Until the Evidence Is Found.\n",
    "\n",
    "❖ `Object.prototype` is the base or default prototype for all objects in JavaScript, providing essential methods and properties.\n",
    "\n",
    "❖ Think of `Object.prototype` as Version 1 of the Software (Javascript Objects) that Version Has Basic Use Cases or Methods (to String (), hasOwnProperty(), Etc)  and when We Explicitly Set Custom Prototypes Using Object.setPrototypeOf  We Are Adding New Features to the Version 1 and We Might Call It Version 1.1 \n",
    "\n",
    "❖ The Version 1.1 Has the Use Cases of the Original v1 Plus the New Features of It's Own\n",
    "\n",
    "❖ We Can Print Those Basic Version 1 Methods to the Console Like This: "
   ]
  },
  {
   "cell_type": "code",
   "execution_count": null,
   "metadata": {
    "vscode": {
     "languageId": "javascript"
    }
   },
   "outputs": [],
   "source": [
    "console.log(Object.getOwnPropertyNames(Object.prototype));\n",
    "/*\n",
    "[\n",
    "  'constructor',\n",
    "  '__defineGetter__',\n",
    "  '__defineSetter__',\n",
    "  'hasOwnProperty',\n",
    "  '__lookupGetter__',\n",
    "  '__lookupSetter__',\n",
    "  'isPrototypeOf',\n",
    "  'propertyIsEnumerable',\n",
    "  'toString',\n",
    "  'valueOf',\n",
    "  '__proto__',\n",
    "  'toLocaleString'\n",
    "]\n",
    "\n",
    "*/"
   ]
  },
  {
   "cell_type": "markdown",
   "metadata": {},
   "source": [
    "We Can Add Proreties to The `Object.prototype `"
   ]
  },
  {
   "cell_type": "code",
   "execution_count": null,
   "metadata": {
    "vscode": {
     "languageId": "javascript"
    }
   },
   "outputs": [],
   "source": [
    "Object.prototype.elzero = \"Elzero Web School\"; \n",
    "\n",
    "console.log(Object.prototype.elzero);\n",
    "// Output: Elzero Web School"
   ]
  },
  {
   "cell_type": "markdown",
   "metadata": {},
   "source": [
    "And Any Instance Created From the Object Will Also Have Access to the Properties of the `Object.prototype`"
   ]
  },
  {
   "cell_type": "code",
   "execution_count": null,
   "metadata": {
    "vscode": {
     "languageId": "javascript"
    }
   },
   "outputs": [],
   "source": [
    "Object.prototype.elzero = \"Elzero Web School\"; \n",
    "\n",
    "const test = {\n",
    "  a: 1, \n",
    "  b: 2\n",
    "}; \n",
    "\n",
    "console.log(test.elzero);\n",
    "// Output: Elzero Web School"
   ]
  },
  {
   "cell_type": "markdown",
   "metadata": {},
   "source": [
    ":: __`Prototype Part 3 Extend Constructors Features`__ ::"
   ]
  },
  {
   "cell_type": "code",
   "execution_count": null,
   "metadata": {
    "vscode": {
     "languageId": "javascript"
    }
   },
   "outputs": [],
   "source": [
    "String.prototype.zFill = function (width) {\n",
    "  let theResult = this;\n",
    "\n",
    "  while (theResult.length < width) {\n",
    "    theResult = `0${theResult}`;\n",
    "  }\n",
    "\n",
    "  return theResult.toString();\n",
    "};\n",
    "\n",
    "\n",
    "console.log(\"12\".zFill(6)); // Output: 000012\n",
    "console.log(\"516\".zFill(6)); // Output: 000516\n",
    "console.log(\"3625\".zFill(6)); // Output: 003625"
   ]
  },
  {
   "cell_type": "code",
   "execution_count": null,
   "metadata": {
    "vscode": {
     "languageId": "javascript"
    }
   },
   "outputs": [],
   "source": [
    "String.prototype.sayYouLoveMe = function () {\n",
    "  return `I Love You ${this}`;\n",
    "};\n",
    "\n",
    "console.log(\"Osama\".sayYouLoveMe());\n",
    "// I Love You Osama"
   ]
  },
  {
   "cell_type": "markdown",
   "metadata": {},
   "source": [
    ":: __`Prototype Part 4 Prototype Chain`__ ::\n",
    "\n",
    "`[1]` Every Object Has A Prototype\n",
    "\n",
    "`[2]` Prototype Chain Ends With Object.prototype\n",
    "\n",
    "`[2]` In Javascript Function Is Object\n",
    "\n"
   ]
  },
  {
   "cell_type": "code",
   "execution_count": null,
   "metadata": {
    "vscode": {
     "languageId": "javascript"
    }
   },
   "outputs": [],
   "source": [
    "function User(name) {\n",
    "  this.name = name;\n",
    "  if (!new.target) {\n",
    "    throw new Error(\"Must Be Called With New Keyword\");\n",
    "  }\n",
    "};\n",
    "\n",
    "let user1 = new User(\"Osama\");\n",
    "let user2 = User(\"Ahmed\");\n",
    "console.log(user1);\n",
    "// User { name: 'Osama' }\n",
    "\n",
    "console.log(user1);\n",
    "// Error: Must Be Called With New Keyword"
   ]
  },
  {
   "cell_type": "markdown",
   "metadata": {},
   "source": [
    ":: __`Class Syntax And Introduction`__ ::\n",
    "\n",
    "The Following Function if You Hovered over User in vs Code You Will See a Quick Fix Suggesting to Convert Function to an ES2015 Class"
   ]
  },
  {
   "cell_type": "code",
   "execution_count": null,
   "metadata": {
    "vscode": {
     "languageId": "javascript"
    }
   },
   "outputs": [],
   "source": [
    "function User(name) {\n",
    "    this.name = name;\n",
    "    this.welcome = function () {\n",
    "      return `Welcome ${this.name}`;\n",
    "    };\n",
    "  };"
   ]
  },
  {
   "cell_type": "markdown",
   "metadata": {},
   "source": [
    "![Convert Function to an ES2015 Class](https://i.imgur.com/tKrwjwK.png)"
   ]
  },
  {
   "cell_type": "code",
   "execution_count": null,
   "metadata": {
    "vscode": {
     "languageId": "javascript"
    }
   },
   "outputs": [],
   "source": [
    "class User {\n",
    "  constructor(name) {\n",
    "    this.name = name;\n",
    "    this.welcome = function () {\n",
    "      return `Welcome ${this.name}`;\n",
    "    };\n",
    "  }\n",
    "};"
   ]
  },
  {
   "cell_type": "code",
   "execution_count": null,
   "metadata": {
    "vscode": {
     "languageId": "javascript"
    }
   },
   "outputs": [],
   "source": [
    "class User {\n",
    "  constructor(name, email) {\n",
    "    this.name = name;\n",
    "    this.email = email;\n",
    "  }\n",
    "  sayHello() {\n",
    "    return `Hello ${this.name}`;\n",
    "  }\n",
    "  showEmail() {\n",
    "    return `Your Email Is ${this.email}`;\n",
    "  }\n",
    "}\n",
    "\n",
    "let user1 = new User(\"Osama\", \"o@nn.sa\");\n",
    "let user2 = new User(\"Ahmed\");\n",
    "\n",
    "console.log(user1); // Output: User { name: 'Osama', email: 'o@nn.sa' }\n",
    "console.log(user2); // Output: User { name: 'Ahmed', email: undefined }"
   ]
  },
  {
   "cell_type": "markdown",
   "metadata": {},
   "source": [
    ":: __`Class Static Properties And Methods`__ ::\n",
    "\n",
    "In JavaScript, static properties and methods are attached to the class itself rather than to instances of the class. They are accessed using the class name directly rather than through instances of the class. \n",
    "\n",
    "Here's a simple breakdown:\n",
    "\n",
    "- **Static Properties**: These are properties that belong to the class itself and are shared among all instances of the class. They are declared using the `static` keyword within the class definition.\n",
    "\n",
    "- **Static Methods**: Similarly, static methods are methods that belong to the class itself rather than to instances of the class. They are declared using the `static` keyword within the class definition and are called directly on the class name.\n",
    "\n",
    "Here's a basic example to illustrate:"
   ]
  },
  {
   "cell_type": "code",
   "execution_count": null,
   "metadata": {
    "vscode": {
     "languageId": "javascript"
    }
   },
   "outputs": [],
   "source": [
    "class Circle {\n",
    "  static PI = 3.14; // Static property\n",
    "\n",
    "  static calculateArea(radius) { // Static method\n",
    "      return this.PI * radius * radius;\n",
    "  }\n",
    "};\n",
    "\n",
    "console.log(Circle.PI); // Accessing static property\n",
    "// Output: 3.14\n",
    "console.log(Circle.calculateArea(5)); // Calling static method\n",
    "// Output: 78.5\n",
    "// 3.14 * 5 * 5"
   ]
  },
  {
   "cell_type": "markdown",
   "metadata": {},
   "source": [
    "In this example, `PI` is a static property of the `Circle` class, and `calculateArea` is a static method. They can be accessed directly from the class without needing to create an instance of the class."
   ]
  },
  {
   "cell_type": "markdown",
   "metadata": {},
   "source": [
    "In Class We Don't Need to Throw Error Like We Did in a Previous Example if We Didn't Use the `New` Keyword"
   ]
  },
  {
   "cell_type": "code",
   "execution_count": null,
   "metadata": {
    "vscode": {
     "languageId": "javascript"
    }
   },
   "outputs": [],
   "source": [
    "class User {\n",
    "  constructor(name, email) {\n",
    "    this.name = name;\n",
    "    this.email = email;\n",
    "  }\n",
    "  sayHello() {\n",
    "    return `Hello ${this.name}`;\n",
    "  }\n",
    "  showEmail() {\n",
    "    return `Your Email Is ${this.email}`;\n",
    "  }\n",
    "};\n",
    "\n",
    "\n",
    "let user2 = User(\"Ahmed\", \"a@nn.sa\"); \n",
    "// TypeError: Class constructor User cannot be invoked without 'new'"
   ]
  },
  {
   "cell_type": "code",
   "execution_count": null,
   "metadata": {
    "vscode": {
     "languageId": "javascript"
    }
   },
   "outputs": [],
   "source": [
    "class User {\n",
    "  // Static Properties\n",
    "  static counter = 0;\n",
    "\n",
    "  constructor(name, email) {\n",
    "    this.name = name;\n",
    "    this.email = email;\n",
    "    User.counter++;\n",
    "  }\n",
    "  sayHello() {\n",
    "    return `Hello ${this.name}`;\n",
    "  }\n",
    "  showEmail() {\n",
    "    return `Your Email Is ${this.email}`;\n",
    "  }\n",
    "\n",
    "  // Static Methods\n",
    "  static countObjects = function () {\n",
    "    return `${this.counter} Objects Created.`;\n",
    "    // this Here Refers to the Class Counter Static Property\n",
    "  };\n",
    "}\n",
    "\n",
    "let user1 = new User(\"Osama\", \"o@nn.sa\");\n",
    "\n",
    "console.log(User.countObjects());\n",
    "// Output: 1 Objects Created."
   ]
  },
  {
   "cell_type": "markdown",
   "metadata": {},
   "source": [
    ":: __`Class Inheritance`__ ::"
   ]
  },
  {
   "cell_type": "code",
   "execution_count": null,
   "metadata": {
    "vscode": {
     "languageId": "javascript"
    }
   },
   "outputs": [],
   "source": [
    "// Class Shared for All Users on the Websites\n",
    "class User {\n",
    "  constructor(name, email) {\n",
    "    this.name = name;\n",
    "    this.email = email;\n",
    "  }\n",
    "  sayHello() {\n",
    "    return `Hello ${this.name}`;\n",
    "  }\n",
    "  showEmail() {\n",
    "    return `Your Email Is ${this.email}`;\n",
    "  }\n",
    "  writeMsg() {\n",
    "    return `Message From Parent Class`;\n",
    "  }\n",
    "};\n",
    "\n",
    "// Class Inherit From User and Have Admin Privilages\n",
    "class Admin extends User {\n",
    "  constructor(name, email) {\n",
    "    super(name, email);\n",
    "    // super() Calls the Parent Constructor in This Case User Constructor\n",
    "  }\n",
    "  adminMsg() {\n",
    "    return `You Are Admin`;\n",
    "  }\n",
    "  writeMsg() {\n",
    "    return `Message From Child Class`;\n",
    "  }\n",
    "};\n",
    "\n",
    "let admin1 = new Admin(\"Osama\", \"o@nn.sa\");\n",
    "\n",
    "console.log(admin1.writeMsg());\n",
    "// Message From Child Class\n",
    "// We Override the User Class writeMsg Mehtod\n",
    "\n",
    "console.log(admin1.adminMsg());\n",
    "// You Are Admin\n"
   ]
  },
  {
   "cell_type": "markdown",
   "metadata": {},
   "source": [
    ":: __`JavaScript Accessors Getters And Setters`__ ::\n",
    "\n",
    "In JavaScript, getters and setters are special functions that allow you to define the behavior of accessing (getting) and modifying (setting) the properties of an object.\n",
    "\n",
    "- **Getter**: A getter is a function that is used to retrieve the value of a property. It allows you to perform additional operations or calculations before returning the value. Getters are defined using the `get` keyword followed by the property name.\n",
    "\n",
    "- **Setter**: A setter is a function that is used to modify the value of a property. It allows you to perform validation or execute custom logic before assigning the new value. Setters are defined using the `set` keyword followed by the property name.\n",
    "\n",
    "Here's a simple example to illustrate:\n"
   ]
  },
  {
   "cell_type": "code",
   "execution_count": null,
   "metadata": {
    "vscode": {
     "languageId": "javascript"
    }
   },
   "outputs": [],
   "source": [
    "class Circle {\n",
    "    constructor(radius) {\n",
    "        this._radius = radius; // Prefixing with underscore conventionally indicates a private property\n",
    "    }\n",
    "\n",
    "    // Getter for radius\n",
    "    get radius() {\n",
    "        return this._radius;\n",
    "    }\n",
    "\n",
    "    // Setter for radius\n",
    "    set radius(newRadius) {\n",
    "        if (newRadius > 0) {\n",
    "            this._radius = newRadius;\n",
    "        } else {\n",
    "            console.log(\"Radius must be greater than 0.\");\n",
    "        }\n",
    "    }\n",
    "};\n",
    "\n",
    "let circle = new Circle(5);\n",
    "\n",
    "console.log(circle.radius); // Output: 5\n",
    "\n",
    "circle.radius = 10; // Calls the setter method\n",
    "console.log(circle.radius); // Output: 10\n",
    "\n",
    "circle.radius = -5; // Calls the setter method, but prints a message instead of setting the radius\n",
    "console.log(circle.radius); // Output: 10 (value remains unchanged)"
   ]
  },
  {
   "cell_type": "markdown",
   "metadata": {},
   "source": [
    "\n",
    "\n",
    "In this example, `radius` is a property of the `Circle` class with a getter and a setter. The getter retrieves the value of `_radius`, and the setter modifies the value of `_radius`, but only if the new value is greater than 0."
   ]
  },
  {
   "cell_type": "code",
   "execution_count": null,
   "metadata": {
    "vscode": {
     "languageId": "javascript"
    }
   },
   "outputs": [],
   "source": [
    "class User {\n",
    "  constructor(name, email) {\n",
    "    this.name = name;\n",
    "    this.email = email;\n",
    "  }\n",
    "  sayHello() {\n",
    "    return `Hello ${this.name}`;\n",
    "  }\n",
    "  \n",
    "  // Getter Method\n",
    "  get showInfo() {\n",
    "    return `Name: ${this.name}, Email\" ${this.email}`;\n",
    "  }\n",
    "  changeName(newName) {\n",
    "    this.name = newName;\n",
    "  }\n",
    "  \n",
    "  // Setter Method\n",
    "  set changeEmail(newEmail) {\n",
    "    this.email = newEmail;\n",
    "  }\n",
    "};\n",
    "\n",
    "let user1 = new User(\"Osama\", \"o@nn.sa\");\n",
    "\n",
    "console.log(user1.name); // Output: Osama\n",
    "user1.changeName(\"Mahmoud\");\n",
    "console.log(user1.name); // Output: Mahmoud\n",
    "\n",
    "user1.changeEmail = \"oooo@gmail.com\";\n",
    "console.log(user1.email); // Output: oooo@gmail.com\n",
    "console.log(user1.showInfo); // Output: Name: Mahmoud, Email\" oooo@gmail.com"
   ]
  },
  {
   "cell_type": "markdown",
   "metadata": {},
   "source": [
    ":: __`Object Metadata And Descriptor`__ ::\n",
    "\n",
    "In JavaScript, object metadata and descriptors are used to provide additional information about objects and their properties.\n",
    "\n",
    "❖ **Object Metadata**: Object metadata refers to any additional information or data associated with an object. This can include things like the object's type, creation date, author, or any custom information you want to attach to the object.\n",
    "\n",
    "❖ **Property Descriptor**: A property descriptor is an object that describes the attributes of a property, such as its value, whether it can be modified, and whether it can be enumerated. Property descriptors are used in conjunction with the `Object.defineProperty()` method or the `Object.getOwnPropertyDescriptor()` method to define or retrieve property attributes.\n",
    "\n",
    "❖ **Object Meta Data**\n",
    "\n",
    "⟶ `writable`: determines whether the property of an object can be changed\n",
    "\n",
    "⟶ `enumerable`: determines whether the property of an object can be enumerated (counted)\n",
    "\n",
    "⟶ `configurable`: determines whether the property descriptor can be changed and if the property can be deleted from the object.\n",
    "\n",
    ":: __`Note`__ :: These Meta Data Is False by Default\n",
    "\n",
    "============\n",
    "\n",
    "> Object.defineProperty(obj, prop, descriptor)\n",
    "\n",
    "\n",
    "Here's a simple example to illustrate:\n"
   ]
  },
  {
   "cell_type": "code",
   "execution_count": null,
   "metadata": {
    "vscode": {
     "languageId": "javascript"
    }
   },
   "outputs": [],
   "source": [
    "let person = {\n",
    "    name: 'John',\n",
    "    age: 30\n",
    "};\n",
    "\n",
    "// Adding metadata to the object\n",
    "person.metadata = {\n",
    "    createdBy: 'Alice',\n",
    "    createDate: '2024-02-18'\n",
    "};\n",
    "\n",
    "// Retrieving property descriptor for 'name' property\n",
    "let nameDescriptor = Object.getOwnPropertyDescriptor(person, 'name');\n",
    "console.log(nameDescriptor);\n",
    "// Output: \n",
    "// {\n",
    "//   value: 'John',\n",
    "//   writable: true,\n",
    "//   enumerable: true,\n",
    "//   configurable: true\n",
    "// }\n",
    "\n",
    "// Changing property descriptor for 'name' property\n",
    "Object.defineProperty(person, 'name', { writable: false });\n",
    "console.log(Object.getOwnPropertyDescriptor(person, 'name'));\n",
    "// Output: \n",
    "// {\n",
    "//   value: 'John',\n",
    "//   writable: false,\n",
    "//   enumerable: true,\n",
    "//   configurable: true\n",
    "// }"
   ]
  },
  {
   "cell_type": "markdown",
   "metadata": {},
   "source": [
    "❖ In This Example, `Person` Is an Object with Properties `Name` and `Age`. We Attach Metadata to the Object by Adding a `Metadata` Property. \n",
    "\n",
    "❖ We Then Retrieve the Property Descriptor for the `Name` Property Using `Object.getOwnPropertyDescriptor()`. \n",
    "\n",
    "❖ Finally, We Modify the Property Descriptor for the `Name` Property Using `Object.defineProperty()`."
   ]
  },
  {
   "cell_type": "code",
   "execution_count": null,
   "metadata": {
    "vscode": {
     "languageId": "javascript"
    }
   },
   "outputs": [],
   "source": [
    "const myObject = {\n",
    "  a: 1,\n",
    "  b: 2,\n",
    "};\n",
    "\n",
    "Object.defineProperty(myObject, \"c\", {\n",
    "  writable: true,\n",
    "  enumerable: true,\n",
    "  configurable: true,\n",
    "  value: 3,\n",
    "});\n",
    "\n",
    "\n",
    "console.log(myObject);\n",
    "// { a: 1, b: 2, c: 3 }"
   ]
  },
  {
   "cell_type": "code",
   "execution_count": null,
   "metadata": {
    "vscode": {
     "languageId": "javascript"
    }
   },
   "outputs": [],
   "source": [
    "// Testing Writable\n",
    "const myObject = {\n",
    "  a: 1,\n",
    "  b: 2,\n",
    "};\n",
    "\n",
    "Object.defineProperty(myObject, \"c\", {\n",
    "  writable: false,\n",
    "  enumerable: true,\n",
    "  configurable: true,\n",
    "  value: 3,\n",
    "});\n",
    "\n",
    "myObject.c = 500;\n",
    "// Won't Change Value Cuz Writable Is False\n",
    "\n",
    "console.log(myObject);\n",
    "// { a: 1, b: 2, c: 3 }"
   ]
  },
  {
   "cell_type": "code",
   "execution_count": null,
   "metadata": {
    "vscode": {
     "languageId": "javascript"
    }
   },
   "outputs": [],
   "source": [
    "// Testing Enumerable\n",
    "const myObject = {\n",
    "  a: 1,\n",
    "  b: 2,\n",
    "};\n",
    "\n",
    "Object.defineProperty(myObject, \"c\", {\n",
    "  writable: false,\n",
    "  enumerable: true,\n",
    "  configurable: true,\n",
    "  value: 3,\n",
    "});\n",
    "\n",
    "for (let prop in myObject) {\n",
    "  console.log(prop, myObject[prop]);\n",
    "}; \n",
    "/*\n",
    "Output:\n",
    "a 1\n",
    "b 2\n",
    "c 3\n",
    "*/"
   ]
  },
  {
   "cell_type": "code",
   "execution_count": null,
   "metadata": {
    "vscode": {
     "languageId": "javascript"
    }
   },
   "outputs": [],
   "source": [
    "// Testing Enumerable\n",
    "const myObject = {\n",
    "  a: 1,\n",
    "  b: 2,\n",
    "};\n",
    "\n",
    "Object.defineProperty(myObject, \"c\", {\n",
    "  writable: false,\n",
    "  enumerable: false,\n",
    "  // Execlude the Property C From the Count\n",
    "  configurable: true,\n",
    "  value: 3,\n",
    "});\n",
    "\n",
    "for (let prop in myObject) {\n",
    "  console.log(prop, myObject[prop]);\n",
    "}; \n",
    "console.log(Object.getOwnPropertyNames(myObject));\n",
    "/*\n",
    "Output:\n",
    "a 1\n",
    "b 2\n",
    "[ 'a', 'b', 'c' ]\n",
    "*/"
   ]
  },
  {
   "cell_type": "markdown",
   "metadata": {},
   "source": [
    "The Value C Does Exist but It's Not There when You Loop on the Variable"
   ]
  },
  {
   "cell_type": "code",
   "execution_count": null,
   "metadata": {
    "vscode": {
     "languageId": "javascript"
    }
   },
   "outputs": [],
   "source": [
    "// Testing Configurable\n",
    "const myObject = {\n",
    "  a: 1,\n",
    "  b: 2,\n",
    "};\n",
    "\n",
    "Object.defineProperty(myObject, \"c\", {\n",
    "  writable: true,\n",
    "  enumerable: true,\n",
    "  configurable: true,\n",
    "  // can be deleted\n",
    "  value: 3,\n",
    "});\n",
    "\n",
    "console.log(delete myObject.c); // Output: true\n",
    "console.log(Object.getOwnPropertyNames(myObject)); // Output: [ 'a', 'b' ]"
   ]
  },
  {
   "cell_type": "code",
   "execution_count": null,
   "metadata": {
    "vscode": {
     "languageId": "javascript"
    }
   },
   "outputs": [],
   "source": [
    "// Testing Configurable\n",
    "const myObject = {\n",
    "  a: 1,\n",
    "  b: 2,\n",
    "};\n",
    "\n",
    "Object.defineProperty(myObject, \"c\", {\n",
    "  writable: true,\n",
    "  enumerable: true,\n",
    "  configurable: false,\n",
    "  // can't be deleted\n",
    "  value: 3,\n",
    "});\n",
    "\n",
    "console.log(delete myObject.c); // Output: false\n",
    "console.log(Object.getOwnPropertyNames(myObject)); // Output: [ 'a', 'b', 'c' ]"
   ]
  },
  {
   "cell_type": "code",
   "execution_count": null,
   "metadata": {
    "vscode": {
     "languageId": "javascript"
    }
   },
   "outputs": [],
   "source": [
    "// Testing Configurable\n",
    "const myObject = {\n",
    "  a: 1,\n",
    "  b: 2,\n",
    "};\n",
    "\n",
    "Object.defineProperty(myObject, \"c\", {\n",
    "  writable: false,\n",
    "  enumerable: true,\n",
    "  configurable: false,\n",
    "  // can't change descriptor\n",
    "  value: 3,\n",
    "});\n",
    "\n",
    "Object.defineProperty(myObject, \"c\", {\n",
    "  writable: true,\n",
    "});\n",
    "\n",
    "// TypeError: Cannot redefine property: c"
   ]
  },
  {
   "cell_type": "code",
   "execution_count": null,
   "metadata": {
    "vscode": {
     "languageId": "javascript"
    }
   },
   "outputs": [],
   "source": [
    "// Testing Configurable\n",
    "const myObject = {\n",
    "  a: 1,\n",
    "  b: 2,\n",
    "};\n",
    "\n",
    "myObject.c = 4; \n",
    "// Using Simple Assignment\n",
    "\n",
    "console.log(Object.getOwnPropertyDescriptor(myObject, \"c\"));\n",
    "// { value: 4, writable: true, enumerable: true, configurable: true }"
   ]
  },
  {
   "cell_type": "code",
   "execution_count": null,
   "metadata": {
    "vscode": {
     "languageId": "javascript"
    }
   },
   "outputs": [],
   "source": [
    "// Testing Configurable\n",
    "const myObject = {\n",
    "  a: 1,\n",
    "  b: 2,\n",
    "};\n",
    "\n",
    "Object.defineProperty(myObject, \"c\", {\n",
    "  value: 3,\n",
    "});\n",
    "// Using defineProperty\n",
    "\n",
    "console.log(Object.getOwnPropertyDescriptor(myObject, \"c\"));\n",
    "// { value: 3, writable: false, enumerable: false, configurable: false }"
   ]
  },
  {
   "cell_type": "code",
   "execution_count": null,
   "metadata": {
    "vscode": {
     "languageId": "javascript"
    }
   },
   "outputs": [],
   "source": [
    "// Testing Configurable\n",
    "const myObject = {\n",
    "    a: 1,\n",
    "    b: 2,\n",
    "  };\n",
    "  \n",
    "  Object.defineProperties(myObject, {\n",
    "    e: {\n",
    "      enumerable: true,\n",
    "      value: 5,\n",
    "    },\n",
    "    f: {\n",
    "      enumerable: true,\n",
    "      value: 6,\n",
    "    },\n",
    "    g: {\n",
    "      enumerable: true,\n",
    "      value: 7,\n",
    "    },\n",
    "  });\n",
    "  // Using defineProperties\n",
    "  \n",
    "  console.log(myObject);\n",
    "  // { a: 1, b: 2, e: 5, f: 6, g: 7 }"
   ]
  },
  {
   "cell_type": "markdown",
   "metadata": {},
   "source": [
    ":: __`Final Notes`__ ::\n",
    "\n",
    "`[1]` Arrow Functions Do Not Have a Prototype Property.\n",
    "\n",
    "`[2]` You Can Use Objects Inside Constructor Freely\n",
    "\n",
    "`[3]` f = function () {} ==== f() {}\n"
   ]
  },
  {
   "cell_type": "code",
   "execution_count": null,
   "metadata": {
    "vscode": {
     "languageId": "javascript"
    }
   },
   "outputs": [],
   "source": [
    "class User {\n",
    "  constructor(fName, lName, age, email) {\n",
    "    this.name = {\n",
    "      first: fName,\n",
    "      last: lName,\n",
    "    };\n",
    "    this.age = age;\n",
    "    this.email = email;\n",
    "  }\n",
    "  sayHello = function () {\n",
    "    return `Say Hello`;\n",
    "  };\n",
    "  sayHi() {\n",
    "    return `Say Hi`;\n",
    "  }\n",
    "}; \n",
    "\n",
    "let user1 = new User(\"Osama\", \"Elzero\", 37, \"o@nn.sa\");\n",
    "console.log(user1.name.first); // Output: Osama\n",
    "console.log(user1.name.last); // Output: Elzero\n",
    "console.log(user1.age); // Output: 37\n",
    "console.log(user1.email); // Output: o@nn.sa\n",
    "console.log(user1.sayHello()); // Output: Say Hello\n",
    "console.log(user1.sayHi()); // Output: Say Hi"
   ]
  }
 ],
 "metadata": {
  "language_info": {
   "name": "python"
  }
 },
 "nbformat": 4,
 "nbformat_minor": 2
}
