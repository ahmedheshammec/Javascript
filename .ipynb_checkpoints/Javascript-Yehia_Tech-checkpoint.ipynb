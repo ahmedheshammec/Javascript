{
 "cells": [
  {
   "cell_type": "markdown",
   "metadata": {},
   "source": [
    ":: __`Course Link on freeCodeCamp`__ ::\n",
    "\n",
    "> https://www.freecodecamp.org/learn/javascript-algorithms-and-data-structures"
   ]
  },
  {
   "cell_type": "markdown",
   "metadata": {},
   "source": [
    ":: __`Adding Javascript Kernel to Jupyter Notebook`__ ::\n",
    "\n",
    "> https://github.com/yunabe/tslab\n",
    "\n",
    "❖ Run the Following Command With `sudo`"
   ]
  },
  {
   "cell_type": "markdown",
   "metadata": {},
   "source": [
    "> npm install -g tslab\n",
    "\n",
    "> sudo npm install -g tslab"
   ]
  },
  {
   "cell_type": "markdown",
   "metadata": {},
   "source": [
    "❖ Run the Following Command without Brackets\n",
    "\n",
    "> tslab install [--python=python3]\n",
    "\n",
    "> tslab install --python=python3"
   ]
  },
  {
   "cell_type": "markdown",
   "metadata": {},
   "source": [
    ":: __`Commenting in Js`__ ::\n",
    "\n",
    "You Can Write In-Line Comment Like This: "
   ]
  },
  {
   "cell_type": "code",
   "execution_count": null,
   "metadata": {},
   "outputs": [],
   "source": [
    "// This Is Inline Comment"
   ]
  },
  {
   "cell_type": "markdown",
   "metadata": {},
   "source": [
    "Or with the Keyboard Shortcut <kbd>Command ⌘</kbd> + <kbd>/</kbd>"
   ]
  },
  {
   "cell_type": "markdown",
   "metadata": {},
   "source": [
    "Or Multi-Line Comment Like This: "
   ]
  },
  {
   "cell_type": "code",
   "execution_count": null,
   "metadata": {},
   "outputs": [],
   "source": [
    "/* This Is a \n",
    "Multi-Line Comment*/"
   ]
  },
  {
   "cell_type": "markdown",
   "metadata": {},
   "source": [
    ":: __`Printing to Console`__ ::"
   ]
  },
  {
   "cell_type": "code",
   "execution_count": 1,
   "metadata": {},
   "outputs": [
    {
     "name": "stdout",
     "output_type": "stream",
     "text": [
      "1\n"
     ]
    }
   ],
   "source": [
    "console.log(1) // Output: 1"
   ]
  },
  {
   "cell_type": "markdown",
   "metadata": {},
   "source": [
    ":: __`Javascript Variables`__ ::\n",
    "\n",
    "JavaScript provides eight different data types which are: \n",
    "\n",
    "`undefined`\n",
    "\n",
    "`null` => No Value Data Type\n",
    "\n",
    "`boolean`\n",
    "\n",
    "`string`\n",
    "\n",
    "`symbol`\n",
    "\n",
    "`bigint` => Big Integer\n",
    "\n",
    "`number`\n",
    "\n",
    "`object`"
   ]
  },
  {
   "cell_type": "markdown",
   "metadata": {},
   "source": [
    "We tell JavaScript to create or declare a variable by putting the keyword var in front of it, like so:"
   ]
  },
  {
   "cell_type": "code",
   "execution_count": null,
   "metadata": {},
   "outputs": [],
   "source": [
    "var ourName;"
   ]
  },
  {
   "cell_type": "markdown",
   "metadata": {},
   "source": [
    "creates a variable called `ourName`. In JavaScript we end statements with `semicolons`. Variable names can be made up of numbers, letters, and `$` or `_` but may not contain spaces or start with a number."
   ]
  },
  {
   "cell_type": "code",
   "execution_count": 2,
   "metadata": {},
   "outputs": [
    {
     "name": "stdout",
     "output_type": "stream",
     "text": [
      "Yehia\n"
     ]
    }
   ],
   "source": [
    "var myName = \"Yehia\";\n",
    "console.log(myName)"
   ]
  },
  {
   "cell_type": "markdown",
   "metadata": {},
   "source": [
    ":: `Note` :: The Semicoln Is Optional in Js\n",
    "\n",
    "if we didn't assign a value to our variable the output will be `undefined`"
   ]
  },
  {
   "cell_type": "code",
   "execution_count": 3,
   "metadata": {},
   "outputs": [
    {
     "name": "stdout",
     "output_type": "stream",
     "text": [
      "undefined\n"
     ]
    }
   ],
   "source": [
    "var myName\n",
    "console.log(myName) // Output: Undefined"
   ]
  },
  {
   "cell_type": "markdown",
   "metadata": {},
   "source": [
    "We Can Intentionally Create a Variable that Holds No Value `null`"
   ]
  },
  {
   "cell_type": "code",
   "execution_count": 4,
   "metadata": {},
   "outputs": [
    {
     "name": "stdout",
     "output_type": "stream",
     "text": [
      "null\n"
     ]
    }
   ],
   "source": [
    "var myName = null; \n",
    "console.log(myName) // output: null"
   ]
  },
  {
   "cell_type": "markdown",
   "metadata": {},
   "source": [
    ":: __`Assigning the Value of One Variable to Another`__ ::"
   ]
  },
  {
   "cell_type": "code",
   "execution_count": 5,
   "metadata": {},
   "outputs": [
    {
     "name": "stdout",
     "output_type": "stream",
     "text": [
      "undefined\n",
      "5\n",
      "5\n"
     ]
    }
   ],
   "source": [
    "var a; \n",
    "console.log(a) // undefined\n",
    "a = 5; \n",
    "console.log(a) // 5\n",
    "var b; \n",
    "b = a; \n",
    "console.log(b) // 5"
   ]
  },
  {
   "cell_type": "code",
   "execution_count": null,
   "metadata": {},
   "outputs": [],
   "source": [
    "var a = 9; // one line"
   ]
  },
  {
   "cell_type": "markdown",
   "metadata": {},
   "source": [
    "If You Do a Mathematical Operation on An `undefined` Variable the Result Will Be `NaN` => Not a Number"
   ]
  },
  {
   "cell_type": "code",
   "execution_count": 6,
   "metadata": {},
   "outputs": [
    {
     "name": "stderr",
     "output_type": "stream",
     "text": [
      "2:5 - Operator '+' cannot be applied to types 'undefined' and '1'.\n"
     ]
    }
   ],
   "source": [
    "var a; \n",
    "a = a + 1; \n",
    "console.log(a)  //NaN"
   ]
  },
  {
   "cell_type": "markdown",
   "metadata": {},
   "source": [
    "Always Write Variables In `camelCase`"
   ]
  },
  {
   "cell_type": "markdown",
   "metadata": {},
   "source": [
    ":: __Using `let` Instead Of `var`__ ::\n",
    "\n",
    "One of the Biggest Problems with Declaring Variables with The `var` Keyword Is that You Can Easily Overwrite Variable Declarations:"
   ]
  },
  {
   "cell_type": "code",
   "execution_count": 7,
   "metadata": {},
   "outputs": [
    {
     "name": "stdout",
     "output_type": "stream",
     "text": [
      "David\n"
     ]
    }
   ],
   "source": [
    "var camper = \"James\"; \n",
    "var camper = \"David\"; \n",
    "\n",
    "console.log(camper); // David"
   ]
  },
  {
   "cell_type": "code",
   "execution_count": null,
   "metadata": {},
   "outputs": [],
   "source": [
    "let camper = \"James\"; \n",
    "let camper = \"David\"; \n",
    "\n",
    "console.log(camper); // Syntax Error"
   ]
  },
  {
   "cell_type": "markdown",
   "metadata": {},
   "source": [
    "❖ Always Use `let` Instead Of `var` When Declaring Variables"
   ]
  },
  {
   "cell_type": "markdown",
   "metadata": {},
   "source": [
    ":: __Read-Only Variables using `const`__ ::\n",
    "\n",
    "❖ You Cannot Change the Value Of `const` Variables Later in the Code, It's Read-Only And It Can't Be Reassigned\n",
    "\n",
    "❖ The Best Practice Is to Use Upper Letters with `const` Variables "
   ]
  },
  {
   "cell_type": "code",
   "execution_count": 8,
   "metadata": {},
   "outputs": [
    {
     "name": "stdout",
     "output_type": "stream",
     "text": [
      "freeCodeCamp is cool!\n"
     ]
    }
   ],
   "source": [
    "const FCC_TEST = \"freeCodeCamp\"; \n",
    "let fact = \"is cool!\"; \n",
    "console.log(FCC_TEST, fact); // output: freeCodeCamp is cool!"
   ]
  },
  {
   "cell_type": "markdown",
   "metadata": {},
   "source": [
    "The space in the output between the two variables is due to the comma (`,`) inside the `console.log()` statement. When multiple values are separated by commas in `console.log()`, a space is automatically added between each value."
   ]
  },
  {
   "cell_type": "markdown",
   "metadata": {},
   "source": [
    ":: __`Arithmetic Operators`__ ::"
   ]
  },
  {
   "cell_type": "code",
   "execution_count": 9,
   "metadata": {},
   "outputs": [
    {
     "name": "stdout",
     "output_type": "stream",
     "text": [
      "20\n"
     ]
    }
   ],
   "source": [
    "const sum = 10 + 10; \n",
    "console.log(sum) // 20"
   ]
  },
  {
   "cell_type": "markdown",
   "metadata": {},
   "source": [
    ":: __`Shorthand Operator`__ ::\n",
    "\n",
    "It's a Quick Way to Add or Subtract One "
   ]
  },
  {
   "cell_type": "code",
   "execution_count": 10,
   "metadata": {},
   "outputs": [
    {
     "name": "stdout",
     "output_type": "stream",
     "text": [
      "89\n"
     ]
    }
   ],
   "source": [
    "let myVar = 87; \n",
    "myVar = myVar + 1; // 88\n",
    "myVar ++; // Same as the Line Before It\n",
    "\n",
    "console.log(myVar) //89"
   ]
  },
  {
   "cell_type": "markdown",
   "metadata": {},
   "source": [
    ":: __`Decimal in Js`__ ::\n",
    "\n",
    "The Data Type `number` Represents Both Regular Numbers and Decimal Numbers\n",
    "\n",
    "__Remainder in JS__: باقي القسمة\n",
    "\n",
    "⟶ 5 / 2 = 2 remainder 1\n",
    "\n",
    "⟶ 5 % 2 = 1 \n",
    "\n",
    "__Compoud Assignment in JS__"
   ]
  },
  {
   "cell_type": "code",
   "execution_count": 11,
   "metadata": {},
   "outputs": [
    {
     "name": "stdout",
     "output_type": "stream",
     "text": [
      "10\n"
     ]
    }
   ],
   "source": [
    "let myVar = 5; \n",
    "myVar += 5; \n",
    "console.log(myVar) // 10"
   ]
  },
  {
   "cell_type": "markdown",
   "metadata": {},
   "source": [
    "❖ We Use Arithmetic Operators Mostly in Loops to Add One Each Time We Loop on Something. "
   ]
  },
  {
   "cell_type": "markdown",
   "metadata": {},
   "source": [
    ":: __`Strings in Js and Escape Operators`__ ::"
   ]
  },
  {
   "cell_type": "code",
   "execution_count": null,
   "metadata": {},
   "outputs": [],
   "source": [
    "const sampleStr = \"Alan Said, \\\"Peter is Learning Javascript\\\".\"; "
   ]
  },
  {
   "cell_type": "markdown",
   "metadata": {},
   "source": [
    "String values in JavaScript may be written with single or double quotes, as long as you start and end with the same type of quote. Unlike some other programming languages, single and double quotes work the same in JavaScript."
   ]
  },
  {
   "cell_type": "code",
   "execution_count": null,
   "metadata": {},
   "outputs": [],
   "source": [
    "const conversation = 'Finn exclaims to Jake, \"Algebraic!\"'"
   ]
  },
  {
   "cell_type": "markdown",
   "metadata": {},
   "source": [
    "`\\'` => Single Quote\n",
    "\n",
    "`\\\"` => Double Quote\n",
    "\n",
    "`\\\\` => Backslash \n",
    "\n",
    "`\\n` => Newline \n",
    "\n",
    "`\\t` => Tab\n",
    "\n",
    "`\\r` => Carriage Return\n",
    "\n",
    "`\\b` => Word Boundary\n",
    "\n",
    "`\\f` => Form Feed"
   ]
  },
  {
   "cell_type": "markdown",
   "metadata": {},
   "source": [
    "__String Length in JS__"
   ]
  },
  {
   "cell_type": "code",
   "execution_count": 12,
   "metadata": {},
   "outputs": [
    {
     "name": "stdout",
     "output_type": "stream",
     "text": [
      "3\n"
     ]
    }
   ],
   "source": [
    "const myName = \"Ali\"; \n",
    "console.log(myName.length) // 3"
   ]
  },
  {
   "cell_type": "markdown",
   "metadata": {},
   "source": [
    "❖ Javascript use Zero-Based Indexing just like Python"
   ]
  },
  {
   "cell_type": "code",
   "execution_count": 13,
   "metadata": {},
   "outputs": [
    {
     "name": "stdout",
     "output_type": "stream",
     "text": [
      "Y\n"
     ]
    }
   ],
   "source": [
    "let myName = \"Yehia\"; \n",
    "console.log(myName[0]) // Y"
   ]
  },
  {
   "cell_type": "markdown",
   "metadata": {},
   "source": [
    "❖ Strings in Js Is Immutable"
   ]
  },
  {
   "cell_type": "code",
   "execution_count": 14,
   "metadata": {},
   "outputs": [
    {
     "name": "stderr",
     "output_type": "stream",
     "text": [
      "2:1 - Index signature in type 'String' only permits reading.\n"
     ]
    }
   ],
   "source": [
    "let myName = \"Yehia\"; \n",
    "myName[0] = \"X\" // Error"
   ]
  },
  {
   "cell_type": "markdown",
   "metadata": {},
   "source": [
    ":: __`Arrays in JS`__ ::"
   ]
  },
  {
   "cell_type": "code",
   "execution_count": null,
   "metadata": {},
   "outputs": [],
   "source": [
    "const sandwith = [\"peanut butter\", \"Jelly\", \"bread\", 5, 300.05, true];"
   ]
  },
  {
   "cell_type": "markdown",
   "metadata": {},
   "source": [
    ":: __`Nest One Array Within Another Array`__ ::"
   ]
  },
  {
   "cell_type": "code",
   "execution_count": 15,
   "metadata": {},
   "outputs": [
    {
     "name": "stdout",
     "output_type": "stream",
     "text": [
      "[ 'bulls', 23 ]\n",
      "bulls\n"
     ]
    }
   ],
   "source": [
    "// Multi-Dimentional Array\n",
    "const teams = [[\"bulls\", 23], [\"White Sox\", 45]];\n",
    "\n",
    "console.log(teams[0]); // [\"bulls\", 23]\n",
    "console.log(teams[0][0]); // bulls\n"
   ]
  },
  {
   "cell_type": "markdown",
   "metadata": {},
   "source": [
    "❖ Arrays are Mutable"
   ]
  },
  {
   "cell_type": "code",
   "execution_count": 16,
   "metadata": {},
   "outputs": [
    {
     "name": "stdout",
     "output_type": "stream",
     "text": [
      "[ 45, 64, 99 ]\n"
     ]
    }
   ],
   "source": [
    "const myArray = [18, 64, 99]; \n",
    "\n",
    "myArray[0] = 45; \n",
    "\n",
    "console.log(myArray) // [45, 64, 99]"
   ]
  },
  {
   "cell_type": "markdown",
   "metadata": {},
   "source": [
    ":: __`Manipulate Arrays with Push Method`__ ::\n",
    "\n",
    "❖ An Easy Way to Append Data to the End of an Array Is via The `push()` Function.\n",
    "\n",
    "❖ `.push()` Takes One or More Parameters and \"Pushes\" Them Onto the End of the Array."
   ]
  },
  {
   "cell_type": "code",
   "execution_count": 17,
   "metadata": {},
   "outputs": [
    {
     "name": "stdout",
     "output_type": "stream",
     "text": [
      "[ 1, 2, 3, 4 ]\n"
     ]
    }
   ],
   "source": [
    "const arr1 = [1, 2, 3]; \n",
    "arr1.push(4); \n",
    "console.log(arr1) //[1, 2, 3, 4]"
   ]
  },
  {
   "cell_type": "code",
   "execution_count": null,
   "metadata": {},
   "outputs": [],
   "source": [
    "const arr2 = [\"Stimpson\", \"J\", \"cat\"]; \n",
    "arr2.push([\"happy\", \"joy\"]);\n",
    "console.log(arr2); // [ 'Stimpson', 'J', 'cat', [ 'happy', 'joy' ] ]"
   ]
  },
  {
   "cell_type": "markdown",
   "metadata": {},
   "source": [
    ":: __`Manipulate Arrays with Apply Method`__ ::\n",
    "\n",
    "The `apply()` method is being used in the given code to pass the elements of the `[\"happy\", \"joy\"]` array as individual arguments to the `push()` method of the `arr2` array.\n",
    "\n",
    "Here's how it works:\n",
    "\n",
    "1. Initially, the `push()` method is invoked on the `arr2` array.\n",
    "\n",
    "2. The `apply()` method is then called on the `push()` method, using `arr2` as the context (the value of `this` within the `push()` method call).\n",
    "\n",
    "3. The second argument of `apply()` is the array `[\"happy\", \"joy\"]`, which is converted into individual arguments.\n",
    "\n",
    "4. The `apply()` method executes the `push()` method with the `this` value set to `arr2` and the arguments passed as individual elements.\n",
    "\n",
    "\n",
    "Essentially, `arr2.push.apply(arr2, [\"happy\", \"joy\"])` is equivalent to `arr2.push(\"happy\", \"joy\")`.\n",
    "\n",
    "As a result, the elements `\"happy\"` and `\"joy\"` are added to the `arr2` array using the `push()` method, and the updated array is logged to the console with the `console.log(arr2)` statement."
   ]
  },
  {
   "cell_type": "code",
   "execution_count": 22,
   "metadata": {},
   "outputs": [
    {
     "name": "stdout",
     "output_type": "stream",
     "text": [
      "[ 'Stimpson', 'J', 'cat', 'happy', 'joy' ]\n"
     ]
    }
   ],
   "source": [
    "const arr2 = [\"Stimpson\", \"J\", \"cat\"];\n",
    "arr2.push.apply(arr2, [\"happy\", \"joy\"]);\n",
    "console.log(arr2); // [ 'Stimpson', 'J', 'cat', 'happy', 'joy' ]"
   ]
  },
  {
   "cell_type": "markdown",
   "metadata": {},
   "source": [
    ":: __`Manipulate Arrays with concat Method`__ ::\n",
    "\n",
    "❖ The `concat()` method in JavaScript is used to join two or more arrays together, resulting in a new array. \n",
    "\n",
    "❖ It does not modify the original arrays; instead, it returns a new array that contains the elements from all the arrays that were concatenated.\n",
    "\n",
    "> array1.concat(array2, array3, ..., arrayX)\n",
    "\n",
    "↪ `array1`: The array to which the other arrays will be concatenated.\n",
    "\n",
    "↪ `array2`, `array3`, ..., `arrayX`: Arrays that will be joined to `array1`.\n",
    "\n",
    "The `concat()` method returns a new array that contains all the elements from `array1` followed by the elements from `array2`, `array3`, and so on, in the order they were provided as arguments.\n",
    "\n",
    "❖ Here's an example usage of the `concat()` method:\n"
   ]
  },
  {
   "cell_type": "code",
   "execution_count": 21,
   "metadata": {},
   "outputs": [
    {
     "name": "stdout",
     "output_type": "stream",
     "text": [
      "[ 1, 2, 3, 4, 5, 6 ]\n"
     ]
    }
   ],
   "source": [
    "const array1 = [1, 2, 3];\n",
    "const array2 = [4, 5, 6];\n",
    "const concatenatedArray = array1.concat(array2);\n",
    "console.log(concatenatedArray); // Output: [1, 2, 3, 4, 5, 6]"
   ]
  },
  {
   "cell_type": "markdown",
   "metadata": {},
   "source": [
    ":: __`Manipulate Arrays with Spread Syntax`__ ::\n",
    "\n",
    "Spread syntax, denoted by the ellipsis (`...`), is a feature introduced in JavaScript that allows an iterable (such as an array, string, or object) to be expanded or spread into individual elements.\n",
    "\n",
    "The spread syntax can be used in various contexts, including:"
   ]
  },
  {
   "cell_type": "code",
   "execution_count": 27,
   "metadata": {},
   "outputs": [
    {
     "name": "stdout",
     "output_type": "stream",
     "text": [
      "[ 1, 2, 3, 4, 5 ]\n"
     ]
    }
   ],
   "source": [
    "// \t1.\tArray literals:\n",
    "const arr = [1, 2, 3];\n",
    "const newArr = [...arr, 4, 5];\n",
    "console.log(newArr); // Output: [1, 2, 3, 4, 5]"
   ]
  },
  {
   "cell_type": "code",
   "execution_count": 26,
   "metadata": {},
   "outputs": [
    {
     "name": "stdout",
     "output_type": "stream",
     "text": [
      "6\n"
     ]
    }
   ],
   "source": [
    "// \t2.\tFunction arguments:\n",
    "function sum(a, b, c) {\n",
    "    return a + b + c;\n",
    "  }\n",
    "  const nums = [1, 2, 3];\n",
    "  console.log(sum(...nums)); // Output: 6\n",
    "  "
   ]
  },
  {
   "cell_type": "code",
   "execution_count": 25,
   "metadata": {},
   "outputs": [
    {
     "name": "stdout",
     "output_type": "stream",
     "text": [
      "{ x: 1, y: 2, z: 3 }\n"
     ]
    }
   ],
   "source": [
    "// \t3.\tObject literals (as of ECMAScript 2018):\n",
    "const obj1 = { x: 1, y: 2 };\n",
    "const obj2 = { ...obj1, z: 3 };\n",
    "console.log(obj2); // Output: { x: 1, y: 2, z: 3 }\n",
    "  "
   ]
  },
  {
   "cell_type": "markdown",
   "metadata": {},
   "source": [
    "The spread syntax allows you to easily combine or clone arrays/objects, pass multiple arguments to functions, and create new arrays/objects with additional elements or properties.\n",
    "\n",
    "Note that the spread syntax creates a shallow copy when spreading arrays or objects. This means that if the spread elements themselves are objects or arrays, any modifications made to those elements will affect the original array or object as well.\n",
    "\n",
    "Overall, spread syntax provides a concise and convenient way to manipulate and work with iterable values in JavaScript."
   ]
  },
  {
   "cell_type": "code",
   "execution_count": 23,
   "metadata": {},
   "outputs": [
    {
     "name": "stdout",
     "output_type": "stream",
     "text": [
      "[ 'Stimpson', 'J', 'cat', 'happy', 'joy' ]\n"
     ]
    }
   ],
   "source": [
    "const arr2 = [\"Stimpson\", \"J\", \"cat\"];\n",
    "arr2.push(...[\"happy\", \"joy\"]);\n",
    "console.log(arr2); // [ 'Stimpson', 'J', 'cat', 'happy', 'joy' ]"
   ]
  },
  {
   "cell_type": "markdown",
   "metadata": {},
   "source": [
    ":: __`Manipulate Arrays with pop Method`__ ::\n",
    "\n",
    "`.pop()` is used to pop a value off of the end of an array. We can store this popped off value by assigning it to a variable. \n",
    "\n",
    "In other words, `.pop()` removes the last element from an array and returns that element.\n",
    "\n",
    "❖ Any type of entry can be popped off of an array - numbers, strings, even nested arrays."
   ]
  },
  {
   "cell_type": "code",
   "execution_count": 28,
   "metadata": {},
   "outputs": [
    {
     "name": "stdout",
     "output_type": "stream",
     "text": [
      "[ 1, 4 ]\n",
      "6\n"
     ]
    }
   ],
   "source": [
    "const threeArr = [1, 4, 6]; \n",
    "\n",
    "const oneDown = threeArr.pop(); \n",
    "\n",
    "console.log(threeArr); // 6\n",
    "console.log(oneDown); // [1, 4]"
   ]
  },
  {
   "cell_type": "markdown",
   "metadata": {},
   "source": [
    ":: __`Manipulate Arrays with shift Method`__ ::\n",
    "\n",
    "`pop()` always removes the last element of an array. What if you want to remove the first?\n",
    "\n",
    "That's where `.shift()` comes in. It works just like `.pop()` , except it removes the first element instead of the last."
   ]
  },
  {
   "cell_type": "code",
   "execution_count": 29,
   "metadata": {},
   "outputs": [
    {
     "name": "stdout",
     "output_type": "stream",
     "text": [
      "[ 'J', [ 'cat' ] ]\n",
      "Stimpson\n"
     ]
    }
   ],
   "source": [
    "const ourArray = [\"Stimpson\", \"J\", [\"cat\"]]; \n",
    "const removedFromArray = ourArray.shift(); \n",
    "\n",
    "console.log(ourArray); // [\"J\", [\"cat\"]]\n",
    "console.log(removedFromArray); // Stimpson"
   ]
  },
  {
   "cell_type": "markdown",
   "metadata": {},
   "source": [
    ":: __`Manipulate Arrays with unshift Method`__ ::\n",
    "\n",
    "❖ Not only can you shift elements off of the beginning of an array, you can also unshift elements to the beginning of an array i.e. add elements in front of the array.\n",
    "\n",
    "❖ `.unshift()` works exactly like `.push()`, but instead of adding the element at the end of the array, `unshift()` adds the element at the beginning of the array."
   ]
  },
  {
   "cell_type": "code",
   "execution_count": 30,
   "metadata": {},
   "outputs": [
    {
     "name": "stdout",
     "output_type": "stream",
     "text": [
      "[ 'J', 'cat' ]\n",
      "[ 'Happy', 'J', 'cat' ]\n"
     ]
    }
   ],
   "source": [
    "const ourArray = [\"Stimpson\", \"J\", \"cat\"]; \n",
    "ourArray.shift(); \n",
    "console.log(ourArray); // [\"J\", \"cat\"]\n",
    "\n",
    "ourArray.unshift(\"Happy\")\n",
    "console.log(ourArray); // [\"Happy\", \"J\", \"cat\"]\n"
   ]
  },
  {
   "cell_type": "markdown",
   "metadata": {},
   "source": [
    ":: __`Functions in JS`__ ::\n",
    "\n",
    "\"Whenever you are copying and pasting, you are doing something wrong\""
   ]
  },
  {
   "cell_type": "code",
   "execution_count": null,
   "metadata": {},
   "outputs": [],
   "source": [
    "function calculateGrades(grade) { \n",
    "\n",
    "    if (grade > 90) {\n",
    "        return \"A+\";\n",
    "\n",
    "    } else if (grade > 80) { \n",
    "        return \"B+\";\n",
    "\n",
    "    } else if (grade > 70) { \n",
    "        return \"C+\"; \n",
    "\n",
    "    }\n",
    "    return \"D\"; \n",
    "}"
   ]
  },
  {
   "cell_type": "markdown",
   "metadata": {},
   "source": [
    "❖ We Call the Function the Same Way in Python.\n",
    "\n",
    "❖ Parameters Is Also the Same Way in Python."
   ]
  },
  {
   "cell_type": "markdown",
   "metadata": {},
   "source": [
    ":: __`Return a Value From a Function with Return`__ ::\n",
    "\n",
    "We can pass values into a function with arguments. You can use a return statement to send a value back out of a function."
   ]
  },
  {
   "cell_type": "code",
   "execution_count": 32,
   "metadata": {},
   "outputs": [
    {
     "name": "stdout",
     "output_type": "stream",
     "text": [
      "8\n"
     ]
    }
   ],
   "source": [
    "function plusThree(num) { \n",
    "\n",
    "    return num + 3; \n",
    "}\n",
    "\n",
    "const answer = plusThree(5);  // 8\n",
    "console.log(answer)"
   ]
  },
  {
   "cell_type": "markdown",
   "metadata": {},
   "source": [
    "❖ Vaiable Scope in Js Is the Same as Python\n",
    "\n",
    "❖ Void Function = Function Doesn't Return Any Data"
   ]
  },
  {
   "cell_type": "markdown",
   "metadata": {},
   "source": [
    ":: __`Conditions in Js`__ ::\n",
    "\n",
    "❖ if statements are used to make decisions in code. The keyword if tells JavaScript to execute the code in the curly braces under certain conditions, defined in the parentheses. These conditions are known as Boolean conditions and they may only be true or false.\n",
    "\n",
    "❖ When the condition evaluates to true, the program executes the statement inside the curly braces. When the Boolean condition evaluates to false, the statement inside the curly braces will not execute.\n"
   ]
  },
  {
   "cell_type": "code",
   "execution_count": 34,
   "metadata": {},
   "outputs": [
    {
     "name": "stdout",
     "output_type": "stream",
     "text": [
      "it was true\n",
      "it was flase\n"
     ]
    }
   ],
   "source": [
    "function test(myCondition) { \n",
    "\n",
    "    if (myCondition) { \n",
    "\n",
    "        return \"it was true\";\n",
    "    }\n",
    "\n",
    "    return \"it was flase\";\n",
    "}\n",
    "\n",
    "console.log(test(true));\n",
    "console.log(test(false));"
   ]
  },
  {
   "cell_type": "markdown",
   "metadata": {},
   "source": [
    ":: __`Comparison with the Equality Operator`__ ::\n",
    "\n",
    "❖ There are many comparison operators in JavaScript. All of these operators return a boolean true or false value.\n",
    "\n",
    "❖ The most basic operator is the equality operator `==`. The equality operator compares two values and returns true if they're equivalent or false if they are not. Note that equality is different from assignment (`=`), which assigns the value on the right of the operator to a variable on the left."
   ]
  },
  {
   "cell_type": "code",
   "execution_count": 35,
   "metadata": {},
   "outputs": [
    {
     "name": "stdout",
     "output_type": "stream",
     "text": [
      "Equal\n",
      "Not Equal\n"
     ]
    }
   ],
   "source": [
    "function equalityTest(myVal) { \n",
    "\n",
    "    if (myVal == 10) {\n",
    "\n",
    "        return \"Equal\"; \n",
    "    }\n",
    "\n",
    "    return \"Not Equal\";\n",
    "}\n",
    "\n",
    "console.log(equalityTest(10))\n",
    "console.log(equalityTest(15))"
   ]
  },
  {
   "cell_type": "code",
   "execution_count": null,
   "metadata": {},
   "outputs": [],
   "source": [
    "1 == 1 // true \n",
    "\n",
    "1 == 2 // false \n",
    "\n",
    "1 == '1' // true\n",
    "\n",
    "\"3\" == 3 // true"
   ]
  },
  {
   "cell_type": "markdown",
   "metadata": {},
   "source": [
    ":: __`Comparison with the Strict Equality Operator`__ ::\n",
    "\n",
    "Strict equality (`===`) is the counterpart to the equality operator (`==`). \n",
    "\n",
    "However, unlike the equality operator, which attempts to convert both values being compared to a common type, the strict equality operator does not perform a type conversion.\n",
    "\n",
    "__Examples__ "
   ]
  },
  {
   "cell_type": "code",
   "execution_count": null,
   "metadata": {},
   "outputs": [],
   "source": [
    "3 === 3 // true \n",
    "\n",
    "3 === '3' // false"
   ]
  },
  {
   "cell_type": "markdown",
   "metadata": {},
   "source": [
    "❖ Strict Equality Is the Best Practice ✓"
   ]
  },
  {
   "cell_type": "code",
   "execution_count": 36,
   "metadata": {},
   "outputs": [
    {
     "name": "stdout",
     "output_type": "stream",
     "text": [
      "number string\n"
     ]
    }
   ],
   "source": [
    "console.log(typeof 3, typeof '3')"
   ]
  },
  {
   "cell_type": "markdown",
   "metadata": {},
   "source": [
    ":: __`Not Equal`__ ::\n",
    "\n",
    "The inequality operator (`!=`) is the opposite of the equality operator. It means not equal and returns false where equality would return true and vice versa. \n",
    "\n",
    "Like the equality operator, the inequality operator will convert data types of values while comparing."
   ]
  },
  {
   "cell_type": "code",
   "execution_count": null,
   "metadata": {},
   "outputs": [],
   "source": [
    "1 != 2 // true \n",
    "\n",
    "1 != \"1\" // false\n",
    "\n",
    "1 != '1' // false \n",
    "\n",
    "1 != true // false\n",
    "\n",
    "0 != false // false\n",
    "\n",
    "// == ⟶ != \n",
    "\n",
    "// === ⟶ !== "
   ]
  },
  {
   "cell_type": "markdown",
   "metadata": {},
   "source": [
    ":: __`Comparisons with the Logical And Operator`__ ::\n",
    "\n",
    "❖ Sometimes you will need to test more than one thing at a time. The logical and operator (`&&`) returns true if and only if the operands to the left and right of it are true. \n",
    "\n",
    "❖ The same effect could be achieved by nesting an if statement inside another if:"
   ]
  },
  {
   "cell_type": "code",
   "execution_count": null,
   "metadata": {},
   "outputs": [],
   "source": [
    "if (num > 5 && num < 10) { \n",
    "\n",
    "    return \"Yes\"; \n",
    "}\n",
    "\n",
    "return \"No\"; "
   ]
  },
  {
   "cell_type": "markdown",
   "metadata": {},
   "source": [
    ":: __`Comparisons with the Logical Or Operator`__ ::\n",
    "\n",
    "❖ The logical or operator (`||`) returns true if either of the operands is true. Otherwise, it returns false."
   ]
  },
  {
   "cell_type": "code",
   "execution_count": null,
   "metadata": {},
   "outputs": [],
   "source": [
    "if (num > 5 || num < 10) { \n",
    "\n",
    "    return \"No\"; \n",
    "}\n",
    "\n",
    "return \"Yes\"; "
   ]
  },
  {
   "cell_type": "markdown",
   "metadata": {},
   "source": [
    ":: __`Else`__ ::"
   ]
  },
  {
   "cell_type": "code",
   "execution_count": 37,
   "metadata": {},
   "outputs": [
    {
     "name": "stdout",
     "output_type": "stream",
     "text": [
      "5 or Smaller\n"
     ]
    }
   ],
   "source": [
    "function testElse(val) {\n",
    "\n",
    "    let result = \"\"; \n",
    "\n",
    "    if (val > 5) {\n",
    "\n",
    "        result = \"Bigger than 5\"; \n",
    "    \n",
    "    } else {\n",
    "\n",
    "        result = \"5 or Smaller\"; \n",
    "    }\n",
    "\n",
    "    return result;\n",
    "}\n",
    "\n",
    "console.log(testElse(4));"
   ]
  },
  {
   "cell_type": "markdown",
   "metadata": {},
   "source": [
    ":: __`Else If Statements`__ ::"
   ]
  },
  {
   "cell_type": "code",
   "execution_count": null,
   "metadata": {},
   "outputs": [],
   "source": [
    "if (num > 15) {\n",
    "\n",
    "    return \"Bigger than 15\"; \n",
    "\n",
    "} else if (num < 5) {\n",
    "\n",
    "    return \"Smaller than 5\"; \n",
    "\n",
    "} else {\n",
    "\n",
    "    return \"Between 5 and 15\";\n",
    "}"
   ]
  },
  {
   "cell_type": "markdown",
   "metadata": {},
   "source": [
    ":: __`Switch Case in JS`__ ::\n",
    "\n",
    "If you have many options to choose from, use a switch statement. A switch statement tests a value and can have many case statements which define various possible values. Statements are executed from the first matched case value until a `break` is encountered."
   ]
  },
  {
   "cell_type": "code",
   "execution_count": null,
   "metadata": {},
   "outputs": [],
   "source": [
    "switch(val) {\n",
    "\n",
    "    case 1: \n",
    "        // ....\n",
    "        break;\n",
    "\n",
    "    case 2: \n",
    "        // ....\n",
    "        break; \n",
    "}"
   ]
  },
  {
   "cell_type": "code",
   "execution_count": null,
   "metadata": {},
   "outputs": [],
   "source": [
    "switch (fruit) {\n",
    "\n",
    "    case \"apple\": \n",
    "\n",
    "        console.log(\"The Fruit Is an Apple\"); \n",
    "\n",
    "    break;\n",
    "\n",
    "    case \"orange\": \n",
    "\n",
    "         console.log(\"The Fruit Is an Orange\"); \n",
    "\n",
    "    break;\n",
    "}"
   ]
  },
  {
   "cell_type": "markdown",
   "metadata": {},
   "source": [
    "Case Values Are Tested with Strict Equality (`===`). The Break Tells JavaScript to Stop Executing Statements. If the Break Is Omitted, the Next Statement Will Be Executed."
   ]
  },
  {
   "cell_type": "code",
   "execution_count": 38,
   "metadata": {},
   "outputs": [
    {
     "name": "stdout",
     "output_type": "stream",
     "text": [
      "delta\n"
     ]
    }
   ],
   "source": [
    "function caseInSwitch(val) {\n",
    "\n",
    "    let answer = \"\"; \n",
    "\n",
    "    switch(val) {\n",
    "\n",
    "        case 1: \n",
    "\n",
    "            answer = \"alpha\";\n",
    "\n",
    "            break;\n",
    "        \n",
    "        case 2: \n",
    "\n",
    "            answer = \"beta\";\n",
    "\n",
    "            break;\n",
    "        \n",
    "        case 3: \n",
    "\n",
    "            answer = \"gamma\";\n",
    "\n",
    "            break;\n",
    "        \n",
    "        case 4: \n",
    "\n",
    "            answer = \"delta\";\n",
    "\n",
    "            break;\n",
    "        }\n",
    "\n",
    "    return answer;\n",
    "}\n",
    "\n",
    "\n",
    "console.log(caseInSwitch(4))"
   ]
  },
  {
   "cell_type": "markdown",
   "metadata": {},
   "source": [
    ":: __`Adding a Default Option in Switch Statements`__ ::\n",
    "\n",
    "In a switch statement you may not be able to specify all possible values as case statements. Instead, you can add the default statement which will be executed if no matching case statements are found. Think of it like the final else statement in an if/else chain."
   ]
  },
  {
   "cell_type": "markdown",
   "metadata": {},
   "source": [
    ">Syntax"
   ]
  },
  {
   "cell_type": "code",
   "execution_count": null,
   "metadata": {},
   "outputs": [],
   "source": [
    "switch(num) {\n",
    "\n",
    "    case value1: \n",
    "\n",
    "        statement1; \n",
    "        break;\n",
    "        \n",
    "    case value2: \n",
    "\n",
    "        statement2; \n",
    "        break;\n",
    "    \n",
    "\n",
    "    default: \n",
    "\n",
    "        defaultStatement; \n",
    "        break; \n",
    "}"
   ]
  },
  {
   "cell_type": "code",
   "execution_count": 39,
   "metadata": {},
   "outputs": [
    {
     "name": "stdout",
     "output_type": "stream",
     "text": [
      "stuff\n"
     ]
    }
   ],
   "source": [
    "function switchOfStuff(val) {\n",
    "\n",
    "    let answer = \"\"; \n",
    "\n",
    "    switch(val) {\n",
    "\n",
    "        case \"a\": \n",
    "\n",
    "            answer = \"Apple\"; \n",
    "            break;\n",
    "\n",
    "        case \"b\": \n",
    "\n",
    "            answer = \"bird\"; \n",
    "            break;\n",
    "        \n",
    "        case \"c\": \n",
    "\n",
    "            answer = \"cat\"; \n",
    "            break;\n",
    "\n",
    "        default: \n",
    "\n",
    "            answer = \"stuff\"; \n",
    "            break;\n",
    "    }\n",
    "\n",
    "    return answer; \n",
    "}\n",
    "\n",
    "console.log(switchOfStuff(1))"
   ]
  },
  {
   "cell_type": "markdown",
   "metadata": {},
   "source": [
    ":: __`Multiple Identical Options in Switch Statements`__ ::\n",
    "\n",
    "❖ If the break statement is omitted from a switch statement's case, the following case statements are executed until a break is encountered. \n",
    "\n",
    "❖ If you have multiple inputs with the same output, you can represent them in a switch statement like this:"
   ]
  },
  {
   "cell_type": "code",
   "execution_count": null,
   "metadata": {},
   "outputs": [],
   "source": [
    "let result = \"\"; \n",
    "\n",
    "switch (val) {\n",
    "\n",
    "    case 1: \n",
    "    case 2: \n",
    "    case 3: \n",
    "\n",
    "        result = \"1, 2, or 3\"; \n",
    "        break;\n",
    "\n",
    "    case 4: \n",
    "\n",
    "        result = \"4 alone\";\n",
    "        break;\n",
    "}"
   ]
  },
  {
   "cell_type": "code",
   "execution_count": 42,
   "metadata": {},
   "outputs": [
    {
     "name": "stdout",
     "output_type": "stream",
     "text": [
      "undefined\n"
     ]
    }
   ],
   "source": [
    "function sequentialSizes(val) {\n",
    "\n",
    "let answer = \"\"; \n",
    "\n",
    "switch (val) {\n",
    "\n",
    "    case 1: \n",
    "    case 2: \n",
    "    case 3: \n",
    "\n",
    "        answer = \"Low\"; \n",
    "        break;\n",
    "        \n",
    "    case 4: \n",
    "    case 5: \n",
    "    case 6: \n",
    "\n",
    "        answer = \"Mid\"; \n",
    "        break;\n",
    "        \n",
    "    case 7: \n",
    "    case 8: \n",
    "    case 9: \n",
    "\n",
    "        answer = \"High\"; \n",
    "        break;\n",
    "\n",
    "    }\n",
    "}\n",
    "\n",
    "console.log(sequentialSizes(1));\n"
   ]
  },
  {
   "cell_type": "markdown",
   "metadata": {},
   "source": [
    "The code is missing a return statement. In the `sequentialSizes` function, you are not returning any value. \n",
    "\n",
    "As a result, when you call `console.log(sequentialSizes(1))`, it prints `undefined` because the `sequentialSizes` function does not explicitly return a value. \n",
    "\n",
    "To fix this, add a return statement to return the value of `answer`. Here's the modified code:"
   ]
  },
  {
   "cell_type": "code",
   "execution_count": 43,
   "metadata": {},
   "outputs": [
    {
     "name": "stdout",
     "output_type": "stream",
     "text": [
      "Low\n"
     ]
    }
   ],
   "source": [
    "function sequentialSizes(val) {\n",
    "\n",
    "let answer = \"\"; \n",
    "\n",
    "switch (val) {\n",
    "\n",
    "    case 1: \n",
    "    case 2: \n",
    "    case 3: \n",
    "\n",
    "        answer = \"Low\"; \n",
    "        break;\n",
    "        \n",
    "    case 4: \n",
    "    case 5: \n",
    "    case 6: \n",
    "\n",
    "        answer = \"Mid\"; \n",
    "        break;\n",
    "        \n",
    "    case 7: \n",
    "    case 8: \n",
    "    case 9: \n",
    "\n",
    "        answer = \"High\"; \n",
    "        break;\n",
    "\n",
    "    }\n",
    "\n",
    "    return answer;\n",
    "}\n",
    "\n",
    "console.log(sequentialSizes(1));\n"
   ]
  },
  {
   "cell_type": "markdown",
   "metadata": {},
   "source": [
    ":: __`Objects in JS (OOP)`__ ::\n",
    "\n",
    "❖ Objects are similar to arrays, except that instead of using indexes to access and modify their data, you access the data in objects through what are called properties. \n",
    "\n",
    "❖ Objects are useful for storing data in a structured way, and can represent real world objects, like a cat."
   ]
  },
  {
   "cell_type": "code",
   "execution_count": null,
   "metadata": {},
   "outputs": [],
   "source": [
    "const cat = {\n",
    "\n",
    "    \"name\": \"whiskers\",\n",
    "    \"legs\": 4,\n",
    "    \"tails\": 1, \n",
    "    \"enemies\": [\"water\", \"Dogs\"]\n",
    "};"
   ]
  },
  {
   "cell_type": "markdown",
   "metadata": {},
   "source": [
    "In this example, all the properties are stored as strings, such as name, legs, and tails. However, you can also use numbers as properties. You can even omit the quotes for single- word string properties, as follows:"
   ]
  },
  {
   "cell_type": "code",
   "execution_count": null,
   "metadata": {},
   "outputs": [],
   "source": [
    "const anotherObject = {\n",
    "\n",
    "    make: \"Ford\", \n",
    "    5: \"five\", \n",
    "    \"model\": \"focus\"\n",
    "};"
   ]
  },
  {
   "cell_type": "markdown",
   "metadata": {},
   "source": [
    "However, if your object has any non-string properties, JavaScript will automatically typecast them as strings."
   ]
  },
  {
   "cell_type": "markdown",
   "metadata": {},
   "source": [
    ":: __`Accessing Object Properties with Dot Notation`__ ::\n",
    "\n",
    "❖ There are two ways to access the properties of an object: dot notation (`.`) and bracket notation (`[]`), similar to an array. \n",
    "\n",
    "❖ Dot notation is what you use when you know the name of the property you're trying to access ahead of time. \n",
    "\n",
    "❖ Here is a sample of using dot notation (.) to read an object's property:"
   ]
  },
  {
   "cell_type": "code",
   "execution_count": null,
   "metadata": {},
   "outputs": [],
   "source": [
    "const prop1val = myObj.prop1;\n",
    "const prop2val = myObj.prop2;"
   ]
  },
  {
   "cell_type": "markdown",
   "metadata": {},
   "source": [
    "`prop1val` would have a value of the string `val1`, and `prop2val` would have a value of the string `val2`."
   ]
  },
  {
   "cell_type": "code",
   "execution_count": 45,
   "metadata": {},
   "outputs": [
    {
     "name": "stdout",
     "output_type": "stream",
     "text": [
      "{ hat: 'ballcap', shirt: 'jersey', shoes: 'cleats' }\n",
      "ballcap\n",
      "jersey\n"
     ]
    }
   ],
   "source": [
    "const testObj = {\n",
    "\n",
    "    \"hat\": \"ballcap\",\n",
    "    \"shirt\": \"jersey\", \n",
    "    \"shoes\": \"cleats\"\n",
    "};\n",
    "\n",
    "const hatValue = testObj.hat;\n",
    "const shirtValue = testObj.shirt;\n",
    "\n",
    "console.log(testObj);\n",
    "console.log(hatValue);\n",
    "console.log(shirtValue);"
   ]
  },
  {
   "cell_type": "code",
   "execution_count": 46,
   "metadata": {},
   "outputs": [
    {
     "name": "stdout",
     "output_type": "stream",
     "text": [
      "{ hat: 'ballcap', shirt: 'jersey', shoes: 'cleats' }\n",
      "ballcap\n",
      "jersey\n"
     ]
    }
   ],
   "source": [
    "const testObj = {\n",
    "\n",
    "    hat: \"ballcap\",\n",
    "    shirt: \"jersey\", \n",
    "    shoes: \"cleats\"\n",
    "};\n",
    "\n",
    "const hatValue = testObj.hat;\n",
    "const shirtValue = testObj.shirt;\n",
    "\n",
    "console.log(testObj);\n",
    "console.log(hatValue);\n",
    "console.log(shirtValue);"
   ]
  },
  {
   "cell_type": "code",
   "execution_count": 47,
   "metadata": {},
   "outputs": [
    {
     "name": "stdout",
     "output_type": "stream",
     "text": [
      "ballcap\n",
      "cleats\n"
     ]
    }
   ],
   "source": [
    "const testObj = {\n",
    "\n",
    "    hat: \"ballcap\",\n",
    "    shirt: \"jersey\", \n",
    "    shoes: \"cleats\"\n",
    "};\n",
    "\n",
    "const hatValue = testObj.hat;\n",
    "const shirtValue = testObj.shirt;\n",
    "\n",
    "console.log(testObj.hat);\n",
    "console.log(testObj.shoes);"
   ]
  },
  {
   "cell_type": "code",
   "execution_count": 48,
   "metadata": {},
   "outputs": [
    {
     "name": "stdout",
     "output_type": "stream",
     "text": [
      "undefined\n"
     ]
    }
   ],
   "source": [
    "const testObj = {\n",
    "\n",
    "    hat: \"ballcap\",\n",
    "    shirt: \"jersey\", \n",
    "    shoes: \"cleats\"\n",
    "};\n",
    "\n",
    "const hatValue = testObj.hat;\n",
    "const shirtValue = testObj.shirt;\n",
    "\n",
    "console.log(testObj.something);"
   ]
  },
  {
   "cell_type": "markdown",
   "metadata": {},
   "source": [
    ":: __`Accessing Object Properties with Bracket Notation`__ ::\n",
    "\n",
    "The second way to access the properties of an object is bracket notation (`[]`). If the property of the object you are trying to access has a space in its name, you will need to use bracket notation. However, you can still use bracket notation on object properties without spaces."
   ]
  },
  {
   "cell_type": "code",
   "execution_count": null,
   "metadata": {},
   "outputs": [],
   "source": [
    "const myObj = {\n",
    "\n",
    "    \"Space Name\": \"Kirk\",\n",
    "    \"More Space\": \"spock\",\n",
    "    \"NoSpace\": \"USS Enterprise\"\n",
    "}\n",
    "\n",
    "console.log(myObj.Space Name); // error"
   ]
  },
  {
   "cell_type": "code",
   "execution_count": 57,
   "metadata": {},
   "outputs": [
    {
     "name": "stdout",
     "output_type": "stream",
     "text": [
      "Kirk\n",
      "USS Enterprise\n"
     ]
    }
   ],
   "source": [
    "const myObj = {\n",
    "\n",
    "    \"Space Name\": \"Kirk\",\n",
    "    \"More Space\": \"spock\",\n",
    "    \"NoSpace\": \"USS Enterprise\"\n",
    "}\n",
    "\n",
    "console.log(myObj[\"Space Name\"]);\n",
    "console.log(myObj.NoSpace);"
   ]
  },
  {
   "cell_type": "markdown",
   "metadata": {},
   "source": [
    ":: __`Accessing Object Properties with Variables`__ ::\n",
    "\n",
    "Another use of bracket notation on objects is to access a property which is stored as the value of a variable. This can be very useful for iterating through an object's properties or when accessing a lookup table."
   ]
  },
  {
   "cell_type": "code",
   "execution_count": 58,
   "metadata": {},
   "outputs": [
    {
     "name": "stdout",
     "output_type": "stream",
     "text": [
      "Doberman\n"
     ]
    }
   ],
   "source": [
    "const dogs= {\n",
    "\n",
    "    Fido: \"Mutt\", \n",
    "    Hunter: \"Doberman\", \n",
    "    Snoopie: \"Beagle\"\n",
    "}; \n",
    "\n",
    "const myDog = \"Hunter\"; \n",
    "const myBreed = dogs[myDog];  // myBreed = dogs[Hunter] \n",
    "\n",
    "console.log(myBreed);"
   ]
  },
  {
   "cell_type": "markdown",
   "metadata": {},
   "source": [
    ":: __`Updating Object Properties`__ ::\n",
    "\n",
    "After you've created a JavaScript object, you can update its properties at any time just like you would update any other variable. You can use either dot or bracket notation to update."
   ]
  },
  {
   "cell_type": "code",
   "execution_count": 68,
   "metadata": {},
   "outputs": [
    {
     "name": "stdout",
     "output_type": "stream",
     "text": [
      "Camper\n",
      "Happy Coder\n"
     ]
    }
   ],
   "source": [
    "const myDog = {\n",
    "\n",
    "    name: \"Coder\", \n",
    "    legs: 4,\n",
    "    tails: 1,\n",
    "    friends: [\"freeCodeCamp Campers\"]\n",
    "}; \n",
    "\n",
    "console.log(myDog.name=\"Camper\"); \n",
    "console.log(myDog[\"name\"]= \"Happy Coder\"); "
   ]
  },
  {
   "cell_type": "markdown",
   "metadata": {},
   "source": [
    ":: __`Add New Properties to a JavaScript Object`__ ::\n",
    "\n",
    "You can add new properties to existing JavaScript objects the same way you would modify them. Here's how we would add a bark property to ourDog:"
   ]
  },
  {
   "cell_type": "code",
   "execution_count": 71,
   "metadata": {},
   "outputs": [
    {
     "name": "stdout",
     "output_type": "stream",
     "text": [
      "{\n",
      "  name: 'Coder',\n",
      "  legs: 4,\n",
      "  tails: 1,\n",
      "  friends: [ 'freeCodeCamp Campers' ],\n",
      "  bark: 'bow-wow'\n",
      "}\n"
     ]
    }
   ],
   "source": [
    "const ourDog = {\n",
    "\n",
    "    name: \"Coder\", \n",
    "    legs: 4,\n",
    "    tails: 1,\n",
    "    friends: [\"freeCodeCamp Campers\"]\n",
    "}; \n",
    "\n",
    "ourDog.bark = \"bow-wow\"; \n",
    "\n",
    "console.log(ourDog);"
   ]
  },
  {
   "cell_type": "markdown",
   "metadata": {},
   "source": [
    ":: __`Delete Properties from a JavaScript Object`__ ::"
   ]
  },
  {
   "cell_type": "code",
   "execution_count": 72,
   "metadata": {},
   "outputs": [
    {
     "name": "stdout",
     "output_type": "stream",
     "text": [
      "{\n",
      "  name: 'Coder',\n",
      "  legs: 4,\n",
      "  tails: 1,\n",
      "  friends: [ 'freeCodeCamp Campers' ]\n",
      "}\n"
     ]
    }
   ],
   "source": [
    "const ourDog = {\n",
    "\n",
    "    name: \"Coder\", \n",
    "    legs: 4,\n",
    "    tails: 1,\n",
    "    friends: [\"freeCodeCamp Campers\"], \n",
    "    bark: \"bow-wow\"\n",
    "}; \n",
    "\n",
    "delete ourDog.bark\n",
    "\n",
    "console.log(ourDog);"
   ]
  },
  {
   "cell_type": "markdown",
   "metadata": {},
   "source": [
    ":: __`Using Objects for Lookups`__ ::\n",
    "\n",
    "Objects can be thought of as a key/value storage, like a dictionary. If you have tabular data, you can use an object to lookup values rather than a switch statement or an if/else chain. This is most useful when you know that your input data is limited to a certain range."
   ]
  },
  {
   "cell_type": "code",
   "execution_count": 74,
   "metadata": {},
   "outputs": [
    {
     "name": "stdout",
     "output_type": "stream",
     "text": [
      "How to Create Objects in Javascript\n"
     ]
    }
   ],
   "source": [
    "const article = {\n",
    "\n",
    "    title: \"How to Create Objects in Javascript\", \n",
    "    link: \"https://freecodecamp.org/news/a-complete-guide-to-creating\",\n",
    "    author: \"Kaashan Hussain\", \n",
    "    language: \"Javascript\",\n",
    "    tags: \"Technology\", \n",
    "    createdAt: \"November 28, 2018\"\n",
    "}; \n",
    "\n",
    "const articleAuthor = article[\"author\"]; \n",
    "const value = \"title\"; \n",
    "const valueLookup = article[value];\n",
    "\n",
    "console.log(valueLookup);\n"
   ]
  },
  {
   "cell_type": "markdown",
   "metadata": {},
   "source": [
    ":: __`Testing Objects for Properties`__ ::\n",
    "\n",
    "Sometimes it is useful to check if the property of a given object exists or not. We can use the `.hasOwnProperty(propname)` method of objects to determine if that object has the given property name. `.has0wnProperty()` returns true or false if the property is found or not."
   ]
  },
  {
   "cell_type": "code",
   "execution_count": 76,
   "metadata": {},
   "outputs": [
    {
     "name": "stdout",
     "output_type": "stream",
     "text": [
      "true\n"
     ]
    }
   ],
   "source": [
    "const myObj = {\n",
    "\n",
    "    top: \"hat\",\n",
    "    botoom: \"pants\"\n",
    "}; \n",
    "\n",
    "myObj.hasOwnProperty(\"top\");"
   ]
  },
  {
   "cell_type": "code",
   "execution_count": 77,
   "metadata": {},
   "outputs": [
    {
     "name": "stdout",
     "output_type": "stream",
     "text": [
      "false\n"
     ]
    }
   ],
   "source": [
    "const myObj = {\n",
    "\n",
    "    top: \"hat\",\n",
    "    botoom: \"pants\"\n",
    "}; \n",
    "\n",
    "myObj.hasOwnProperty(\"middle\");"
   ]
  },
  {
   "cell_type": "markdown",
   "metadata": {},
   "source": [
    "❖ The Following Example Is to Test if an Object Passed to the Function (Obj) Contains a Specific Property (checkProp). If the Property Is Found, Return that Property's Value. If Not, Return \"Not Found\"."
   ]
  },
  {
   "cell_type": "code",
   "execution_count": 78,
   "metadata": {},
   "outputs": [],
   "source": [
    "function checkObj(obj, checkProp) {\n",
    "\n",
    "    if(obj.hasOwnProperty(checkProp)) {\n",
    "\n",
    "        return obj[checkProp]; \n",
    "    }\n",
    "\n",
    "    return \"Not Found\"; \n",
    "}"
   ]
  },
  {
   "cell_type": "code",
   "execution_count": 79,
   "metadata": {},
   "outputs": [
    {
     "name": "stdout",
     "output_type": "stream",
     "text": [
      "10\n",
      "Not Found\n",
      "2\n"
     ]
    }
   ],
   "source": [
    "function checkObj(obj, checkProp) {\n",
    "    if (obj.hasOwnProperty(checkProp)) {\n",
    "        return obj[checkProp];\n",
    "    }\n",
    "\n",
    "    return \"Not Found\";\n",
    "}\n",
    "\n",
    "var products = [\n",
    "    { name: \"Product A\", price: 10 },\n",
    "    { name: \"Product B\", quantity: 5 },\n",
    "    { name: \"Product C\", price: 15, quantity: 2 }\n",
    "];\n",
    "\n",
    "console.log(checkObj(products[0], \"price\")); // Output: 10\n",
    "console.log(checkObj(products[1], \"price\")); // Output: Not Found\n",
    "console.log(checkObj(products[2], \"quantity\")); // Output: 2\n"
   ]
  },
  {
   "cell_type": "markdown",
   "metadata": {},
   "source": [
    "We Can Also Shorten the if Condition Like So: "
   ]
  },
  {
   "cell_type": "code",
   "execution_count": 80,
   "metadata": {},
   "outputs": [
    {
     "name": "stdout",
     "output_type": "stream",
     "text": [
      "10\n",
      "Not Found\n",
      "2\n"
     ]
    }
   ],
   "source": [
    "function checkObj(obj, checkProp) {\n",
    "    if (obj[checkProp]) {   \n",
    "        return obj[checkProp];\n",
    "    }\n",
    "\n",
    "    return \"Not Found\";\n",
    "}\n",
    "\n",
    "var products = [\n",
    "    { name: \"Product A\", price: 10 },\n",
    "    { name: \"Product B\", quantity: 5 },\n",
    "    { name: \"Product C\", price: 15, quantity: 2 }\n",
    "];\n",
    "\n",
    "console.log(checkObj(products[0], \"price\")); // Output: 10\n",
    "console.log(checkObj(products[1], \"price\")); // Output: Not Found\n",
    "console.log(checkObj(products[2], \"quantity\")); // Output: 2\n"
   ]
  },
  {
   "cell_type": "markdown",
   "metadata": {},
   "source": [
    ":: __`Manipulating Complex Objects`__ ::\n",
    "\n",
    "Sometimes you may want to store data in a flexible Data Structure. A JavaScript object is one way to handle flexible data. They allow for arbitrary combinations of strings, numbers, booleans, arrays, functions, and objects."
   ]
  },
  {
   "cell_type": "code",
   "execution_count": null,
   "metadata": {},
   "outputs": [],
   "source": [
    "const myMusic = [\n",
    "\n",
    "    {\n",
    "        artist: \"Billy Joel\", \n",
    "        title: \"Piano Man\", \n",
    "        release_year: 1973, \n",
    "\n",
    "        formats: [\n",
    "\n",
    "            \"cd\",\n",
    "            \"8T\", \n",
    "            \"LP\"\n",
    "        ],\n",
    "\n",
    "        gold: true\n",
    "    }\n",
    "];"
   ]
  },
  {
   "cell_type": "markdown",
   "metadata": {},
   "source": [
    "Let's Add a New Album to myMusic Array"
   ]
  },
  {
   "cell_type": "code",
   "execution_count": 83,
   "metadata": {},
   "outputs": [
    {
     "name": "stdout",
     "output_type": "stream",
     "text": [
      "[\n",
      "  {\n",
      "    artist: 'Billy Joel',\n",
      "    title: 'Piano Man',\n",
      "    release_year: 1973,\n",
      "    formats: [ 'cd', '8T', 'LP' ],\n",
      "    gold: true\n",
      "  },\n",
      "  {\n",
      "    artist: 'James Morgan',\n",
      "    title: 'Guitar Man',\n",
      "    release_year: 1973,\n",
      "    formats: [ 'cd', '8T', 'LP' ]\n",
      "  }\n",
      "]\n"
     ]
    }
   ],
   "source": [
    "const myMusic = [\n",
    "\n",
    "    {\n",
    "        artist: \"Billy Joel\", \n",
    "        title: \"Piano Man\", \n",
    "        release_year: 1973, \n",
    "\n",
    "        formats: [\n",
    "\n",
    "            \"cd\",\n",
    "            \"8T\", \n",
    "            \"LP\"\n",
    "        ],\n",
    "\n",
    "        gold: true\n",
    "    }, \n",
    "\n",
    "    {\n",
    "\n",
    "        artist: \"James Morgan\", \n",
    "        title: \"Guitar Man\", \n",
    "        release_year: 1973, \n",
    "\n",
    "        formats: [\n",
    "\n",
    "            \"cd\",\n",
    "            \"8T\", \n",
    "            \"LP\"\n",
    "        ],\n",
    "\n",
    "    }\n",
    "];\n",
    "\n",
    "console.log(myMusic)"
   ]
  },
  {
   "cell_type": "code",
   "execution_count": 84,
   "metadata": {},
   "outputs": [
    {
     "name": "stdout",
     "output_type": "stream",
     "text": [
      "{\n",
      "  artist: 'Billy Joel',\n",
      "  title: 'Piano Man',\n",
      "  release_year: 1973,\n",
      "  formats: [ 'cd', '8T', 'LP' ],\n",
      "  gold: true\n",
      "}\n"
     ]
    }
   ],
   "source": [
    "const myMusic = [\n",
    "\n",
    "    {\n",
    "        artist: \"Billy Joel\", \n",
    "        title: \"Piano Man\", \n",
    "        release_year: 1973, \n",
    "\n",
    "        formats: [\n",
    "\n",
    "            \"cd\",\n",
    "            \"8T\", \n",
    "            \"LP\"\n",
    "        ],\n",
    "\n",
    "        gold: true\n",
    "    }, \n",
    "\n",
    "    {\n",
    "\n",
    "        artist: \"James Morgan\", \n",
    "        title: \"Guitar Man\", \n",
    "        release_year: 1973, \n",
    "\n",
    "        formats: [\n",
    "\n",
    "            \"cd\",\n",
    "            \"8T\", \n",
    "            \"LP\"\n",
    "        ],\n",
    "\n",
    "    }\n",
    "];\n",
    "\n",
    "console.log(myMusic[0])"
   ]
  },
  {
   "cell_type": "code",
   "execution_count": 88,
   "metadata": {},
   "outputs": [
    {
     "name": "stdout",
     "output_type": "stream",
     "text": [
      "Piano Man\n",
      "Piano Man\n",
      "Billy Joel\n"
     ]
    }
   ],
   "source": [
    "const myMusic = [\n",
    "\n",
    "    {\n",
    "        artist: \"Billy Joel\", \n",
    "        title: \"Piano Man\", \n",
    "        release_year: 1973, \n",
    "\n",
    "        formats: [\n",
    "\n",
    "            \"cd\",\n",
    "            \"8T\", \n",
    "            \"LP\"\n",
    "        ],\n",
    "\n",
    "        gold: true\n",
    "    }, \n",
    "\n",
    "    {\n",
    "\n",
    "        artist: \"James Morgan\", \n",
    "        title: \"Guitar Man\", \n",
    "        release_year: 1973, \n",
    "\n",
    "        formats: [\n",
    "\n",
    "            \"cd\",\n",
    "            \"8T\", \n",
    "            \"LP\"\n",
    "        ],\n",
    "\n",
    "    }\n",
    "];\n",
    "\n",
    "console.log(myMusic[0].title)\n",
    "console.log(myMusic[0][\"title\"])\n",
    "console.log(myMusic[0][\"artist\"])"
   ]
  },
  {
   "cell_type": "code",
   "execution_count": 89,
   "metadata": {},
   "outputs": [
    {
     "name": "stdout",
     "output_type": "stream",
     "text": [
      "maps\n"
     ]
    }
   ],
   "source": [
    "const myStorage = {\n",
    "\n",
    "    car: {\n",
    "\n",
    "        inside: {\n",
    "\n",
    "            \"glove box\": \"maps\", \n",
    "            \"passenger seat\": \"crumbs\"\n",
    "        }, \n",
    "\n",
    "        outside: {\n",
    "\n",
    "            \"trunk\": \"jack\"\n",
    "        }\n",
    "    }\n",
    "};\n",
    "\n",
    "const gloveBoxcontents = myStorage.car.inside[\"glove box\"]; \n",
    "\n",
    "console.log(gloveBoxcontents);"
   ]
  },
  {
   "cell_type": "markdown",
   "metadata": {},
   "source": [
    ":: __`Practical Example (Record Collection)`__ ::\n",
    "\n",
    "Each album is represented in the collection with a unique id as the property name. Within each album object, there are various properties describing information about the album. Not all albums have complete information.\n",
    "\n",
    "The updateRecords function takes 4 arguments represented by the following function parameters:\n",
    "\n",
    "`records` - an object containing several individual albums\n",
    "\n",
    "`id` - a number representing a specific album in the records object\n",
    "\n",
    "`prop` - a string representing the name of the album’s property to update\n",
    "\n",
    "`value` - a string containing the information used to update the album’s property\n",
    "\n",
    "`Complete` the function using the rules below to modify the object passed to the function.\n",
    "\n",
    "\n",
    "❖ Your function must always return the entire records object.\n",
    "\n",
    "↪ If value is an empty string, delete the given prop property from the album.\n",
    "\n",
    "↪ If prop isn't tracks and value isn't an empty string, assign the value to that album's prop.\n",
    "\n",
    "↪ If prop is tracks and value isn't an empty string, you need to update the album's tracks array. First, if the album does not have a tracks \n",
    "property, assign it an empty array. Then add the value as the last item in the album's tracks array.\n",
    "\n",
    "`Note`: A copy of the recordCollection object is used for the tests. You should not directly modify the recordCollection object."
   ]
  },
  {
   "cell_type": "code",
   "execution_count": null,
   "metadata": {},
   "outputs": [],
   "source": [
    "// The Example Before Solution\n",
    "// Setup\n",
    "const recordCollection = {\n",
    "    2548: {\n",
    "      albumTitle: 'Slippery When Wet',\n",
    "      artist: 'Bon Jovi',\n",
    "      tracks: ['Let It Rock', 'You Give Love a Bad Name']\n",
    "    },\n",
    "    2468: {\n",
    "      albumTitle: '1999',\n",
    "      artist: 'Prince',\n",
    "      tracks: ['1999', 'Little Red Corvette']\n",
    "    },\n",
    "    1245: {\n",
    "      artist: 'Robert Palmer',\n",
    "      tracks: []\n",
    "    },\n",
    "    5439: {\n",
    "      albumTitle: 'ABBA Gold'\n",
    "    }\n",
    "  };\n",
    "  \n",
    "  // Only change code below this line\n",
    "  function updateRecords(records, id, prop, value) {\n",
    "    return records;\n",
    "  }\n",
    "  \n",
    "  updateRecords(recordCollection, 5439, 'artist', 'ABBA');"
   ]
  },
  {
   "cell_type": "code",
   "execution_count": 90,
   "metadata": {},
   "outputs": [
    {
     "name": "stdout",
     "output_type": "stream",
     "text": [
      "{\n",
      "  '1245': { artist: 'Robert Palmer', tracks: [] },\n",
      "  '2468': {\n",
      "    albumTitle: '1999',\n",
      "    artist: 'Prince',\n",
      "    tracks: [ '1999', 'Little Red Corvette' ]\n",
      "  },\n",
      "  '2548': {\n",
      "    albumTitle: 'Slippery When Wet',\n",
      "    artist: 'Bon Jovi',\n",
      "    tracks: [ 'Let It Rock', 'You Give Love a Bad Name' ]\n",
      "  },\n",
      "  '5439': { albumTitle: 'ABBA Gold', artist: 'ABBA' }\n",
      "}\n"
     ]
    }
   ],
   "source": [
    "// The Example After Solution\n",
    "// Setup\n",
    "const recordCollection = {\n",
    "    2548: {\n",
    "      albumTitle: 'Slippery When Wet',\n",
    "      artist: 'Bon Jovi',\n",
    "      tracks: ['Let It Rock', 'You Give Love a Bad Name']\n",
    "    },\n",
    "    2468: {\n",
    "      albumTitle: '1999',\n",
    "      artist: 'Prince',\n",
    "      tracks: ['1999', 'Little Red Corvette']\n",
    "    },\n",
    "    1245: {\n",
    "      artist: 'Robert Palmer',\n",
    "      tracks: []\n",
    "    },\n",
    "    5439: {\n",
    "      albumTitle: 'ABBA Gold'\n",
    "    }\n",
    "  };\n",
    "  \n",
    "  // Only change code below this line\n",
    "  function updateRecords(records, id, prop, value) {\n",
    "    if (value === \"\") {\n",
    "      delete records[id][prop]\n",
    "    } else if (prop !== \"tracks\" && value !== \"\") {\n",
    "      records[id][prop] = value\n",
    "    } else if (prop === \"tracks\" && value !== \"\" && records[id].hasOwnProperty(\"tracks\")) {\n",
    "      records[id][prop].push(value)\n",
    "    } else if (prop === \"tracks\" && value !== \"\" && !records[id].hasOwnProperty(\"tracks\")) {   //the !records ! = not\n",
    "      records[id][prop] = [value]\n",
    "    }\n",
    "    return records;\n",
    "  }\n",
    "  \n",
    "  updateRecords(recordCollection, 5439, 'artist', 'ABBA');"
   ]
  },
  {
   "cell_type": "markdown",
   "metadata": {},
   "source": [
    "Now Let's Break Down the Code "
   ]
  },
  {
   "cell_type": "code",
   "execution_count": 1,
   "metadata": {},
   "outputs": [
    {
     "name": "stdout",
     "output_type": "stream",
     "text": [
      "{ '2548': { albumTitle: 'Slippery When Wet', artist: 'Bon Jovi' } }\n"
     ]
    }
   ],
   "source": [
    "// Testing First if Condition\n",
    "// Setup\n",
    "const recordCollection = {\n",
    "    2548: {\n",
    "      albumTitle: 'Slippery When Wet',\n",
    "      artist: 'Bon Jovi',\n",
    "      tracks: ['Let It Rock', 'You Give Love a Bad Name']\n",
    "    }\n",
    "  };\n",
    "  \n",
    "  // Only change code below this line\n",
    "  function updateRecords(records, id, prop, value) {\n",
    "    if (value === \"\") {\n",
    "      delete records[id][prop]\n",
    "    }\n",
    "    return records;\n",
    "  }\n",
    "  \n",
    "  updateRecords(recordCollection, 2548, 'tracks', '');  "
   ]
  },
  {
   "cell_type": "code",
   "execution_count": 2,
   "metadata": {},
   "outputs": [
    {
     "name": "stdout",
     "output_type": "stream",
     "text": [
      "{\n",
      "  '2548': {\n",
      "    albumTitle: 'Slippery When Wet',\n",
      "    artist: 'John Doe',\n",
      "    tracks: [ 'Let It Rock', 'You Give Love a Bad Name' ]\n",
      "  }\n",
      "}\n"
     ]
    }
   ],
   "source": [
    "// Testing Second if Condition\n",
    "// Setup\n",
    "const recordCollection = {\n",
    "    2548: {\n",
    "      albumTitle: 'Slippery When Wet',\n",
    "      artist: 'Bon Jovi',\n",
    "      tracks: ['Let It Rock', 'You Give Love a Bad Name']\n",
    "    }\n",
    "  };\n",
    "  \n",
    "  // Only change code below this line\n",
    "  function updateRecords(records, id, prop, value) {\n",
    "    if (value === \"\") {\n",
    "      delete records[id][prop]\n",
    "    } else if (prop !== \"tracks\" && value !== \"\") {\n",
    "      records[id][prop] = value\n",
    "    }\n",
    "    return records;\n",
    "  }\n",
    "  \n",
    "  updateRecords(recordCollection, 2548, 'artist', 'John Doe'); "
   ]
  },
  {
   "cell_type": "code",
   "execution_count": 4,
   "metadata": {},
   "outputs": [
    {
     "name": "stdout",
     "output_type": "stream",
     "text": [
      "{\n",
      "  '1245': { artist: 'Robert Palmer', tracks: [ 'ABBA' ] },\n",
      "  '5439': { albumTitle: 'ABBA Gold' }\n",
      "}\n"
     ]
    }
   ],
   "source": [
    "// Testing Third if Condition\n",
    "// Setup\n",
    "const recordCollection = {\n",
    "    1245: {\n",
    "      artist: 'Robert Palmer',\n",
    "      tracks: []\n",
    "    },\n",
    "    5439: {\n",
    "      albumTitle: 'ABBA Gold'\n",
    "    }\n",
    "  };\n",
    "  \n",
    "  // Only change code below this line\n",
    "  function updateRecords(records, id, prop, value) {\n",
    "    if (value === \"\") {\n",
    "      delete records[id][prop]\n",
    "    } else if (prop === \"tracks\" && value !== \"\" && records[id].hasOwnProperty(\"tracks\")) {\n",
    "      records[id][prop].push(value)\n",
    "    }\n",
    "    return records;\n",
    "  }\n",
    "  \n",
    "  updateRecords(recordCollection, 1245, 'tracks', 'ABBA');"
   ]
  },
  {
   "cell_type": "code",
   "execution_count": 5,
   "metadata": {},
   "outputs": [
    {
     "name": "stdout",
     "output_type": "stream",
     "text": [
      "{\n",
      "  '1245': { artist: 'Robert Palmer', tracks: [] },\n",
      "  '5439': { albumTitle: 'ABBA Gold', tracks: [ 'ABBA' ] }\n",
      "}\n"
     ]
    }
   ],
   "source": [
    "// Testing Fourth if Condition\n",
    "// Setup\n",
    "const recordCollection = {\n",
    "    1245: {\n",
    "      artist: 'Robert Palmer',\n",
    "      tracks: []\n",
    "    },\n",
    "    5439: {\n",
    "      albumTitle: 'ABBA Gold'\n",
    "    }\n",
    "  };\n",
    "  \n",
    "  // Only change code below this line\n",
    "  function updateRecords(records, id, prop, value) {\n",
    "    if (value === \"\") {\n",
    "      delete records[id][prop]\n",
    "    } else if (prop === \"tracks\" && value !== \"\" && !records[id].hasOwnProperty(\"tracks\")) {   //the !records ! = not\n",
    "      records[id][prop] = [value]\n",
    "    }\n",
    "    return records;\n",
    "  }\n",
    "  \n",
    "  updateRecords(recordCollection, 5439, 'tracks', 'ABBA');"
   ]
  },
  {
   "cell_type": "markdown",
   "metadata": {},
   "source": [
    "In the Fourth if Condition There's No Tracks Property in 5439 so We Had to Check that It Doesn't Have the Tracks\n",
    "\n",
    "`records[id].hasOwnProperty(\"tracks\")` => This Would Return False Cuz the Property Tracks Doesn't Exist. \n",
    "\n",
    "⟶ In Other Words: Check if the Tracks Exist?\n",
    "\n",
    "Now Adding The `not` Operator to reverse the false to true\n",
    "\n",
    "`!records[id].hasOwnProperty(\"tracks\")` => Checks whether the `tracks` property does not exist in the `records[id]` object.\n",
    "\n",
    "⟶ In Other Words: Check if the Tracks Doesn't Exist?\n"
   ]
  },
  {
   "cell_type": "code",
   "execution_count": 12,
   "metadata": {},
   "outputs": [
    {
     "name": "stdout",
     "output_type": "stream",
     "text": [
      "false\n",
      "true\n"
     ]
    }
   ],
   "source": [
    "// Testing Fourth if Condition\n",
    "// Setup\n",
    "const recordCollection = {\n",
    "    1245: {\n",
    "      artist: 'Robert Palmer',\n",
    "      tracks: []\n",
    "    },\n",
    "    5439: {\n",
    "      albumTitle: 'ABBA Gold'\n",
    "    }\n",
    "  };\n",
    "  \n",
    "  // Only change code below this line\n",
    "  function updateRecords(records, id, prop, value) {\n",
    "    if (value === \"\") {\n",
    "      delete records[id][prop]\n",
    "    } else if (prop === \"tracks\" && value !== \"\" && !records[id].hasOwnProperty(\"tracks\")) {   //the !records ! = not\n",
    "      records[id][prop] = [value]\n",
    "    }\n",
    "    return records;\n",
    "  }\n",
    "  \n",
    "console.log(recordCollection[5439].hasOwnProperty(\"tracks\"));\n",
    "console.log(!recordCollection[5439].hasOwnProperty(\"tracks\"));"
   ]
  },
  {
   "cell_type": "markdown",
   "metadata": {},
   "source": [
    "Now We Explained All the if Conditions We Wrote in Our Code, and Now What if I Want to Add More than a Track in One of the Records in the Same Way Like This: \n",
    "\n",
    "> ['Let It Rock', 'You Give Love a Bad Name']\n",
    "\n",
    "Where Each Track Is Separated by a Comma. `How Can I Add Two Values to the Tracks when I Call the Function ??`\n",
    "\n",
    "⟶ if We Used Double or Single Quotes This Will Put the Two Values in One Single String and Add that String in the Array Which Is Not What We Want Cuz the Two Values Will Be Read and Treated as One, You Will Also Notice It in the Syntax Highlighting. So How Can We Fix That? "
   ]
  },
  {
   "cell_type": "code",
   "execution_count": 13,
   "metadata": {},
   "outputs": [
    {
     "name": "stdout",
     "output_type": "stream",
     "text": [
      "{\n",
      "  '1245': { artist: 'Robert Palmer', tracks: [ '1999, Red Rose' ] },\n",
      "  '5439': { albumTitle: 'ABBA Gold' }\n",
      "}\n"
     ]
    }
   ],
   "source": [
    "// Testing Third if Condition\n",
    "// Setup\n",
    "const recordCollection = {\n",
    "    1245: {\n",
    "      artist: 'Robert Palmer',\n",
    "      tracks: []\n",
    "    },\n",
    "    5439: {\n",
    "      albumTitle: 'ABBA Gold'\n",
    "    }\n",
    "  };\n",
    "  \n",
    "  // Only change code below this line\n",
    "  function updateRecords(records, id, prop, value) {\n",
    "    if (value === \"\") {\n",
    "      delete records[id][prop]\n",
    "    } else if (prop === \"tracks\" && value !== \"\" && records[id].hasOwnProperty(\"tracks\")) {\n",
    "      records[id][prop].push(value)\n",
    "    }\n",
    "    return records;\n",
    "  }\n",
    "  \n",
    "  updateRecords(recordCollection, 1245, 'tracks', '1999, Red Rose');"
   ]
  },
  {
   "cell_type": "markdown",
   "metadata": {},
   "source": [
    "__We Can Achieve This Using More that One Way__"
   ]
  },
  {
   "cell_type": "markdown",
   "metadata": {},
   "source": [
    "`Using the Spread Operator in the Function Itself`"
   ]
  },
  {
   "cell_type": "code",
   "execution_count": 14,
   "metadata": {},
   "outputs": [
    {
     "name": "stdout",
     "output_type": "stream",
     "text": [
      "{\n",
      "  '1245': { artist: 'Robert Palmer', tracks: [ '1999', 'Red Rose' ] },\n",
      "  '5439': { albumTitle: 'ABBA Gold' }\n",
      "}\n"
     ]
    }
   ],
   "source": [
    "// Using if Condition Inside the Else if Condition to Check if the Passed Property Is an Array \n",
    "// Then Use the Spread Operator to Add that Array to the Tracks Array in the Records\n",
    "// Setup\n",
    "const recordCollection = {\n",
    "    1245: {\n",
    "      artist: 'Robert Palmer',\n",
    "      tracks: []\n",
    "    },\n",
    "    5439: {\n",
    "      albumTitle: 'ABBA Gold'\n",
    "    }\n",
    "  };\n",
    "  \n",
    "  // Only change code below this line\n",
    "  function updateRecords(records, id, prop, value) {\n",
    "    if (value === \"\") {\n",
    "      delete records[id][prop];\n",
    "    } else if (prop !== \"tracks\" && value !== \"\") {\n",
    "      records[id][prop] = value;\n",
    "    } else if (prop === \"tracks\" && value !== \"\") {\n",
    "      if (records[id].hasOwnProperty(\"tracks\")) {\n",
    "        records[id][prop] = [...records[id][prop], ...value];\n",
    "      } else {\n",
    "        records[id][prop] = value;\n",
    "      }\n",
    "    }\n",
    "    return records;\n",
    "  }\n",
    "  \n",
    "  updateRecords(recordCollection, 1245, 'tracks', ['1999', 'Red Rose']);"
   ]
  },
  {
   "cell_type": "markdown",
   "metadata": {},
   "source": [
    "`Using Concat Method`"
   ]
  },
  {
   "cell_type": "code",
   "execution_count": 17,
   "metadata": {},
   "outputs": [
    {
     "name": "stdout",
     "output_type": "stream",
     "text": [
      "{\n",
      "  '1245': { artist: 'Robert Palmer', tracks: [ '1999', 'Red Rose' ] },\n",
      "  '5439': { albumTitle: 'ABBA Gold' }\n",
      "}\n"
     ]
    }
   ],
   "source": [
    "// Using if Condition Inside the Else if Condition to Check if the Passed Property Is an Array \n",
    "// Then Use the Concat Method to Add that Array to the Tracks Array in the Records\n",
    "// Setup\n",
    "const recordCollection = {\n",
    "    1245: {\n",
    "      artist: 'Robert Palmer',\n",
    "      tracks: []\n",
    "    },\n",
    "    5439: {\n",
    "      albumTitle: 'ABBA Gold'\n",
    "    }\n",
    "  };\n",
    "  \n",
    "  // Only change code below this line\n",
    "  function updateRecords(records, id, prop, value) {\n",
    "    if (value === \"\") {\n",
    "      delete records[id][prop];\n",
    "    } else if (prop !== \"tracks\" && value !== \"\") {\n",
    "      records[id][prop] = value;\n",
    "    } else if (prop === \"tracks\" && value !== \"\") {\n",
    "      if (records[id].hasOwnProperty(\"tracks\")) {\n",
    "        records[id][prop] = records[id][prop].concat(value);\n",
    "      } else {\n",
    "        records[id][prop] = value;\n",
    "      }\n",
    "    }\n",
    "    return records;\n",
    "  }\n",
    "  \n",
    "  updateRecords(recordCollection, 1245, 'tracks', ['1999', 'Red Rose']);\n",
    "  "
   ]
  },
  {
   "cell_type": "markdown",
   "metadata": {},
   "source": [
    "❖ The `.concat()` method in JavaScript is used to combine two or more arrays into a new array. \n",
    "\n",
    "❖ It does not modify the original arrays, but instead returns a new array that contains the elements of the original arrays in the order they were concatenated.\n",
    "\n",
    "Here's a simple example:"
   ]
  },
  {
   "cell_type": "code",
   "execution_count": 23,
   "metadata": {},
   "outputs": [
    {
     "name": "stdout",
     "output_type": "stream",
     "text": [
      "[ 1, 2, 3, 4, 5, 6 ]\n"
     ]
    }
   ],
   "source": [
    "const array1 = [1, 2, 3];\n",
    "const array2 = [4, 5, 6];\n",
    "\n",
    "const combinedArray = array1.concat(array2);\n",
    "\n",
    "console.log(combinedArray); // Output: [1, 2, 3, 4, 5, 6]"
   ]
  },
  {
   "cell_type": "markdown",
   "metadata": {},
   "source": [
    "❖ In this example, the `.concat()` method is called on `array1` and passed `array2` as an argument. \n",
    "\n",
    "❖ The `combinedArray` variable will contain the elements of both `array1` and `array2`, resulting in `[1, 2, 3, 4, 5, 6]` being printed to the console. \n",
    "\n",
    "❖ `array1` and `array2` themselves are not modified by the `.concat()` method."
   ]
  },
  {
   "cell_type": "markdown",
   "metadata": {},
   "source": [
    "`Using Loop with Push Method`"
   ]
  },
  {
   "cell_type": "code",
   "execution_count": 19,
   "metadata": {},
   "outputs": [
    {
     "name": "stdout",
     "output_type": "stream",
     "text": [
      "{\n",
      "  '1245': { artist: 'Robert Palmer', tracks: [ '1999', 'Red Rose' ] },\n",
      "  '5439': { albumTitle: 'ABBA Gold' }\n",
      "}\n"
     ]
    }
   ],
   "source": [
    "// Using if Condition Inside the Else if Condition to Check if the Passed Property Is an Array \n",
    "// Using Loop and Push Method to Add Multiple Values Passed From the Array During Function Call\n",
    "// Setup\n",
    "const recordCollection = {\n",
    "    1245: {\n",
    "      artist: 'Robert Palmer',\n",
    "      tracks: []\n",
    "    },\n",
    "    5439: {\n",
    "      albumTitle: 'ABBA Gold'\n",
    "    }\n",
    "  };\n",
    "  \n",
    "  // Only change code below this line\n",
    "  function updateRecords(records, id, prop, value) {\n",
    "    if (value === \"\") {\n",
    "      delete records[id][prop];\n",
    "    } else if (prop !== \"tracks\" && value !== \"\") {\n",
    "      records[id][prop] = value;\n",
    "    } else if (prop === \"tracks\" && value !== \"\") {\n",
    "      if (records[id].hasOwnProperty(\"tracks\")) {\n",
    "        for (let item of value) {\n",
    "          records[id][prop].push(item);\n",
    "        }\n",
    "      } else {\n",
    "        records[id][prop] = value;\n",
    "      }\n",
    "    }\n",
    "    return records;\n",
    "  }\n",
    "  \n",
    "  updateRecords(recordCollection, 1245, 'tracks', ['1999', 'Red Rose']);\n",
    "  "
   ]
  },
  {
   "cell_type": "markdown",
   "metadata": {},
   "source": [
    "`Using Array.from() Method`"
   ]
  },
  {
   "cell_type": "code",
   "execution_count": 20,
   "metadata": {},
   "outputs": [
    {
     "name": "stdout",
     "output_type": "stream",
     "text": [
      "{\n",
      "  '1245': { artist: 'Robert Palmer', tracks: [ '1999', 'Red Rose' ] },\n",
      "  '5439': { albumTitle: 'ABBA Gold' }\n",
      "}\n"
     ]
    }
   ],
   "source": [
    "// Using if Condition Inside the Else if Condition to Check if the Passed Property Is an Array \n",
    "// Using Array.from()\n",
    "// Setup\n",
    "const recordCollection = {\n",
    "    1245: {\n",
    "      artist: 'Robert Palmer',\n",
    "      tracks: []\n",
    "    },\n",
    "    5439: {\n",
    "      albumTitle: 'ABBA Gold'\n",
    "    }\n",
    "  };\n",
    "  \n",
    "  // Only change code below this line\n",
    "  function updateRecords(records, id, prop, value) {\n",
    "    if (value === \"\") {\n",
    "      delete records[id][prop];\n",
    "    } else if (prop !== \"tracks\" && value !== \"\") {\n",
    "      records[id][prop] = value;\n",
    "    } else if (prop === \"tracks\" && value !== \"\") {\n",
    "      if (records[id].hasOwnProperty(\"tracks\")) {\n",
    "        records[id][prop] = Array.from(records[id][prop]).concat(value);\n",
    "      } else {\n",
    "        records[id][prop] = value;\n",
    "      }\n",
    "    }\n",
    "    return records;\n",
    "  }\n",
    "  \n",
    "  updateRecords(recordCollection, 1245, 'tracks', ['1999', 'Red Rose']);\n",
    "  \n",
    "  "
   ]
  },
  {
   "cell_type": "markdown",
   "metadata": {},
   "source": [
    "❖ In this approach, we use the `Array.from()` method to convert the existing `tracks` array into a new array, and then use `concat()` to combine it with the value array. \n",
    "\n",
    "❖ This way, we add multiple values to the `tracks` array without modifying the function or the function call.\n",
    "\n",
    "❖ Remember, the choice of approach depends on the specific requirements of your code and your personal preference."
   ]
  },
  {
   "cell_type": "markdown",
   "metadata": {},
   "source": [
    "The `Array.from()` method in JavaScript is used to create a new array from an iterable object, such as an array-like object or a string. It allows you to convert something that is not already an array into an actual array.\n",
    "\n",
    "__Here's a simple example:__"
   ]
  },
  {
   "cell_type": "code",
   "execution_count": null,
   "metadata": {},
   "outputs": [],
   "source": [
    "const string = 'Hello';\n",
    "const array = Array.from(string);\n",
    "\n",
    "console.log(array); // Output: ['H', 'e', 'l', 'l', 'o']"
   ]
  },
  {
   "cell_type": "markdown",
   "metadata": {},
   "source": [
    "❖ In this example, the `Array.from()` method is called with `string` as the argument. It converts each character of the string into an individual element in the resulting array. \n",
    "\n",
    "❖ The `array` variable will contain `['H', 'e', 'l', 'l', 'o']`, which is then printed to the console.\n",
    "\n",
    "❖ You can also pass an array-like object, such as the `arguments` object or a NodeList, to `Array.from()` to create a new array with the same elements."
   ]
  },
  {
   "cell_type": "code",
   "execution_count": null,
   "metadata": {},
   "outputs": [],
   "source": [
    "function sum() {\n",
    "  const numbers = Array.from(arguments);\n",
    "  return numbers.reduce((total, num) => total + num, 0);\n",
    "}\n",
    "\n",
    "console.log(sum(1, 2, 3, 4)); // Output: 10"
   ]
  },
  {
   "cell_type": "markdown",
   "metadata": {},
   "source": [
    "❖ In this example, the `Array.from()` method is used inside a function to convert the `arguments` object (which represents the arguments passed to the function) into an actual array. \n",
    "\n",
    "❖ The resulting `numbers` array can then be used for further operations, such as calculating the sum of its elements using `reduce()`."
   ]
  },
  {
   "cell_type": "markdown",
   "metadata": {},
   "source": [
    "`Using the push() method with the apply() method:`"
   ]
  },
  {
   "cell_type": "code",
   "execution_count": 21,
   "metadata": {},
   "outputs": [
    {
     "name": "stdout",
     "output_type": "stream",
     "text": [
      "{\n",
      "  '1245': { artist: 'Robert Palmer', tracks: [ '1999', 'Red Rose' ] },\n",
      "  '5439': { albumTitle: 'ABBA Gold' }\n",
      "}\n"
     ]
    }
   ],
   "source": [
    "// Using if Condition Inside the Else if Condition to Check if the Passed Property Is an Array \n",
    "// Using push() and apply()\n",
    "// Setup\n",
    "const recordCollection = {\n",
    "    1245: {\n",
    "      artist: 'Robert Palmer',\n",
    "      tracks: []\n",
    "    },\n",
    "    5439: {\n",
    "      albumTitle: 'ABBA Gold'\n",
    "    }\n",
    "  };\n",
    "  \n",
    "  // Only change code below this line\n",
    "  function updateRecords(records, id, prop, value) {\n",
    "    if (value === \"\") {\n",
    "      delete records[id][prop];\n",
    "    } else if (prop !== \"tracks\" && value !== \"\") {\n",
    "      records[id][prop] = value;\n",
    "    } else if (prop === \"tracks\" && value !== \"\") {\n",
    "      if (records[id].hasOwnProperty(\"tracks\")) {\n",
    "        Array.prototype.push.apply(records[id][prop], value);\n",
    "      } else {\n",
    "        records[id][prop] = value;\n",
    "      }\n",
    "    }\n",
    "    return records;\n",
    "  }\n",
    "  \n",
    "updateRecords(recordCollection, 1245, 'tracks', ['1999', 'Red Rose']);  "
   ]
  },
  {
   "cell_type": "markdown",
   "metadata": {},
   "source": [
    "❖ In this approach, We used `Array.prototype.push.apply()` to apply the `push()` method to the existing `tracks` array with the `value` array as the argument. \n",
    "\n",
    "❖ This allows the `value` array to be appended to the `tracks` array."
   ]
  },
  {
   "cell_type": "markdown",
   "metadata": {},
   "source": [
    "`Using split() and map() Method`"
   ]
  },
  {
   "cell_type": "code",
   "execution_count": 22,
   "metadata": {},
   "outputs": [
    {
     "name": "stdout",
     "output_type": "stream",
     "text": [
      "{\n",
      "  '1245': { artist: 'Robert Palmer', tracks: [ '1999', 'Red Rose' ] },\n",
      "  '5439': { albumTitle: 'ABBA Gold' }\n",
      "}\n"
     ]
    }
   ],
   "source": [
    "// Using if Condition Inside the Else if Condition to Check if the Passed Property Is an Array \n",
    "// Using split() and map()\n",
    "// Setup\n",
    "const recordCollection = {\n",
    "    1245: {\n",
    "      artist: 'Robert Palmer',\n",
    "      tracks: []\n",
    "    },\n",
    "    5439: {\n",
    "      albumTitle: 'ABBA Gold'\n",
    "    }\n",
    "  };\n",
    "  \n",
    "  // Only change code below this line\n",
    "  function updateRecords(records, id, prop, value) {\n",
    "    if (value === \"\") {\n",
    "      delete records[id][prop];\n",
    "    } else if (prop !== \"tracks\" && value !== \"\") {\n",
    "      records[id][prop] = value;\n",
    "    } else if (prop === \"tracks\" && value !== \"\") {\n",
    "      if (records[id].hasOwnProperty(\"tracks\")) {\n",
    "        records[id][prop] = records[id][prop].concat(value.split(',').map(item => item.trim()));\n",
    "      } else {\n",
    "        records[id][prop] = value.split(',').map(item => item.trim());\n",
    "      }\n",
    "    }\n",
    "    return records;\n",
    "  }\n",
    "  \n",
    "  updateRecords(recordCollection, 1245, 'tracks', '1999, Red Rose');  "
   ]
  },
  {
   "cell_type": "markdown",
   "metadata": {},
   "source": [
    "In this version, the `value` string is split using the `split()` method with the comma as the separator to create an array of values. \n",
    "\n",
    "Then, the `map()` method with the `trim()` function is used to remove any leading or trailing whitespace from each value in the resulting array. \n",
    "\n",
    "Finally, the array is either concatenated with the existing `tracks` array or assigned directly to the `tracks` property if it does not exist.\n"
   ]
  },
  {
   "cell_type": "markdown",
   "metadata": {},
   "source": [
    "`Array.prototype` is the prototype object for arrays in JavaScript. It provides a set of methods that are available on all array instances.\n",
    "\n",
    "Here's an example of using some common methods from `Array.prototype`:"
   ]
  },
  {
   "cell_type": "code",
   "execution_count": 24,
   "metadata": {},
   "outputs": [
    {
     "name": "stdout",
     "output_type": "stream",
     "text": [
      "[ 2, 4, 6, 8, 10 ]\n",
      "[ 3, 4, 5 ]\n",
      "15\n"
     ]
    }
   ],
   "source": [
    "const numbers = [1, 2, 3, 4, 5];\n",
    "const doubledNumbers = numbers.map(num => num * 2);\n",
    "const filteredNumbers = numbers.filter(num => num > 2);\n",
    "const sumOfNumbers = numbers.reduce((sum, num) => sum + num, 0);\n",
    "\n",
    "console.log(doubledNumbers); // Output: [2, 4, 6, 8, 10]\n",
    "console.log(filteredNumbers); // Output: [3, 4, 5]\n",
    "console.log(sumOfNumbers); // Output: 15"
   ]
  },
  {
   "cell_type": "markdown",
   "metadata": {},
   "source": [
    "In this example, `Array.prototype.map()`, `Array.prototype.filter()`, and `Array.prototype.reduce()` are used to perform common array operations.\n",
    "\n",
    "❖ `map()` creates a new array by executing the provided function for each element in the original array.\n",
    "\n",
    "❖ `filter()` creates a new array containing only the elements that pass the provided test function.\n",
    "\n",
    "❖ `reduce()` reduces an array to a single value by executing the provided reducer function for each element.\n",
    "\n",
    "\n",
    "As `Array.prototype` is the prototype object, its methods are available on any array instance you create. You can directly call these methods on an array, like in the example above."
   ]
  },
  {
   "cell_type": "markdown",
   "metadata": {},
   "source": [
    "⟶ We Used Lambda Functions in the Previous Example so Let's Talk About It\n",
    "\n",
    ":: __`Lambda Functions`__ ::\n",
    "\n",
    "❖ Lambda functions are small, anonymous functions that do not have a name and can be created on-the-fly within a programming language. They are commonly used for short and simple tasks without the need for defining a separate function.\n",
    "\n",
    "❖ Arrow Functions Like the One We Used in the Previous Example Is a Shorthand Way of Defining a Function in JavaScript\n",
    "\n",
    "__Simple Example__"
   ]
  },
  {
   "cell_type": "code",
   "execution_count": null,
   "metadata": {},
   "outputs": [],
   "source": [
    "// lAmbda Funciton Can't Be Called\n",
    "// Does the Job on the Fly \n",
    "// Takes X Number and Add One \n",
    "(x) => x + 1"
   ]
  },
  {
   "cell_type": "code",
   "execution_count": 26,
   "metadata": {},
   "outputs": [
    {
     "name": "stdout",
     "output_type": "stream",
     "text": [
      "5\n"
     ]
    }
   ],
   "source": [
    "// The Same Function but Normal Function\n",
    "function addOne(x){\n",
    "    return x + 1;\n",
    "  }\n",
    "\n",
    "addOne(4)"
   ]
  },
  {
   "cell_type": "code",
   "execution_count": null,
   "metadata": {},
   "outputs": [],
   "source": [
    "// Passing Lambda to Another Function:\n",
    "[1, 2, 3].map(x => x + 1) // [2, 3, 4]"
   ]
  },
  {
   "cell_type": "markdown",
   "metadata": {},
   "source": [
    "Now Let's Talk About Callback Functions\n",
    "\n",
    ":: __`Callback Functions`__ ::\n",
    "\n",
    "A callback function is a function that is passed as an argument to another function, to be \"called back\" later when some event happens or some task finishes."
   ]
  },
  {
   "cell_type": "code",
   "execution_count": null,
   "metadata": {},
   "outputs": [],
   "source": [
    "// Callback 1\n",
    "function displayDone() {\n",
    "    console.log('Hello') \n",
    "  }\n",
    "  \n",
    "  // Callback 2  \n",
    "  setTimeout(() => console.log('World!'), 5000);\n",
    "  \n",
    "  setTimeout(displayDone, 1000);"
   ]
  },
  {
   "cell_type": "markdown",
   "metadata": {},
   "source": [
    "Here:\n",
    "\n",
    "❖  the `setTimeout` function allows you to run some code after a delay.\n",
    "\n",
    "❖ `displayDone` will log \"Hello\" after 1 second\n",
    "\n",
    "❖ The arrow function callback will log \"World!\" after 10 seconds\n",
    "\n",
    "❖ Even though the arrow function is defined second in the code, its timer is longer so it will execute later.\n",
    "\n"
   ]
  },
  {
   "cell_type": "markdown",
   "metadata": {},
   "source": [
    ":: __`The Difference Between Recursion and Callbacks`__ ::\n",
    "\n",
    "Recursion and callbacks are two fundamental programming concepts in JavaScript that are good to understand."
   ]
  },
  {
   "cell_type": "code",
   "execution_count": 29,
   "metadata": {},
   "outputs": [
    {
     "name": "stdout",
     "output_type": "stream",
     "text": [
      "3\n",
      "2\n",
      "1\n",
      "Done!\n"
     ]
    }
   ],
   "source": [
    "// Recursion\n",
    "function countDown(num) {\n",
    "    if (num <= 0) {\n",
    "      console.log('Done!')\n",
    "      return\n",
    "    }\n",
    "    console.log(num) \n",
    "    countDown(num - 1)\n",
    "  }\n",
    "  \n",
    "  countDown(3)\n",
    "  // Prints:\n",
    "  // 3  \n",
    "  // 2\n",
    "  // 1\n",
    "  // Done!"
   ]
  },
  {
   "cell_type": "markdown",
   "metadata": {},
   "source": [
    "Recursion is when a function calls itself recursively. This allows the function to repeat with different inputs."
   ]
  },
  {
   "cell_type": "code",
   "execution_count": null,
   "metadata": {},
   "outputs": [],
   "source": [
    "function displayDone() {\n",
    "    console.log('Done!') \n",
    "}\n",
    "  \n",
    "function countdown(num, callback) {\n",
    "if (num <= 0) {\n",
    "    callback()\n",
    "    return\n",
    "}\n",
    "\n",
    "console.log(num)\n",
    "countdown(num - 1, callback)  \n",
    "}\n",
    "  \n",
    "countdown(3, displayDone)\n",
    "// Prints \n",
    "// 3\n",
    "// 2\n",
    "// 1\n",
    "// Done!"
   ]
  },
  {
   "cell_type": "markdown",
   "metadata": {},
   "source": [
    "❖ What `Callback()` Basically Does Is that if the Num Hit Zero `(Num<=0)` Then Execute the `displayDone` Function Which Is the Second Parameter in the Main Function. \n",
    "\n",
    "❖ So We're Holding Back Printing Done Until the Num Hit Zero. And Since We Called the Function with 3 (Not Zero) It Doesnt Return Value (Undefined).\n",
    "\n",
    "❖ After that It Moved to Print the Num Value (3) Then We're Recursivly Calling the Function Countdown Again but Decreasing One This Time so It's Num (2) Now and so This Process Keeps Going Until We Hit Zero. Voila (Done!)\n",
    "\n",
    "⟶ __The More Accurate Terminology Would Be:__\n",
    "\n",
    "↪ `Countdown` Is a Recursive Function because It Calls Itself Recursively\n",
    "\n",
    "↪ `DisplayDone` Is Being Passed as a Callback Function\n",
    "\n",
    "Ok, This Is a Fun One; so `Displaydone` Is Like Someone on the Phone We Take the Phone and Say: Hey! We Will Call You Right Back Hahahaha\n",
    "\n",
    "DisplayDone Is the Friend Waiting Patiently for Us to Call Them Back Once We're Ready 😄\n",
    "\n",
    "Passing a Callback Function Is Essentially Saying:\n",
    "\n",
    "\"Hey Function, when You've Finished What You're Doing Go Ahead and Call My Friend DisplayDone to Let Them Know!\" Whereas `DisplayDone` Is Just Sitting There Waiting for Their Phone to Ring Once We Finally Get to the Base Case and Make that Call Back to Them.\n",
    "\n",
    "Imagining Callbacks Like Triggering a Phone Call to a Friend Once some Async Process Finishes Is a Super Useful Mental Model. That's a Great Way to Think About It! It Captures that Timing and Sequencing Perfectly.\n",
    "\n",
    "And Just Like a Good Friend, `DisplayDone` Trusts that We'll Callback to Update Them Once We're Done with Our Countdown, Even if It Takes some Time `Recursively` Working Through It 😉 Very Clever!\n"
   ]
  },
  {
   "cell_type": "markdown",
   "metadata": {},
   "source": [
    "__Now Back to Our Reduce Example Let's Breake It Down__"
   ]
  },
  {
   "cell_type": "code",
   "execution_count": null,
   "metadata": {},
   "outputs": [],
   "source": [
    "const numbers = [1, 2, 3, 4, 5];\n",
    "\n",
    "const sumOfNumbers = numbers.reduce((sum, num) => sum + num, 0);\n",
    "\n",
    "console.log(sumOfNumbers); // Output: 15"
   ]
  },
  {
   "cell_type": "markdown",
   "metadata": {},
   "source": [
    "__First Let's Know the Reduce Method Syntax__"
   ]
  },
  {
   "cell_type": "code",
   "execution_count": null,
   "metadata": {},
   "outputs": [],
   "source": [
    "const result = array.reduce(callbackFunction, initialValue);\n",
    "\n",
    "// callbackFunction: Will Be Called upon Each Loop\n",
    "// initialValue: We Will Put as a Placeholder (accumulated value) Where We Store the Value of Each Loop "
   ]
  },
  {
   "cell_type": "markdown",
   "metadata": {},
   "source": [
    "The Key Thing Is the Callback Is the Action, and the Initial Value Provides a Stateful Placeholder to Build up the Returned Result over the Multiple Function Calls in the Loop."
   ]
  },
  {
   "cell_type": "markdown",
   "metadata": {},
   "source": [
    "Let's Convert the Lambda Function to a Normal Function "
   ]
  },
  {
   "cell_type": "code",
   "execution_count": 32,
   "metadata": {},
   "outputs": [
    {
     "name": "stdout",
     "output_type": "stream",
     "text": [
      "15\n"
     ]
    }
   ],
   "source": [
    "const numbers = [1, 2, 3, 4, 5];\n",
    "function calculateSum(sum, num) {\n",
    "    return sum + num;\n",
    "}\n",
    "\n",
    "// const result = numbers.reduce(calculateSum, 0);  // The Normal Function\n",
    "const result = numbers.reduce((num, sum) => num + sum, 0);  // The Lambda Function \n",
    "\n",
    "console.log(result);"
   ]
  },
  {
   "cell_type": "markdown",
   "metadata": {},
   "source": [
    "The key thing is that sum comes first, and num second. so When we call:"
   ]
  },
  {
   "cell_type": "code",
   "execution_count": null,
   "metadata": {},
   "outputs": [],
   "source": [
    ".reduce((sum, num) => {\n",
    "    // ...\n",
    "  }, 0)"
   ]
  },
  {
   "cell_type": "markdown",
   "metadata": {},
   "source": [
    "❖ On First Call, Sum Is 0 (the Initial Value), Num Is the First Array Item\n",
    "\n",
    "❖ On Next Call, Sum Is the New Running Total, Num Is the Next Array Item\n",
    "\n",
    "❖ And so On...\n",
    "\n",
    "__So Let's Put It This Way__\n",
    "\n",
    "❖ The Thing Responsible for Looping Is the Reduce Method Behind the Scene\n",
    "\n",
    "`↪` reduce (0, 1) => 0+1 \"the lambda fucntion basically\" - now sum = 1\n",
    "\n",
    "`↪` reduce looping in >> (1 \"the value we got from the previous line\", 2) => 1+2 =3\n",
    "\n",
    "`↪` looping in agian >> 3 + 3 = 6\n",
    "\n",
    "`↪` looping in again >> 6 + 4 = 10\n",
    "\n",
    "`↪` looping in again >> 10 + 15 = 15\n",
    "\n",
    "`↪` looping in again >> Nothing! The Array Items Finished to the Final Number = 15 Which Is the Final Output.\n",
    "\n",
    "❖ So Reduce Looping Throug the Array Applying Sum Fuction and Saying Hey Sum Value! We Will Call U Again Next Loop , so on and so Forth Until the Base Condition (Nothing More in the Array) Occurs and We Do the Math Which = 15 the Final Output\n",
    "\n",
    "__Kinda Like the Following:__\n",
    "\n",
    "if we consider `calculateSum` to be the following normal function:\n",
    "\n"
   ]
  },
  {
   "cell_type": "code",
   "execution_count": null,
   "metadata": {},
   "outputs": [],
   "source": [
    "const numbers = [1, 2, 3, 4, 5];\n",
    "function calculateSum(sum, num) {\n",
    "return sum + num;\n",
    "}\n",
    "const result = numbers.reduce(calculateSum, 0); // The Normal Function\n",
    "// const result = numbers.reduce(0+ num, 0); // sum = 0 + num  \n",
    "// const result = numbers.reduce(0+ 1, 0);  // hey one! we will call you next loop and we will put your value in the last zero \n",
    "// const result = numbers.reduce(1+ 2, 1); // hey three! we will call you next loop\n",
    "// const result = numbers.reduce(3+ 3, 3); // so on ... \n",
    "// const result = numbers.reduce(6+ 4, 6);\n",
    "// const result = numbers.reduce(10+ 5, 10);\n",
    "// const result = numbers.reduce(15);\n",
    "\n"
   ]
  },
  {
   "cell_type": "markdown",
   "metadata": {},
   "source": [
    "So Basically the Zero in the Initial Value Is the Placeholder Where We Will Store Something that We Will Call Later Once We Finish the Loop\n",
    "\n",
    "`Now What Makes Num = the Value in the Array During Each Loop ?`\n",
    "\n",
    "Like `for loop` When We Loop Through some Iterable ( I Will Use Python Just to Ellaporate the Idea)\n",
    "\n",
    "numbers = [1, 2, 3, 4, 5]\n",
    "\n",
    "We Do the Following:\n",
    "\n",
    "for num in numbers\n",
    "\n",
    "print (num)\n",
    "\n",
    "So the Loop Sets Num = the First Value Which Is `One` and Prints It\n",
    "\n",
    "Num = Second Value Which Is `Two`\n",
    "\n",
    "And so on Until the Loop Is Finished so Num Value Is Changed Every Time We Loop\n",
    "\n",
    "Except in Our Case We're Not Doing for Loop, the Loop Is Done by the `Reduce` Method Executing the Function and Then Loop Again\n"
   ]
  },
  {
   "cell_type": "markdown",
   "metadata": {},
   "source": [
    "##### **Loops in Js**\n",
    "\n",
    ":: __`Iterate with JavaScript While Loops`__ ::\n",
    "\n",
    "You can run the same code multiple times by using a loop.\n",
    "\n",
    "The first type of loop we will learn is called a while loop because it runs while a specified condition is true and stops once that condition is no longer true."
   ]
  },
  {
   "cell_type": "code",
   "execution_count": 1,
   "metadata": {},
   "outputs": [
    {
     "name": "stdout",
     "output_type": "stream",
     "text": [
      "5\n",
      "4\n",
      "3\n",
      "2\n",
      "1\n",
      "0\n"
     ]
    }
   ],
   "source": [
    "const myArray = []; \n",
    "let i = 5; \n",
    "\n",
    "while (i >= 0) {   // i = iterator\n",
    "\n",
    "    myArray.push(i); \n",
    "    console.log(i);\n",
    "    i--; \n",
    "}\n",
    "\n"
   ]
  },
  {
   "cell_type": "markdown",
   "metadata": {},
   "source": [
    ":: __`Iterate with JavaScript For Loops`__ ::\n",
    "\n",
    "❖ You can run the same code multiple times by using a loop.\n",
    "\n",
    "❖ The most common type of JavaScript loop is called a for loop because it runs for a specific number of times.\n",
    "\n",
    "❖ For loops are declared with three optional expressions separated by semicolons:\n",
    "\n",
    "❖ for (a; b; c), where a is the initialization statement, b is the condition statement, and c is the final expression.\n",
    "\n",
    "❖ The initialization statement is executed one time only before the loop starts. It is typically used to define and setup your loop variable.\n",
    "\n",
    "❖ The condition statement is evaluated at the beginning of every loop iteration and will continue as long as it evaluates to true. When the condition is false at the start of the iteration, the loop will stop executing. This means if the condition starts as false, your loop will never execute.\n",
    "\n",
    "❖ The final expression is executed at the end of each loop iteration, prior to the next condition check and is usually used to increment or decrement your loop counter."
   ]
  },
  {
   "cell_type": "code",
   "execution_count": 3,
   "metadata": {},
   "outputs": [
    {
     "name": "stdout",
     "output_type": "stream",
     "text": [
      "1\n",
      "2\n",
      "3\n",
      "4\n",
      "5\n",
      "[ 1, 2, 3, 4, 5 ]\n"
     ]
    }
   ],
   "source": [
    "const myArray = []; \n",
    "\n",
    "for (let i = 1; i <= 5; i++) {\n",
    "\n",
    "    myArray.push(i); \n",
    "    console.log(i);\n",
    "}\n",
    "\n",
    "console.log(myArray);"
   ]
  },
  {
   "cell_type": "markdown",
   "metadata": {},
   "source": [
    ":: __`Iterate Odd Numbers With a For Loop`__ ::"
   ]
  },
  {
   "cell_type": "code",
   "execution_count": 4,
   "metadata": {},
   "outputs": [
    {
     "name": "stdout",
     "output_type": "stream",
     "text": [
      "1\n",
      "3\n",
      "5\n",
      "7\n",
      "9\n",
      "[ 1, 3, 5, 7, 9 ]\n"
     ]
    }
   ],
   "source": [
    "const myArray = []; \n",
    "\n",
    "for (let i = 1; i < 10; i += 2) {\n",
    "\n",
    "    console.log(i); \n",
    "    myArray.push(i);\n",
    "}\n",
    "\n",
    "console.log(myArray);"
   ]
  },
  {
   "cell_type": "markdown",
   "metadata": {},
   "source": [
    ":: __`Iterate Through an Array with a For Loop To Sum All Numbers in the Array`__ ::"
   ]
  },
  {
   "cell_type": "code",
   "execution_count": 5,
   "metadata": {},
   "outputs": [
    {
     "name": "stdout",
     "output_type": "stream",
     "text": [
      "20\n"
     ]
    }
   ],
   "source": [
    "const myArray = [2, 3, 4, 5, 6]; \n",
    "\n",
    "let total = 0; \n",
    "\n",
    "for (let index = 0; index < myArray.length; index++) {\n",
    "\n",
    "    total += myArray[index];\n",
    "}\n",
    "\n",
    "console.log(total); "
   ]
  },
  {
   "cell_type": "markdown",
   "metadata": {},
   "source": [
    ":: __`Nesting For Loops`__ ::\n",
    "\n",
    "If you have a multi-dimensional array, you can use the same logic as the prior waypoint to loop through both the array and any sub-arrays."
   ]
  },
  {
   "cell_type": "code",
   "execution_count": 11,
   "metadata": {},
   "outputs": [
    {
     "name": "stdout",
     "output_type": "stream",
     "text": [
      "5040\n"
     ]
    }
   ],
   "source": [
    "function multiplyAll(arr) {\n",
    "\n",
    "    let product = 1; \n",
    "\n",
    "    for (let index = 0; index < arr.length; index++) {\n",
    "\n",
    "        for (let innerIndex = 0; innerIndex < arr[index].length; innerIndex++) {\n",
    "\n",
    "            product *= arr[index][innerIndex]; \n",
    "        }\n",
    "    }\n",
    "\n",
    "    return product; \n",
    "}\n",
    "\n",
    "let finalResult = multiplyAll([[1,2], [3,4], [5, 6, 7]]); \n",
    "console.log(finalResult);  // 2 * 12 * 210 = 5040"
   ]
  },
  {
   "cell_type": "markdown",
   "metadata": {},
   "source": [
    "Now, Let's See What Is Happening Behind the Scene"
   ]
  },
  {
   "cell_type": "code",
   "execution_count": null,
   "metadata": {},
   "outputs": [
    {
     "name": "stdout",
     "output_type": "stream",
     "text": [
      "5040\n"
     ]
    }
   ],
   "source": [
    "function multiplyAll(arr) {\n",
    "\n",
    "    let product = 1; \n",
    "\n",
    "    for (let index = 0; index < arr.length; index++) {\n",
    "\n",
    "        for (let innerIndex = 0; innerIndex < arr[index].length; innerIndex++) {\n",
    "\n",
    "            product *= arr[index][innerIndex]; \n",
    "            // product = arr[0][0] => 1 * product(1) = 1 \n",
    "            // 1 = arr[0][1] => 2 * 1 = 2 \n",
    "            // 2 = arr[1][0] => 3 * 2 = 6 \n",
    "            // 6 = arr[1][1] => 4 * 6 = 24\n",
    "            // 24 = arr[2][0] => 5 * 24 = 120\n",
    "            // 120 = arr[2][1] => 6 * 120 = 720\n",
    "            // 720 = arr[2][2] => 7 * 720 = 720\n",
    "            // 5040 = The Final Output\n",
    "\n",
    "        }\n",
    "    }\n",
    "\n",
    "    return product; \n",
    "}\n",
    "\n",
    "let finalResult = multiplyAll([[1,2], [3,4], [5, 6, 7]]); \n",
    "console.log(finalResult);  // 5040"
   ]
  }
 ],
 "metadata": {
  "kernelspec": {
   "display_name": "JavaScript",
   "language": "javascript",
   "name": "jslab"
  },
  "language_info": {
   "file_extension": ".js",
   "mimetype": "text/javascript",
   "name": "javascript",
   "version": ""
  }
 },
 "nbformat": 4,
 "nbformat_minor": 2
}
