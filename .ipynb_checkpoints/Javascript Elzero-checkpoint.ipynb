{
 "cells": [
  {
   "cell_type": "markdown",
   "metadata": {},
   "source": [
    "##### **Functions**\n",
    "\n",
    "We Can Call the Function From the Html Like This: "
   ]
  },
  {
   "cell_type": "code",
   "execution_count": null,
   "metadata": {},
   "outputs": [],
   "source": [
    "// main.js file\n",
    "\n",
    "function sayHi() {\n",
    "\n",
    "    \"use strict\"; \n",
    "    alert(\"Hello from Alert sayHi Function\");\n",
    "}; \n",
    "\n",
    "sayHi()"
   ]
  },
  {
   "cell_type": "code",
   "execution_count": null,
   "metadata": {
    "collapsed": false,
    "vscode": {
     "languageId": "html"
    }
   },
   "outputs": [],
   "source": [
    "<!-- index.html file -->\n",
    "<!DOCTYPE html>\n",
    "<html lang=\"en\">\n",
    "<head>\n",
    "    <meta charset=\"UTF-8\">\n",
    "    <meta name=\"viewport\" content=\"width=device-width, initial-scale=1.0\">\n",
    "    <title>Document</title>\n",
    "</head>\n",
    "<body>\n",
    "\n",
    "    <button onclick=\"sayHi()\">Call The Function</button>  <!-- Calling the Function -->\n",
    "    <script src=\"main.js\"></script>  <!-- Loading the main.js File -->\n",
    "</body>\n",
    "</html>"
   ]
  },
  {
   "cell_type": "markdown",
   "metadata": {},
   "source": [
    ":: __`Call the Function by Id and Return Data`__ ::"
   ]
  },
  {
   "cell_type": "code",
   "execution_count": null,
   "metadata": {
    "vscode": {
     "languageId": "html"
    }
   },
   "outputs": [],
   "source": [
    "<!-- index.html file -->\n",
    "\n",
    "<!DOCTYPE html>\n",
    "<html lang=\"en\">\n",
    "<head>\n",
    "    <meta charset=\"UTF-8\">\n",
    "    <meta name=\"viewport\" content=\"width=device-width, initial-scale=1.0\">\n",
    "    <title>Document</title>\n",
    "</head>\n",
    "<body>\n",
    "\n",
    "    <div id=\"test\"></div>\n",
    "    <script src=\"main.js\"></script>\n",
    "</body>\n",
    "</html>"
   ]
  },
  {
   "cell_type": "code",
   "execution_count": null,
   "metadata": {},
   "outputs": [],
   "source": [
    "// main.js file\n",
    "\n",
    "function myInfo() {\n",
    "\n",
    "    \"use strict\"; \n",
    "\n",
    "    var myName = \"osama\", \n",
    "        myAge  = \"32\"; \n",
    "\n",
    "    return myName;\n",
    "}\n",
    "\n",
    "document.getElementById(\"test\").innerHTML = myInfo(); "
   ]
  },
  {
   "cell_type": "markdown",
   "metadata": {},
   "source": [
    "We Can Also Make `Prompt` in Js"
   ]
  },
  {
   "cell_type": "code",
   "execution_count": null,
   "metadata": {},
   "outputs": [],
   "source": [
    "// main.js File and Same index.html as the Last One\n",
    "\n",
    "function calcDays(age) {\n",
    "\n",
    "    \"use strict\"; \n",
    "\n",
    "    var year = 365; \n",
    "\n",
    "    return age * year ; \n",
    "}; \n",
    "\n",
    "var dynamicAge = prompt(\"What's Your Age ?\"); \n",
    "\n",
    "document.getElementById(\"test\").innerHTML = calcDays(dynamicAge);"
   ]
  },
  {
   "cell_type": "markdown",
   "metadata": {},
   "source": [
    ":: __`Self Invoke Functions`__ ::\n",
    "\n",
    "To Self Invoke the Function We Wrap It in Parenthesis and Call It Like This: "
   ]
  },
  {
   "cell_type": "code",
   "execution_count": null,
   "metadata": {},
   "outputs": [],
   "source": [
    "(function sayWelcome() {  // Here Before the Word Function\n",
    "\n",
    "    \"use strict\"; \n",
    "\n",
    "    alert(\"Welcome to My Website\"); \n",
    "}());  // And Here at the End\n",
    "\n",
    "//  No Need to Call the Function "
   ]
  },
  {
   "cell_type": "markdown",
   "metadata": {},
   "source": [
    ":: __`Using Html Input`__ ::\n",
    "\n",
    "We're Creating Simple Webpage to Convert Usd to Riyal Using a Function Written in Our main.js File"
   ]
  },
  {
   "cell_type": "code",
   "execution_count": null,
   "metadata": {
    "vscode": {
     "languageId": "html"
    }
   },
   "outputs": [],
   "source": [
    "<!-- index.html file -->\n",
    "\n",
    "<!DOCTYPE html>\n",
    "<html lang=\"en\">\n",
    "<head>\n",
    "    <meta charset=\"UTF-8\">\n",
    "    <meta name=\"viewport\" content=\"width=device-width, initial-scale=1.0\">\n",
    "    <title>Document</title>\n",
    "</head>\n",
    "<body>\n",
    "\n",
    "    <input type=\"text\" id=\"dollar\">\n",
    "    <button onclick=\"convertUsdToRiyal()\">Calculate</button>\n",
    "    <div id=\"message\"></div>\n",
    "    <script src=\"main.js\"></script>\n",
    "</body>\n",
    "</html>"
   ]
  },
  {
   "cell_type": "code",
   "execution_count": null,
   "metadata": {},
   "outputs": [],
   "source": [
    "// main.js file\n",
    "\n",
    "function convertUsdToRiyal() {\n",
    "\n",
    "    \"use strict\"; \n",
    "\n",
    "    var amount = document.getElementById(\"dollar\").value,\n",
    "\n",
    "        result = amount * 3.75; \n",
    "\n",
    "    document.getElementById(\"message\").innerHTML = amount + \" Dollar is worth \" + result + \" Riyal\";\n",
    "}"
   ]
  },
  {
   "cell_type": "markdown",
   "metadata": {},
   "source": [
    "We Can Use if Conditions to Handle some Inputs Like if Someone Entered Text Instead of Number or Entered a Negative Number, ..etc "
   ]
  },
  {
   "cell_type": "code",
   "execution_count": null,
   "metadata": {},
   "outputs": [],
   "source": [
    "// main.js File and Same index.html as the Previous One\n",
    "\n",
    "function convertUsdToRiyal() {\n",
    "\n",
    "    \"use strict\";\n",
    "  \n",
    "    var amount = document.getElementById(\"dollar\").value,\n",
    "  \n",
    "        result = amount * 3.75, // 100 * 3.75 = 375\n",
    "  \n",
    "        message = document.getElementById(\"message\");\n",
    "  \n",
    "    if (amount == \"\") { // Amount Can't Be Empty\n",
    "  \n",
    "      message.innerHTML = \"This Field Can't Be Empty\";\n",
    "  \n",
    "    } else if (isNaN(amount)) { // Amount Must Be Number\n",
    "  \n",
    "      message.innerHTML = \"This Field Accept Numbers Only\";\n",
    "  \n",
    "    } else if (amount === 0) { // Amount Can't Be 0\n",
    "  \n",
    "      message.innerHTML = \"The Value Must Not Be 0\";\n",
    "  \n",
    "    } else if (amount < 0) { // Amount Can't Be Negative Number\n",
    "  \n",
    "      message.innerHTML = \"The Value Must Not Be Negative Number\";\n",
    "  \n",
    "    } else {\n",
    "  \n",
    "      message.innerHTML = amount + \" Dollar Is Worth \" + result + \" Riyal\";\n",
    "  \n",
    "    }\n",
    "  \n",
    "  }"
   ]
  },
  {
   "cell_type": "markdown",
   "metadata": {},
   "source": [
    "Using Switch Case Would Be Better Here Instead of All These Else if Conditions \n",
    "\n",
    "##### **Events in Js**\n",
    "\n",
    ":: __`Onload Event`__ ::\n",
    "\n",
    "It allows you to run JavaScript code only after everything is loaded, ensuring elements and resources are available."
   ]
  },
  {
   "cell_type": "code",
   "execution_count": null,
   "metadata": {
    "vscode": {
     "languageId": "html"
    }
   },
   "outputs": [],
   "source": [
    "<!-- index.html only no main.js needed -->\n",
    "\n",
    "<!DOCTYPE html>\n",
    "<html lang=\"en\">\n",
    "<head>\n",
    "    <meta charset=\"UTF-8\">\n",
    "    <meta name=\"viewport\" content=\"width=device-width, initial-scale=1.0\">\n",
    "    <title>Document</title>\n",
    "    <script>\n",
    "        window.onload = function(){\n",
    "\n",
    "            document.getElementById(\"test\").innerHTML = \"Text From Javascript\"\n",
    "        }\n",
    "    </script>\n",
    "</head>\n",
    "<body>\n",
    "\n",
    "    <div id=\"test\">this is test</div>\n",
    "    <script src=\"main.js\"></script>\n",
    "</body>\n",
    "</html>"
   ]
  },
  {
   "cell_type": "markdown",
   "metadata": {},
   "source": [
    "This Would Call the Function After Everything Is Loaded in the Page and Change Text From \"This Is Test\" To \"Text From Javascript\"\n",
    "\n",
    ":: __`onclick`__ ::"
   ]
  },
  {
   "cell_type": "code",
   "execution_count": null,
   "metadata": {
    "vscode": {
     "languageId": "html"
    }
   },
   "outputs": [],
   "source": [
    "<!-- index.html only no main.js needed -->\n",
    "\n",
    "<!DOCTYPE html>\n",
    "<html lang=\"en\">\n",
    "<head>\n",
    "    <meta charset=\"UTF-8\">\n",
    "    <meta name=\"viewport\" content=\"width=device-width, initial-scale=1.0\">\n",
    "    <title>Document</title>\n",
    "    <script>\n",
    "        window.onclick = function(){\n",
    "\n",
    "            document.getElementById(\"test\").innerHTML = \"Text From Javascript\"\n",
    "        }\n",
    "    </script>\n",
    "</head>\n",
    "<body>\n",
    "\n",
    "    <div id=\"test\">this is test</div>\n",
    "    <script src=\"main.js\"></script>\n",
    "</body>\n",
    "</html>"
   ]
  },
  {
   "cell_type": "markdown",
   "metadata": {},
   "source": [
    "Now the Default Text Will Be \"This Is Test\" And After You Click Anywhere on the Page the Text Will Change to \"Text From Javascript\"\n",
    "\n",
    ":: __`ondblclick`__ ::\n",
    "\n",
    "Trigger the Code on Double Click Instead of Single Click"
   ]
  },
  {
   "cell_type": "code",
   "execution_count": null,
   "metadata": {
    "vscode": {
     "languageId": "html"
    }
   },
   "outputs": [],
   "source": [
    "<!-- index.html only no main.js needed -->\n",
    "\n",
    "<!DOCTYPE html>\n",
    "<html lang=\"en\">\n",
    "<head>\n",
    "    <meta charset=\"UTF-8\">\n",
    "    <meta name=\"viewport\" content=\"width=device-width, initial-scale=1.0\">\n",
    "    <title>Document</title>\n",
    "    <script>\n",
    "        window.ondblclick = function(){\n",
    "\n",
    "            document.getElementById(\"test\").innerHTML = \"Text From Javascript\"\n",
    "        }\n",
    "    </script>\n",
    "</head>\n",
    "<body>\n",
    "\n",
    "    <div id=\"test\">this is test</div>\n",
    "    <script src=\"main.js\"></script>\n",
    "</body>\n",
    "</html>"
   ]
  },
  {
   "cell_type": "markdown",
   "metadata": {},
   "source": [
    "We Can Use Events in the Body with Buttons for Example "
   ]
  },
  {
   "cell_type": "code",
   "execution_count": null,
   "metadata": {
    "vscode": {
     "languageId": "html"
    }
   },
   "outputs": [],
   "source": [
    "<!-- index.html -->\n",
    "<!DOCTYPE html>\n",
    "<html lang=\"en\">\n",
    "<head>\n",
    "    <meta charset=\"UTF-8\">\n",
    "    <meta name=\"viewport\" content=\"width=device-width, initial-scale=1.0\">\n",
    "    <title>Document</title>\n",
    "</head>\n",
    "<body>\n",
    "    <input type=\"text\" name=\"\" id=\"input\">\n",
    "    <button onclick=\"calcUsd()\">Calculate</button> <!-- Calling the Function From Clicking Button -->\n",
    "    <div id=\"div\"></div> \n",
    "    <script src=\"main.js\"></script>\n",
    "</body>\n",
    "</html>"
   ]
  },
  {
   "cell_type": "code",
   "execution_count": null,
   "metadata": {},
   "outputs": [],
   "source": [
    "// main.js\n",
    "var myInput = document.getElementById(\"input\"), \n",
    "    myDiv = document.getElementById(\"div\"); \n",
    "\n",
    "function calcUsd() {\n",
    "\n",
    "    \"use strict\"; \n",
    "\n",
    "    myDiv.innerHTML = myInput.value * 3.75;\n",
    "}; "
   ]
  },
  {
   "cell_type": "markdown",
   "metadata": {},
   "source": [
    "We Can Also Create an Id for the Button and Call the Function From the Id "
   ]
  },
  {
   "cell_type": "code",
   "execution_count": null,
   "metadata": {
    "vscode": {
     "languageId": "html"
    }
   },
   "outputs": [],
   "source": [
    "<!-- index.html -->\n",
    "\n",
    "<!DOCTYPE html>\n",
    "<html lang=\"en\">\n",
    "<head>\n",
    "    <meta charset=\"UTF-8\">\n",
    "    <meta name=\"viewport\" content=\"width=device-width, initial-scale=1.0\">\n",
    "    <title>Document</title>\n",
    "</head>\n",
    "<body>\n",
    "    <input type=\"text\" name=\"\" id=\"input\">\n",
    "    <button id=\"button\">Calculate</button>\n",
    "    <div id=\"div\"></div>\n",
    "    <script src=\"main.js\"></script>\n",
    "</body>\n",
    "</html>"
   ]
  },
  {
   "cell_type": "code",
   "execution_count": null,
   "metadata": {},
   "outputs": [],
   "source": [
    "// main.js\n",
    "\n",
    "var myInput = document.getElementById(\"input\"), \n",
    "    myDiv = document.getElementById(\"div\"), \n",
    "    myButton = document.getElementById(\"button\"); // Setting Variable for the Id\n",
    "\n",
    "myButton.onclick = function() {  // No Need to Name the Function \n",
    "\n",
    "    \"use strict\"; \n",
    "\n",
    "    myDiv.innerHTML = myInput.value * 3.75;\n",
    "}; "
   ]
  },
  {
   "cell_type": "markdown",
   "metadata": {},
   "source": [
    ":: __`onkeyup`__ ::\n",
    "\n",
    "The Function Will Be Executed Instantly without the Need for the Click"
   ]
  },
  {
   "cell_type": "code",
   "execution_count": null,
   "metadata": {
    "vscode": {
     "languageId": "html"
    }
   },
   "outputs": [],
   "source": [
    "<!-- index.html -->\n",
    "\n",
    "<!DOCTYPE html>\n",
    "<html lang=\"en\">\n",
    "<head>\n",
    "    <meta charset=\"UTF-8\">\n",
    "    <meta name=\"viewport\" content=\"width=device-width, initial-scale=1.0\">\n",
    "    <title>Document</title>\n",
    "</head>\n",
    "<body>\n",
    "    <input type=\"text\" name=\"\" id=\"input\">\n",
    "    <div id=\"div\"></div>\n",
    "    <script src=\"main.js\"></script>\n",
    "</body>\n",
    "</html>"
   ]
  },
  {
   "cell_type": "code",
   "execution_count": null,
   "metadata": {},
   "outputs": [],
   "source": [
    "var myInput = document.getElementById(\"input\"), \n",
    "    myDiv = document.getElementById(\"div\");\n",
    "\n",
    "myInput.onkeyup = function() { // Execute Function Directly on the Input\n",
    "\n",
    "    \"use strict\"; \n",
    "\n",
    "    myDiv.innerHTML = myInput.value * 3.75;\n",
    "}; "
   ]
  },
  {
   "cell_type": "markdown",
   "metadata": {},
   "source": [
    ":: __`onmouseover`__ ::"
   ]
  },
  {
   "cell_type": "markdown",
   "metadata": {},
   "source": [
    "Trigger Function when You Hover with the Mouse Over the Element You Set"
   ]
  },
  {
   "cell_type": "code",
   "execution_count": null,
   "metadata": {
    "vscode": {
     "languageId": "html"
    }
   },
   "outputs": [],
   "source": [
    "<!-- index.html -->\n",
    "\n",
    "<!DOCTYPE html>\n",
    "<html lang=\"en\">\n",
    "<head>\n",
    "    <meta charset=\"UTF-8\">\n",
    "    <meta name=\"viewport\" content=\"width=device-width, initial-scale=1.0\">\n",
    "    <title>Document</title>\n",
    "</head>\n",
    "<body>\n",
    "    <div id=\"div\">Hello</div>\n",
    "    <script src=\"main.js\"></script>\n",
    "</body>\n",
    "</html>"
   ]
  },
  {
   "cell_type": "code",
   "execution_count": null,
   "metadata": {},
   "outputs": [],
   "source": [
    "// main.js\n",
    "\n",
    "var myDiv = document.getElementById(\"div\");\n",
    "\n",
    "myDiv.onmouseover = function() {\n",
    "\n",
    "    \"use strict\"; \n",
    "\n",
    "    myDiv.innerHTML = \"You Hovered over Me\";\n",
    "}; "
   ]
  },
  {
   "cell_type": "markdown",
   "metadata": {},
   "source": [
    "Now when You Hover over \"Hello\" It Will Change to \"You Hovered over Me\"\n",
    "\n",
    ":: __`onmouseout`__ :: \n",
    "\n",
    "When You Leave the Element with the Mouse After Hovering"
   ]
  },
  {
   "cell_type": "code",
   "execution_count": null,
   "metadata": {
    "vscode": {
     "languageId": "html"
    }
   },
   "outputs": [],
   "source": [
    "<!-- index.html -->\n",
    "\n",
    "<!DOCTYPE html>\n",
    "<html lang=\"en\">\n",
    "<head>\n",
    "    <meta charset=\"UTF-8\">\n",
    "    <meta name=\"viewport\" content=\"width=device-width, initial-scale=1.0\">\n",
    "    <title>Document</title>\n",
    "</head>\n",
    "<body>\n",
    "    <div id=\"div\">Hello</div>\n",
    "    <script src=\"main.js\"></script>\n",
    "</body>\n",
    "</html>"
   ]
  },
  {
   "cell_type": "code",
   "execution_count": null,
   "metadata": {},
   "outputs": [],
   "source": [
    "// main.js\n",
    "\n",
    "var myDiv = document.getElementById(\"div\");\n",
    "\n",
    "myDiv.onmouseout = function() {\n",
    "\n",
    "    \"use strict\"; \n",
    "\n",
    "    myDiv.innerHTML = \"You Have Gone\";\n",
    "}; "
   ]
  },
  {
   "cell_type": "markdown",
   "metadata": {},
   "source": [
    ":: __`onchange`__ ::\n",
    "\n",
    "When I Change Something Apply the Function, and to Understand This We Will Create Selector with Multiple Options when We Change the Selection the Funciton Will Be Applied "
   ]
  },
  {
   "cell_type": "code",
   "execution_count": null,
   "metadata": {
    "vscode": {
     "languageId": "html"
    }
   },
   "outputs": [],
   "source": [
    "<!-- index.html -->\n",
    "\n",
    "<!DOCTYPE html>\n",
    "<html lang=\"en\">\n",
    "<head>\n",
    "    <meta charset=\"UTF-8\">\n",
    "    <meta name=\"viewport\" content=\"width=device-width, initial-scale=1.0\">\n",
    "    <title>Document</title>\n",
    "</head>\n",
    "<body>\n",
    "    <input type=\"text\" name=\"\" id=\"input\">\n",
    "    <select id=\"currency\"> <!-- Selector with Multiple Options -->\n",
    "        <option value=\"8\">Dollar</option> <!-- 1 Dollar = 8 EGP When Multiplied  in the Function -->\n",
    "        <option value=\"2\">Riyal</option> <!-- 1 Riyal = 2 EGP When Multiplied  in the Function -->\n",
    "        <option value=\"4\">Yin</option> <!-- 1 Yin = 4 EGP When Multiplied  in the Function -->\n",
    "    </select>\n",
    "    <div id=\"div\"></div>\n",
    "    <script src=\"main.js\"></script>\n",
    "</body>\n",
    "</html>\n"
   ]
  },
  {
   "cell_type": "code",
   "execution_count": null,
   "metadata": {},
   "outputs": [],
   "source": [
    "// main.js\n",
    "\n",
    "var myInput = document.getElementById(\"input\"), \n",
    "    myDiv = document.getElementById(\"div\"),\n",
    "    myCurrency = document.getElementById(\"currency\"); \n",
    "\n",
    "myCurrency.onchange = function() { \n",
    "\n",
    "    \"use strict\"; \n",
    "\n",
    "    myDiv.innerHTML = \"Worth \" + myInput.value * myCurrency.value + \" Egyptian Pound\";  \n",
    "    // Multipliying in Input * in the Value of the Selector Option\n",
    "}; "
   ]
  },
  {
   "cell_type": "markdown",
   "metadata": {},
   "source": [
    "##### **Arrays in JS**"
   ]
  },
  {
   "cell_type": "code",
   "execution_count": 2,
   "metadata": {},
   "outputs": [
    {
     "name": "stdout",
     "output_type": "stream",
     "text": [
      "[ 'Hassan', 'Soha', 'Ahmed', 'Zahra', 'Hind' ]\n"
     ]
    }
   ],
   "source": [
    "var friends = new Array( // Formatted Code\n",
    "  \"Hassan\",\n",
    "  \"Soha\",\n",
    "  \"Ahmed\",\n",
    "  \"Zahra\",\n",
    "  \"Hind\"\n",
    ");\n",
    "\n",
    "console.log(friends);"
   ]
  },
  {
   "cell_type": "code",
   "execution_count": 1,
   "metadata": {},
   "outputs": [
    {
     "name": "stdout",
     "output_type": "stream",
     "text": [
      "[ 'Hassan', 'Soha', 'Ahmed' ]\n"
     ]
    }
   ],
   "source": [
    "var friends = []; // Literal Way => Empty Array\n",
    "\n",
    "// Fill The Array\n",
    "\n",
    "friends[0] = \"Hassan\";\n",
    "friends[1] = \"Soha\";\n",
    "friends[2] = \"Ahmed\";\n",
    "\n",
    "console.log(friends);"
   ]
  },
  {
   "cell_type": "code",
   "execution_count": 5,
   "metadata": {},
   "outputs": [
    {
     "name": "stdout",
     "output_type": "stream",
     "text": [
      "[ 'Hassan', 'Soha', 'Ahmed', 'Zahra', 'Hind' ]\n",
      "Soha\n"
     ]
    }
   ],
   "source": [
    "var friends = [ // Formatted Code\n",
    "  \"Hassan\",\n",
    "  \"Soha\",\n",
    "  \"Ahmed\",\n",
    "  \"Zahra\",\n",
    "  \"Hind\"\n",
    "];\n",
    "\n",
    "console.log(friends);\n",
    "console.log(friends[1]);"
   ]
  },
  {
   "cell_type": "markdown",
   "metadata": {},
   "source": [
    ":: __`Array Check`__ ::"
   ]
  },
  {
   "cell_type": "code",
   "execution_count": 6,
   "metadata": {},
   "outputs": [
    {
     "name": "stdout",
     "output_type": "stream",
     "text": [
      "Good This Is Array\n"
     ]
    }
   ],
   "source": [
    "var friends = [\n",
    "    \"Hassan\",\n",
    "    \"Soha\",  \n",
    "    \"Ahmed\",\n",
    "    \"Zahra\",\n",
    "    \"Hind\"\n",
    "];\n",
    "\n",
    "if (Array.isArray(friends)) {\n",
    "\n",
    "    console.log(\"Good This Is Array\");\n",
    "\n",
    "} else {\n",
    "\n",
    "    console.log(\"No This Is Not Array\");\n",
    "}\n"
   ]
  },
  {
   "cell_type": "markdown",
   "metadata": {},
   "source": [
    ":: __`Array – Get, Set Length`__ ::"
   ]
  },
  {
   "cell_type": "code",
   "execution_count": 7,
   "metadata": {},
   "outputs": [
    {
     "name": "stdout",
     "output_type": "stream",
     "text": [
      "16\n"
     ]
    }
   ],
   "source": [
    "var myVariable = \"Hello Javascript\";\n",
    "\n",
    "console.log(myVariable.length);"
   ]
  },
  {
   "cell_type": "code",
   "execution_count": 9,
   "metadata": {},
   "outputs": [
    {
     "name": "stdout",
     "output_type": "stream",
     "text": [
      "5\n",
      "[ 'Hassan', 'Soha' ]\n"
     ]
    }
   ],
   "source": [
    "var friends = [\n",
    "    \"Hassan\",\n",
    "    \"Soha\",  \n",
    "    \"Ahmed\",\n",
    "    \"Zahra\",\n",
    "    \"Hind\"\n",
    "];\n",
    "\n",
    "console.log(friends.length);\n",
    "friends.length = 2;\n",
    "console.log(friends);"
   ]
  },
  {
   "cell_type": "markdown",
   "metadata": {},
   "source": [
    ":: __`Array – Convert To String`__ ::"
   ]
  },
  {
   "cell_type": "code",
   "execution_count": 14,
   "metadata": {},
   "outputs": [
    {
     "name": "stdout",
     "output_type": "stream",
     "text": [
      "Hassan,Soha,Ahmed,Zahra,Hind\n"
     ]
    }
   ],
   "source": [
    "var friends = [\n",
    "    \"Hassan\",\n",
    "    \"Soha\",\n",
    "    \"Ahmed\",\n",
    "    \"Zahra\",\n",
    "    \"Hind\"\n",
    "];\n",
    "\n",
    "var friendsStr = friends.toString(); // Convert It To String\n",
    "\n",
    "console.log(friendsStr);"
   ]
  },
  {
   "cell_type": "markdown",
   "metadata": {},
   "source": [
    ":: __`Normal String and Local String`__ ::"
   ]
  },
  {
   "cell_type": "code",
   "execution_count": 15,
   "metadata": {},
   "outputs": [
    {
     "name": "stdout",
     "output_type": "stream",
     "text": [
      "2024-02-11T17:24:51.158Z\n"
     ]
    }
   ],
   "source": [
    "var myDate = new Date(),\n",
    "\n",
    "  myString = myDate.toString();\n",
    "\n",
    "console.log(myDate);\n"
   ]
  },
  {
   "cell_type": "code",
   "execution_count": 17,
   "metadata": {},
   "outputs": [
    {
     "name": "stdout",
     "output_type": "stream",
     "text": [
      "2024-02-11T17:25:21.311Z\n"
     ]
    }
   ],
   "source": [
    "var myDate = new Date(),\n",
    "\n",
    "  myString = myDate.toLocaleString();\n",
    "\n",
    "console.log(myDate);\n"
   ]
  },
  {
   "cell_type": "markdown",
   "metadata": {},
   "source": [
    ":: __`Join`__ ::"
   ]
  },
  {
   "cell_type": "code",
   "execution_count": 18,
   "metadata": {},
   "outputs": [
    {
     "name": "stdout",
     "output_type": "stream",
     "text": [
      "Hassan,Soha,Ahmed,Zahra,Hind\n"
     ]
    }
   ],
   "source": [
    "var friends = [\n",
    "    \"Hassan\",\n",
    "    \"Soha\",\n",
    "    \"Ahmed\",\n",
    "    \"Zahra\",\n",
    "    \"Hind\"\n",
    "];\n",
    "\n",
    "var friendsJoin = friends.join();\n",
    "console.log(friendsJoin);"
   ]
  },
  {
   "cell_type": "code",
   "execution_count": 19,
   "metadata": {},
   "outputs": [
    {
     "name": "stdout",
     "output_type": "stream",
     "text": [
      "Hassan-Soha-Ahmed-Zahra-Hind\n"
     ]
    }
   ],
   "source": [
    "var friends = [\n",
    "    \"Hassan\",\n",
    "    \"Soha\",\n",
    "    \"Ahmed\",\n",
    "    \"Zahra\",\n",
    "    \"Hind\"\n",
    "];\n",
    "\n",
    "var friendsJoin = friends.join(\"-\");\n",
    "console.log(friendsJoin);"
   ]
  },
  {
   "cell_type": "code",
   "execution_count": 20,
   "metadata": {},
   "outputs": [
    {
     "name": "stdout",
     "output_type": "stream",
     "text": [
      "Hassan|Soha|Ahmed|Zahra|Hind\n"
     ]
    }
   ],
   "source": [
    "var friends = [\n",
    "    \"Hassan\",\n",
    "    \"Soha\",\n",
    "    \"Ahmed\",\n",
    "    \"Zahra\",\n",
    "    \"Hind\"\n",
    "];\n",
    "\n",
    "var friendsJoin = friends.join(\"|\");\n",
    "console.log(friendsJoin);"
   ]
  },
  {
   "cell_type": "markdown",
   "metadata": {},
   "source": [
    ":: __`Array – Adding Items To Array`__ ::"
   ]
  },
  {
   "cell_type": "code",
   "execution_count": 21,
   "metadata": {},
   "outputs": [
    {
     "name": "stdout",
     "output_type": "stream",
     "text": [
      "[ 'Hassan', 'Soha', 'Ahmed', 'Zahra', 'Hind' ]\n",
      "5\n",
      "6\n",
      "[ 'Hassan', 'Soha', 'Ahmed', 'Zahra', 'Hind', 'Sameh' ]\n"
     ]
    }
   ],
   "source": [
    "var friends = [\n",
    "    \"Hassan\",\n",
    "    \"Soha\",\n",
    "    \"Ahmed\",\n",
    "    \"Zahra\",\n",
    "    \"Hind\" // Index 4\n",
    "];\n",
    "\n",
    "console.log(friends);\n",
    "\n",
    "console.log(friends.length); // 5\n",
    "\n",
    "friends[5] = \"Sameh\";\n",
    "\n",
    "console.log(friends.length); // 6\n",
    "\n",
    "console.log(friends);"
   ]
  },
  {
   "cell_type": "code",
   "execution_count": 22,
   "metadata": {},
   "outputs": [
    {
     "name": "stdout",
     "output_type": "stream",
     "text": [
      "[ 'Hassan', 'Soha', 'Ahmed', 'Zahra', 'Hind' ]\n",
      "5\n",
      "6\n",
      "[ 'Hassan', 'Soha', 'Ahmed', 'Zahra', 'Hind', 'Sameh' ]\n"
     ]
    }
   ],
   "source": [
    "var friends = [\n",
    "    \"Hassan\",\n",
    "    \"Soha\",\n",
    "    \"Ahmed\",\n",
    "    \"Zahra\",\n",
    "    \"Hind\" // Index 4\n",
    "];\n",
    "\n",
    "console.log(friends);\n",
    "\n",
    "console.log(friends.length); // 5\n",
    "\n",
    "friends[friends.length] = \"Sameh\";\n",
    "\n",
    "console.log(friends.length); // 6\n",
    "\n",
    "console.log(friends);"
   ]
  },
  {
   "cell_type": "code",
   "execution_count": 23,
   "metadata": {},
   "outputs": [
    {
     "name": "stdout",
     "output_type": "stream",
     "text": [
      "[ 'Hassan', 'Soha', 'Ahmed', 'Zahra', 'Hind' ]\n",
      "5\n",
      "[\n",
      "  'Nada',  'Hassan',\n",
      "  'Soha',  'Ahmed',\n",
      "  'Zahra', 'Hind',\n",
      "  'Nada'\n",
      "]\n"
     ]
    }
   ],
   "source": [
    "var friends = [\n",
    "    \"Hassan\",\n",
    "    \"Soha\",\n",
    "    \"Ahmed\",\n",
    "    \"Zahra\",\n",
    "    \"Hind\" // Index 4\n",
    "];\n",
    "\n",
    "console.log(friends);\n",
    "\n",
    "console.log(friends.length);\n",
    "\n",
    "friends.push(\"Nada\"); // In The End\n",
    "\n",
    "friends.unshift(\"Nada\"); // In The First\n",
    "\n",
    "console.log(friends);\n"
   ]
  },
  {
   "cell_type": "markdown",
   "metadata": {},
   "source": [
    ":: __`Array Splice`__ ::\n",
    "\n",
    "❖ The `splice()` method in JavaScript is used to modify an array by adding or removing elements from it. It can be used to add new elements at a specific index, remove elements from a specific index, or replace existing elements within the array. \n",
    "\n",
    "❖ The `splice()` method changes the original array and returns the removed elements as a new array.\n",
    "\n",
    "Syntax: \n",
    "\n",
    "> arrName.splice(index, How Many Items You Want to Remove (0 = optional), Item1, Item2, Item3);"
   ]
  },
  {
   "cell_type": "code",
   "execution_count": 24,
   "metadata": {},
   "outputs": [
    {
     "name": "stdout",
     "output_type": "stream",
     "text": [
      "[ 'Hassan', 'Soha', 'Ahmed', 'Zahra', 'Hind' ]\n",
      "5\n",
      "[\n",
      "  'Hassan', 'Soha',\n",
      "  'Ahmed',  'Ibrahim',\n",
      "  'Ali',    'Kamel',\n",
      "  'Zahra',  'Hind'\n",
      "]\n",
      "8\n"
     ]
    }
   ],
   "source": [
    "var friends = [\n",
    "    \"Hassan\",\n",
    "    \"Soha\",\n",
    "    \"Ahmed\",\n",
    "    \"Zahra\",\n",
    "    \"Hind\" \n",
    "];\n",
    "\n",
    "console.log(friends);\n",
    "\n",
    "console.log(friends.length);\n",
    "\n",
    "friends.splice(3, 0, \"Ibrahim\", \"Ali\", \"Kamel\"); // Ibrahim Will Be at Index 3\n",
    "\n",
    "console.log(friends);\n",
    "\n",
    "console.log(friends.length);"
   ]
  },
  {
   "cell_type": "code",
   "execution_count": 25,
   "metadata": {},
   "outputs": [
    {
     "name": "stdout",
     "output_type": "stream",
     "text": [
      "[ 'Hassan', 'Soha', 'Ahmed', 'Zahra', 'Hind' ]\n",
      "5\n",
      "[ 'Hassan', 'Soha', 'Ahmed', 'Ibrahim', 'Ali', 'Kamel' ]\n",
      "6\n"
     ]
    }
   ],
   "source": [
    "var friends = [\n",
    "    \"Hassan\",\n",
    "    \"Soha\",\n",
    "    \"Ahmed\",\n",
    "    \"Zahra\",\n",
    "    \"Hind\" \n",
    "];\n",
    "\n",
    "console.log(friends);\n",
    "\n",
    "console.log(friends.length);\n",
    "\n",
    "friends.splice(3, 2, \"Ibrahim\", \"Ali\", \"Kamel\"); // Delete Two Starting From Index 3\n",
    "\n",
    "console.log(friends);\n",
    "\n",
    "console.log(friends.length);"
   ]
  },
  {
   "cell_type": "markdown",
   "metadata": {},
   "source": [
    ":: __`Array – Remove Items From Array`__ ::"
   ]
  },
  {
   "cell_type": "markdown",
   "metadata": {},
   "source": [
    ":: __`pop()`__ ::\n",
    "\n",
    "❖ The `pop()` method in JavaScript is used to remove the last element from an array and returns that element. It modifies the original array by removing the element from the end. \n",
    "\n",
    "❖ The `pop()` method does not take any arguments and can be used to implement a Last-In-First-Out (LIFO) behavior, similar to a stack."
   ]
  },
  {
   "cell_type": "code",
   "execution_count": 28,
   "metadata": {},
   "outputs": [
    {
     "name": "stdout",
     "output_type": "stream",
     "text": [
      "Sayed\n",
      "7\n",
      "[\n",
      "  'Mahmoud', 'Hassan',\n",
      "  'Soha',    'Ahmed',\n",
      "  'Zahra',   'Hind',\n",
      "  'Mohamed'\n",
      "]\n"
     ]
    }
   ],
   "source": [
    "var friends = [\n",
    "    \"Mahmoud\",\n",
    "    \"Hassan\",\n",
    "    \"Soha\",\n",
    "    \"Ahmed\",\n",
    "    \"Zahra\",\n",
    "    \"Hind\",\n",
    "    \"Mohamed\",\n",
    "    \"Sayed\"\n",
    "];\n",
    "\n",
    "var lastItem = friends.pop();\n",
    "\n",
    "console.log(lastItem);\n",
    "console.log(friends.length);\n",
    "console.log(friends);"
   ]
  },
  {
   "cell_type": "markdown",
   "metadata": {},
   "source": [
    ":: __`shift()`__ ::\n",
    "\n",
    "❖ The `shift()` method in JavaScript is used to remove the first element from an array and returns that element. It modifies the original array by shifting all remaining elements to a lower index. \n",
    "\n",
    "❖ The `shift()` method does not take any arguments and can be used to implement a First-In-First-Out (FIFO) behavior, similar to a queue."
   ]
  },
  {
   "cell_type": "code",
   "execution_count": 29,
   "metadata": {},
   "outputs": [
    {
     "name": "stdout",
     "output_type": "stream",
     "text": [
      "Mahmoud\n",
      "7\n",
      "[\n",
      "  'Hassan', 'Soha',\n",
      "  'Ahmed',  'Zahra',\n",
      "  'Hind',   'Mohamed',\n",
      "  'Sayed'\n",
      "]\n"
     ]
    }
   ],
   "source": [
    "var friends = [\n",
    "    \"Mahmoud\",\n",
    "    \"Hassan\",\n",
    "    \"Soha\",\n",
    "    \"Ahmed\",\n",
    "    \"Zahra\",\n",
    "    \"Hind\",\n",
    "    \"Mohamed\",\n",
    "    \"Sayed\"\n",
    "];\n",
    "\n",
    "var lastItem = friends.shift();\n",
    "\n",
    "console.log(lastItem);\n",
    "\n",
    "console.log(friends.length);\n",
    "console.log(friends);\n",
    "  "
   ]
  },
  {
   "cell_type": "markdown",
   "metadata": {},
   "source": [
    ":: __`Array – Sort Items`__ ::\n",
    "\n",
    ":: __`sort()`__ ::\n",
    "\n",
    "❖ The `sort()` method in JavaScript is used to sort the elements of an array in place, meaning it modifies the original array. By default, it sorts the array elements in ascending order based on their string representations. \n",
    "\n",
    "❖ The `sort()` method can also accept a compare function as an optional parameter, which allows for custom sorting based on specific criteria. The compare function should return a negative value if the first element should be sorted before the second, a positive value if the first element should be sorted after the second, or zero if the elements are equal in terms of sorting."
   ]
  },
  {
   "cell_type": "code",
   "execution_count": 30,
   "metadata": {},
   "outputs": [
    {
     "name": "stdout",
     "output_type": "stream",
     "text": [
      "[\n",
      "  'Ahmed',   'Hassan',\n",
      "  'Hind',    'Mahmoud',\n",
      "  'Mohamed', 'Sayed',\n",
      "  'Soha',    'Zahra'\n",
      "]\n"
     ]
    }
   ],
   "source": [
    "var friends = [\n",
    "    \"Mahmoud\",\n",
    "    \"Hassan\",\n",
    "    \"Soha\",\n",
    "    \"Ahmed\",\n",
    "    \"Zahra\",\n",
    "    \"Hind\",\n",
    "    \"Mohamed\",\n",
    "    \"Sayed\"\n",
    "];\n",
    "\n",
    "var friendsSort = friends.sort();\n",
    "\n",
    "console.log(friendsSort)"
   ]
  },
  {
   "cell_type": "markdown",
   "metadata": {},
   "source": [
    ":: __`reverse()`__ ::\n",
    "\n",
    "❖ The `reverse()` method in JavaScript is used to reverse the order of elements in an array. It modifies the original array by reversing the sequence of its elements. The first element becomes the last, and the last element becomes the first. \n",
    "\n",
    "❖ The `reverse()` method does not take any arguments and returns the modified array.\n"
   ]
  },
  {
   "cell_type": "code",
   "execution_count": 31,
   "metadata": {},
   "outputs": [
    {
     "name": "stdout",
     "output_type": "stream",
     "text": [
      "[\n",
      "  'Sayed',  'Mohamed',\n",
      "  'Hind',   'Zahra',\n",
      "  'Ahmed',  'Soha',\n",
      "  'Hassan', 'Mahmoud'\n",
      "]\n"
     ]
    }
   ],
   "source": [
    "var friends = [\n",
    "    \"Mahmoud\",\n",
    "    \"Hassan\",\n",
    "    \"Soha\",\n",
    "    \"Ahmed\",\n",
    "    \"Zahra\",\n",
    "    \"Hind\",\n",
    "    \"Mohamed\",\n",
    "    \"Sayed\"\n",
    "];\n",
    "\n",
    "var friendsReverse = friends.reverse();\n",
    "\n",
    "console.log(friendsReverse)"
   ]
  },
  {
   "cell_type": "markdown",
   "metadata": {},
   "source": [
    ":: __`Array – Combining And Slicing`__ ::"
   ]
  },
  {
   "cell_type": "markdown",
   "metadata": {},
   "source": [
    ":: __`slice()`__ ::\n",
    "\n",
    "❖ The `slice()` method in JavaScript is used to extract a portion of an array and create a new array containing the selected elements. It takes two optional parameters: the starting index and the ending index (exclusive). \n",
    "\n",
    "❖ The `slice()` method does not modify the original array; instead, it returns a new array with the selected elements. If no parameters are provided, `slice()` will create a shallow copy of the original array. If only the starting index is provided, `slice()` will extract elements from the starting index to the end of the array. Negative indices can also be used to select elements from the end of the array."
   ]
  },
  {
   "cell_type": "code",
   "execution_count": null,
   "metadata": {
    "is_executing": true
   },
   "outputs": [],
   "source": [
    "var friends = [\n",
    "    \"Mahmoud\",\n",
    "    \"Hassan\",\n",
    "    \"Soha\",\n",
    "    \"Ahmed\",\n",
    "    \"Zahra\",\n",
    "    \"Hind\",\n",
    "    \"Mohamed\",\n",
    "    \"Sayed\"\n",
    "];\n",
    "\n",
    "var mySlicedArray = friends.slice(-7, -3); // Negative Start From -1 and Not Zero\n",
    "\n",
    "console.log(mySlicedArray);\n",
    "\n",
    "// console.log(friends); "
   ]
  },
  {
   "cell_type": "markdown",
   "metadata": {},
   "source": [
    ":: __`concat()`__ ::\n",
    "\n",
    "❖ The `concat()` method in JavaScript is used to merge two or more arrays, creating a new array that contains the elements of the original arrays. It does not modify the original arrays, but instead returns a new array. \n",
    "\n",
    "❖ The `concat()` method can take multiple arrays or values as arguments, which are appended in the order they are passed. The resulting array is a combination of all the arrays and values provided."
   ]
  },
  {
   "cell_type": "code",
   "execution_count": 36,
   "metadata": {},
   "outputs": [
    {
     "name": "stdout",
     "output_type": "stream",
     "text": [
      "[\n",
      "  'Mahmoud', 'Hassan',\n",
      "  'Soha',    'Ahmed',\n",
      "  'Zahra',   'Hind',\n",
      "  'Mohamed', 'Sayed',\n",
      "  'Saleh',   'Ahmed',\n",
      "  'Norain',  'Mina',\n",
      "  'Kamel',   'Samah'\n",
      "]\n"
     ]
    }
   ],
   "source": [
    "var friends = [\n",
    "  \"Mahmoud\",\n",
    "  \"Hassan\",\n",
    "  \"Soha\",\n",
    "  \"Ahmed\",\n",
    "  \"Zahra\",\n",
    "  \"Hind\",\n",
    "  \"Mohamed\",\n",
    "  \"Sayed\"\n",
    "];\n",
    "\n",
    "var workFriends = [\n",
    "    \"Saleh\",\n",
    "    \"Ahmed\",\n",
    "    \"Norain\"\n",
    "];\n",
    "  \n",
    "  var otherFriends = [\n",
    "    \"Mina\",\n",
    "    \"Kamel\",\n",
    "    \"Samah\"\n",
    "];\n",
    "\n",
    "var allFriends = friends.concat(workFriends, otherFriends);\n",
    "\n",
    "console.log(allFriends);"
   ]
  },
  {
   "cell_type": "markdown",
   "metadata": {},
   "source": [
    ":: __`Array Search`__ ::"
   ]
  },
  {
   "cell_type": "markdown",
   "metadata": {},
   "source": [
    "syntax\n",
    "\n",
    "> indexOf(\"Value To Search\", Starting Index)"
   ]
  },
  {
   "cell_type": "code",
   "execution_count": 38,
   "metadata": {},
   "outputs": [
    {
     "name": "stdout",
     "output_type": "stream",
     "text": [
      "5\n"
     ]
    }
   ],
   "source": [
    "var friends = [\n",
    "    \"Hassan\",   // 0 Index\n",
    "    \"Ahmed\",    // 1 Index\n",
    "    \"Mohamed\",  // 2 Index\n",
    "    \"Sayed\",    // 3 Index\n",
    "    \"Hind\",     // 4 Index\n",
    "    \"Salwa\",    // 5 Index\n",
    "    \"Sameh\",    // 6 Index\n",
    "    \"Ali\"       // 7 Index\n",
    "];\n",
    "\n",
    "var specialFriends = friends.indexOf(\"Salwa\");\n",
    "\n",
    "console.log(specialFriends);"
   ]
  },
  {
   "cell_type": "markdown",
   "metadata": {},
   "source": [
    "We Can Search From the End to the Beginning Using `lastIndexOf`\n",
    "\n",
    "syntax\n",
    "\n",
    "> lastIndexOf(\"Value To Search\", Starting Index)"
   ]
  },
  {
   "cell_type": "markdown",
   "metadata": {},
   "source": [
    "##### **Strings Methods**\n",
    "\n",
    ":: __`Convert To String`__ ::"
   ]
  },
  {
   "cell_type": "code",
   "execution_count": 40,
   "metadata": {},
   "outputs": [
    {
     "name": "stdout",
     "output_type": "stream",
     "text": [
      "number\n",
      "100\n",
      "string\n"
     ]
    }
   ],
   "source": [
    "var myNumber = 100;\n",
    "\n",
    "console.log(typeof myNumber);\n",
    "\n",
    "var myNewNumber = myNumber.toString(); // First Method\n",
    "\n",
    "var myNewNumber = String(myNumber); // Second Method\n",
    "\n",
    "console.log(myNewNumber)\n",
    "console.log(typeof myNewNumber);"
   ]
  },
  {
   "cell_type": "markdown",
   "metadata": {},
   "source": [
    ":: __`Locate A String`__ ::"
   ]
  },
  {
   "cell_type": "code",
   "execution_count": 41,
   "metadata": {},
   "outputs": [
    {
     "name": "stdout",
     "output_type": "stream",
     "text": [
      "35\n"
     ]
    }
   ],
   "source": [
    "var myStrIng = \"I'm In Love With JavaScript And In Love With PHP\",\n",
    "\n",
    "  myWord = myStrIng.indexOf(\"Love\", 9);\n",
    "\n",
    "console.log(myWord);"
   ]
  },
  {
   "cell_type": "code",
   "execution_count": 42,
   "metadata": {},
   "outputs": [
    {
     "name": "stdout",
     "output_type": "stream",
     "text": [
      "7\n"
     ]
    }
   ],
   "source": [
    "var myStrIng = \"I'm In Love With JavaScript And In Love With PHP\",\n",
    "\n",
    "  myWord = myStrIng.lastIndexOf(\"Love\", 30);\n",
    "\n",
    "console.log(myWord);"
   ]
  },
  {
   "cell_type": "markdown",
   "metadata": {},
   "source": [
    ":: __`search()`__ ::\n",
    "\n",
    "❖ The `search()` method searches a string for a specified pattern and returns the index of the first occurrence of the pattern, or -1 if the pattern is not found.\n",
    "\n",
    "❖ The `search()` Method Can Be Used with Regular Expressions"
   ]
  },
  {
   "cell_type": "code",
   "execution_count": null,
   "metadata": {},
   "outputs": [
    {
     "name": "stdout",
     "output_type": "stream",
     "text": [
      "7\n"
     ]
    }
   ],
   "source": [
    "var myStrIng = \"I'm In Love With JavaScript And In Love With PHP\",\n",
    "\n",
    "  myWord = myStrIng.search(\"Love\");\n",
    "\n",
    "console.log(myWord);"
   ]
  },
  {
   "cell_type": "markdown",
   "metadata": {},
   "source": [
    "Search with Pattern"
   ]
  },
  {
   "cell_type": "code",
   "execution_count": 43,
   "metadata": {},
   "outputs": [
    {
     "name": "stdout",
     "output_type": "stream",
     "text": [
      "7\n"
     ]
    }
   ],
   "source": [
    "var myStrIng = \"I'm In Love With JavaScript And In Love With PHP\",\n",
    "\n",
    "  myWord = myStrIng.search(/Love/i);  // Regular Expression\n",
    "  // Find the First Occurrence of the Word \"Love\" In Any Case (Uppercase, Lowercase, or Mixed)\n",
    "  \n",
    "console.log(myWord);"
   ]
  },
  {
   "cell_type": "markdown",
   "metadata": {},
   "source": [
    ":: __`Split And Extract String`__ ::\n",
    "\n",
    "  > Split: split( Separator, Limit )\n",
    "\n",
    "  ❖ `Slice`: slice( Start [Required], End [Optional] )\n",
    "  \n",
    "  ❖ `Substr`: substr( Start [Required], Length [Optional] )\n",
    "  \n",
    "  ❖ `Substring`: substring( Start [Required], End [Optional] )\n",
    "  "
   ]
  },
  {
   "cell_type": "code",
   "execution_count": 44,
   "metadata": {},
   "outputs": [
    {
     "name": "stdout",
     "output_type": "stream",
     "text": [
      "string\n",
      "[ 'I', 'Love', 'JavaScript', 'And' ]\n",
      "object\n"
     ]
    }
   ],
   "source": [
    "// Split First Example\n",
    "\n",
    "var myMainString = \"I Love JavaScript And JSON\",\n",
    "\n",
    "  mySplittedString = myMainString.split(\" \", 4);\n",
    "\n",
    "console.log(typeof myMainString);\n",
    "\n",
    "console.log(mySplittedString);\n",
    "\n",
    "console.log(typeof mySplittedString);"
   ]
  },
  {
   "cell_type": "code",
   "execution_count": 45,
   "metadata": {},
   "outputs": [
    {
     "name": "stdout",
     "output_type": "stream",
     "text": [
      "string\n",
      "[ 'I', 'Love' ]\n",
      "object\n"
     ]
    }
   ],
   "source": [
    "// Split Second Example\n",
    "\n",
    "var myMainString = \"I-Love-JavaScript-And-JSON\",\n",
    "\n",
    "  mySplittedString = myMainString.split(\"-\", 2);\n",
    "\n",
    "console.log(typeof myMainString);\n",
    "\n",
    "console.log(mySplittedString);\n",
    "\n",
    "console.log(typeof mySplittedString);"
   ]
  },
  {
   "cell_type": "code",
   "execution_count": 46,
   "metadata": {},
   "outputs": [
    {
     "name": "stdout",
     "output_type": "stream",
     "text": [
      "string\n",
      "JavaScript\n",
      "string\n"
     ]
    }
   ],
   "source": [
    "// Slice\n",
    "\n",
    "var myMainString = \"I Love JavaScript And JSON\",\n",
    "\n",
    "  mySlicedString = myMainString.slice(7, 17);\n",
    "\n",
    "console.log(typeof myMainString);\n",
    "\n",
    "console.log(mySlicedString);\n",
    "\n",
    "console.log(typeof mySlicedString);"
   ]
  },
  {
   "cell_type": "markdown",
   "metadata": {},
   "source": [
    ":: __`substr()`__ ::\n",
    "\n",
    "The `substr()` method in JavaScript is used to extract a substring from a string. It takes two parameters: the starting index and the length of the substring. \n",
    "\n",
    "The `substr()` method returns the specified number of characters starting from the specified index."
   ]
  },
  {
   "cell_type": "code",
   "execution_count": 47,
   "metadata": {},
   "outputs": [
    {
     "name": "stdout",
     "output_type": "stream",
     "text": [
      "string\n",
      "J\n",
      "string\n"
     ]
    }
   ],
   "source": [
    "// Substr\n",
    "\n",
    "var myMainString = \"I Love JavaScript And JSON\",\n",
    "\n",
    "  mySubString = myMainString.substr(7, 1);\n",
    "\n",
    "console.log(typeof myMainString);\n",
    "\n",
    "console.log(mySubString);\n",
    "\n",
    "console.log(typeof mySubString);"
   ]
  },
  {
   "cell_type": "markdown",
   "metadata": {},
   "source": [
    ":: __`substring()`__ ::\n",
    "\n",
    "❖ The `substring()` method in JavaScript is used to extract a portion of a string and return it as a new string. It takes two parameters: the starting index and the ending index (optional). \n",
    "\n",
    "❖ The `substring()` method returns the characters from the starting index up to, but not including, the ending index."
   ]
  },
  {
   "cell_type": "code",
   "execution_count": 48,
   "metadata": {},
   "outputs": [
    {
     "name": "stdout",
     "output_type": "stream",
     "text": [
      "JavaScript A\n",
      "string\n"
     ]
    }
   ],
   "source": [
    "// Substring\n",
    "\n",
    "var myMainString = \"I Love JavaScript And JSON\",\n",
    "\n",
    "  mySubString = myMainString.substring(19, 7);\n",
    "\n",
    "console.log(mySubString);\n",
    "\n",
    "console.log(typeof mySubString);"
   ]
  },
  {
   "cell_type": "markdown",
   "metadata": {},
   "source": [
    ":: __`Find And Replace String`__ ::\n",
    "\n",
    "> charAt( Index )\n",
    "\n",
    "> charCodeAt( Index )\n",
    "\n",
    "> replace( Value, New Value )\n"
   ]
  },
  {
   "cell_type": "markdown",
   "metadata": {},
   "source": [
    ":: __`charAt()`__ ::\n",
    "\n",
    "❖ The `charAt()` method in JavaScript is used to retrieve the character at a specified index within a string. It takes a single parameter, which is the index of the desired character. \n",
    "\n",
    "❖ The method returns the character at the specified index as a string."
   ]
  },
  {
   "cell_type": "code",
   "execution_count": 49,
   "metadata": {},
   "outputs": [
    {
     "name": "stdout",
     "output_type": "stream",
     "text": [
      "26\n",
      "u\n"
     ]
    }
   ],
   "source": [
    "// charAt\n",
    "\n",
    "var myString = \"I Love JavaScript Too Much\",\n",
    "\n",
    "  myLength = myString.length,\n",
    "\n",
    "  myChar = myString.charAt(myString.length - 3);\n",
    "\n",
    "console.log(myLength);\n",
    "\n",
    "console.log(myChar);"
   ]
  },
  {
   "cell_type": "markdown",
   "metadata": {},
   "source": [
    ":: __`charCodeAt()`__ ::\n",
    "\n",
    "❖ The `charCodeAt()` method in JavaScript is used to retrieve the Unicode value of the character at a specified index within a string. It takes a single parameter, which is the index of the desired character. \n",
    "\n",
    "❖ The method returns the Unicode value of the character at the specified index.\n",
    "\n",
    "❖ `Unicode` is a character encoding standard that assigns a unique numeric value (code point) to every character across different writing systems and languages. It provides a universal way to represent and handle text in various scripts and symbols."
   ]
  },
  {
   "cell_type": "code",
   "execution_count": 51,
   "metadata": {},
   "outputs": [
    {
     "name": "stdout",
     "output_type": "stream",
     "text": [
      "74\n"
     ]
    }
   ],
   "source": [
    "// charCodeAt\n",
    "\n",
    "var myString = \"I Love JavaScript Too Much\",\n",
    "\n",
    "  myChar = myString.charCodeAt(7);\n",
    "\n",
    "console.log(myChar);\n"
   ]
  },
  {
   "cell_type": "markdown",
   "metadata": {},
   "source": [
    ":: __`replace()`__ ::\n",
    "\n",
    "❖ The `replace()` method in JavaScript is used to search for a specified pattern (or regular expression) in a string and replace it with a new substring or value. \n",
    "\n",
    "❖ It returns a new string with the replacements made."
   ]
  },
  {
   "cell_type": "code",
   "execution_count": 52,
   "metadata": {},
   "outputs": [
    {
     "name": "stdout",
     "output_type": "stream",
     "text": [
      "I Love PHP Too Much, PHP Is Very Fun\n"
     ]
    }
   ],
   "source": [
    "// replace\n",
    "\n",
    "var myString = \"I Love JavaScript Too Much, JavaScript Is Very Fun\",\n",
    "\n",
    "  myReplace = myString.replace(/JavaScript/gi, \"PHP\"); // Regular Expression\n",
    "  \n",
    "\n",
    "\n",
    "console.log(myReplace);"
   ]
  },
  {
   "cell_type": "markdown",
   "metadata": {},
   "source": [
    "❖ `JavaScript`: This specifies the sequence of characters to search for, which is the word \"JavaScript\" in this case.\n",
    "\n",
    "❖ `/g`: This is the global search flag. It means that the search should not stop at the first match found. Instead, it will continue to search for all occurrences of the specified pattern within the string.\n",
    "\n",
    "❖ `/i`: This is the case-insensitive search flag, making the search ignore case differences. It will match \"JavaScript\", \"javascript\", \"JAVASCRIPT\", and any other case variations."
   ]
  },
  {
   "cell_type": "markdown",
   "metadata": {},
   "source": [
    ":: __`Concatenating`__ ::\n",
    "\n",
    "> String.fromCharCode( Num1, Num2, Num3, Num4 )\n",
    "\n",
    "> concat(String, String, String, String)\n",
    "\n",
    ":: __`String.fromCharCode()`__ ::\n",
    "\n",
    "`String.fromCharCode()` is a method used to create a string from a sequence of Unicode values (character codes). It takes one or more Unicode values as arguments and returns a string representing the characters corresponding to those Unicode values."
   ]
  },
  {
   "cell_type": "code",
   "execution_count": 53,
   "metadata": {},
   "outputs": [
    {
     "name": "stdout",
     "output_type": "stream",
     "text": [
      "Osama\n"
     ]
    }
   ],
   "source": [
    "// fromCharCode\n",
    "\n",
    "var myMessage = String.fromCharCode(79, 115, 97, 109, 97);\n",
    "\n",
    "console.log(myMessage);"
   ]
  },
  {
   "cell_type": "code",
   "execution_count": 54,
   "metadata": {},
   "outputs": [
    {
     "name": "stdout",
     "output_type": "stream",
     "text": [
      "Hello I LovePHP And JavaScript And Python\n"
     ]
    }
   ],
   "source": [
    "// concat First Example\n",
    "\n",
    "var myMessage = \"Hello I Love\",\n",
    "\n",
    "  myMessage2 = \"PHP And JavaScript\",\n",
    "\n",
    "  myAll = myMessage.concat(\"\", myMessage2, \" And Python\");\n",
    "\n",
    "console.log(myAll);\n"
   ]
  },
  {
   "cell_type": "code",
   "execution_count": 55,
   "metadata": {},
   "outputs": [
    {
     "name": "stdout",
     "output_type": "stream",
     "text": [
      "Hello I Love PHP And JavaScript And Python\n"
     ]
    }
   ],
   "source": [
    "var myAll = \"Hello I Love\" .concat(\" \", \"PHP And JavaScript\", \" And Python\");\n",
    "\n",
    "console.log(myAll);"
   ]
  },
  {
   "cell_type": "markdown",
   "metadata": {},
   "source": [
    ":: __`Convert String Letters`__ ::"
   ]
  },
  {
   "cell_type": "markdown",
   "metadata": {},
   "source": [
    ":: __`toLowerCase()`__ ::\n",
    "\n",
    "`toLowerCase()` is a Method Used to Convert the Characters of a String to Lowercase. It Doesn't Modify the Original String but Returns a New String with All the Characters Converted to Lowercase."
   ]
  },
  {
   "cell_type": "code",
   "execution_count": 56,
   "metadata": {},
   "outputs": [
    {
     "name": "stdout",
     "output_type": "stream",
     "text": [
      "i love js\n",
      "hello iam osama\n"
     ]
    }
   ],
   "source": [
    "// toLowerCase()\n",
    "\n",
    "var myString = \"I Love Js\",\n",
    "\n",
    "  mySmallString = myString.toLowerCase();\n",
    "\n",
    "console.log(mySmallString);\n",
    "\n",
    "console.log(\"HELLO IAM OSAMA\".toLowerCase());"
   ]
  },
  {
   "cell_type": "code",
   "execution_count": 57,
   "metadata": {},
   "outputs": [
    {
     "name": "stdout",
     "output_type": "stream",
     "text": [
      "I LOVE JS\n",
      "HELLO IAM OSAMA\n"
     ]
    }
   ],
   "source": [
    "// toUpperCase()\n",
    "\n",
    "var myString = \"I Love Js\",\n",
    "\n",
    "  myCapitalString = myString.toUpperCase();\n",
    "\n",
    "console.log(myCapitalString);\n",
    "\n",
    "console.log(\"Hello Iam Osama\".toUpperCase());"
   ]
  },
  {
   "cell_type": "markdown",
   "metadata": {},
   "source": [
    ":: __`trim()`__ ::\n",
    "\n",
    "The `Trim()` Method Is Used to Remove Whitespace (Spaces, Tabs, and Newline Characters) From Both Ends of a String. It Doesn't Modify the Original String but Returns a New String with the Leading and Trailing Whitespace Removed."
   ]
  },
  {
   "cell_type": "code",
   "execution_count": 58,
   "metadata": {},
   "outputs": [
    {
     "name": "stdout",
     "output_type": "stream",
     "text": [
      "Hello Iam Osama\n"
     ]
    }
   ],
   "source": [
    "var myString = \"         Hello Iam Osama       \";\n",
    "\n",
    "var myNewString = myString.trim();\n",
    "\n",
    "console.log(myNewString);"
   ]
  },
  {
   "cell_type": "markdown",
   "metadata": {},
   "source": [
    ":: __`link()`__ ::\n",
    "\n",
    "The `Link()` Method Creates an HTML Anchor `(<a>)` Element with the Given URL as Its Href Attribute and the String as Its Content. "
   ]
  },
  {
   "cell_type": "code",
   "execution_count": 59,
   "metadata": {},
   "outputs": [
    {
     "name": "stdout",
     "output_type": "stream",
     "text": [
      "Go To Google By This Link => <a href=\"http://www.google.com\">Google</a>\n"
     ]
    }
   ],
   "source": [
    "var myString = \"Google\";\n",
    "\n",
    "console.log(\"Go To Google By This Link => \" + myString.link(\"http://www.google.com\"));"
   ]
  },
  {
   "cell_type": "markdown",
   "metadata": {},
   "source": [
    ":: __`Strings Methods – Chain`__ ::"
   ]
  },
  {
   "cell_type": "code",
   "execution_count": null,
   "metadata": {},
   "outputs": [],
   "source": [
    "var myNumber = 120,\n",
    "\n",
    "  myString = myNumber.toString().replace(0, 3).split(\"\");\n",
    "\n",
    "console.log(myString);  //  [ '1', '2', '3' ] "
   ]
  },
  {
   "cell_type": "markdown",
   "metadata": {},
   "source": [
    "##### **Loop – For**"
   ]
  },
  {
   "cell_type": "code",
   "execution_count": null,
   "metadata": {},
   "outputs": [],
   "source": [
    "// syntax\n",
    "\n",
    "for ( Initialization; Condition; Final_Expression ) {\n",
    "\n",
    "    // Statement\n",
    "\n",
    "}\n"
   ]
  },
  {
   "cell_type": "markdown",
   "metadata": {},
   "source": [
    "  ❖ `Initialization`: Executed Before The Loop Once\n",
    "  \n",
    "  ❖ `Condition`: Define The Condition To Run The Loop\n",
    "  \n",
    "  ❖ `Final Expression`: Executed Everytime The Code Run\n",
    "  "
   ]
  },
  {
   "cell_type": "code",
   "execution_count": 62,
   "metadata": {},
   "outputs": [
    {
     "name": "stdout",
     "output_type": "stream",
     "text": [
      "0\n",
      "1\n",
      "2\n",
      "3\n",
      "4\n",
      "5\n",
      "6\n",
      "7\n",
      "8\n",
      "9\n",
      "10\n"
     ]
    }
   ],
   "source": [
    "var i;\n",
    "\n",
    "for (i = 0; i <= 10; i++) {\n",
    "\n",
    "  console.log(i);\n",
    "\n",
    "}"
   ]
  },
  {
   "cell_type": "code",
   "execution_count": 63,
   "metadata": {},
   "outputs": [
    {
     "name": "stdout",
     "output_type": "stream",
     "text": [
      "6\n",
      "Ahmed\n",
      "Sayed\n",
      "Mahmoud\n",
      "Kamel\n",
      "Salah\n",
      "Gamal\n"
     ]
    }
   ],
   "source": [
    "var friends = [\"Ahmed\", \"Sayed\", \"Mahmoud\", \"Kamel\", \"Salah\", \"Gamal\"];\n",
    "\n",
    "console.log(friends.length);\n",
    "\n",
    "var i;\n",
    "\n",
    "for (i = 0; i < friends.length; i++) {\n",
    "\n",
    "  console.log(friends[i]);\n",
    "\n",
    "}\n",
    "\n",
    "// what's happening behind the scene: \n",
    "// console.log(friends[0]);\n",
    "// console.log(friends[1]);\n",
    "// console.log(friends[2]);\n",
    "// console.log(friends[3]);\n",
    "// console.log(friends[4]);\n",
    "// console.log(friends[5]);"
   ]
  },
  {
   "cell_type": "markdown",
   "metadata": {},
   "source": [
    ":: __`Loop – For … In`__ ::"
   ]
  },
  {
   "cell_type": "code",
   "execution_count": null,
   "metadata": {},
   "outputs": [],
   "source": [
    "/*\n",
    "  For ... In Loop Syntax\n",
    "\n",
    "  for (Property in Object) {\n",
    "\n",
    "    if ( Object.hasOwnProperty(Variable) ) {\n",
    "\n",
    "      // Statement\n",
    "\n",
    "    }\n",
    "\n",
    "  }\n",
    "\n",
    "*/"
   ]
  },
  {
   "cell_type": "code",
   "execution_count": 64,
   "metadata": {},
   "outputs": [
    {
     "name": "stdout",
     "output_type": "stream",
     "text": [
      "colour: White\n",
      "type: Sedan\n",
      "price: 50.000\n",
      "model: 2015\n"
     ]
    }
   ],
   "source": [
    "var myCar = {\n",
    "    colour: \"White\",\n",
    "    type: \"Sedan\",\n",
    "    price: \"50.000\",\n",
    "    model: \"2015\",\n",
    "};\n",
    "\n",
    "var prop;\n",
    "\n",
    "for (prop in myCar) {\n",
    "\n",
    "  console.log(prop + \": \" + myCar[prop]);\n",
    "\n",
    "}"
   ]
  },
  {
   "cell_type": "code",
   "execution_count": 65,
   "metadata": {},
   "outputs": [
    {
     "name": "stdout",
     "output_type": "stream",
     "text": [
      "colour: White\n",
      "type: Sedan\n",
      "price: 50.000\n",
      "model: 2015\n"
     ]
    }
   ],
   "source": [
    "var myCar = {\n",
    "    colour: \"White\",\n",
    "    type: \"Sedan\",\n",
    "    price: \"50.000\",\n",
    "    model: \"2015\",\n",
    "};\n",
    "\n",
    "var prop;\n",
    "\n",
    "for (prop in myCar) {\n",
    "\n",
    "  if (myCar.hasOwnProperty(prop)) {\n",
    "\n",
    "    console.log(prop + \": \" + myCar[prop]);\n",
    "\n",
    "  }\n",
    "\n",
    "}"
   ]
  },
  {
   "cell_type": "markdown",
   "metadata": {},
   "source": [
    ":: __`Loop – For Advanced`__ ::"
   ]
  },
  {
   "cell_type": "code",
   "execution_count": 66,
   "metadata": {},
   "outputs": [
    {
     "name": "stdout",
     "output_type": "stream",
     "text": [
      "0\n",
      "1\n",
      "2\n",
      "3\n",
      "4\n",
      "5\n",
      "6\n",
      "7\n",
      "8\n",
      "9\n",
      "10\n"
     ]
    }
   ],
   "source": [
    "var i = 0;\n",
    "\n",
    "for (; i <= 10; i++) {\n",
    "\n",
    "  console.log(i);\n",
    "\n",
    "}"
   ]
  },
  {
   "cell_type": "code",
   "execution_count": 67,
   "metadata": {},
   "outputs": [
    {
     "name": "stdout",
     "output_type": "stream",
     "text": [
      "0\n",
      "1\n",
      "2\n",
      "3\n",
      "4\n",
      "5\n",
      "6\n",
      "7\n",
      "8\n",
      "9\n",
      "10\n"
     ]
    }
   ],
   "source": [
    "var i = 0;\n",
    "\n",
    "for (;; i++) {\n",
    "\n",
    "  if (i > 10) break;\n",
    "\n",
    "  console.log(i);\n",
    "\n",
    "}"
   ]
  },
  {
   "cell_type": "markdown",
   "metadata": {},
   "source": [
    ":: __`Practical Generate Years Function`__ ::"
   ]
  },
  {
   "cell_type": "code",
   "execution_count": null,
   "metadata": {},
   "outputs": [],
   "source": [
    "// main.js file\n",
    "// Generate Years Function\n",
    "\n",
    "function generateYears(Start, End) {\n",
    "\n",
    "    \"use strict\";\n",
    "  \n",
    "    var years;\n",
    "  \n",
    "    document.write(\"<select>\");\n",
    "  \n",
    "    for (years = Start; years <= End; years++) {\n",
    "  \n",
    "      document.write(\"<option value=\\\"\" + years + \"\\\">\" + years + \"</option>\");\n",
    "  \n",
    "    }\n",
    "  \n",
    "    document.write(\"</select>\");\n",
    "  \n",
    "  }\n",
    "  \n",
    "  generateYears(1900, 2015); // Mahmoud\n",
    "  \n",
    "  generateYears(1950, 2010); // Ahmed\n",
    "  \n",
    "  generateYears(2000, 2012); // Osama"
   ]
  },
  {
   "cell_type": "code",
   "execution_count": null,
   "metadata": {
    "vscode": {
     "languageId": "html"
    }
   },
   "outputs": [],
   "source": [
    "<!-- index.html file -->\n",
    "<!DOCTYPE html>\n",
    "<html lang=\"en\">\n",
    "  <head>\n",
    "    <meta charset=\"UTF-8\" />\n",
    "    <title>Learn JavaScript => Loops - For Advanced</title>\n",
    "  </head>\n",
    "  <body>\n",
    "    <script src=\"main.js\"></script>\n",
    "  </body>\n",
    "</html>"
   ]
  },
  {
   "cell_type": "markdown",
   "metadata": {},
   "source": [
    "The Output Will Be Like This: \n",
    "\n",
    "![Generate Years](https://i.imgur.com/qkdZBk5.png)"
   ]
  },
  {
   "cell_type": "markdown",
   "metadata": {},
   "source": [
    ":: __`Loop – While, Do, While`__ ::"
   ]
  },
  {
   "cell_type": "code",
   "execution_count": null,
   "metadata": {},
   "outputs": [],
   "source": [
    "// Generate Years Function With While\n",
    "\n",
    "function generateYears(Start, End) {\n",
    "\n",
    "  \"use strict\";\n",
    "\n",
    "  var years = Start;\n",
    "\n",
    "  document.write(\"<select>\");\n",
    "\n",
    "  while (years <= End) {\n",
    "\n",
    "    document.write(\"<option value=\\\"\" + years + \"\\\">\" + years + \"</option>\");\n",
    "\n",
    "    years++;\n",
    "\n",
    "  }\n",
    "\n",
    "  document.write(\"</select>\");\n",
    "\n",
    "}\n",
    "\n",
    "generateYears(1900, 2015); // Mahmoud\n",
    "\n",
    "generateYears(1950, 2010); // Ahmed\n",
    "\n",
    "generateYears(2000, 2012); // Osama"
   ]
  },
  {
   "cell_type": "code",
   "execution_count": null,
   "metadata": {},
   "outputs": [],
   "source": [
    "// Do While\n",
    "\n",
    "var i = 0;\n",
    "\n",
    "do {\n",
    "\n",
    "  console.log(i);\n",
    "\n",
    "  i++;\n",
    "\n",
    "} while (i <= 10);\n",
    "\n",
    "// This Will Print From 0 to 10"
   ]
  },
  {
   "cell_type": "code",
   "execution_count": null,
   "metadata": {},
   "outputs": [],
   "source": [
    "// Generate Years Function With Do / While\n",
    "\n",
    "function generateYears(Start, End) {\n",
    "\n",
    "    \"use strict\";\n",
    "  \n",
    "    var years = Start;\n",
    "  \n",
    "    document.write(\"<select>\");\n",
    "  \n",
    "    do {\n",
    "  \n",
    "      document.write(\"<option value=\\\"\" + years + \"\\\">\" + years + \"</option>\");\n",
    "  \n",
    "      years++;\n",
    "  \n",
    "    } while (years <= End);\n",
    "  \n",
    "    document.write(\"</select>\");\n",
    "  \n",
    "  }\n",
    "  \n",
    "  generateYears(1900, 2015); // Mahmoud\n",
    "  \n",
    "  generateYears(1950, 2010); // Ahmed\n",
    "  \n",
    "  generateYears(2000, 2012); // Osama"
   ]
  },
  {
   "cell_type": "markdown",
   "metadata": {},
   "source": [
    ":: __`Loop – Control, Break, Continue, Label`__ ::"
   ]
  },
  {
   "cell_type": "code",
   "execution_count": null,
   "metadata": {},
   "outputs": [],
   "source": [
    "// Continue\n",
    "\n",
    "var i;\n",
    "\n",
    "for (i = 1; i < 10; i++) {\n",
    "\n",
    "  if (i === 4) {  \n",
    "\n",
    "    continue;   // skip number 4 in the loop\n",
    "\n",
    "}\n",
    "\n",
    "  console.log(i);\n",
    "\n",
    "}\n",
    "\n",
    "/*\n",
    "1\n",
    "2\n",
    "3\n",
    "5\n",
    "6\n",
    "7\n",
    "8\n",
    "9\n",
    "*/"
   ]
  },
  {
   "cell_type": "code",
   "execution_count": null,
   "metadata": {},
   "outputs": [],
   "source": [
    "var i, x;\n",
    "\n",
    "MainLoop:\n",
    "\n",
    "for (i = 1; i < 5; i++) {\n",
    "\n",
    "  ChildLoop:\n",
    "\n",
    "  for (x = 15; x < 20; x++) {\n",
    "\n",
    "    if (x === 19) {\n",
    "\n",
    "      break ChildLoop;\n",
    "\n",
    "    }\n",
    "\n",
    "    console.log(i + \" => \" + x);\n",
    "\n",
    "  }\n",
    "\n",
    "}\n",
    "/* Output:\n",
    "1 => 15\n",
    "1 => 16\n",
    "1 => 17\n",
    "1 => 18\n",
    "2 => 15\n",
    "2 => 16\n",
    "2 => 17\n",
    "2 => 18\n",
    "3 => 15\n",
    "3 => 16\n",
    "3 => 17\n",
    "3 => 18\n",
    "4 => 15\n",
    "4 => 16\n",
    "4 => 17\n",
    "4 => 18\n",
    "*/"
   ]
  },
  {
   "cell_type": "code",
   "execution_count": null,
   "metadata": {},
   "outputs": [],
   "source": [
    "// Label + Continue\n",
    "\n",
    "var i, x;\n",
    "\n",
    "MainLoop:\n",
    "\n",
    "for (i = 1; i < 5; i++) {\n",
    "\n",
    "  ChildLoop:\n",
    "\n",
    "  for (x = 15; x < 20; x++) {\n",
    "\n",
    "    if (x === 17) {\n",
    "\n",
    "      continue MainLoop; // Skip Number 17\n",
    "\n",
    "    }\n",
    "\n",
    "    console.log(i + \" => \" + x);\n",
    "\n",
    "  }\n",
    "\n",
    "}\n",
    "\n",
    "/* output:\n",
    "1 => 15\n",
    "1 => 16\n",
    "2 => 15\n",
    "2 => 16\n",
    "3 => 15\n",
    "3 => 16\n",
    "4 => 15\n",
    "4 => 16\n",
    "*/"
   ]
  },
  {
   "cell_type": "markdown",
   "metadata": {},
   "source": [
    "##### **Math**\n",
    "\n",
    ":: __`Math – Ceil`__ ::\n",
    "\n",
    "> Syntax: Math.ceil(x)\n",
    "\n",
    "In JavaScript, the `Math.ceil(x)` function returns the smallest integer greater than or equal to a given number `x`. \n",
    "\n",
    "Here's how it works:\n",
    "\n",
    "❖ If `x` is an integer, `Math.ceil(x)` returns `x`.\n",
    "\n",
    "❖ If `x` is a floating-point number (a number with decimal places), `Math.ceil(x)` returns the smallest integer greater than or equal to `x`.\n"
   ]
  },
  {
   "cell_type": "code",
   "execution_count": null,
   "metadata": {},
   "outputs": [],
   "source": [
    "var x = Math.ceil(4.2);\n",
    "console.log(x); // Output: 5"
   ]
  },
  {
   "cell_type": "code",
   "execution_count": null,
   "metadata": {},
   "outputs": [],
   "source": [
    "var x = Math.ceil(4.00001);\n",
    "console.log(x); // Output: 5"
   ]
  },
  {
   "cell_type": "code",
   "execution_count": null,
   "metadata": {},
   "outputs": [],
   "source": [
    "var x = Math.ceil(-4.5);\n",
    "console.log(x); // Output: -4"
   ]
  },
  {
   "cell_type": "code",
   "execution_count": null,
   "metadata": {},
   "outputs": [],
   "source": [
    "var x = Math.ceil(10 - 1.9);\n",
    "console.log(x); // Output: 9"
   ]
  },
  {
   "cell_type": "markdown",
   "metadata": {},
   "source": [
    ":: __`Math – Floor`__ ::\n",
    "\n",
    "> Syntax: Math.floor(x)\n",
    "\n",
    "In JavaScript, the `Math.floor(x)` function returns the largest integer less than or equal to a given number `x`.\n",
    "\n",
    "Here's how it works:\n",
    "\n",
    "❖ If `x` is an integer, `Math.floor(x)` returns `x`.\n",
    "\n",
    "❖ If `x` is a floating-point number (a number with decimal places), `Math.floor(x)` returns the largest integer less than or equal to `x`.\n",
    "\n"
   ]
  },
  {
   "cell_type": "code",
   "execution_count": null,
   "metadata": {},
   "outputs": [],
   "source": [
    "var x = Math.floor(8.9);\n",
    "console.log(x); // Output: 8"
   ]
  },
  {
   "cell_type": "code",
   "execution_count": null,
   "metadata": {},
   "outputs": [],
   "source": [
    "var x = Math.floor(8.999);\n",
    "console.log(x); // Output: 8"
   ]
  },
  {
   "cell_type": "code",
   "execution_count": null,
   "metadata": {},
   "outputs": [],
   "source": [
    "var x = Math.floor(-8.999);\n",
    "console.log(x); // Output: -9"
   ]
  },
  {
   "cell_type": "code",
   "execution_count": null,
   "metadata": {},
   "outputs": [],
   "source": [
    "var x = Math.floor(1 + 0.9);\n",
    "console.log(x); // Output: 1"
   ]
  },
  {
   "cell_type": "markdown",
   "metadata": {},
   "source": [
    ":: __`Math – Round`__ ::\n",
    "\n",
    "> Syntax: Math.round(x)\n",
    "\n",
    "❖ In JavaScript, the `Math.round(x)` function returns the value of a number `x` rounded to the nearest integer. \n",
    "\n",
    "❖ If the fractional portion of `x` is less than 0.5, `Math.round(x)` returns the largest integer less than or equal to `x`; otherwise, it returns the smallest integer greater than or equal to `x`.\n",
    "\n",
    "Here's how it works:\n",
    "\n",
    "❖ If the fractional portion of `x` is less than 0.5, `Math.round(x)` returns the largest integer less than or equal to `x`.\n",
    "\n",
    "❖ If the fractional portion of `x` is greater than or equal to 0.5, `Math.round(x)` returns the smallest integer greater than or equal to `x`.\n",
    "\n",
    "\n",
    "This function is commonly used to round numbers to the nearest integer.\n"
   ]
  },
  {
   "cell_type": "code",
   "execution_count": null,
   "metadata": {},
   "outputs": [],
   "source": [
    "var x = Math.round(1.4);\n",
    "console.log(x);  // Output: 1"
   ]
  },
  {
   "cell_type": "code",
   "execution_count": null,
   "metadata": {},
   "outputs": [],
   "source": [
    "var x = Math.round(1.499999);\n",
    "console.log(x);  // Output: 1"
   ]
  },
  {
   "cell_type": "code",
   "execution_count": null,
   "metadata": {},
   "outputs": [],
   "source": [
    "var x = Math.round(5.499);\n",
    "console.log(x);  // Output: 5"
   ]
  },
  {
   "cell_type": "markdown",
   "metadata": {},
   "source": [
    ":: __`Math – Min, Max`__ ::\n",
    "\n",
    "> Syntax: Math.min(Val, Val, Val, Val)\n",
    "\n",
    "> Syntax: Math.max(Val, Val, Val, Val)\n",
    "\n",
    "❖ The `Math.min()` Function Is Used to Find the Smallest Number Among the Arguments Provided to It. It Can Accept Any Number of Arguments, Separated by Commas, and Returns the Smallest of Those Numbers.\n",
    "\n",
    "❖ The `Math.max()` Function Is the Counterpart of Math.min(). It Is Used to Find the Largest Number Among the Arguments Provided to It. Like Math.min(), It Can Accept Any Number of Arguments, Separated by Commas, and Returns the Largest of Those Numbers.\n",
    "\n",
    "\n"
   ]
  },
  {
   "cell_type": "code",
   "execution_count": null,
   "metadata": {},
   "outputs": [],
   "source": [
    "var x = Math.min(100, 10, 50, 1000, -90, -120, -100.500, 150.10);\n",
    "console.log(x);     // Output: -120\n",
    "console.log(Math.floor(Math.round(x) + 10.5));     // Output: -110"
   ]
  },
  {
   "cell_type": "code",
   "execution_count": null,
   "metadata": {},
   "outputs": [],
   "source": [
    "var x = Math.max(100, 10, 50, 1000, -90, -120, -100.500, 150.10);\n",
    "console.log(x);     // Output: 1000\n",
    "console.log(Math.floor(Math.round(x) + 10.5));     // Output: 1010"
   ]
  },
  {
   "cell_type": "markdown",
   "metadata": {},
   "source": [
    ":: __`Math – Random`__ ::\n",
    "\n",
    "> Syntax: Math.random()\n",
    "\n",
    "❖ The `Math.random()` Function Is Used to Generate a Pseudo-Random Floating-Point Number Between 0 (Inclusive) and 1 (Exclusive). \n",
    "\n",
    "❖ The Returned Value Is a Floating-Point Number, Uniformly Distributed over the Range [0, 1), Meaning It Could Be Any Value From 0 up to but Not Including 1."
   ]
  },
  {
   "cell_type": "code",
   "execution_count": null,
   "metadata": {},
   "outputs": [],
   "source": [
    "var x = Math.random();\n",
    "\n",
    "console.log(x);     // Output: 0.7993117930430855\n",
    "console.log(x * 20);     // Output: 15.986235860861711"
   ]
  },
  {
   "cell_type": "code",
   "execution_count": null,
   "metadata": {},
   "outputs": [],
   "source": [
    "var x = Math.random();\n",
    "\n",
    "console.log(x);     // Output: 0.722511983453819\n",
    "console.log( Math.floor( (x * 10) + 1 ) );     //Output: 8"
   ]
  },
  {
   "cell_type": "code",
   "execution_count": null,
   "metadata": {},
   "outputs": [],
   "source": [
    "var x = Math.random(),\n",
    "\n",
    "  myEndPattern = 10;\n",
    "\n",
    "console.log(x);     // Output: 0.88803100392965\n",
    "console.log((x * myEndPattern) + 1); // Output: 9.8803100392965"
   ]
  },
  {
   "cell_type": "code",
   "execution_count": null,
   "metadata": {},
   "outputs": [],
   "source": [
    "var x = Math.random(),\n",
    "\n",
    "  myEndPattern = 1000;\n",
    "\n",
    "\n",
    "console.log(x);     // Output: 0.7566946149496732\n",
    "console.log( Math.floor( ( Math.random() * myEndPattern ) + 1 ) );     // Output: 359"
   ]
  },
  {
   "cell_type": "markdown",
   "metadata": {},
   "source": [
    "##### **Regular Expression**\n",
    "\n",
    "Regulat Expression Syntax\n",
    "\n",
    "> /Pattern/Attributes\n",
    "\n",
    "> Search | Replace | Match | Split | Test\n",
    "\n",
    ":: __`Attributes List`__ ::\n",
    "\n",
    "`[ i ]` => Case Insensetive\n",
    "\n",
    "`[ g ]` => Global Search\n",
    "\n",
    "`[ m ]` => Multi Line Search"
   ]
  },
  {
   "cell_type": "code",
   "execution_count": null,
   "metadata": {},
   "outputs": [],
   "source": [
    "var string = \"I Love Elzero Web School\",\n",
    "\n",
    "  result = string.replace(/L/gi, \"@\");\n",
    "\n",
    "console.log(result);    // Output: I @ove E@zero Web Schoo@"
   ]
  },
  {
   "cell_type": "markdown",
   "metadata": {},
   "source": [
    ":: __`Regular Expression – Brackets`__ ::\n",
    "\n",
    "__Regulat Expression Syntax:__ \n",
    "\n",
    "> /Pattern/Attributes\n",
    "\n",
    "> Search | Replace | Match | Split | Test\n",
    "\n",
    "__Attributes List__\n",
    "\n",
    "`[ i ]` => Case Insensetive\n",
    "\n",
    "`[ g ]` => Global Search\n",
    "\n",
    "`[ m ]` => Multi Line Search\n",
    "\n",
    "__Brackets Use__\n",
    "\n",
    "`[...]` Character\n",
    "\n",
    "`[^...]` Not Character\n",
    "\n",
    "`[a-z]` Range Small Letters\n",
    "\n",
    "`[A-Z]` Range Capital Letters\n",
    "\n",
    "`[0-9]` Range Numbers\n",
    "\n",
    "`[^0-9]` Not Range\n",
    "\n",
    "`[A-g]` = Range[A-Z] Range[a-g]\n",
    "\n",
    "`[0-9a-z]` Double Range\n"
   ]
  },
  {
   "cell_type": "code",
   "execution_count": null,
   "metadata": {},
   "outputs": [],
   "source": [
    "var string = \"I Love Elzero 2 Web 8 School 6\",\n",
    "\n",
    "  result = string.replace(/[^0-9]/gi, \"@\");\n",
    "\n",
    "console.log(result);\n",
    "\n",
    "// Output: @@@@@@@@@@@@@@2@@@@@8@@@@@@@@6"
   ]
  },
  {
   "cell_type": "markdown",
   "metadata": {},
   "source": [
    "**Note:** The regular expression [^0-9] includes white spaces in the characters it matches. "
   ]
  },
  {
   "cell_type": "code",
   "execution_count": null,
   "metadata": {},
   "outputs": [],
   "source": [
    "var string = \"AB XYZ abc hij\",\n",
    "\n",
    "  result = string.replace(/[A-g]/g, \"@\");\n",
    "\n",
    "console.log(result); // Output: @@ @@@ @@@ hij"
   ]
  },
  {
   "cell_type": "code",
   "execution_count": null,
   "metadata": {},
   "outputs": [],
   "source": [
    "var string = \"1234567890ABCDEFGHIJKabcdefghijk\",\n",
    "\n",
    "  result = string.replace(/[0-9a-z]/g, \"@\");\n",
    "\n",
    "console.log(result);\n",
    "// Output: @@@@@@@@@@ABCDEFGHIJK@@@@@@@@@@@"
   ]
  },
  {
   "cell_type": "code",
   "execution_count": null,
   "metadata": {},
   "outputs": [],
   "source": [
    "var string = \"1234567890ABCDEFGHIJKabcdefghijk\",\n",
    "\n",
    "  result = string.replace(/[^a-z]/g, \"@\");\n",
    "\n",
    "console.log(result);\n",
    "// Output: @@@@@@@@@@@@@@@@@@@@@abcdefghijk"
   ]
  },
  {
   "cell_type": "code",
   "execution_count": null,
   "metadata": {},
   "outputs": [],
   "source": [
    "var string = \"1234567890ABCDEFGHIJKabcdefghijk\",\n",
    "\n",
    "  result = string.replace(/[^A-Z]/g, \"@\");\n",
    "\n",
    "console.log(result);\n",
    "// Output: @@@@@@@@@@ABCDEFGHIJK@@@@@@@@@@@"
   ]
  },
  {
   "cell_type": "code",
   "execution_count": null,
   "metadata": {},
   "outputs": [],
   "source": [
    "var string = \"1234567890ABCDEFGHIJKabcdefghijk\",\n",
    "\n",
    "  result = string.replace(/[^0-9]/g, \"@\");\n",
    "\n",
    "console.log(result);\n",
    "// Output: 1234567890@@@@@@@@@@@@@@@@@@@@@@"
   ]
  },
  {
   "cell_type": "markdown",
   "metadata": {},
   "source": [
    ":: __`Regular Expression – Quantifiers`__ ::\n",
    "\n",
    "__Regulat Expression Syntax__\n",
    "> /Pattern/Attributes\n",
    "> Search | Replace | Match | Split | Test\n",
    "\n",
    "__Attributes List__\n",
    "\n",
    "`[ i ]` => Case Insensetive\n",
    "\n",
    "`[ g ]` => Global Search\n",
    "\n",
    "`[ m ]` => Multi Line Search\n",
    "\n",
    "__Brackets Use:__\n",
    "\n",
    "`[...]` Character\n",
    "\n",
    "`[^...]` Not Character\n",
    "\n",
    "`[a-z]` Range Small Letters\n",
    "\n",
    "`[A-Z]` Range Capital Letters\n",
    "\n",
    "`[0-9]` Range Numbers\n",
    "\n",
    "`[^0-9]` Not Range\n",
    "\n",
    "`[A-g]` = Range[A-Z] Range[a-g]\n",
    "\n",
    "`[0-9a-z]` Double Range\n",
    "\n",
    ":: __Quantifiers__ ::\n",
    "\n",
    "`Letter+` => Word Contains ON Letter\n",
    "\n",
    "`Letter{Number}` => Word Contains Number Of Letters\n",
    "\n",
    "`Letter{Number,Number}` => Word Contains Number Or Number\n",
    "\n",
    "`Letter{Number,}` => Word Contains At Least Number\n"
   ]
  },
  {
   "cell_type": "code",
   "execution_count": null,
   "metadata": {},
   "outputs": [],
   "source": [
    "var string = \"I Love Elzero Web School\",\n",
    "\n",
    "  result = string.replace(/e+/gi, \"@\");\n",
    "\n",
    "console.log(result);\n",
    "// Output: I Lov@ @lz@ro W@b School"
   ]
  },
  {
   "cell_type": "code",
   "execution_count": null,
   "metadata": {},
   "outputs": [],
   "source": [
    "var string = \"I Love Elzeeero Web School\",\n",
    "\n",
    "  result = string.replace(/e{3}/gi, \"@\");\n",
    "\n",
    "console.log(result);\n",
    "// Output: I Love Elz@ro Web School"
   ]
  },
  {
   "cell_type": "code",
   "execution_count": null,
   "metadata": {},
   "outputs": [],
   "source": [
    "var string = \"I Love Elzeeero Web School\",\n",
    "\n",
    "  result = string.replace(/e{2, 3}/gi, \"@\");\n",
    "\n",
    "console.log(result);\n",
    "// Output: I Love Elzeeero Web School\n",
    "// It Didn't Change because the Space in {2, 3}"
   ]
  },
  {
   "cell_type": "code",
   "execution_count": null,
   "metadata": {},
   "outputs": [],
   "source": [
    "var string = \"I Love Elzeeero Web School\",\n",
    "\n",
    "  result = string.replace(/e{2,3}/gi, \"@\");\n",
    "\n",
    "console.log(result);\n",
    "// Output: I Love Elz@ro Web School"
   ]
  },
  {
   "cell_type": "code",
   "execution_count": null,
   "metadata": {},
   "outputs": [],
   "source": [
    "var string = \"I Love Elzeero Weeeb Schooeeeel\",\n",
    "\n",
    "  result = string.replace(/e{2,3}/gi, \"@\");\n",
    "\n",
    "console.log(result);\n",
    "// Output: I Love Elz@ro W@b Schoo@el"
   ]
  },
  {
   "cell_type": "code",
   "execution_count": null,
   "metadata": {},
   "outputs": [],
   "source": [
    "var string = \"1234567890ABCDEFGHIJKabcdefghijk\",\n",
    "\n",
    "  result = string.replace(/[^A-Z]/g, \"@\");\n",
    "\n",
    "console.log(result);\n",
    "// Output: @@@@@@@@@@ABCDEFGHIJK@@@@@@@@@@@"
   ]
  },
  {
   "cell_type": "code",
   "execution_count": null,
   "metadata": {},
   "outputs": [],
   "source": [
    "var string = \"1234567890ABCDEFGHIJKabcdefghijk\",\n",
    "\n",
    "  result = string.replace(/[^0-9]/g, \"@\");\n",
    "\n",
    "console.log(result);\n",
    "// Output: 1234567890@@@@@@@@@@@@@@@@@@@@@@"
   ]
  },
  {
   "cell_type": "markdown",
   "metadata": {},
   "source": [
    "##### **Date in JS**\n",
    "\n",
    "❖ `new Date();` // Print Current Date & Time\n",
    "\n",
    "❖ `new Date(Milliseconds[5000 = 5 Seconds]);` ⟶ Print Milliseconds From UTC 1 Jan 1970 00:00:00\n",
    "\n",
    "❖ `new Date(DateString[Month Day, Year Hour:Minutes:Seconds])` ⟶ Can Add Date String\n",
    "\n",
    "❖ new Date(Year, Month, Day[Hour, Minutes, Seconds, Milliseconds])\n"
   ]
  },
  {
   "cell_type": "code",
   "execution_count": null,
   "metadata": {},
   "outputs": [],
   "source": [
    "// Normal Date & Time\n",
    "\n",
    "var theDate = new Date();\n",
    "\n",
    "console.log(theDate);\n",
    "// Output: 2024-02-14T00:11:17.113Z"
   ]
  },
  {
   "cell_type": "code",
   "execution_count": null,
   "metadata": {},
   "outputs": [],
   "source": [
    "// Date With Milliseconds\n",
    "\n",
    "var theDate = new Date(10000); // 10 Milliseconds\n",
    "\n",
    "console.log(theDate);\n",
    "// Output: 1970-01-01T00:00:10.000Z"
   ]
  },
  {
   "cell_type": "code",
   "execution_count": null,
   "metadata": {},
   "outputs": [],
   "source": [
    "// Date String\n",
    "\n",
    "var theDate = new Date(\"October 25, 1982 12:20:50\");\n",
    "\n",
    "console.log(theDate);\n",
    "// Output: 1982-10-25T10:20:50.000Z"
   ]
  },
  {
   "cell_type": "code",
   "execution_count": null,
   "metadata": {},
   "outputs": [],
   "source": [
    "var theDate = new Date(1982, 10, 25, 11, 20, 30, 25);\n",
    "\n",
    "console.log(theDate);\n",
    "// Output: 1982-11-25T09:20:30.025Z"
   ]
  },
  {
   "cell_type": "markdown",
   "metadata": {},
   "source": [
    ":: __`Date – Formatting Dates`__ ::\n",
    "\n",
    "❖ Full Format\n",
    "\n",
    "❖ Long Format\n",
    "\n",
    "❖ Short Format\n",
    "\n",
    "❖ ISO Format\n",
    "\n",
    "\n",
    "↪ Javascript Ignore Commas\n",
    "\n",
    "↪ Javascript Month Insensetive\n",
    "\n",
    "↪ [Month Day Year] Or [Day Month Year]\n"
   ]
  },
  {
   "cell_type": "code",
   "execution_count": null,
   "metadata": {},
   "outputs": [],
   "source": [
    "var theDate = new Date(\"October 25, 1982 09:20:50\");\n",
    "\n",
    "console.log(theDate);\n",
    "// Output: 1982-10-25T07:20:50.000Z"
   ]
  },
  {
   "cell_type": "code",
   "execution_count": null,
   "metadata": {},
   "outputs": [],
   "source": [
    "var theDate = new Date(\"Sat October 25, 1982 09:20:50\");\n",
    "\n",
    "console.log(theDate);\n",
    "// Output: 1982-10-25T07:20:50.000Z"
   ]
  },
  {
   "cell_type": "code",
   "execution_count": null,
   "metadata": {},
   "outputs": [],
   "source": [
    "var theDate = new Date(\"Oct 25, 1982 09:20:50\");\n",
    "\n",
    "console.log(theDate);\n",
    "// Output: 1982-10-25T07:20:50.000Z"
   ]
  },
  {
   "cell_type": "code",
   "execution_count": null,
   "metadata": {},
   "outputs": [],
   "source": [
    "var theDate = new Date(\"Oct,, 25,,,, ,1982,, ,,09:20:50\");\n",
    "\n",
    "console.log(theDate);\n",
    "// Output: 1982-10-25T07:20:50.000Z"
   ]
  },
  {
   "cell_type": "code",
   "execution_count": null,
   "metadata": {},
   "outputs": [],
   "source": [
    "var theDate = new Date(\"OCTOBER 25, 1982 09:20:50\");\n",
    "\n",
    "console.log(theDate);\n",
    "// Output: 1982-10-25T07:20:50.000Z"
   ]
  },
  {
   "cell_type": "code",
   "execution_count": null,
   "metadata": {},
   "outputs": [],
   "source": [
    "var theDate = new Date(\"10/25/1982\");\n",
    "\n",
    "console.log(theDate);\n",
    "// Output: 1982-10-24T22:00:00.000Z"
   ]
  },
  {
   "cell_type": "code",
   "execution_count": null,
   "metadata": {},
   "outputs": [],
   "source": [
    "var theDate = new Date(\"1982-10-25 09:20:50+04:00\");\n",
    "\n",
    "console.log(theDate);\n",
    "// Output: 1982-10-25T05:20:50.000Z"
   ]
  },
  {
   "cell_type": "markdown",
   "metadata": {},
   "source": [
    ":: __`Date – Methods Part 1`__ ::\n",
    "\n",
    "❖ `getDate()` ⟶ Day of The Month 1-31\n",
    "\n",
    "❖ `getDay()` ⟶ Day of The Week 0-6\n",
    "\n",
    "❖ `getFullYear()` ⟶ Get The Full Year\n",
    "\n",
    "❖ `getHours()` ⟶ Get Hours 0-23\n",
    "\n",
    "❖ `getMinutes()` ⟶ Get Minutes 0-59\n",
    "\n",
    "❖ `getSeconds()` ⟶ Get Seconds 0-59\n",
    "\n",
    "❖ `getMilliseconds()` ⟶ Get Milliseconds 0-999\n",
    "\n",
    "❖ `getTime()` / Number of Milliseconds From 1970 Or Specific Date\n",
    "\n",
    "❖ `getTimezoneOffset()` ⟶ Get Def Between UTC And Your Local Time in Minutes\n"
   ]
  },
  {
   "cell_type": "code",
   "execution_count": null,
   "metadata": {},
   "outputs": [],
   "source": [
    "// Get Date\n",
    "\n",
    "var theDate = new Date(),\n",
    "\n",
    "  theDay = theDate.getDate();\n",
    "\n",
    "console.log(theDate);\n",
    "// Output: 2024-02-14T00:24:48.973Z"
   ]
  },
  {
   "cell_type": "code",
   "execution_count": null,
   "metadata": {},
   "outputs": [],
   "source": [
    "// Get Day\n",
    "\n",
    "var theDate = new Date(\"25 October 1982\"),\n",
    "\n",
    "  theDay = theDate.getDay();\n",
    "\n",
    "console.log(theDate);\n",
    "// Output: 1982-10-24T22:00:00.000Z"
   ]
  },
  {
   "cell_type": "code",
   "execution_count": null,
   "metadata": {},
   "outputs": [],
   "source": [
    "// Get Full Year\n",
    "\n",
    "var theDate = new Date(),\n",
    "\n",
    "  theYear = theDate.getFullYear();\n",
    "\n",
    "console.log(theYear);\n",
    "// Output: 2024"
   ]
  },
  {
   "cell_type": "code",
   "execution_count": null,
   "metadata": {},
   "outputs": [],
   "source": [
    "// Get Hours\n",
    "\n",
    "var theDate = new Date(),\n",
    "\n",
    "  dt = theDate.getHours();\n",
    "\n",
    "console.log(dt);\n",
    "// Output: 2"
   ]
  },
  {
   "cell_type": "code",
   "execution_count": null,
   "metadata": {},
   "outputs": [],
   "source": [
    "// Get Minutes\n",
    "\n",
    "var theDate = new Date(),\n",
    "\n",
    "  dt = theDate.getMinutes();\n",
    "\n",
    "console.log(dt);\n",
    "// Output: 27"
   ]
  },
  {
   "cell_type": "code",
   "execution_count": null,
   "metadata": {},
   "outputs": [],
   "source": [
    "// Get Seconds\n",
    "\n",
    "var theDate = new Date(),\n",
    "\n",
    "  dt = theDate.getSeconds();\n",
    "\n",
    "console.log(dt);\n",
    "// Output: 18"
   ]
  },
  {
   "cell_type": "code",
   "execution_count": null,
   "metadata": {},
   "outputs": [],
   "source": [
    "// Get Milliseconds\n",
    "\n",
    "var theDate = new Date(),\n",
    "\n",
    "  dt = theDate.getMilliseconds();\n",
    "\n",
    "console.log(dt);\n",
    "// Output: 197"
   ]
  },
  {
   "cell_type": "code",
   "execution_count": null,
   "metadata": {},
   "outputs": [],
   "source": [
    "// Get Time\n",
    "\n",
    "var theDate = new Date(),\n",
    "\n",
    "  dt = theDate.getTime(); // 1460186815705\n",
    "\n",
    "console.log(dt);\n",
    "// Output: 1707870581661"
   ]
  },
  {
   "cell_type": "code",
   "execution_count": null,
   "metadata": {},
   "outputs": [],
   "source": [
    "// Get Time Zone Offset\n",
    "\n",
    "var theDate = new Date(),\n",
    "\n",
    "  dt = theDate.getTimezoneOffset();\n",
    "\n",
    "console.log(dt);\n",
    "// Output: -120"
   ]
  },
  {
   "cell_type": "markdown",
   "metadata": {},
   "source": [
    ":: __`Date – Methods Part 2`__ ::\n",
    "\n",
    "❖ `setDate(Day[Requires])` ⟶ Day of The Month 1-31\n",
    "\n",
    "❖ `setFullYear(Year[Req], Month[Opt], Day[Opt])` ⟶ Set The Full Year\n",
    "\n",
    "❖ `setHours(Hours[Req], Minutes[Opt], Seconds[Opt], Milli[Opt])` ⟶ Set Hours 0-23\n",
    "\n",
    "❖ `setMinutes(Minutes[Req], Seconds[Opt], Milli[Opt])` ⟶ Set Minutes 0-59\n",
    "\n",
    "❖ `setSeconds(Seconds[Req], Milli[Opt])` ⟶ Set Seconds 0-59\n",
    "\n",
    "❖ `setMilliseconds()` ⟶ Set Milliseconds 0-999\n",
    "\n",
    "❖ setMonth(Month[Req], Day[Opt])\n"
   ]
  },
  {
   "cell_type": "code",
   "execution_count": null,
   "metadata": {},
   "outputs": [],
   "source": [
    "// Set Date\n",
    "\n",
    "var theDate = new Date();\n",
    "\n",
    "theDate.setDate(31);\n",
    "\n",
    "console.log(theDate);\n",
    "// Output: 2024-03-02T00:33:27.319Z"
   ]
  },
  {
   "cell_type": "code",
   "execution_count": null,
   "metadata": {},
   "outputs": [],
   "source": [
    "// Set Full Year\n",
    "\n",
    "var theDate = new Date();\n",
    "\n",
    "theDate.setFullYear(2016, 3, 31);\n",
    "\n",
    "console.log(theDate);\n",
    "// Output: 2016-05-01T00:33:59.717Z"
   ]
  },
  {
   "cell_type": "code",
   "execution_count": null,
   "metadata": {},
   "outputs": [],
   "source": [
    "// Set Hours\n",
    "\n",
    "var theDate = new Date();\n",
    "\n",
    "theDate.setHours(14);\n",
    "\n",
    "console.log(theDate);\n",
    "// Output: 2024-02-14T12:34:39.796Z"
   ]
  },
  {
   "cell_type": "code",
   "execution_count": null,
   "metadata": {},
   "outputs": [],
   "source": [
    "// Set Minutes\n",
    "\n",
    "var theDate = new Date();\n",
    "\n",
    "theDate.setMinutes();\n",
    "\n",
    "console.log(theDate);\n",
    "// Output: Invalid Date"
   ]
  },
  {
   "cell_type": "markdown",
   "metadata": {},
   "source": [
    "When you use the `setMinutes()` method on a `Date` object without passing any arguments, it results in an invalid date because `setMinutes()` expects at least one argument: the minutes value you want to set for the `Date` object. The method signature for `setMinutes()` can take up to four parameters:\n",
    "\n",
    "1. **minutes** (required): The minutes value you want to set (from 0 to 59).\n",
    "\n",
    "2. **seconds** (optional): The seconds value you want to set (from 0 to 59).\n",
    "\n",
    "3. **milliseconds** (optional): The milliseconds value you want to set (from 0 to 999).\n",
    "\n",
    "\n",
    "If `setMinutes()` is called without any arguments, it doesn't know what value to set the minutes to, leading to an \"Invalid Date\" error because the operation cannot be completed successfully."
   ]
  },
  {
   "cell_type": "code",
   "execution_count": null,
   "metadata": {},
   "outputs": [],
   "source": [
    "// Set Seconds\n",
    "\n",
    "var theDate = new Date();\n",
    "\n",
    "theDate.setSeconds();\n",
    "\n",
    "console.log(theDate);\n",
    "// Output: Invalid Date"
   ]
  },
  {
   "cell_type": "code",
   "execution_count": null,
   "metadata": {},
   "outputs": [],
   "source": [
    "// Set Milliseconds\n",
    "\n",
    "var theDate = new Date();\n",
    "\n",
    "theDate.setMilliseconds(600000); // 10 Minutes\n",
    "\n",
    "console.log(theDate);\n",
    "// Output: 2024-02-14T00:49:21.000Z"
   ]
  },
  {
   "cell_type": "code",
   "execution_count": null,
   "metadata": {},
   "outputs": [],
   "source": [
    "// Set Month\n",
    "\n",
    "var theDate = new Date();\n",
    "\n",
    "theDate.setMonth(-1);\n",
    "\n",
    "console.log(theDate);\n",
    "// Output: 2023-12-14T00:39:50.775Z"
   ]
  },
  {
   "cell_type": "markdown",
   "metadata": {},
   "source": [
    "When you use the `setMonth()` method on a `Date` object in JavaScript and pass `-1` as the argument, JavaScript interprets this in the context of date calculations, where month indices start from `0` (January) to `11` (December). Setting the month to `-1` effectively sets the month to the last month of the previous year, which is December."
   ]
  },
  {
   "cell_type": "markdown",
   "metadata": {},
   "source": [
    ":: __`Date – Methods Part 3`__ ::\n",
    "\n",
    "❖ `now()` ⟶ Gets the current date and time as a number representing milliseconds since the Unix epoch (January 1, 1970).\n",
    "\n",
    "❖ `parse()` ⟶ Converts a date string into a number representing milliseconds since the Unix epoch.\n",
    "\n",
    "❖ `toISOString()` ⟶ Converts a date to a string in the ISO 8601 format (YYYY-MM-DDTHH:mm:ss.sssZ).\n",
    "\n",
    "❖ `toDateString()` ⟶ Converts the date portion of a date to a readable string (e.g., \"Mon Jan 01 2024\").\n",
    "\n",
    "❖ `toTimeString()` ⟶ Converts the time portion of a date to a readable string, including the current time and timezone (e.g., \"12:00:00 GMT+0000 (UTC)\").\n"
   ]
  },
  {
   "cell_type": "code",
   "execution_count": null,
   "metadata": {},
   "outputs": [],
   "source": [
    "// Example One\n",
    "\n",
    "var theDate = new Date(),\n",
    "\n",
    "  now = Date.now(),\n",
    "\n",
    "  min = 1000 * 60,\n",
    "\n",
    "  day = hour * 24,\n",
    "\n",
    "  month = day * 30,\n",
    "\n",
    "  year = month * 12;\n",
    "\n",
    "console.log(Math.round(now / year));\n",
    "// Output: ReferenceError: hour is not defined"
   ]
  },
  {
   "cell_type": "code",
   "execution_count": null,
   "metadata": {},
   "outputs": [],
   "source": [
    "// Example One\n",
    "\n",
    "var theDate = new Date(),\n",
    "    now = Date.now(),\n",
    "    min = 1000 * 60, // milliseconds in a minute\n",
    "    hour = min * 60, // milliseconds in an hour\n",
    "    day = hour * 24, // milliseconds in a day\n",
    "    month = day * 30, // roughly milliseconds in a month\n",
    "    year = month * 12; // roughly milliseconds in a year\n",
    "\n",
    "console.log(Math.round(now / year));\n",
    "// Output: 55"
   ]
  },
  {
   "cell_type": "markdown",
   "metadata": {},
   "source": [
    "❖ This corrected version of your code defines `hour` as `60` minutes, and then it goes on to define a day, a month, and a year in terms of milliseconds. The final calculation, `Math.round(now / year)`, will give you an approximate number of years since the Unix epoch (January 1, 1970) to the current date and time.\n",
    "\n",
    "❖ Note that this approximation for `month` and `year` (using 30 days for a month and 12 months for a year) might not be accurate due to variations in the number of days in different months and leap years. However, for a rough calculation or demonstration purposes, this approach should suffice."
   ]
  },
  {
   "cell_type": "code",
   "execution_count": null,
   "metadata": {},
   "outputs": [],
   "source": [
    "// Example Two\n",
    "\n",
    "var theDate = new Date(),\n",
    "\n",
    "  now = Date.parse(\"25 Oct 1982 12:20:50\"),\n",
    "\n",
    "  min = 1000 * 60,\n",
    "\n",
    "  day = hour * 24,\n",
    "\n",
    "  month = day * 30,\n",
    "\n",
    "  hour = min * 60,\n",
    "\n",
    "  year = month * 12;\n",
    "\n",
    "console.log(now / year);\n",
    "// Output: NaN (Not a Number)"
   ]
  },
  {
   "cell_type": "markdown",
   "metadata": {},
   "source": [
    "The issue leading to `NaN` (Not a Number) is due to the order in which the variables are defined. Specifically, the `day` variable is calculated using `hour` before `hour` is actually defined. This results in `day` being calculated as `NaN` because `hour` is `undefined` at the point where it's used. \n",
    "\n",
    "Since `day`, `month`, and `year` subsequently depend on the value of `day`, they all become `NaN` as well, leading the final expression `now / year` to evaluate to `NaN`.\n",
    "\n",
    "To fix this, you need to reorder the declarations so that each variable is defined before it is used:\n",
    "\n"
   ]
  },
  {
   "cell_type": "code",
   "execution_count": null,
   "metadata": {},
   "outputs": [],
   "source": [
    "// Example Two\n",
    "\n",
    "var theDate = new Date(),\n",
    "    now = Date.parse(\"25 Oct 1982 12:20:50\"),\n",
    "    min = 1000 * 60,\n",
    "    hour = min * 60, // Define 'hour' before using it to calculate 'day'\n",
    "    day = hour * 24,\n",
    "    month = day * 30,\n",
    "    year = month * 12;\n",
    "\n",
    "console.log(now / year);\n",
    "// Output: 13.001197595164609"
   ]
  },
  {
   "cell_type": "markdown",
   "metadata": {},
   "source": [
    "By defining `hour` before it's used to calculate `day`, you ensure that all variables are correctly calculated based on their dependencies. This corrected version will not result in `NaN` and will correctly compute the expression `now / year`, giving you a meaningful numerical result."
   ]
  },
  {
   "cell_type": "code",
   "execution_count": null,
   "metadata": {},
   "outputs": [],
   "source": [
    "var theDate = new Date(),\n",
    "\n",
    "  myIso = theDate.toTimeString();\n",
    "\n",
    "console.log(myIso);\n",
    "// Output: 02:54:27 GMT+0200 (Eastern European Standard Time)"
   ]
  },
  {
   "cell_type": "markdown",
   "metadata": {},
   "source": [
    ":: __`Numbers in JS`__ ::\n",
    "\n",
    "`toString()` ⟶ Converts a value to its string representation.\n",
    "\n",
    "`toFixed()` method ⟶ Converts a number to a string, rounding to a specified number of decimal places.\n",
    "\n",
    "`parseInt()` function ⟶ Converts a string to an integer. It takes a string argument and an optional radix (base of numerical systems) and returns an integer of the specified radix. If the radix is not specified, it defaults to 10 (decimal) unless the string starts with '0x' (indicating hexadecimal)."
   ]
  },
  {
   "cell_type": "code",
   "execution_count": null,
   "metadata": {},
   "outputs": [],
   "source": [
    "var Num = (100).toString(); \n",
    "console.log(Num);\n",
    "// Output: 100"
   ]
  },
  {
   "cell_type": "code",
   "execution_count": null,
   "metadata": {},
   "outputs": [],
   "source": [
    "var number = 123.456;\n",
    "var fixedString = number.toFixed(2); // Rounds to 2 decimal places\n",
    "console.log(fixedString); // Output: \"123.46\""
   ]
  },
  {
   "cell_type": "code",
   "execution_count": null,
   "metadata": {},
   "outputs": [],
   "source": [
    "var numberString = \"10 px\";\n",
    "var integer = parseInt(numberString); \n",
    "console.log(integer); // Output: 10"
   ]
  }
 ],
 "metadata": {
  "kernelspec": {
   "display_name": "JavaScript",
   "language": "javascript",
   "name": "jslab"
  },
  "language_info": {
   "file_extension": ".js",
   "mimetype": "text/javascript",
   "name": "javascript",
   "version": ""
  }
 },
 "nbformat": 4,
 "nbformat_minor": 2
}
